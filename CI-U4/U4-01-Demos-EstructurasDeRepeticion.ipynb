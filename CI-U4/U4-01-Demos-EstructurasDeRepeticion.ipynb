{
 "cells": [
  {
   "cell_type": "markdown",
   "metadata": {},
   "source": [
    "# Unidad 4 - Introducción a la algoritmia con Python\n",
    "#### Elementos básicos de Python\n",
    " \n",
    "# Demo Estructuras de repetición / ciclos\n",
    "\n",
    "En este notebook vas a encontrar ejemplos relacionados con las estructuras de repetición o ciclos básicos disponibles en Python, veremos la estructura general de las mismas y algunas variaciones que pueden ser útiles, recuerda que siempre puedes ir a la referencia si tienes alguna duda [Ir a la referencia](https://docs.python.org/3.9/library/index.html)\n",
    "\n",
    "##### Contenido de este archivo:\n",
    "\n",
    "1. Estructura while\n",
    "2. Estructura for"
   ]
  },
  {
   "cell_type": "markdown",
   "metadata": {},
   "source": [
    "### 1. Estructura while\n",
    "\n",
    "Esta es una estructura bastante común en los lenguajes de programación"
   ]
  },
  {
   "cell_type": "code",
   "execution_count": 2,
   "metadata": {},
   "outputs": [
    {
     "name": "stdout",
     "output_type": "stream",
     "text": [
      "ejecución\n",
      "ejecución\n",
      "ejecución\n"
     ]
    }
   ],
   "source": [
    "# Estructura general\n",
    "while True:\n",
    "    # acciones\n",
    "    print(\"ejecución\")\n",
    "    break;\n",
    "\n",
    "# la condición es un boolean, por lo que ingresamos al ciclo sólo si es True\n",
    "# comple todas las características de las condiciones:\n",
    "# operadores de comparación, booleanos u otros."
   ]
  },
  {
   "cell_type": "code",
   "execution_count": 3,
   "metadata": {},
   "outputs": [
    {
     "name": "stdout",
     "output_type": "stream",
     "text": [
      "7\n",
      "14\n",
      "21\n",
      "28\n",
      "35\n",
      "42\n",
      "49\n",
      "56\n",
      "63\n",
      "70\n"
     ]
    },
    {
     "data": {
      "text/plain": [
       "'\\ncontador = 1\\ncontador es menor o igual a 10?\\nimprimir contador*7 (1 * 7) ==> 7\\n\\ncontador = 2\\ncontador es menor o igual a 10?\\nimprimir contador*7 (2 * 7) ==> 14\\n\\ncontador = 3\\ncontador es menor o igual a 10?\\nimprimir contador*7 (3 * 7) ==> 21\\n...\\n'"
      ]
     },
     "execution_count": 3,
     "metadata": {},
     "output_type": "execute_result"
    }
   ],
   "source": [
    "'''\n",
    "Se desea realizar un conteo con los múltiplos del 7, iniciando en 7 y\n",
    "finalizando en el 10avo múltiplo es decir en 70.\n",
    "\n",
    "Usaremos el ciclo para mostrar uno a uno los múltiplos en la consola.\n",
    "'''\n",
    "# Veamos un poco de análisis\n",
    "# Debemos garantizar que en algún momento se pase la condición de True a False\n",
    "# (para detener el ciclo)\n",
    "# Existen 10 múltiplos de 7 iniciando en 7 y finalizando en 70, de ahí\n",
    "# el valor seleccionado para la condición.\n",
    "\n",
    "contador = 1;\n",
    "while contador <= 10:\n",
    "    print(str(contador*7))\n",
    "    contador+=1\n",
    "\n",
    "'''\n",
    "contador = 1\n",
    "contador es menor o igual a 10?\n",
    "imprimir contador*7 (1 * 7) ==> 7\n",
    "\n",
    "contador = 2\n",
    "contador es menor o igual a 10?\n",
    "imprimir contador*7 (2 * 7) ==> 14\n",
    "\n",
    "contador = 3\n",
    "contador es menor o igual a 10?\n",
    "imprimir contador*7 (3 * 7) ==> 21\n",
    "...\n",
    "'''"
   ]
  },
  {
   "cell_type": "code",
   "execution_count": 5,
   "metadata": {},
   "outputs": [
    {
     "name": "stdout",
     "output_type": "stream",
     "text": [
      "Ahora el contador tiene valor: 0\n",
      "Ahora el contador tiene valor: 1\n",
      "Ahora el contador tiene valor: 2\n",
      "Ahora el contador tiene valor: 3\n",
      "Ahora el contador tiene valor: 4\n",
      "Ahora el contador tiene valor: 5\n",
      "Ahora el contador tiene valor: 6\n",
      "Ahora el contador tiene valor: 7\n",
      "Ahora el contador tiene valor: 8\n",
      "Ahora el contador tiene valor: 9\n"
     ]
    }
   ],
   "source": [
    "'''\n",
    "Veamos un poco más de detalle\n",
    "'''\n",
    "# hagamos el seguimiento de cada iteración del ciclo\n",
    "contador = 0;\n",
    "while contador < 10:\n",
    "    print(\"Ahora el contador tiene valor: \" + str(contador))\n",
    "    contador+=1"
   ]
  },
  {
   "cell_type": "markdown",
   "metadata": {},
   "source": [
    "### 2. Estructura for"
   ]
  },
  {
   "cell_type": "code",
   "execution_count": 12,
   "metadata": {},
   "outputs": [
    {
     "name": "stdout",
     "output_type": "stream",
     "text": [
      "range(0, 10)\n",
      "<class 'range'>\n"
     ]
    }
   ],
   "source": [
    "# función range(n)\n",
    "rango = range(10)\n",
    "print(rango)\n",
    "print(type(rango))"
   ]
  },
  {
   "cell_type": "code",
   "execution_count": 16,
   "metadata": {},
   "outputs": [
    {
     "name": "stdout",
     "output_type": "stream",
     "text": [
      "0 1 2 3 4 5 6 7 8 9  |A\n",
      "2 3 4 5  |B\n",
      "7 14 21 28 35 42 49 56 63 70  |C\n"
     ]
    }
   ],
   "source": [
    "# Manejo del ciclo basado en una secuencia de números\n",
    "for x in range(10):\n",
    "    print(x, end = ' ')\n",
    "\n",
    "print(\" |A\")\n",
    "\n",
    "# Manejo del ciclo basado en una secuencia de números en rango 2 a 6\n",
    "for x in range(2, 6):\n",
    "    print(x, end = ' ')\n",
    "\n",
    "print(\" |B\")\n",
    "    \n",
    "# Manejo del ciclo basado en una secuencia de números en rango 2 a 6\n",
    "# Avanzando en pasos (x2)\n",
    "for x in range(7, 71, 7):\n",
    "    print(x, end = ' ')\n",
    "\n",
    "print(\" |C\")"
   ]
  },
  {
   "cell_type": "code",
   "execution_count": 17,
   "metadata": {},
   "outputs": [
    {
     "name": "stdout",
     "output_type": "stream",
     "text": [
      "Ciclo entero:\n",
      "0 1 2 3 4 5 Ciclo completado\n",
      "Ciclo cortado:\n",
      "0 1 2 "
     ]
    }
   ],
   "source": [
    "# En Python, hay algo especial y es la posibilidad de usar else en el for.\n",
    "print(\"Ciclo entero:\")\n",
    "for x in range(6):\n",
    "    print(x, end = ' ')\n",
    "else:\n",
    "    print(\"Ciclo completado\")\n",
    "    \n",
    "print(\"Ciclo cortado:\")\n",
    "# En Python, además podemos usar break para terminar el ciclo en cualquier momento.\n",
    "for x in range(6):\n",
    "    if x == 3: break\n",
    "    print(x, end = ' ')\n",
    "else:\n",
    "    print(\"Ciclo completado\")\n",
    "    "
   ]
  },
  {
   "cell_type": "code",
   "execution_count": 21,
   "metadata": {},
   "outputs": [
    {
     "name": "stdout",
     "output_type": "stream",
     "text": [
      "Lunes Martes Miercóles Jueves Viernes "
     ]
    }
   ],
   "source": [
    "# Con for podemos recorrer secuencias, así:\n",
    "dias = [\"Lunes\", \"Martes\", \"Miercóles\", \"Jueves\", \"Viernes\"]\n",
    "for x in dias:\n",
    "    print(x, end = ' ')"
   ]
  },
  {
   "cell_type": "code",
   "execution_count": 23,
   "metadata": {},
   "outputs": [
    {
     "name": "stdout",
     "output_type": "stream",
     "text": [
      "0 1 2 "
     ]
    }
   ],
   "source": [
    "# Podemos hacerlo usando valores numéricos:\n",
    "for x in [0, 1, 2]:\n",
    "    print(x, end = ' ')"
   ]
  },
  {
   "cell_type": "code",
   "execution_count": 24,
   "metadata": {},
   "outputs": [
    {
     "name": "stdout",
     "output_type": "stream",
     "text": [
      "Jose 35\n",
      "Jose 37\n",
      "Jose 68\n",
      "Andrés 35\n",
      "Andrés 37\n",
      "Andrés 68\n",
      "Juana 35\n",
      "Juana 37\n",
      "Juana 68\n"
     ]
    }
   ],
   "source": [
    "# En ocasiones, tenemos que hacer un doble recorrido (se conoce como anidado) \n",
    "nombres = [\"Jose\", \"Andrés\", \"Juana\"]\n",
    "edades = [35, 37, 68]\n",
    "for nombre in nombres:\n",
    "    for edad in edades:\n",
    "        print(nombre, edad)"
   ]
  },
  {
   "cell_type": "code",
   "execution_count": null,
   "metadata": {},
   "outputs": [],
   "source": []
  }
 ],
 "metadata": {
  "kernelspec": {
   "display_name": "Python 3",
   "language": "python",
   "name": "python3"
  },
  "language_info": {
   "codemirror_mode": {
    "name": "ipython",
    "version": 3
   },
   "file_extension": ".py",
   "mimetype": "text/x-python",
   "name": "python",
   "nbconvert_exporter": "python",
   "pygments_lexer": "ipython3",
   "version": "3.7.6"
  }
 },
 "nbformat": 4,
 "nbformat_minor": 4
}
