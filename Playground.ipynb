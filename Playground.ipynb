{
 "cells": [
  {
   "cell_type": "markdown",
   "metadata": {},
   "source": [
    "Playground"
   ]
  },
  {
   "cell_type": "code",
   "execution_count": 1,
   "metadata": {},
   "outputs": [],
   "source": [
    "valor = 10"
   ]
  },
  {
   "cell_type": "code",
   "execution_count": 2,
   "metadata": {},
   "outputs": [],
   "source": [
    "variable_a = 10\n",
    "variable_b = \"Hola\"\n",
    "variable_c = True\n",
    "lista = [1,2,3,4,5]\n",
    "tupla = (1,2,3,4,5)\n",
    "frozen_set = {1,2,3,4,5}"
   ]
  },
  {
   "cell_type": "code",
   "execution_count": 3,
   "metadata": {},
   "outputs": [
    {
     "name": "stdout",
     "output_type": "stream",
     "text": [
      "10\n",
      "<class 'list'>\n",
      "<class 'tuple'>\n",
      "<class 'set'>\n"
     ]
    }
   ],
   "source": [
    "print(variable_a)\n",
    "type(variable_a)\n",
    "print(type(lista))\n",
    "print(type(tupla))\n",
    "print(type(frozen_set))"
   ]
  },
  {
   "cell_type": "code",
   "execution_count": 4,
   "metadata": {},
   "outputs": [
    {
     "name": "stdout",
     "output_type": "stream",
     "text": [
      "True\n",
      "\n",
      "77\n",
      "72\n",
      "111\n",
      "108\n",
      "97\n",
      "\n",
      "109\n",
      "113\n",
      "113\n",
      "113\n",
      "113\n",
      "113\n",
      "113\n",
      "117\n",
      "101\n"
     ]
    }
   ],
   "source": [
    "comparativo = \"MHola\" <= \"mqqqqqque\"\n",
    "print(comparativo)\n",
    "\n",
    "print(\"\")\n",
    "\n",
    "for char in \"MHola\":\n",
    "  print(ord(char))\n",
    "\n",
    "print(\"\")\n",
    "\n",
    "for char in \"mqqqqqque\":\n",
    "  print(ord(char))"
   ]
  },
  {
   "cell_type": "code",
   "execution_count": 5,
   "metadata": {},
   "outputs": [
    {
     "name": "stdout",
     "output_type": "stream",
     "text": [
      "[2, 4, 6, 8, 10]\n"
     ]
    }
   ],
   "source": [
    "numbers = [1, 2, 3, 4, 5]\n",
    "result = [num * 2 for num in numbers]\n",
    "print(result)"
   ]
  },
  {
   "cell_type": "code",
   "execution_count": 6,
   "metadata": {},
   "outputs": [
    {
     "name": "stdout",
     "output_type": "stream",
     "text": [
      "Ingrese la calificación del estudiante: \n",
      "Sobresaliente\n"
     ]
    }
   ],
   "source": [
    "print(\"Ingrese la calificación del estudiante: \")\n",
    "calificacion = int(input(\"Ingrese la calificación del estudiante: \"))\n",
    "if calificacion >= 90:\n",
    "    print(\"Sobresaliente\")\n",
    "elif calificacion >= 70:\n",
    "    print(\"Aceptable\")\n",
    "elif calificacion >= 50:\n",
    "    print(\"Requiere Trabajo Adicional\")\n",
    "else:\n",
    "    print(\"Reprueba\")"
   ]
  },
  {
   "cell_type": "code",
   "execution_count": 7,
   "metadata": {},
   "outputs": [
    {
     "name": "stdout",
     "output_type": "stream",
     "text": [
      "La contraseña es válida.\n"
     ]
    }
   ],
   "source": [
    "contrasena = input(\"Ingrese una contraseña: \")\n",
    "\n",
    "es_valida = False\n",
    "if len(contrasena) >= 8 and any(caracter.isupper() for caracter in contrasena) and any(caracter.isdigit() for caracter in contrasena):\n",
    "    es_valida = True\n",
    "if es_valida:\n",
    "    print(\"La contraseña es válida.\")\n",
    "else:\n",
    "    print(\"La contraseña no cumple los requisitos.\")"
   ]
  },
  {
   "cell_type": "code",
   "execution_count": 8,
   "metadata": {},
   "outputs": [
    {
     "name": "stdout",
     "output_type": "stream",
     "text": [
      "Ingrese tres numeros\n",
      "[1, 1, 2]\n",
      "el número mayor es: 2\n",
      "el(los) indice(s) del numero mayor es(son): [2]\n",
      "El segundo y el tercer número son los mayores.\n"
     ]
    }
   ],
   "source": [
    "print(\"Ingrese tres numeros\")\n",
    "num1 = int(input(\"Ingrese el primer número: \"))\n",
    "num2 = int(input(\"Ingrese el segundo número: \"))\n",
    "num3 = int(input(\"Ingrese el tercer número: \"))\n",
    "\n",
    "lista_numeros = [num1, num2, num3]\n",
    "print(lista_numeros)\n",
    "\n",
    "max_num = max(lista_numeros)\n",
    "print(f'el número mayor es: {max_num}')\n",
    "\n",
    "max_indices = [index for index, value in enumerate(lista_numeros) if value == max_num]\n",
    "print(f'el(los) indice(s) del numero mayor es(son): {max_indices}')\n",
    "\n",
    "if (0 and 1 and 2) in max_indices:\n",
    "    print(\"Los tres numeros son iguales.\")\n",
    "\n",
    "elif (0 and 1) in max_indices:\n",
    "    print(\"Los primer y el segundo numero son los mayores.\")\n",
    "\n",
    "elif (0 and 2) in max_indices:\n",
    "    print(\"El primer y el tercer número son los mayores.\")\n",
    "\n",
    "elif (1 and 2) in max_indices:\n",
    "    print(\"El segundo y el tercer número son los mayores.\")\n",
    "\n",
    "elif 1 in max_indices:\n",
    "    print(\"El segundo número es el mayor.\")\n",
    "else:\n",
    "    print(\"El tercer número es el mayor.\")\n"
   ]
  },
  {
   "cell_type": "code",
   "execution_count": 9,
   "metadata": {},
   "outputs": [
    {
     "name": "stdout",
     "output_type": "stream",
     "text": [
      "El número es positivo.\n"
     ]
    }
   ],
   "source": [
    "num = int(input(\"Ingrese un numero: \"))\n",
    "\n",
    "if num > 0:\n",
    "    print(\"El número es positivo.\")\n",
    "elif num < 0:\n",
    "    print(\"El número es negativo.\")\n",
    "else:\n",
    "    print(\"El número es cero.\")\n",
    "\n"
   ]
  },
  {
   "cell_type": "code",
   "execution_count": 10,
   "metadata": {},
   "outputs": [
    {
     "name": "stdout",
     "output_type": "stream",
     "text": [
      "Hola ** 3.14 ** True ** Python ** 10 ** "
     ]
    }
   ],
   "source": [
    "lista = [\"Hola\", 3.14, True, \"Python\", 10]\n",
    "for elemento in lista:\n",
    "    print(elemento, end= \" ** \")"
   ]
  },
  {
   "cell_type": "code",
   "execution_count": 11,
   "metadata": {},
   "outputs": [
    {
     "name": "stdout",
     "output_type": "stream",
     "text": [
      "2 4 6 8 10 12 14 16 18 20 "
     ]
    }
   ],
   "source": [
    "for numero in range(1, 21):\n",
    "    if numero % 2 != 0:\n",
    "        continue\n",
    "    print(numero, end=\" \")"
   ]
  },
  {
   "cell_type": "code",
   "execution_count": 12,
   "metadata": {},
   "outputs": [
    {
     "name": "stdout",
     "output_type": "stream",
     "text": [
      "El factorial es: 263130836933693530167218012160000000\n"
     ]
    }
   ],
   "source": [
    "numero = int(input(\"Ingrese un número: \"))\n",
    "factorial = 1\n",
    "while numero > 0:\n",
    "    factorial *= numero\n",
    "    numero -= 1\n",
    "print(\"El factorial es:\", factorial)"
   ]
  },
  {
   "cell_type": "code",
   "execution_count": 13,
   "metadata": {},
   "outputs": [
    {
     "name": "stdout",
     "output_type": "stream",
     "text": [
      "El ciclo está en ejecución.\n",
      "El ciclo está en ejecución.\n",
      "El ciclo está en ejecución.\n",
      "El ciclo está en ejecución.\n",
      "El ciclo está en ejecución.\n",
      "El ciclo está en ejecución.\n",
      "El ciclo está en ejecución.\n",
      "El ciclo está en ejecución.\n",
      "El ciclo está en ejecución.\n",
      "El ciclo está en ejecución.\n",
      "El ciclo está en ejecución.\n",
      "El ciclo está en ejecución.\n",
      "Fin del ciclo.\n"
     ]
    }
   ],
   "source": [
    "import time\n",
    "from datetime import datetime, timedelta\n",
    "\n",
    "# Establecer la duración del ciclo en minutos (por ejemplo, 1 minuto)\n",
    "duracion_ciclo_minutos = 1\n",
    "# Calcular el tiempo de finalización del ciclo\n",
    "tiempo_finalizacion = datetime.now() + timedelta(minutes=duracion_ciclo_minutos)\n",
    "while datetime.now() < tiempo_finalizacion:\n",
    "    # Tu código dentro del bucle\n",
    "    print(\"El ciclo está en ejecución.\")\n",
    "    time.sleep(5)  # Agrega un pequeño retraso para liberar al procesador\n",
    "print(\"Fin del ciclo.\")"
   ]
  },
  {
   "cell_type": "code",
   "execution_count": 19,
   "metadata": {},
   "outputs": [
    {
     "name": "stdout",
     "output_type": "stream",
     "text": [
      "1 2 2 3 3 3 4 4 4 4 "
     ]
    }
   ],
   "source": [
    "valor = 1\n",
    "while valor < 5:\n",
    "    conteo = 0\n",
    "    while conteo < valor:\n",
    "        print(valor, end=\" \")\n",
    "        conteo += 1\n",
    "    valor += 1"
   ]
  },
  {
   "cell_type": "code",
   "execution_count": 3,
   "metadata": {},
   "outputs": [
    {
     "name": "stdout",
     "output_type": "stream",
     "text": [
      "El mayor numero de la lista es: 100\n"
     ]
    }
   ],
   "source": [
    "def foo(lista):\n",
    "    temp = lista[0]\n",
    "    for num in lista:\n",
    "        if num > temp:\n",
    "            temp = num\n",
    "    return temp\n",
    "numeros = [10, 100, 8, 20, 3]\n",
    "valor = foo(numeros)\n",
    "print(\"El mayor numero de la lista es:\", valor)"
   ]
  },
  {
   "cell_type": "code",
   "execution_count": 4,
   "metadata": {},
   "outputs": [
    {
     "name": "stdout",
     "output_type": "stream",
     "text": [
      "El área del triángulo es: 20.0\n"
     ]
    }
   ],
   "source": [
    "def calcular_area_triangulo(base, altura):\n",
    "    area = base * altura / 2\n",
    "    return area\n",
    "\n",
    "base = 5\n",
    "altura = 8\n",
    "resultado = calcular_area_triangulo(base, altura )\n",
    "\n",
    "print(\"El área del triángulo es:\", resultado)"
   ]
  },
  {
   "cell_type": "code",
   "execution_count": 34,
   "metadata": {},
   "outputs": [
    {
     "name": "stdout",
     "output_type": "stream",
     "text": [
      "Soy una variable global\n",
      "Soy una variable local\n"
     ]
    }
   ],
   "source": [
    "x = \"Soy una variable global\"\n",
    "\n",
    "def funcion():\n",
    "    x = \"Soy una variable local\"\n",
    "    print(x)\n",
    "\n",
    "print(x)\n",
    "funcion()"
   ]
  },
  {
   "cell_type": "code",
   "execution_count": 6,
   "metadata": {},
   "outputs": [
    {
     "name": "stdout",
     "output_type": "stream",
     "text": [
      "Valor antes de la modificación: 10\n",
      "Valor después de la modificación: 20\n"
     ]
    }
   ],
   "source": [
    "variable_global = 10\n",
    "def modificar_variable():\n",
    "    global variable_global\n",
    "    variable_global = 20\n",
    "\n",
    "print(\"Valor antes de la modificación:\", variable_global)\n",
    "\n",
    "modificar_variable()\n",
    "print(\"Valor después de la modificación:\", variable_global)"
   ]
  },
  {
   "cell_type": "code",
   "execution_count": 56,
   "metadata": {},
   "outputs": [
    {
     "name": "stdout",
     "output_type": "stream",
     "text": [
      "1\n",
      "2\n",
      "3\n",
      "4\n",
      "5\n"
     ]
    }
   ],
   "source": [
    "def imprimir_lista(lista):\n",
    "    if not lista:\n",
    "        return \"Lista vacía\"\n",
    "    print(lista[0])\n",
    "    imprimir_lista(lista[1:])\n",
    "mi_lista = [1, 2, 3, 4, 5]\n",
    "imprimir_lista(mi_lista)\n"
   ]
  },
  {
   "cell_type": "code",
   "execution_count": 42,
   "metadata": {},
   "outputs": [
    {
     "name": "stdout",
     "output_type": "stream",
     "text": [
      "El factorial de 10 es: 3628800\n"
     ]
    }
   ],
   "source": [
    "def calcular_factorial(numero):\n",
    "    if numero == 0:\n",
    "        return 1\n",
    "    else:\n",
    "        return numero * calcular_factorial(numero - 1)\n",
    "\n",
    "numero = 10\n",
    "factorial = calcular_factorial(numero)\n",
    "print(\"El factorial de\", numero, \"es:\", factorial)\n"
   ]
  },
  {
   "cell_type": "code",
   "execution_count": 1,
   "metadata": {},
   "outputs": [
    {
     "name": "stdout",
     "output_type": "stream",
     "text": [
      "Persona 1: Juan - 25 años\n",
      "Persona 2: María - 30 años\n"
     ]
    }
   ],
   "source": [
    "class Persona:\n",
    "    def __init__(self, nombre, edad):\n",
    "        self.nombre = nombre\n",
    "        self.edad = edad\n",
    "persona1 = Persona(\"Juan\", 25)\n",
    "persona2 = Persona(\"María\", 30)\n",
    "print(\"Persona 1:\", persona1.nombre, \"-\", persona1.edad, \"años\")\n",
    "print(\"Persona 2:\", persona2.nombre, \"-\", persona2.edad, \"años\")"
   ]
  },
  {
   "cell_type": "code",
   "execution_count": 2,
   "metadata": {},
   "outputs": [
    {
     "name": "stdout",
     "output_type": "stream",
     "text": [
      "¡Hola! Mi nombre es Juan\n"
     ]
    }
   ],
   "source": [
    "class Persona:\n",
    "    def __init__(self, nombre, edad):\n",
    "        self.nombre = nombre\n",
    "        self.edad = edad\n",
    "    def saludar(self):\n",
    "        print(\"¡Hola! Mi nombre es\", self.nombre)\n",
    "\n",
    "persona = Persona(\"Juan\", 25)\n",
    "persona.saludar()"
   ]
  },
  {
   "cell_type": "code",
   "execution_count": 4,
   "metadata": {},
   "outputs": [
    {
     "name": "stdout",
     "output_type": "stream",
     "text": [
      "Área del rectángulo: 15\n",
      "Perímetro del rectángulo: 16\n"
     ]
    }
   ],
   "source": [
    "class Rectangulo:\n",
    "    def __init__(self, ancho, altura):\n",
    "        self.ancho = ancho\n",
    "        self.altura = altura\n",
    "    def calcular_perimetro(self):\n",
    "        return 2 * (self.ancho + self.altura)\n",
    "    def calcular_area(self):\n",
    "        return self.ancho * self.altura\n",
    "    \n",
    "rectangulo = Rectangulo(5, 3)\n",
    "print(\"Área del rectángulo:\", rectangulo.calcular_area())\n",
    "print(\"Perímetro del rectángulo:\", rectangulo.calcular_perimetro())"
   ]
  },
  {
   "cell_type": "code",
   "execution_count": 5,
   "metadata": {},
   "outputs": [
    {
     "name": "stdout",
     "output_type": "stream",
     "text": [
      "Área del círculo: 78.53981633974483\n",
      "Circunferencia del círculo: 31.41592653589793\n"
     ]
    }
   ],
   "source": [
    "import math\n",
    "\n",
    "class Circulo:\n",
    "    def __init__(self, radio):\n",
    "        self.radio = radio\n",
    "    def calcular_area(self):\n",
    "        return math.pi * self.radio**2\n",
    "    def calcular_circunferencia(self):\n",
    "        return 2 * math.pi * self.radio\n",
    "\n",
    "circulo = Circulo(5)\n",
    "\n",
    "print(\"Área del círculo:\", circulo.calcular_area())\n",
    "print(\"Circunferencia del círculo:\", circulo.calcular_circunferencia())"
   ]
  },
  {
   "cell_type": "code",
   "execution_count": 21,
   "metadata": {},
   "outputs": [
    {
     "name": "stdout",
     "output_type": "stream",
     "text": [
      "Nombre: Juan\n",
      "Edad: 20\n",
      "Carrera: Ingeniería\n"
     ]
    }
   ],
   "source": [
    "class Persona:\n",
    "    def __init__(self, nombre, edad):\n",
    "        self.nombre = nombre\n",
    "        self.edad = edad\n",
    "\n",
    "class Estudiante(Persona):\n",
    "    def __init__(self, nombre, edad, carrera):\n",
    "        super().__init__(nombre, edad)\n",
    "        self.carrera = carrera\n",
    "    def imprimir_datos(self):\n",
    "        print(\"Nombre:\", self.nombre)\n",
    "        print(\"Edad:\", self.edad)\n",
    "        print(\"Carrera:\", self.carrera)\n",
    "\n",
    "estudiante = Estudiante(\"Juan\", 20, \"Ingeniería\")\n",
    "estudiante.imprimir_datos()\n"
   ]
  },
  {
   "cell_type": "code",
   "execution_count": 23,
   "metadata": {},
   "outputs": [
    {
     "name": "stdout",
     "output_type": "stream",
     "text": [
      "El triángulo es equilátero.\n"
     ]
    }
   ],
   "source": [
    "class Triangulo:\n",
    "    def __init__(self, lado1, lado2, lado3):\n",
    "        self.lado1 = lado1\n",
    "        self.lado2 = lado2\n",
    "        self.lado3 = lado3\n",
    "\n",
    "    def es_equilatero(self):\n",
    "        return self.lado1 == self.lado2 == self.lado3\n",
    "\n",
    "triangulo = Triangulo(5, 5, 5)\n",
    "\n",
    "if triangulo.es_equilatero ():\n",
    "    print(\"El triángulo es equilátero.\")\n",
    "else:\n",
    "    print(\"El triángulo no es equilátero.\")"
   ]
  },
  {
   "cell_type": "code",
   "execution_count": 24,
   "metadata": {},
   "outputs": [
    {
     "name": "stdout",
     "output_type": "stream",
     "text": [
      "Salario antes del aumento: 5000\n",
      "Salario después del aumento: 5500.0\n"
     ]
    }
   ],
   "source": [
    "class Empleado:\n",
    "    def __init__(self, nombre, salario):\n",
    "        self.nombre = nombre\n",
    "        self.salario = salario\n",
    "\n",
    "    def aumentar_salario(self, porcentaje):\n",
    "        self.salario += self.salario * (porcentaje / 100)\n",
    "\n",
    "empleado = Empleado(\"Juan\", 5000)\n",
    "print(\"Salario antes del aumento:\", empleado.salario)\n",
    "empleado.aumentar_salario(10)\n",
    "print(\"Salario después del aumento:\", empleado.salario)"
   ]
  },
  {
   "cell_type": "code",
   "execution_count": 25,
   "metadata": {},
   "outputs": [
    {
     "name": "stdout",
     "output_type": "stream",
     "text": [
      "Velocidad inicial: 0\n",
      "Velocidad después de acelerar: 20\n",
      "Velocidad después de frenar: 10\n"
     ]
    }
   ],
   "source": [
    "class Coche:\n",
    "    def __init__(self, modelo):\n",
    "        self.modelo = modelo\n",
    "        self.velocidad = 0\n",
    "    def acelerar(self, incremento):\n",
    "        self.velocidad += incremento\n",
    "    def frenar(self, decremento):\n",
    "        self.velocidad -= decremento\n",
    "coche = Coche(\"Toyota\")\n",
    "print(\"Velocidad inicial:\", coche.velocidad)\n",
    "coche.acelerar(20)\n",
    "print(\"Velocidad después de acelerar:\", coche.velocidad)\n",
    "coche.frenar(10)\n",
    "print(\"Velocidad después de frenar:\", coche.velocidad)"
   ]
  }
 ],
 "metadata": {
  "kernelspec": {
   "display_name": "Python 3",
   "language": "python",
   "name": "python3"
  },
  "language_info": {
   "codemirror_mode": {
    "name": "ipython",
    "version": 3
   },
   "file_extension": ".py",
   "mimetype": "text/x-python",
   "name": "python",
   "nbconvert_exporter": "python",
   "pygments_lexer": "ipython3",
   "version": "3.11.3"
  }
 },
 "nbformat": 4,
 "nbformat_minor": 2
}
