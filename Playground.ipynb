{
 "cells": [
  {
   "cell_type": "markdown",
   "metadata": {},
   "source": [
    "Playground"
   ]
  },
  {
   "cell_type": "code",
   "execution_count": 1,
   "metadata": {},
   "outputs": [],
   "source": [
    "valor = 10"
   ]
  },
  {
   "cell_type": "code",
   "execution_count": 2,
   "metadata": {},
   "outputs": [],
   "source": [
    "variable_a = 10\n",
    "variable_b = \"Hola\"\n",
    "variable_c = True\n",
    "lista = [1,2,3,4,5]\n",
    "tupla = (1,2,3,4,5)\n",
    "frozen_set = {1,2,3,4,5}"
   ]
  },
  {
   "cell_type": "code",
   "execution_count": 3,
   "metadata": {},
   "outputs": [
    {
     "name": "stdout",
     "output_type": "stream",
     "text": [
      "10\n",
      "<class 'list'>\n",
      "<class 'tuple'>\n",
      "<class 'set'>\n"
     ]
    }
   ],
   "source": [
    "print(variable_a)\n",
    "type(variable_a)\n",
    "print(type(lista))\n",
    "print(type(tupla))\n",
    "print(type(frozen_set))"
   ]
  },
  {
   "cell_type": "code",
   "execution_count": 4,
   "metadata": {},
   "outputs": [
    {
     "name": "stdout",
     "output_type": "stream",
     "text": [
      "True\n",
      "\n",
      "77\n",
      "72\n",
      "111\n",
      "108\n",
      "97\n",
      "\n",
      "109\n",
      "113\n",
      "113\n",
      "113\n",
      "113\n",
      "113\n",
      "113\n",
      "117\n",
      "101\n"
     ]
    }
   ],
   "source": [
    "comparativo = \"MHola\" <= \"mqqqqqque\"\n",
    "print(comparativo)\n",
    "\n",
    "print(\"\")\n",
    "\n",
    "for char in \"MHola\":\n",
    "  print(ord(char))\n",
    "\n",
    "print(\"\")\n",
    "\n",
    "for char in \"mqqqqqque\":\n",
    "  print(ord(char))"
   ]
  },
  {
   "cell_type": "code",
   "execution_count": 5,
   "metadata": {},
   "outputs": [
    {
     "name": "stdout",
     "output_type": "stream",
     "text": [
      "[2, 4, 6, 8, 10]\n"
     ]
    }
   ],
   "source": [
    "numbers = [1, 2, 3, 4, 5]\n",
    "result = [num * 2 for num in numbers]\n",
    "print(result)"
   ]
  },
  {
   "cell_type": "code",
   "execution_count": 6,
   "metadata": {},
   "outputs": [
    {
     "name": "stdout",
     "output_type": "stream",
     "text": [
      "Ingrese la calificación del estudiante: \n",
      "Sobresaliente\n"
     ]
    }
   ],
   "source": [
    "print(\"Ingrese la calificación del estudiante: \")\n",
    "calificacion = int(input(\"Ingrese la calificación del estudiante: \"))\n",
    "if calificacion >= 90:\n",
    "    print(\"Sobresaliente\")\n",
    "elif calificacion >= 70:\n",
    "    print(\"Aceptable\")\n",
    "elif calificacion >= 50:\n",
    "    print(\"Requiere Trabajo Adicional\")\n",
    "else:\n",
    "    print(\"Reprueba\")"
   ]
  },
  {
   "cell_type": "code",
   "execution_count": 7,
   "metadata": {},
   "outputs": [
    {
     "name": "stdout",
     "output_type": "stream",
     "text": [
      "La contraseña es válida.\n"
     ]
    }
   ],
   "source": [
    "contrasena = input(\"Ingrese una contraseña: \")\n",
    "\n",
    "es_valida = False\n",
    "if len(contrasena) >= 8 and any(caracter.isupper() for caracter in contrasena) and any(caracter.isdigit() for caracter in contrasena):\n",
    "    es_valida = True\n",
    "if es_valida:\n",
    "    print(\"La contraseña es válida.\")\n",
    "else:\n",
    "    print(\"La contraseña no cumple los requisitos.\")"
   ]
  },
  {
   "cell_type": "code",
   "execution_count": 8,
   "metadata": {},
   "outputs": [
    {
     "name": "stdout",
     "output_type": "stream",
     "text": [
      "Ingrese tres numeros\n",
      "[1, 1, 2]\n",
      "el número mayor es: 2\n",
      "el(los) indice(s) del numero mayor es(son): [2]\n",
      "El segundo y el tercer número son los mayores.\n"
     ]
    }
   ],
   "source": [
    "print(\"Ingrese tres numeros\")\n",
    "num1 = int(input(\"Ingrese el primer número: \"))\n",
    "num2 = int(input(\"Ingrese el segundo número: \"))\n",
    "num3 = int(input(\"Ingrese el tercer número: \"))\n",
    "\n",
    "lista_numeros = [num1, num2, num3]\n",
    "print(lista_numeros)\n",
    "\n",
    "max_num = max(lista_numeros)\n",
    "print(f'el número mayor es: {max_num}')\n",
    "\n",
    "max_indices = [index for index, value in enumerate(lista_numeros) if value == max_num]\n",
    "print(f'el(los) indice(s) del numero mayor es(son): {max_indices}')\n",
    "\n",
    "if (0 and 1 and 2) in max_indices:\n",
    "    print(\"Los tres numeros son iguales.\")\n",
    "\n",
    "elif (0 and 1) in max_indices:\n",
    "    print(\"Los primer y el segundo numero son los mayores.\")\n",
    "\n",
    "elif (0 and 2) in max_indices:\n",
    "    print(\"El primer y el tercer número son los mayores.\")\n",
    "\n",
    "elif (1 and 2) in max_indices:\n",
    "    print(\"El segundo y el tercer número son los mayores.\")\n",
    "\n",
    "elif 1 in max_indices:\n",
    "    print(\"El segundo número es el mayor.\")\n",
    "else:\n",
    "    print(\"El tercer número es el mayor.\")\n"
   ]
  },
  {
   "cell_type": "code",
   "execution_count": 9,
   "metadata": {},
   "outputs": [
    {
     "name": "stdout",
     "output_type": "stream",
     "text": [
      "El número es positivo.\n"
     ]
    }
   ],
   "source": [
    "num = int(input(\"Ingrese un numero: \"))\n",
    "\n",
    "if num > 0:\n",
    "    print(\"El número es positivo.\")\n",
    "elif num < 0:\n",
    "    print(\"El número es negativo.\")\n",
    "else:\n",
    "    print(\"El número es cero.\")\n",
    "\n"
   ]
  },
  {
   "cell_type": "code",
   "execution_count": 10,
   "metadata": {},
   "outputs": [
    {
     "name": "stdout",
     "output_type": "stream",
     "text": [
      "Hola ** 3.14 ** True ** Python ** 10 ** "
     ]
    }
   ],
   "source": [
    "lista = [\"Hola\", 3.14, True, \"Python\", 10]\n",
    "for elemento in lista:\n",
    "    print(elemento, end= \" ** \")"
   ]
  },
  {
   "cell_type": "code",
   "execution_count": 11,
   "metadata": {},
   "outputs": [
    {
     "name": "stdout",
     "output_type": "stream",
     "text": [
      "2 4 6 8 10 12 14 16 18 20 "
     ]
    }
   ],
   "source": [
    "for numero in range(1, 21):\n",
    "    if numero % 2 != 0:\n",
    "        continue\n",
    "    print(numero, end=\" \")"
   ]
  },
  {
   "cell_type": "code",
   "execution_count": 12,
   "metadata": {},
   "outputs": [
    {
     "name": "stdout",
     "output_type": "stream",
     "text": [
      "El factorial es: 263130836933693530167218012160000000\n"
     ]
    }
   ],
   "source": [
    "numero = int(input(\"Ingrese un número: \"))\n",
    "factorial = 1\n",
    "while numero > 0:\n",
    "    factorial *= numero\n",
    "    numero -= 1\n",
    "print(\"El factorial es:\", factorial)"
   ]
  },
  {
   "cell_type": "code",
   "execution_count": 13,
   "metadata": {},
   "outputs": [
    {
     "name": "stdout",
     "output_type": "stream",
     "text": [
      "El ciclo está en ejecución.\n",
      "El ciclo está en ejecución.\n",
      "El ciclo está en ejecución.\n",
      "El ciclo está en ejecución.\n",
      "El ciclo está en ejecución.\n",
      "El ciclo está en ejecución.\n",
      "El ciclo está en ejecución.\n",
      "El ciclo está en ejecución.\n",
      "El ciclo está en ejecución.\n",
      "El ciclo está en ejecución.\n",
      "El ciclo está en ejecución.\n",
      "El ciclo está en ejecución.\n",
      "Fin del ciclo.\n"
     ]
    }
   ],
   "source": [
    "import time\n",
    "from datetime import datetime, timedelta\n",
    "\n",
    "# Establecer la duración del ciclo en minutos (por ejemplo, 1 minuto)\n",
    "duracion_ciclo_minutos = 1\n",
    "# Calcular el tiempo de finalización del ciclo\n",
    "tiempo_finalizacion = datetime.now() + timedelta(minutes=duracion_ciclo_minutos)\n",
    "while datetime.now() < tiempo_finalizacion:\n",
    "    # Tu código dentro del bucle\n",
    "    print(\"El ciclo está en ejecución.\")\n",
    "    time.sleep(5)  # Agrega un pequeño retraso para liberar al procesador\n",
    "print(\"Fin del ciclo.\")"
   ]
  },
  {
   "cell_type": "code",
   "execution_count": 19,
   "metadata": {},
   "outputs": [
    {
     "name": "stdout",
     "output_type": "stream",
     "text": [
      "1 2 2 3 3 3 4 4 4 4 "
     ]
    }
   ],
   "source": [
    "valor = 1\n",
    "while valor < 5:\n",
    "    conteo = 0\n",
    "    while conteo < valor:\n",
    "        print(valor, end=\" \")\n",
    "        conteo += 1\n",
    "    valor += 1"
   ]
  }
 ],
 "metadata": {
  "kernelspec": {
   "display_name": "Python 3",
   "language": "python",
   "name": "python3"
  },
  "language_info": {
   "codemirror_mode": {
    "name": "ipython",
    "version": 3
   },
   "file_extension": ".py",
   "mimetype": "text/x-python",
   "name": "python",
   "nbconvert_exporter": "python",
   "pygments_lexer": "ipython3",
   "version": "3.11.3"
  }
 },
 "nbformat": 4,
 "nbformat_minor": 2
}
