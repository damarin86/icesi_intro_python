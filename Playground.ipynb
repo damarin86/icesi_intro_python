{
 "cells": [
  {
   "cell_type": "markdown",
   "metadata": {},
   "source": [
    "Playground"
   ]
  },
  {
   "cell_type": "code",
   "execution_count": 30,
   "metadata": {},
   "outputs": [],
   "source": [
    "valor = 10"
   ]
  },
  {
   "cell_type": "code",
   "execution_count": 31,
   "metadata": {},
   "outputs": [],
   "source": [
    "variable_a = 10\n",
    "variable_b = \"Hola\"\n",
    "variable_c = True\n",
    "lista = [1,2,3,4,5]\n",
    "tupla = (1,2,3,4,5)\n",
    "frozen_set = {1,2,3,4,5}\n",
    "\n"
   ]
  },
  {
   "cell_type": "code",
   "execution_count": 32,
   "metadata": {},
   "outputs": [
    {
     "name": "stdout",
     "output_type": "stream",
     "text": [
      "10\n",
      "<class 'list'>\n",
      "<class 'tuple'>\n",
      "<class 'set'>\n"
     ]
    }
   ],
   "source": [
    "print(variableA)\n",
    "type(variable_a)\n",
    "print(type(lista))\n",
    "print(type(tupla))\n",
    "print(type(frozen_set))"
   ]
  },
  {
   "cell_type": "code",
   "execution_count": 55,
   "metadata": {},
   "outputs": [
    {
     "name": "stdout",
     "output_type": "stream",
     "text": [
      "True\n",
      "\n",
      "77\n",
      "72\n",
      "111\n",
      "108\n",
      "97\n",
      "\n",
      "109\n",
      "113\n",
      "113\n",
      "113\n",
      "113\n",
      "113\n",
      "113\n",
      "117\n",
      "101\n"
     ]
    }
   ],
   "source": [
    "comparativo = \"MHola\" <= \"mqqqqqque\"\n",
    "print(comparativo)\n",
    "\n",
    "print(\"\")\n",
    "\n",
    "for char in \"MHola\":\n",
    "  print(ord(char))\n",
    "\n",
    "print(\"\")\n",
    "\n",
    "for char in \"mqqqqqque\":\n",
    "  print(ord(char))"
   ]
  },
  {
   "cell_type": "code",
   "execution_count": 61,
   "metadata": {},
   "outputs": [
    {
     "name": "stdout",
     "output_type": "stream",
     "text": [
      "[2, 4, 6, 8, 10]\n"
     ]
    }
   ],
   "source": [
    "numbers = [1, 2, 3, 4, 5]\n",
    "result = [num * 2 for num in numbers]\n",
    "print(result)"
   ]
  }
 ],
 "metadata": {
  "kernelspec": {
   "display_name": "Python 3",
   "language": "python",
   "name": "python3"
  },
  "language_info": {
   "codemirror_mode": {
    "name": "ipython",
    "version": 3
   },
   "file_extension": ".py",
   "mimetype": "text/x-python",
   "name": "python",
   "nbconvert_exporter": "python",
   "pygments_lexer": "ipython3",
   "version": "3.11.3"
  }
 },
 "nbformat": 4,
 "nbformat_minor": 2
}
