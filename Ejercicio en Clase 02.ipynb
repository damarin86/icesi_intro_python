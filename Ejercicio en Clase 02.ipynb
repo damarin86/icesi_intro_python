{
 "cells": [
  {
   "cell_type": "markdown",
   "metadata": {},
   "source": [
    "A continuación se describen una serie de ejercicios por ejecutar durante esta sesión:"
   ]
  },
  {
   "cell_type": "code",
   "execution_count": null,
   "metadata": {},
   "outputs": [],
   "source": [
    "# Ejercicio: Solicita al usuario un número e imprime si es positivo.\n",
    "numero = int(input(\"Introduce un número: \"))\n",
    "if numero > 0:\n",
    "    print(\"El número es positivo\")"
   ]
  },
  {
   "cell_type": "code",
   "execution_count": null,
   "metadata": {},
   "outputs": [],
   "source": [
    "# Ejercicio: Solicita al usuario dos números e imprime el mayor de ellos.\n",
    "numero1 = int(input(\"Introduce un número: \"))\n",
    "numero2 = int(input(\"Introduce otro número: \"))\n",
    "\n",
    "if numero1 > numero2:\n",
    "    print(f'{numero1} es mayor que {numero2}')\n",
    "elif numero1 < numero2:\n",
    "    print(f'{numero2} es mayor que {numero1}')\n",
    "else:\n",
    "    print(f'{numero1} y {numero2} son iguales')"
   ]
  },
  {
   "cell_type": "code",
   "execution_count": null,
   "metadata": {},
   "outputs": [],
   "source": [
    "# Ejercicio: Solicita al usuario un día de la semana e imprime si es laborable, fin de semana o inválido.\n",
    "dia_input = input(\"Introduce un día de la semana: \")\n",
    "dia = dia_input.lower()\n",
    "\n",
    "dias_semana = ['lunes', 'martes', 'miercoles', 'jueves', 'viernes', 'sabado', 'domingo']\n",
    "dias_laborables = dias_semana[:5]\n",
    "dias_finde = dias_semana[5:]\n",
    "\n",
    "if dia in dias_laborables:\n",
    "    print(f'{dia} es un día laborable')\n",
    "elif dia in dias_finde:\n",
    "    print(f'{dia} es un día de fin de semana')\n",
    "else:\n",
    "    print(f'{dia} no es un día válido')"
   ]
  },
  {
   "cell_type": "code",
   "execution_count": null,
   "metadata": {},
   "outputs": [],
   "source": [
    "# Ejercicio: Imprime los números del 1 al 5 utilizando un bucle while.\n",
    "numero = 1 \n",
    "while numero <= 5:\n",
    "    print(numero, end = ' ')\n",
    "    numero += 1"
   ]
  },
  {
   "cell_type": "code",
   "execution_count": null,
   "metadata": {},
   "outputs": [],
   "source": [
    "# Ejercicio: Imprime los cuadrados de los números del 1 al 3 utilizando un bucle for.\n",
    "for y in range(1, 4):\n",
    "    print(y ** 2, end = ' ')"
   ]
  },
  {
   "cell_type": "code",
   "execution_count": null,
   "metadata": {},
   "outputs": [],
   "source": [
    "# Ejercicio: Solicita al usuario su edad e imprime si es niño, adolescente, adulto o anciano.\n",
    "edad = int(input(\"Introduce tu edad: \"))\n",
    "\n",
    "if edad < 13:\n",
    "    print(\"Eres un niño\")\n",
    "elif edad >= 13 and edad < 18:\n",
    "    print(\"Eres un adolescente\")\n",
    "elif edad >= 18 and edad < 65:\n",
    "    print(\"Eres un adulto\")\n",
    "else:\n",
    "    print(\"Eres un anciano\")"
   ]
  },
  {
   "cell_type": "code",
   "execution_count": null,
   "metadata": {},
   "outputs": [],
   "source": [
    "# Ejercicio: Imprime los números del 1 al 10, pero termina el bucle si encuentra el número 5.\n",
    "for x in range(1, 11):\n",
    "    print(x, end = ' * ')\n",
    "    if x == 4:\n",
    "        break\n",
    "\n",
    "print(\"\\n\")\n",
    "\n",
    "y = 1\n",
    "while y <= 10:\n",
    "    print(y, end = ' / ')\n",
    "    y += 1\n",
    "    if y == 5:\n",
    "        break"
   ]
  },
  {
   "cell_type": "code",
   "execution_count": null,
   "metadata": {},
   "outputs": [],
   "source": [
    "# Ejercicio: Imprime los números del 1 al 5, pero omite el número 3.\n",
    "for x in range(1, 6):\n",
    "    if x != 3:\n",
    "        print(x, end = ' * ')\n",
    "\n",
    "print(\"\\n\")\n",
    "\n",
    "y = 1\n",
    "while y <= 5:\n",
    "    if y != 3:\n",
    "        print(y, end = ' / ')\n",
    "    y += 1"
   ]
  },
  {
   "cell_type": "code",
   "execution_count": null,
   "metadata": {},
   "outputs": [],
   "source": [
    "# Ejercicio: Imprime los números pares del 2 al 10 utilizando la función range.\n",
    "for x in range(1, 11):\n",
    "    if x % 2 == 0:\n",
    "        print(x, end = ' * ')\n",
    "\n",
    "print(\"\\n\")\n",
    "\n",
    "y = 1\n",
    "while y <= 10:\n",
    "    if y % 2 == 0:\n",
    "        print(y, end = ' / ')\n",
    "    y += 1"
   ]
  },
  {
   "cell_type": "code",
   "execution_count": null,
   "metadata": {},
   "outputs": [],
   "source": [
    "# Ejercicio: Imprime si un número es primo o no.\n",
    "num = int(input(\"Ingrese un numero: \"))\n",
    "num_range = range(1, num + 1)\n",
    "\n",
    "counter = 0\n",
    "for x in num_range:\n",
    "    if num % x == 0:\n",
    "        counter += 1\n",
    "\n",
    "if counter <= 2:\n",
    "    print(f'El numero {num} es primo')\n",
    "else:\n",
    "    print(f'El numero {num} no es primo')"
   ]
  },
  {
   "cell_type": "code",
   "execution_count": 12,
   "metadata": {},
   "outputs": [
    {
     "name": "stdout",
     "output_type": "stream",
     "text": [
      "    *\n",
      "   ***\n",
      "  *****\n",
      " *******\n",
      "*********\n"
     ]
    }
   ],
   "source": [
    "# Ejercicio: Imprime los patrones de asteriscos utilizando ciclos anidados.\n",
    "for x in range(1, 6):\n",
    "    print(' ' * (5-x), '*' * (x), '*' * (x-1), sep = '')"
   ]
  },
  {
   "cell_type": "code",
   "execution_count": 13,
   "metadata": {},
   "outputs": [],
   "source": [
    "# Ejercicio: Implementa un bucle que no hace nada usando la declaración pass.\n",
    "for x in range(1, 6):\n",
    "    pass"
   ]
  },
  {
   "cell_type": "code",
   "execution_count": 21,
   "metadata": {},
   "outputs": [
    {
     "name": "stdout",
     "output_type": "stream",
     "text": [
      "Indice: 0, Valor: a\n",
      "Indice: 1, Valor: b\n",
      "Indice: 2, Valor: c\n",
      "Indice: 3, Valor: d\n",
      "Indice: 4, Valor: e\n"
     ]
    }
   ],
   "source": [
    "# Ejercicio: Imprime los índices y elementos de una lista utilizando la función enumerate.\n",
    "lista = ['a', 'b', 'c', 'd', 'e']\n",
    "for indice, valor in enumerate(lista):\n",
    "    print(f'Indice: {indice}, Valor: {valor}')"
   ]
  },
  {
   "cell_type": "code",
   "execution_count": 23,
   "metadata": {},
   "outputs": [
    {
     "name": "stdout",
     "output_type": "stream",
     "text": [
      "Lista 1: a, Lista 2: j\n",
      "Lista 1: b, Lista 2: i\n",
      "Lista 1: c, Lista 2: h\n",
      "Lista 1: d, Lista 2: g\n",
      "Lista 1: e, Lista 2: f\n"
     ]
    }
   ],
   "source": [
    "# Ejercicio: Combina dos listas e imprime los elementos emparejados utilizando la función zip.\n",
    "lista1 = ['a', 'b', 'c', 'd', 'e']\n",
    "lista2 = ['f', 'g', 'h', 'i', 'j']\n",
    "for x, y in zip(lista1, reversed(lista2)):\n",
    "    print(f'Lista 1: {x}, Lista 2: {y}')"
   ]
  },
  {
   "cell_type": "code",
   "execution_count": 25,
   "metadata": {},
   "outputs": [
    {
     "name": "stdout",
     "output_type": "stream",
     "text": [
      "[1, 4, 9, 16, 25]\n"
     ]
    }
   ],
   "source": [
    "# Ejercicio: Crea una lista con los cuadrados de los números del 1 al 5 usando list comprehension.\n",
    "lista = [x ** 2 for x in range(1, 6)]\n",
    "print(lista)"
   ]
  },
  {
   "cell_type": "code",
   "execution_count": 26,
   "metadata": {},
   "outputs": [
    {
     "name": "stdout",
     "output_type": "stream",
     "text": [
      "1 * 2 * 3 * 4 * 5 * "
     ]
    }
   ],
   "source": [
    "# Ejercicio: Implementa un bucle while que imprime números hasta que alcanza uno mayor que 5.\n",
    "x = 1\n",
    "while x <= 5:\n",
    "    print(x, end = ' * ')\n",
    "    x += 1"
   ]
  },
  {
   "cell_type": "code",
   "execution_count": 27,
   "metadata": {},
   "outputs": [
    {
     "name": "stdout",
     "output_type": "stream",
     "text": [
      "2 * 4 * 6 * 8 * 10 * "
     ]
    }
   ],
   "source": [
    "# Ejercicio: Imprime solo los números pares del 1 al 10 usando continue en un bucle for.\n",
    "for x in range(1, 11):\n",
    "    if x % 2 != 0:\n",
    "        continue\n",
    "    print(x, end = ' * ')"
   ]
  },
  {
   "cell_type": "code",
   "execution_count": 28,
   "metadata": {},
   "outputs": [
    {
     "name": "stdout",
     "output_type": "stream",
     "text": [
      "El numero 7 es Impar\n"
     ]
    }
   ],
   "source": [
    "# Ejercicio: Asigna el valor \"Par\" o \"Impar\" a una variable según la paridad de un número.\n",
    "num = int(input(\"Ingrese un numero: \"))\n",
    "if num % 2 == 0:\n",
    "    paridad = \"Par\"\n",
    "else:\n",
    "    paridad = \"Impar\"\n",
    "print(f'El numero {num} es {paridad}')"
   ]
  },
  {
   "cell_type": "code",
   "execution_count": 30,
   "metadata": {},
   "outputs": [
    {
     "name": "stdout",
     "output_type": "stream",
     "text": [
      "1 * 2 * 3 * 4 * 5 * Fin del bucle\n"
     ]
    }
   ],
   "source": [
    "# Ejercicio: Imprime los números del 1 al 5 y muestra un mensaje al final del bucle usando else en while.\n",
    "x = 1\n",
    "while x <= 5:\n",
    "    print(x, end = ' * ')\n",
    "    x += 1\n",
    "else:\n",
    "    print(\"Fin del bucle\")"
   ]
  },
  {
   "cell_type": "code",
   "execution_count": 33,
   "metadata": {},
   "outputs": [
    {
     "name": "stdout",
     "output_type": "stream",
     "text": [
      "5 * 4 * 3 * 2 * 1 * "
     ]
    }
   ],
   "source": [
    "# Ejercicio: Imprime los números del 5 al 1 en orden descendente usando la función range.\n",
    "for x in range(5, 0, -1):\n",
    "    print(x, end = ' * ')\n"
   ]
  },
  {
   "cell_type": "code",
   "execution_count": 36,
   "metadata": {},
   "outputs": [
    {
     "name": "stdout",
     "output_type": "stream",
     "text": [
      "Los numeros -6 y 9 son positivos\n"
     ]
    }
   ],
   "source": [
    "# Ejercicio: Solicita al usuario dos números e imprime si ambos son positivos.\n",
    "num1 = int(input(\"Ingrese el primer numero: \"))\n",
    "num2 = int(input(\"Ingrese el segundo numero: \"))\n",
    "if num1 > 0 and num2 > 0:\n",
    "    print(f'Los numeros {num1} y {num2} son positivos')"
   ]
  },
  {
   "cell_type": "code",
   "execution_count": 37,
   "metadata": {},
   "outputs": [
    {
     "name": "stdout",
     "output_type": "stream",
     "text": [
      "Indice: 0, Valor: a\n",
      "Indice: 4, Valor: e\n"
     ]
    }
   ],
   "source": [
    "# Ejercicio: Imprime los índices y elementos de una lista solo si el elemento es una vocal.\n",
    "lista = ['a', 'b', 'c', 'd', 'e']\n",
    "vocales = ['a', 'e', 'i', 'o', 'u']\n",
    "\n",
    "for indice, valor in enumerate(lista):\n",
    "    if valor in vocales:\n",
    "        print(f'Indice: {indice}, Valor: {valor}')\n"
   ]
  },
  {
   "cell_type": "code",
   "execution_count": null,
   "metadata": {},
   "outputs": [],
   "source": [
    "# Ejercicio: Solicita al usuario un número e imprime si no es igual a cero.\n",
    "num = int(input(\"Ingrese un numero: \"))\n",
    "if num != 0:\n",
    "    print(f'El numero {num} es diferente de cero')"
   ]
  },
  {
   "cell_type": "code",
   "execution_count": 38,
   "metadata": {},
   "outputs": [
    {
     "name": "stdout",
     "output_type": "stream",
     "text": [
      "[(1, 6), (2, 7), (3, 8), (4, 9), (5, 10)]\n"
     ]
    }
   ],
   "source": [
    "# Ejercicio: Crea una lista de tuplas con la suma de elementos emparejados de dos listas.\n",
    "lista1 = [1, 2, 3, 4, 5]\n",
    "lista2 = [6, 7, 8, 9, 10]\n",
    "lista3 = [(x, y) for x, y in zip(lista1, lista2)]\n",
    "print(lista3)"
   ]
  },
  {
   "cell_type": "code",
   "execution_count": 19,
   "metadata": {},
   "outputs": [],
   "source": [
    "# Ejercicio: Solicita al usuario su edad y no realiza ninguna acción si es mayor de 18.\n",
    "edad = int(input(\"Introduce tu edad: \"))\n",
    "if edad > 18:\n",
    "    pass"
   ]
  },
  {
   "cell_type": "code",
   "execution_count": 18,
   "metadata": {},
   "outputs": [
    {
     "name": "stdout",
     "output_type": "stream",
     "text": [
      "1 : 0\n",
      "3 : 2\n",
      "Bota : 4\n",
      "7 : 6\n",
      "9 : 8\n"
     ]
    }
   ],
   "source": [
    "# Ejercicio: Imprime los índices y elementos de una lista solo si el índice es par.\n",
    "from operator import index\n",
    "\n",
    "lista = [1, 'Pera', 3, 4, 'Bota', 6, 7, 8, 9]\n",
    "for x in lista:\n",
    "    if lista.index(x) % 2 == 0:\n",
    "        print(x, end = ' : ')\n",
    "        print(lista.index(x))"
   ]
  },
  {
   "cell_type": "code",
   "execution_count": null,
   "metadata": {},
   "outputs": [],
   "source": [
    "# Ejercicio: Calcula la suma de los números del 1 al 10 utilizando la función range.\n",
    "sum(range(1, 11))"
   ]
  },
  {
   "cell_type": "code",
   "execution_count": null,
   "metadata": {},
   "outputs": [],
   "source": [
    "# Ejercicio: Imprime el tipo de número (par o impar) solo si el número es positivo.\n",
    "numero = int(input(\"Ingrese un número entero: \"))\n",
    "\n",
    "if numero > 0:\n",
    "    if numero % 2 == 0:\n",
    "        print(\"El número es par\")\n",
    "    else:\n",
    "        print(\"El número es impar\")"
   ]
  },
  {
   "cell_type": "code",
   "execution_count": null,
   "metadata": {},
   "outputs": [],
   "source": [
    "# Ejercicio: Imprime los números del 1 al 5 y muestra un mensaje si se encuentra el número 3 usando else con for.\n",
    "find = 3\n",
    "\n",
    "for x in range(1, 6):\n",
    "    if x == find:\n",
    "        print(f'El numero {find} ha sido encontrado')\n",
    "    else:\n",
    "        print(x)"
   ]
  },
  {
   "cell_type": "markdown",
   "metadata": {},
   "source": [
    "NIVEL ADICIONAL"
   ]
  },
  {
   "cell_type": "code",
   "execution_count": 39,
   "metadata": {},
   "outputs": [
    {
     "name": "stdout",
     "output_type": "stream",
     "text": [
      "[2, 4, 6, 8]\n"
     ]
    }
   ],
   "source": [
    "# Ejercicio: Utiliza lambda y filter para obtener los números pares de una lista.\n",
    "lista = [1, 2, 3, 4, 5, 6, 7, 8, 9]\n",
    "pares = list(filter(lambda x: x % 2 == 0, lista))\n",
    "print(pares)"
   ]
  },
  {
   "cell_type": "code",
   "execution_count": 42,
   "metadata": {},
   "outputs": [
    {
     "name": "stdout",
     "output_type": "stream",
     "text": [
      "La hipotenusa es: 12.73\n"
     ]
    }
   ],
   "source": [
    "# Ejercicio: Utiliza el módulo math para calcular la hipotenusa de un triángulo rectángulo.\n",
    "from math import sqrt\n",
    "\n",
    "cateto1 = float(input(\"Ingrese el valor del cateto 1: \"))\n",
    "cateto2 = float(input(\"Ingrese el valor del cateto 2: \"))\n",
    "hipotenusa = sqrt(cateto1 ** 2 + cateto2 ** 2)\n",
    "\n",
    "formatted_hipotenusa = \"{:.2f}\".format(hipotenusa)\n",
    "print(f'La hipotenusa es: {formatted_hipotenusa}')"
   ]
  },
  {
   "cell_type": "code",
   "execution_count": 43,
   "metadata": {},
   "outputs": [
    {
     "name": "stdout",
     "output_type": "stream",
     "text": [
      "La interseccion es: {4, 5}\n",
      "La union es: {1, 2, 3, 4, 5, 6, 7, 8}\n"
     ]
    }
   ],
   "source": [
    "# Ejercicio: Crea dos conjuntos y encuentra la intersección y unión de ellos.\n",
    "conjunto1 = {1, 2, 3, 4, 5}\n",
    "conjunto2 = {4, 5, 6, 7, 8}\n",
    "\n",
    "interseccion = conjunto1.intersection(conjunto2)\n",
    "union = conjunto1.union(conjunto2)\n",
    "\n",
    "print(f'La interseccion es: {interseccion}')\n",
    "print(f'La union es: {union}')"
   ]
  },
  {
   "cell_type": "code",
   "execution_count": 44,
   "metadata": {},
   "outputs": [
    {
     "name": "stdout",
     "output_type": "stream",
     "text": [
      "['H', 'o', 'l', 'a', ' ', 'm', 'u', 'n', 'd', 'o']\n"
     ]
    }
   ],
   "source": [
    "# Ejercicio: Convierte una cadena en una lista de letras usando list comprehension.\n",
    "cadena = \"Hola mundo\"\n",
    "lista = [x for x in cadena]\n",
    "print(lista)"
   ]
  },
  {
   "cell_type": "code",
   "execution_count": 46,
   "metadata": {},
   "outputs": [
    {
     "name": "stdout",
     "output_type": "stream",
     "text": [
      "b'Hola mundo'\n",
      "Hola mundo\n"
     ]
    }
   ],
   "source": [
    "# Ejercicio: Convierte una cadena a bytes y luego decodifícala.\n",
    "cadena = \"Hola mundo\"\n",
    "cadena_bytes = cadena.encode()\n",
    "cadena_decodificada = cadena_bytes.decode()\n",
    "print(cadena_bytes)\n",
    "print(cadena_decodificada)"
   ]
  },
  {
   "cell_type": "code",
   "execution_count": 47,
   "metadata": {},
   "outputs": [
    {
     "name": "stdout",
     "output_type": "stream",
     "text": [
      "[4, 16, 36, 64, 100]\n"
     ]
    }
   ],
   "source": [
    "# Ejercicio: Crea una expresión generadora que genere cuadrados de números pares del 2 al 10.\n",
    "lista = [x ** 2 for x in range(2, 11) if x % 2 == 0]\n",
    "print(lista)"
   ]
  },
  {
   "cell_type": "code",
   "execution_count": 48,
   "metadata": {},
   "outputs": [
    {
     "name": "stdout",
     "output_type": "stream",
     "text": [
      "[1, 4, 9, 16, 25]\n"
     ]
    }
   ],
   "source": [
    "# Ejercicio: Utiliza expresiones lambda y la función map para elevar al cuadrado los elementos de una lista.\n",
    "lista = [1, 2, 3, 4, 5]\n",
    "lista_cuadrados = list(map(lambda x: x ** 2, lista))\n",
    "print(lista_cuadrados)"
   ]
  }
 ],
 "metadata": {
  "kernelspec": {
   "display_name": "Python 3",
   "language": "python",
   "name": "python3"
  },
  "language_info": {
   "codemirror_mode": {
    "name": "ipython",
    "version": 3
   },
   "file_extension": ".py",
   "mimetype": "text/x-python",
   "name": "python",
   "nbconvert_exporter": "python",
   "pygments_lexer": "ipython3",
   "version": "3.11.3"
  }
 },
 "nbformat": 4,
 "nbformat_minor": 2
}
