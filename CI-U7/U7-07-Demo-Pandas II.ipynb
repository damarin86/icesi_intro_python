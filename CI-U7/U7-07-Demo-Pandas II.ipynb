{
 "cells": [
  {
   "cell_type": "markdown",
   "metadata": {},
   "source": [
    "<a id=\"A00\"></a>"
   ]
  },
  {
   "cell_type": "markdown",
   "metadata": {},
   "source": [
    "# Unidad 7 - Introducción a la algoritmia con Python\n",
    "#### Elementos básicos de Python\n",
    " \n",
    "# Demo Pandas II\n",
    "\n",
    "En este notebook vas a encontrar ejemplos relacionados con el uso de la librería Pandas en Python. Recuerda que siempre puedes ir a la referencia si tienes alguna duda [Ir a la referencia](https://pandas.pydata.org/docs/)\n",
    "\n",
    "Este archivo es la continuación de Pandas, iremos avanzando en algunos conceptos adicionales\n",
    "\n",
    "##### Contenido de este archivo:\n",
    "\n",
    "1. Importar la librería y ver la versión\n",
    "    - [[enlace]](#A01)\n",
    "2. Reformar (reshaping) de Dataframes\n",
    "    - melt\n",
    "    - pivot\n",
    "    - concat (axis)\n",
    "    - [[enlace]](#A02).\n",
    "3. Manejo de columnas\n",
    "    - Eliminación\n",
    "    - Renombrado\n",
    "    - [[enlace]](#A03).    \n",
    "4. Gestión de los índices (index)\n",
    "    - ordenar indices (sort_index)\n",
    "    - reiniciar indices (reset_index)    \n",
    "    - [[enlace]](#A04).\n",
    "5. Operaciones sobre filas ()\n",
    "    - Eliminar duplicados (drop_duplicates())\n",
    "    - Muestreo por fracción (sample(frac=0.5))\n",
    "    - Muestreo por cantidad (sample(n=10))\n",
    "    - n elementos más grandes\n",
    "    - n elementos más pequeños\n",
    "    - [[enlace]](#A05). \n",
    "6. Filtrado y sub conjuntos I\n",
    "    - Repaso de uso de [] o [[]]\n",
    "    - Filtrado (filter(regex=\"Expression\"))\n",
    "    - Uso de querys (query(prop > min-value and prop < max-value))\n",
    "    - [[enlace]](#A06).\n",
    "7. Filtrado y sub conjuntos II\n",
    "    - Selección de filas y columnas (loc[] | iloc[])  \n",
    "    - Seleccion de valores únicos (at[] | iat[])\n",
    "    - [[enlace]](#A07).   \n",
    "8. Resumiendo datos\n",
    "    - Repaso de value_count(), shape, describe(), sum(), count(), min(), max(), median(), quantile([0.25, 0.75]), mean(), var(), std().    \n",
    "    - Detección de valores únicos\n",
    "    - Aplicación de función sobre los objetos (function)\n",
    "    - [[enlace]](#A08). \n",
    "9. Gestión de datos perdidos\n",
    "    - Eliminar NAs\n",
    "    - Imputadr NAs\n",
    "    - [[enlace]](#A09).    \n",
    "10. Creación de columnas o características\n",
    "    - Repaso asignación completa (df['Volume'] = df.Length*df.Height*df.Depth)\n",
    "    - Asignación con operaciones (df.assign(Area=lambda df: df.Length*df.Height))\n",
    "    - División en n bloques (pd.qcut(df.col, n, labels=False))\n",
    "    - Casos especiales para Series\n",
    "        - max(axis=1), min(axis=1)\n",
    "        - Ajuste los valores en los umbrales de entrada (clip(lower=-10,upper=10))\n",
    "        - valores absolutos (abs())\n",
    "    - [[enlace]](#A10).\n",
    "11. Agrupación de datos\n",
    "    - Tamaño de los grupos (size)\n",
    "    - Agregaciones (agg(function))\n",
    "    - Agrupamiento por columna (by='col')\n",
    "    - Agrupamiento por nivel (level='ind')    \n",
    "    - [[enlace]](#A11).\n",
    "12. Aplicaciones sobre grupos\n",
    "    - Copia de valores cambiados (shift(1 | -1))\n",
    "    - Ranking de grupos:\n",
    "        - rank(method='dense') Ranks with no gaps.\n",
    "        - rank(method='min') Ranks. Ties get min rank.\n",
    "        - rank(pct=True) Ranks rescaled to interval [0, 1].\n",
    "        - rank(method='first') Ranks. Ties go to first value.\n",
    "    - Acumulaciones de grupos:\n",
    "        - cumsum() Cumulative sum.\n",
    "        - cummax() Cumulative max.\n",
    "        - cummin() Cumulative min.\n",
    "        - cumprod() Cumulative product.    \n",
    "    - [[enlace]](#A12).\n",
    "    \n",
    " ##### windows, plotting, combine"
   ]
  },
  {
   "cell_type": "markdown",
   "metadata": {},
   "source": [
    "<a id=\"A01\"></a>"
   ]
  },
  {
   "cell_type": "markdown",
   "metadata": {},
   "source": [
    "### 1. Importar la librería y ver la versión\n",
    "\n",
    "Recuerda que debes importar siempre antes de comenzar a usarla, si no la tienes instalada tendrás un error\n",
    "[[al menú]](#A00)"
   ]
  },
  {
   "cell_type": "code",
   "execution_count": 131,
   "metadata": {},
   "outputs": [
    {
     "data": {
      "text/plain": [
       "'1.1.3'"
      ]
     },
     "execution_count": 131,
     "metadata": {},
     "output_type": "execute_result"
    }
   ],
   "source": [
    "import pandas as pd\n",
    "pd.__version__"
   ]
  },
  {
   "cell_type": "markdown",
   "metadata": {},
   "source": [
    "<a id=\"A02\"></a>"
   ]
  },
  {
   "cell_type": "markdown",
   "metadata": {},
   "source": [
    "### 2. Reformar (reshaping) de Dataframes\n",
    "    - Derretimento/ Desnormalización (df.melt)\n",
    "    - pivot\n",
    "    - concat (axis)\n",
    "   [[enlace]](#A00)"
   ]
  },
  {
   "cell_type": "code",
   "execution_count": 132,
   "metadata": {},
   "outputs": [
    {
     "data": {
      "text/html": [
       "<div>\n",
       "<style scoped>\n",
       "    .dataframe tbody tr th:only-of-type {\n",
       "        vertical-align: middle;\n",
       "    }\n",
       "\n",
       "    .dataframe tbody tr th {\n",
       "        vertical-align: top;\n",
       "    }\n",
       "\n",
       "    .dataframe thead th {\n",
       "        text-align: right;\n",
       "    }\n",
       "</style>\n",
       "<table border=\"1\" class=\"dataframe\">\n",
       "  <thead>\n",
       "    <tr style=\"text-align: right;\">\n",
       "      <th></th>\n",
       "      <th>ID</th>\n",
       "      <th>Nombre</th>\n",
       "      <th>Edad</th>\n",
       "      <th>Ciudad</th>\n",
       "    </tr>\n",
       "  </thead>\n",
       "  <tbody>\n",
       "    <tr>\n",
       "      <th>0</th>\n",
       "      <td>1</td>\n",
       "      <td>Juan</td>\n",
       "      <td>25</td>\n",
       "      <td>Madrid</td>\n",
       "    </tr>\n",
       "    <tr>\n",
       "      <th>1</th>\n",
       "      <td>2</td>\n",
       "      <td>María</td>\n",
       "      <td>30</td>\n",
       "      <td>Barcelona</td>\n",
       "    </tr>\n",
       "    <tr>\n",
       "      <th>2</th>\n",
       "      <td>3</td>\n",
       "      <td>Pedro</td>\n",
       "      <td>35</td>\n",
       "      <td>Valencia</td>\n",
       "    </tr>\n",
       "  </tbody>\n",
       "</table>\n",
       "</div>"
      ],
      "text/plain": [
       "   ID Nombre  Edad     Ciudad\n",
       "0   1   Juan    25     Madrid\n",
       "1   2  María    30  Barcelona\n",
       "2   3  Pedro    35   Valencia"
      ]
     },
     "execution_count": 132,
     "metadata": {},
     "output_type": "execute_result"
    }
   ],
   "source": [
    "# (melt) Derretimiento / desnormalización\n",
    "data = {'ID': [1, 2, 3],\n",
    "        'Nombre': ['Juan', 'María', 'Pedro'],\n",
    "        'Edad': [25, 30, 35],\n",
    "        'Ciudad': ['Madrid', 'Barcelona', 'Valencia']}\n",
    "\n",
    "df = pd.DataFrame(data)\n",
    "df"
   ]
  },
  {
   "cell_type": "code",
   "execution_count": 133,
   "metadata": {},
   "outputs": [
    {
     "data": {
      "text/html": [
       "<div>\n",
       "<style scoped>\n",
       "    .dataframe tbody tr th:only-of-type {\n",
       "        vertical-align: middle;\n",
       "    }\n",
       "\n",
       "    .dataframe tbody tr th {\n",
       "        vertical-align: top;\n",
       "    }\n",
       "\n",
       "    .dataframe thead th {\n",
       "        text-align: right;\n",
       "    }\n",
       "</style>\n",
       "<table border=\"1\" class=\"dataframe\">\n",
       "  <thead>\n",
       "    <tr style=\"text-align: right;\">\n",
       "      <th></th>\n",
       "      <th>variable</th>\n",
       "      <th>value</th>\n",
       "    </tr>\n",
       "  </thead>\n",
       "  <tbody>\n",
       "    <tr>\n",
       "      <th>0</th>\n",
       "      <td>ID</td>\n",
       "      <td>1</td>\n",
       "    </tr>\n",
       "    <tr>\n",
       "      <th>1</th>\n",
       "      <td>ID</td>\n",
       "      <td>2</td>\n",
       "    </tr>\n",
       "    <tr>\n",
       "      <th>2</th>\n",
       "      <td>ID</td>\n",
       "      <td>3</td>\n",
       "    </tr>\n",
       "    <tr>\n",
       "      <th>3</th>\n",
       "      <td>Nombre</td>\n",
       "      <td>Juan</td>\n",
       "    </tr>\n",
       "    <tr>\n",
       "      <th>4</th>\n",
       "      <td>Nombre</td>\n",
       "      <td>María</td>\n",
       "    </tr>\n",
       "    <tr>\n",
       "      <th>5</th>\n",
       "      <td>Nombre</td>\n",
       "      <td>Pedro</td>\n",
       "    </tr>\n",
       "    <tr>\n",
       "      <th>6</th>\n",
       "      <td>Edad</td>\n",
       "      <td>25</td>\n",
       "    </tr>\n",
       "    <tr>\n",
       "      <th>7</th>\n",
       "      <td>Edad</td>\n",
       "      <td>30</td>\n",
       "    </tr>\n",
       "    <tr>\n",
       "      <th>8</th>\n",
       "      <td>Edad</td>\n",
       "      <td>35</td>\n",
       "    </tr>\n",
       "    <tr>\n",
       "      <th>9</th>\n",
       "      <td>Ciudad</td>\n",
       "      <td>Madrid</td>\n",
       "    </tr>\n",
       "    <tr>\n",
       "      <th>10</th>\n",
       "      <td>Ciudad</td>\n",
       "      <td>Barcelona</td>\n",
       "    </tr>\n",
       "    <tr>\n",
       "      <th>11</th>\n",
       "      <td>Ciudad</td>\n",
       "      <td>Valencia</td>\n",
       "    </tr>\n",
       "  </tbody>\n",
       "</table>\n",
       "</div>"
      ],
      "text/plain": [
       "   variable      value\n",
       "0        ID          1\n",
       "1        ID          2\n",
       "2        ID          3\n",
       "3    Nombre       Juan\n",
       "4    Nombre      María\n",
       "5    Nombre      Pedro\n",
       "6      Edad         25\n",
       "7      Edad         30\n",
       "8      Edad         35\n",
       "9    Ciudad     Madrid\n",
       "10   Ciudad  Barcelona\n",
       "11   Ciudad   Valencia"
      ]
     },
     "execution_count": 133,
     "metadata": {},
     "output_type": "execute_result"
    }
   ],
   "source": [
    "melted_df = pd.melt(df)\n",
    "melted_df"
   ]
  },
  {
   "cell_type": "code",
   "execution_count": 134,
   "metadata": {},
   "outputs": [
    {
     "data": {
      "text/html": [
       "<div>\n",
       "<style scoped>\n",
       "    .dataframe tbody tr th:only-of-type {\n",
       "        vertical-align: middle;\n",
       "    }\n",
       "\n",
       "    .dataframe tbody tr th {\n",
       "        vertical-align: top;\n",
       "    }\n",
       "\n",
       "    .dataframe thead th {\n",
       "        text-align: right;\n",
       "    }\n",
       "</style>\n",
       "<table border=\"1\" class=\"dataframe\">\n",
       "  <thead>\n",
       "    <tr style=\"text-align: right;\">\n",
       "      <th></th>\n",
       "      <th>ID</th>\n",
       "      <th>Ciudad</th>\n",
       "      <th>Año</th>\n",
       "      <th>Ventas</th>\n",
       "    </tr>\n",
       "  </thead>\n",
       "  <tbody>\n",
       "    <tr>\n",
       "      <th>0</th>\n",
       "      <td>1</td>\n",
       "      <td>Madrid</td>\n",
       "      <td>2019</td>\n",
       "      <td>1000</td>\n",
       "    </tr>\n",
       "    <tr>\n",
       "      <th>1</th>\n",
       "      <td>2</td>\n",
       "      <td>Barcelona</td>\n",
       "      <td>2019</td>\n",
       "      <td>1500</td>\n",
       "    </tr>\n",
       "    <tr>\n",
       "      <th>2</th>\n",
       "      <td>3</td>\n",
       "      <td>Madrid</td>\n",
       "      <td>2020</td>\n",
       "      <td>1200</td>\n",
       "    </tr>\n",
       "    <tr>\n",
       "      <th>3</th>\n",
       "      <td>4</td>\n",
       "      <td>Barcelona</td>\n",
       "      <td>2020</td>\n",
       "      <td>1800</td>\n",
       "    </tr>\n",
       "  </tbody>\n",
       "</table>\n",
       "</div>"
      ],
      "text/plain": [
       "   ID     Ciudad   Año  Ventas\n",
       "0   1     Madrid  2019    1000\n",
       "1   2  Barcelona  2019    1500\n",
       "2   3     Madrid  2020    1200\n",
       "3   4  Barcelona  2020    1800"
      ]
     },
     "execution_count": 134,
     "metadata": {},
     "output_type": "execute_result"
    }
   ],
   "source": [
    "# Usando pivot\n",
    "data = {'ID': [1, 2, 3, 4],\n",
    "        'Ciudad': ['Madrid', 'Barcelona', 'Madrid', 'Barcelona'],\n",
    "        'Año': [2019, 2019, 2020, 2020],\n",
    "        'Ventas': [1000, 1500, 1200, 1800]}\n",
    "df = pd.DataFrame(data)\n",
    "df"
   ]
  },
  {
   "cell_type": "code",
   "execution_count": 5,
   "metadata": {},
   "outputs": [
    {
     "data": {
      "text/html": [
       "<div>\n",
       "<style scoped>\n",
       "    .dataframe tbody tr th:only-of-type {\n",
       "        vertical-align: middle;\n",
       "    }\n",
       "\n",
       "    .dataframe tbody tr th {\n",
       "        vertical-align: top;\n",
       "    }\n",
       "\n",
       "    .dataframe thead th {\n",
       "        text-align: right;\n",
       "    }\n",
       "</style>\n",
       "<table border=\"1\" class=\"dataframe\">\n",
       "  <thead>\n",
       "    <tr style=\"text-align: right;\">\n",
       "      <th>Ciudad</th>\n",
       "      <th>Barcelona</th>\n",
       "      <th>Madrid</th>\n",
       "    </tr>\n",
       "    <tr>\n",
       "      <th>Año</th>\n",
       "      <th></th>\n",
       "      <th></th>\n",
       "    </tr>\n",
       "  </thead>\n",
       "  <tbody>\n",
       "    <tr>\n",
       "      <th>2019</th>\n",
       "      <td>1500</td>\n",
       "      <td>1000</td>\n",
       "    </tr>\n",
       "    <tr>\n",
       "      <th>2020</th>\n",
       "      <td>1800</td>\n",
       "      <td>1200</td>\n",
       "    </tr>\n",
       "  </tbody>\n",
       "</table>\n",
       "</div>"
      ],
      "text/plain": [
       "Ciudad  Barcelona  Madrid\n",
       "Año                      \n",
       "2019         1500    1000\n",
       "2020         1800    1200"
      ]
     },
     "execution_count": 5,
     "metadata": {},
     "output_type": "execute_result"
    }
   ],
   "source": [
    "pivot_df = df.pivot(index='Año', columns='Ciudad', values='Ventas')\n",
    "pivot_df"
   ]
  },
  {
   "cell_type": "code",
   "execution_count": 6,
   "metadata": {},
   "outputs": [
    {
     "data": {
      "text/html": [
       "<div>\n",
       "<style scoped>\n",
       "    .dataframe tbody tr th:only-of-type {\n",
       "        vertical-align: middle;\n",
       "    }\n",
       "\n",
       "    .dataframe tbody tr th {\n",
       "        vertical-align: top;\n",
       "    }\n",
       "\n",
       "    .dataframe thead th {\n",
       "        text-align: right;\n",
       "    }\n",
       "</style>\n",
       "<table border=\"1\" class=\"dataframe\">\n",
       "  <thead>\n",
       "    <tr style=\"text-align: right;\">\n",
       "      <th>Año</th>\n",
       "      <th>2019</th>\n",
       "      <th>2020</th>\n",
       "    </tr>\n",
       "    <tr>\n",
       "      <th>Ciudad</th>\n",
       "      <th></th>\n",
       "      <th></th>\n",
       "    </tr>\n",
       "  </thead>\n",
       "  <tbody>\n",
       "    <tr>\n",
       "      <th>Barcelona</th>\n",
       "      <td>1500</td>\n",
       "      <td>1800</td>\n",
       "    </tr>\n",
       "    <tr>\n",
       "      <th>Madrid</th>\n",
       "      <td>1000</td>\n",
       "      <td>1200</td>\n",
       "    </tr>\n",
       "  </tbody>\n",
       "</table>\n",
       "</div>"
      ],
      "text/plain": [
       "Año        2019  2020\n",
       "Ciudad               \n",
       "Barcelona  1500  1800\n",
       "Madrid     1000  1200"
      ]
     },
     "execution_count": 6,
     "metadata": {},
     "output_type": "execute_result"
    }
   ],
   "source": [
    "pivot_df = df.pivot(index='Ciudad', columns='Año', values='Ventas')\n",
    "pivot_df"
   ]
  },
  {
   "cell_type": "code",
   "execution_count": 135,
   "metadata": {},
   "outputs": [
    {
     "data": {
      "text/html": [
       "<div>\n",
       "<style scoped>\n",
       "    .dataframe tbody tr th:only-of-type {\n",
       "        vertical-align: middle;\n",
       "    }\n",
       "\n",
       "    .dataframe tbody tr th {\n",
       "        vertical-align: top;\n",
       "    }\n",
       "\n",
       "    .dataframe thead th {\n",
       "        text-align: right;\n",
       "    }\n",
       "</style>\n",
       "<table border=\"1\" class=\"dataframe\">\n",
       "  <thead>\n",
       "    <tr style=\"text-align: right;\">\n",
       "      <th></th>\n",
       "      <th>A</th>\n",
       "      <th>B</th>\n",
       "    </tr>\n",
       "  </thead>\n",
       "  <tbody>\n",
       "    <tr>\n",
       "      <th>0</th>\n",
       "      <td>A1</td>\n",
       "      <td>B1</td>\n",
       "    </tr>\n",
       "    <tr>\n",
       "      <th>1</th>\n",
       "      <td>A2</td>\n",
       "      <td>B2</td>\n",
       "    </tr>\n",
       "    <tr>\n",
       "      <th>2</th>\n",
       "      <td>A3</td>\n",
       "      <td>B3</td>\n",
       "    </tr>\n",
       "  </tbody>\n",
       "</table>\n",
       "</div>"
      ],
      "text/plain": [
       "    A   B\n",
       "0  A1  B1\n",
       "1  A2  B2\n",
       "2  A3  B3"
      ]
     },
     "execution_count": 135,
     "metadata": {},
     "output_type": "execute_result"
    }
   ],
   "source": [
    "# Usando concat (axis)\n",
    "data1 = {'A': ['A1', 'A2', 'A3'],\n",
    "         'B': ['B1', 'B2', 'B3']}\n",
    "df1 = pd.DataFrame(data1)\n",
    "df1"
   ]
  },
  {
   "cell_type": "code",
   "execution_count": 136,
   "metadata": {},
   "outputs": [
    {
     "data": {
      "text/html": [
       "<div>\n",
       "<style scoped>\n",
       "    .dataframe tbody tr th:only-of-type {\n",
       "        vertical-align: middle;\n",
       "    }\n",
       "\n",
       "    .dataframe tbody tr th {\n",
       "        vertical-align: top;\n",
       "    }\n",
       "\n",
       "    .dataframe thead th {\n",
       "        text-align: right;\n",
       "    }\n",
       "</style>\n",
       "<table border=\"1\" class=\"dataframe\">\n",
       "  <thead>\n",
       "    <tr style=\"text-align: right;\">\n",
       "      <th></th>\n",
       "      <th>A</th>\n",
       "      <th>B</th>\n",
       "    </tr>\n",
       "  </thead>\n",
       "  <tbody>\n",
       "    <tr>\n",
       "      <th>0</th>\n",
       "      <td>A4</td>\n",
       "      <td>B4</td>\n",
       "    </tr>\n",
       "    <tr>\n",
       "      <th>1</th>\n",
       "      <td>A5</td>\n",
       "      <td>B5</td>\n",
       "    </tr>\n",
       "    <tr>\n",
       "      <th>2</th>\n",
       "      <td>A6</td>\n",
       "      <td>B6</td>\n",
       "    </tr>\n",
       "  </tbody>\n",
       "</table>\n",
       "</div>"
      ],
      "text/plain": [
       "    A   B\n",
       "0  A4  B4\n",
       "1  A5  B5\n",
       "2  A6  B6"
      ]
     },
     "execution_count": 136,
     "metadata": {},
     "output_type": "execute_result"
    }
   ],
   "source": [
    "data2 = {'A': ['A4', 'A5', 'A6'],\n",
    "         'B': ['B4', 'B5', 'B6']}\n",
    "df2 = pd.DataFrame(data2)\n",
    "df2"
   ]
  },
  {
   "cell_type": "code",
   "execution_count": 138,
   "metadata": {},
   "outputs": [
    {
     "data": {
      "text/html": [
       "<div>\n",
       "<style scoped>\n",
       "    .dataframe tbody tr th:only-of-type {\n",
       "        vertical-align: middle;\n",
       "    }\n",
       "\n",
       "    .dataframe tbody tr th {\n",
       "        vertical-align: top;\n",
       "    }\n",
       "\n",
       "    .dataframe thead th {\n",
       "        text-align: right;\n",
       "    }\n",
       "</style>\n",
       "<table border=\"1\" class=\"dataframe\">\n",
       "  <thead>\n",
       "    <tr style=\"text-align: right;\">\n",
       "      <th></th>\n",
       "      <th>A</th>\n",
       "      <th>B</th>\n",
       "    </tr>\n",
       "  </thead>\n",
       "  <tbody>\n",
       "    <tr>\n",
       "      <th>0</th>\n",
       "      <td>A1</td>\n",
       "      <td>B1</td>\n",
       "    </tr>\n",
       "    <tr>\n",
       "      <th>1</th>\n",
       "      <td>A2</td>\n",
       "      <td>B2</td>\n",
       "    </tr>\n",
       "    <tr>\n",
       "      <th>2</th>\n",
       "      <td>A3</td>\n",
       "      <td>B3</td>\n",
       "    </tr>\n",
       "    <tr>\n",
       "      <th>0</th>\n",
       "      <td>A4</td>\n",
       "      <td>B4</td>\n",
       "    </tr>\n",
       "    <tr>\n",
       "      <th>1</th>\n",
       "      <td>A5</td>\n",
       "      <td>B5</td>\n",
       "    </tr>\n",
       "    <tr>\n",
       "      <th>2</th>\n",
       "      <td>A6</td>\n",
       "      <td>B6</td>\n",
       "    </tr>\n",
       "  </tbody>\n",
       "</table>\n",
       "</div>"
      ],
      "text/plain": [
       "    A   B\n",
       "0  A1  B1\n",
       "1  A2  B2\n",
       "2  A3  B3\n",
       "0  A4  B4\n",
       "1  A5  B5\n",
       "2  A6  B6"
      ]
     },
     "execution_count": 138,
     "metadata": {},
     "output_type": "execute_result"
    }
   ],
   "source": [
    "result = pd.concat([df1, df2]) # axis=0 por defecto\n",
    "result\n",
    "# Se pegan las filas"
   ]
  },
  {
   "cell_type": "code",
   "execution_count": 139,
   "metadata": {},
   "outputs": [
    {
     "data": {
      "text/html": [
       "<div>\n",
       "<style scoped>\n",
       "    .dataframe tbody tr th:only-of-type {\n",
       "        vertical-align: middle;\n",
       "    }\n",
       "\n",
       "    .dataframe tbody tr th {\n",
       "        vertical-align: top;\n",
       "    }\n",
       "\n",
       "    .dataframe thead th {\n",
       "        text-align: right;\n",
       "    }\n",
       "</style>\n",
       "<table border=\"1\" class=\"dataframe\">\n",
       "  <thead>\n",
       "    <tr style=\"text-align: right;\">\n",
       "      <th></th>\n",
       "      <th>A</th>\n",
       "      <th>B</th>\n",
       "      <th>A</th>\n",
       "      <th>B</th>\n",
       "    </tr>\n",
       "  </thead>\n",
       "  <tbody>\n",
       "    <tr>\n",
       "      <th>0</th>\n",
       "      <td>A1</td>\n",
       "      <td>B1</td>\n",
       "      <td>A4</td>\n",
       "      <td>B4</td>\n",
       "    </tr>\n",
       "    <tr>\n",
       "      <th>1</th>\n",
       "      <td>A2</td>\n",
       "      <td>B2</td>\n",
       "      <td>A5</td>\n",
       "      <td>B5</td>\n",
       "    </tr>\n",
       "    <tr>\n",
       "      <th>2</th>\n",
       "      <td>A3</td>\n",
       "      <td>B3</td>\n",
       "      <td>A6</td>\n",
       "      <td>B6</td>\n",
       "    </tr>\n",
       "  </tbody>\n",
       "</table>\n",
       "</div>"
      ],
      "text/plain": [
       "    A   B   A   B\n",
       "0  A1  B1  A4  B4\n",
       "1  A2  B2  A5  B5\n",
       "2  A3  B3  A6  B6"
      ]
     },
     "execution_count": 139,
     "metadata": {},
     "output_type": "execute_result"
    }
   ],
   "source": [
    "result = pd.concat([df1, df2], axis=1)\n",
    "result\n",
    "# Se pegan las columnas"
   ]
  },
  {
   "cell_type": "markdown",
   "metadata": {},
   "source": [
    "<a id=\"A03\"></a>"
   ]
  },
  {
   "cell_type": "markdown",
   "metadata": {},
   "source": [
    "### 3. Manejo de columnas/filas\n",
    "    - Eliminación (drop)\n",
    "    - Renombrado (rename)\n",
    "[[enlace]](#A00)"
   ]
  },
  {
   "cell_type": "code",
   "execution_count": 140,
   "metadata": {},
   "outputs": [
    {
     "data": {
      "text/html": [
       "<div>\n",
       "<style scoped>\n",
       "    .dataframe tbody tr th:only-of-type {\n",
       "        vertical-align: middle;\n",
       "    }\n",
       "\n",
       "    .dataframe tbody tr th {\n",
       "        vertical-align: top;\n",
       "    }\n",
       "\n",
       "    .dataframe thead th {\n",
       "        text-align: right;\n",
       "    }\n",
       "</style>\n",
       "<table border=\"1\" class=\"dataframe\">\n",
       "  <thead>\n",
       "    <tr style=\"text-align: right;\">\n",
       "      <th></th>\n",
       "      <th>A</th>\n",
       "      <th>B</th>\n",
       "      <th>C</th>\n",
       "    </tr>\n",
       "  </thead>\n",
       "  <tbody>\n",
       "    <tr>\n",
       "      <th>0</th>\n",
       "      <td>1</td>\n",
       "      <td>4</td>\n",
       "      <td>7</td>\n",
       "    </tr>\n",
       "    <tr>\n",
       "      <th>1</th>\n",
       "      <td>2</td>\n",
       "      <td>5</td>\n",
       "      <td>8</td>\n",
       "    </tr>\n",
       "    <tr>\n",
       "      <th>2</th>\n",
       "      <td>3</td>\n",
       "      <td>6</td>\n",
       "      <td>9</td>\n",
       "    </tr>\n",
       "  </tbody>\n",
       "</table>\n",
       "</div>"
      ],
      "text/plain": [
       "   A  B  C\n",
       "0  1  4  7\n",
       "1  2  5  8\n",
       "2  3  6  9"
      ]
     },
     "execution_count": 140,
     "metadata": {},
     "output_type": "execute_result"
    }
   ],
   "source": [
    "# Eliminación de columnas\n",
    "data = {'A': [1, 2, 3],\n",
    "        'B': [4, 5, 6],\n",
    "        'C': [7, 8, 9]}\n",
    "df = pd.DataFrame(data)\n",
    "df"
   ]
  },
  {
   "cell_type": "code",
   "execution_count": 141,
   "metadata": {
    "scrolled": true
   },
   "outputs": [
    {
     "data": {
      "text/html": [
       "<div>\n",
       "<style scoped>\n",
       "    .dataframe tbody tr th:only-of-type {\n",
       "        vertical-align: middle;\n",
       "    }\n",
       "\n",
       "    .dataframe tbody tr th {\n",
       "        vertical-align: top;\n",
       "    }\n",
       "\n",
       "    .dataframe thead th {\n",
       "        text-align: right;\n",
       "    }\n",
       "</style>\n",
       "<table border=\"1\" class=\"dataframe\">\n",
       "  <thead>\n",
       "    <tr style=\"text-align: right;\">\n",
       "      <th></th>\n",
       "      <th>A</th>\n",
       "      <th>B</th>\n",
       "      <th>C</th>\n",
       "    </tr>\n",
       "  </thead>\n",
       "  <tbody>\n",
       "    <tr>\n",
       "      <th>1</th>\n",
       "      <td>2</td>\n",
       "      <td>5</td>\n",
       "      <td>8</td>\n",
       "    </tr>\n",
       "    <tr>\n",
       "      <th>2</th>\n",
       "      <td>3</td>\n",
       "      <td>6</td>\n",
       "      <td>9</td>\n",
       "    </tr>\n",
       "  </tbody>\n",
       "</table>\n",
       "</div>"
      ],
      "text/plain": [
       "   A  B  C\n",
       "1  2  5  8\n",
       "2  3  6  9"
      ]
     },
     "execution_count": 141,
     "metadata": {},
     "output_type": "execute_result"
    }
   ],
   "source": [
    "# el axis por defecto es 0 (fila) || el 0 en el drop es el indice\n",
    "df_dropped_row = df.drop(0)\n",
    "df_dropped_row"
   ]
  },
  {
   "cell_type": "code",
   "execution_count": 142,
   "metadata": {},
   "outputs": [
    {
     "data": {
      "text/html": [
       "<div>\n",
       "<style scoped>\n",
       "    .dataframe tbody tr th:only-of-type {\n",
       "        vertical-align: middle;\n",
       "    }\n",
       "\n",
       "    .dataframe tbody tr th {\n",
       "        vertical-align: top;\n",
       "    }\n",
       "\n",
       "    .dataframe thead th {\n",
       "        text-align: right;\n",
       "    }\n",
       "</style>\n",
       "<table border=\"1\" class=\"dataframe\">\n",
       "  <thead>\n",
       "    <tr style=\"text-align: right;\">\n",
       "      <th></th>\n",
       "      <th>A</th>\n",
       "      <th>C</th>\n",
       "    </tr>\n",
       "  </thead>\n",
       "  <tbody>\n",
       "    <tr>\n",
       "      <th>0</th>\n",
       "      <td>1</td>\n",
       "      <td>7</td>\n",
       "    </tr>\n",
       "    <tr>\n",
       "      <th>1</th>\n",
       "      <td>2</td>\n",
       "      <td>8</td>\n",
       "    </tr>\n",
       "    <tr>\n",
       "      <th>2</th>\n",
       "      <td>3</td>\n",
       "      <td>9</td>\n",
       "    </tr>\n",
       "  </tbody>\n",
       "</table>\n",
       "</div>"
      ],
      "text/plain": [
       "   A  C\n",
       "0  1  7\n",
       "1  2  8\n",
       "2  3  9"
      ]
     },
     "execution_count": 142,
     "metadata": {},
     "output_type": "execute_result"
    }
   ],
   "source": [
    "# el axis 1 es para columna || el 'C' en el drop es nombre columna\n",
    "df_dropped_col = df.drop('B', axis=1)\n",
    "df_dropped_col"
   ]
  },
  {
   "cell_type": "code",
   "execution_count": 144,
   "metadata": {
    "scrolled": true
   },
   "outputs": [
    {
     "data": {
      "text/html": [
       "<div>\n",
       "<style scoped>\n",
       "    .dataframe tbody tr th:only-of-type {\n",
       "        vertical-align: middle;\n",
       "    }\n",
       "\n",
       "    .dataframe tbody tr th {\n",
       "        vertical-align: top;\n",
       "    }\n",
       "\n",
       "    .dataframe thead th {\n",
       "        text-align: right;\n",
       "    }\n",
       "</style>\n",
       "<table border=\"1\" class=\"dataframe\">\n",
       "  <thead>\n",
       "    <tr style=\"text-align: right;\">\n",
       "      <th></th>\n",
       "      <th>A</th>\n",
       "      <th>B</th>\n",
       "      <th>C</th>\n",
       "    </tr>\n",
       "  </thead>\n",
       "  <tbody>\n",
       "    <tr>\n",
       "      <th>2</th>\n",
       "      <td>3</td>\n",
       "      <td>6</td>\n",
       "      <td>9</td>\n",
       "    </tr>\n",
       "  </tbody>\n",
       "</table>\n",
       "</div>"
      ],
      "text/plain": [
       "   A  B  C\n",
       "2  3  6  9"
      ]
     },
     "execution_count": 144,
     "metadata": {},
     "output_type": "execute_result"
    }
   ],
   "source": [
    "# tambien se pueden eliminar varios al tiempo:\n",
    "df_dropped_multi_row = df.drop(index=[0,1])\n",
    "df_dropped_multi_row\n",
    "# Sin axis"
   ]
  },
  {
   "cell_type": "code",
   "execution_count": 147,
   "metadata": {},
   "outputs": [
    {
     "data": {
      "text/html": [
       "<div>\n",
       "<style scoped>\n",
       "    .dataframe tbody tr th:only-of-type {\n",
       "        vertical-align: middle;\n",
       "    }\n",
       "\n",
       "    .dataframe tbody tr th {\n",
       "        vertical-align: top;\n",
       "    }\n",
       "\n",
       "    .dataframe thead th {\n",
       "        text-align: right;\n",
       "    }\n",
       "</style>\n",
       "<table border=\"1\" class=\"dataframe\">\n",
       "  <thead>\n",
       "    <tr style=\"text-align: right;\">\n",
       "      <th></th>\n",
       "      <th>A</th>\n",
       "    </tr>\n",
       "  </thead>\n",
       "  <tbody>\n",
       "    <tr>\n",
       "      <th>0</th>\n",
       "      <td>1</td>\n",
       "    </tr>\n",
       "    <tr>\n",
       "      <th>1</th>\n",
       "      <td>2</td>\n",
       "    </tr>\n",
       "    <tr>\n",
       "      <th>2</th>\n",
       "      <td>3</td>\n",
       "    </tr>\n",
       "  </tbody>\n",
       "</table>\n",
       "</div>"
      ],
      "text/plain": [
       "   A\n",
       "0  1\n",
       "1  2\n",
       "2  3"
      ]
     },
     "execution_count": 147,
     "metadata": {},
     "output_type": "execute_result"
    }
   ],
   "source": [
    "# tambien se pueden eliminar varios al tiempo:\n",
    "df_dropped_multi_col = df.drop(columns=['B', 'C'])\n",
    "df_dropped_multi_col\n",
    "# Sin axis"
   ]
  },
  {
   "cell_type": "code",
   "execution_count": 148,
   "metadata": {},
   "outputs": [
    {
     "data": {
      "text/html": [
       "<div>\n",
       "<style scoped>\n",
       "    .dataframe tbody tr th:only-of-type {\n",
       "        vertical-align: middle;\n",
       "    }\n",
       "\n",
       "    .dataframe tbody tr th {\n",
       "        vertical-align: top;\n",
       "    }\n",
       "\n",
       "    .dataframe thead th {\n",
       "        text-align: right;\n",
       "    }\n",
       "</style>\n",
       "<table border=\"1\" class=\"dataframe\">\n",
       "  <thead>\n",
       "    <tr style=\"text-align: right;\">\n",
       "      <th></th>\n",
       "      <th>A</th>\n",
       "      <th>B</th>\n",
       "      <th>C</th>\n",
       "    </tr>\n",
       "  </thead>\n",
       "  <tbody>\n",
       "    <tr>\n",
       "      <th>0</th>\n",
       "      <td>1</td>\n",
       "      <td>4</td>\n",
       "      <td>7</td>\n",
       "    </tr>\n",
       "    <tr>\n",
       "      <th>1</th>\n",
       "      <td>2</td>\n",
       "      <td>5</td>\n",
       "      <td>8</td>\n",
       "    </tr>\n",
       "    <tr>\n",
       "      <th>2</th>\n",
       "      <td>3</td>\n",
       "      <td>6</td>\n",
       "      <td>9</td>\n",
       "    </tr>\n",
       "  </tbody>\n",
       "</table>\n",
       "</div>"
      ],
      "text/plain": [
       "   A  B  C\n",
       "0  1  4  7\n",
       "1  2  5  8\n",
       "2  3  6  9"
      ]
     },
     "execution_count": 148,
     "metadata": {},
     "output_type": "execute_result"
    }
   ],
   "source": [
    "# Renombrado de columnas\n",
    "data = {'A': [1, 2, 3],\n",
    "        'B': [4, 5, 6],\n",
    "        'C': [7, 8, 9]}\n",
    "df = pd.DataFrame(data)\n",
    "df"
   ]
  },
  {
   "cell_type": "code",
   "execution_count": 150,
   "metadata": {},
   "outputs": [
    {
     "data": {
      "text/html": [
       "<div>\n",
       "<style scoped>\n",
       "    .dataframe tbody tr th:only-of-type {\n",
       "        vertical-align: middle;\n",
       "    }\n",
       "\n",
       "    .dataframe tbody tr th {\n",
       "        vertical-align: top;\n",
       "    }\n",
       "\n",
       "    .dataframe thead th {\n",
       "        text-align: right;\n",
       "    }\n",
       "</style>\n",
       "<table border=\"1\" class=\"dataframe\">\n",
       "  <thead>\n",
       "    <tr style=\"text-align: right;\">\n",
       "      <th></th>\n",
       "      <th>A</th>\n",
       "      <th>NB</th>\n",
       "      <th>C</th>\n",
       "    </tr>\n",
       "  </thead>\n",
       "  <tbody>\n",
       "    <tr>\n",
       "      <th>0</th>\n",
       "      <td>1</td>\n",
       "      <td>4</td>\n",
       "      <td>7</td>\n",
       "    </tr>\n",
       "    <tr>\n",
       "      <th>1</th>\n",
       "      <td>2</td>\n",
       "      <td>5</td>\n",
       "      <td>8</td>\n",
       "    </tr>\n",
       "    <tr>\n",
       "      <th>2</th>\n",
       "      <td>3</td>\n",
       "      <td>6</td>\n",
       "      <td>9</td>\n",
       "    </tr>\n",
       "  </tbody>\n",
       "</table>\n",
       "</div>"
      ],
      "text/plain": [
       "   A  NB  C\n",
       "0  1   4  7\n",
       "1  2   5  8\n",
       "2  3   6  9"
      ]
     },
     "execution_count": 150,
     "metadata": {},
     "output_type": "execute_result"
    }
   ],
   "source": [
    "# se puede hacer uno por uno\n",
    "df_renamed = df.rename(columns={'B': 'NB'})\n",
    "df_renamed"
   ]
  },
  {
   "cell_type": "code",
   "execution_count": 151,
   "metadata": {},
   "outputs": [
    {
     "data": {
      "text/html": [
       "<div>\n",
       "<style scoped>\n",
       "    .dataframe tbody tr th:only-of-type {\n",
       "        vertical-align: middle;\n",
       "    }\n",
       "\n",
       "    .dataframe tbody tr th {\n",
       "        vertical-align: top;\n",
       "    }\n",
       "\n",
       "    .dataframe thead th {\n",
       "        text-align: right;\n",
       "    }\n",
       "</style>\n",
       "<table border=\"1\" class=\"dataframe\">\n",
       "  <thead>\n",
       "    <tr style=\"text-align: right;\">\n",
       "      <th></th>\n",
       "      <th>ColA</th>\n",
       "      <th>ColB</th>\n",
       "      <th>ColC</th>\n",
       "    </tr>\n",
       "  </thead>\n",
       "  <tbody>\n",
       "    <tr>\n",
       "      <th>0</th>\n",
       "      <td>1</td>\n",
       "      <td>4</td>\n",
       "      <td>7</td>\n",
       "    </tr>\n",
       "    <tr>\n",
       "      <th>1</th>\n",
       "      <td>2</td>\n",
       "      <td>5</td>\n",
       "      <td>8</td>\n",
       "    </tr>\n",
       "    <tr>\n",
       "      <th>2</th>\n",
       "      <td>3</td>\n",
       "      <td>6</td>\n",
       "      <td>9</td>\n",
       "    </tr>\n",
       "  </tbody>\n",
       "</table>\n",
       "</div>"
      ],
      "text/plain": [
       "   ColA  ColB  ColC\n",
       "0     1     4     7\n",
       "1     2     5     8\n",
       "2     3     6     9"
      ]
     },
     "execution_count": 151,
     "metadata": {},
     "output_type": "execute_result"
    }
   ],
   "source": [
    "# pero tambien en bloque\n",
    "diccionario_nombres = {'A':'ColA', 'B':'ColB', 'C':'ColC'}\n",
    "df_renamed = df.rename(columns=diccionario_nombres)\n",
    "df_renamed"
   ]
  },
  {
   "cell_type": "markdown",
   "metadata": {},
   "source": [
    "<a id=\"A04\"></a>"
   ]
  },
  {
   "cell_type": "markdown",
   "metadata": {},
   "source": [
    "### 4. Gestión de los índices (index)\n",
    "    - ordenar indices (sort_index)\n",
    "    - reiniciar indices (reset_index)    \n",
    "[[enlace]](#A00)"
   ]
  },
  {
   "cell_type": "code",
   "execution_count": 152,
   "metadata": {},
   "outputs": [
    {
     "name": "stdout",
     "output_type": "stream",
     "text": [
      "   A  B  C\n",
      "2  1  6  5\n",
      "0  4  3  7\n",
      "1  2  9  8\n",
      "_____________\n",
      "   A  B  C\n",
      "0  4  3  7\n",
      "1  2  9  8\n",
      "2  1  6  5\n",
      "_____________\n",
      "   A  B  C\n",
      "2  1  6  5\n",
      "1  2  9  8\n",
      "0  4  3  7\n",
      "_____________\n"
     ]
    }
   ],
   "source": [
    "# ordenar indices (sort_index)\n",
    "data = {'A': [1, 4, 2],\n",
    "        'B': [6, 3, 9],\n",
    "        'C': [5, 7, 8]}\n",
    "df = pd.DataFrame(data, index=[2, 0, 1])\n",
    "\n",
    "# Veamos la base inicial\n",
    "print(df)\n",
    "print(\"_____________\")\n",
    "\n",
    "# Ahora ordenamos por los índices\n",
    "df_sorted = df.sort_index()\n",
    "print(df_sorted)\n",
    "print(\"_____________\")\n",
    "\n",
    "# Ahora ordenamos por los índices pero descendente\n",
    "df_sorted = df.sort_index(ascending=False)\n",
    "print(df_sorted)\n",
    "print(\"_____________\")"
   ]
  },
  {
   "cell_type": "code",
   "execution_count": 153,
   "metadata": {},
   "outputs": [
    {
     "name": "stdout",
     "output_type": "stream",
     "text": [
      "   A  B  C\n",
      "2  1  6  5\n",
      "0  4  3  7\n",
      "1  2  9  8\n",
      "_____________\n",
      "   C  B  A\n",
      "2  5  6  1\n",
      "0  7  3  4\n",
      "1  8  9  2\n",
      "_____________\n"
     ]
    }
   ],
   "source": [
    "# Se puede ordenar por las columnas (y sus índices)\n",
    "df_sorted = df.sort_index(ascending=True, axis=1) \n",
    "print(df_sorted)\n",
    "print(\"_____________\")\n",
    "\n",
    "df_sorted = df.sort_index(ascending=False, axis=1) \n",
    "print(df_sorted)\n",
    "print(\"_____________\")"
   ]
  },
  {
   "cell_type": "code",
   "execution_count": 21,
   "metadata": {},
   "outputs": [
    {
     "data": {
      "text/html": [
       "<div>\n",
       "<style scoped>\n",
       "    .dataframe tbody tr th:only-of-type {\n",
       "        vertical-align: middle;\n",
       "    }\n",
       "\n",
       "    .dataframe tbody tr th {\n",
       "        vertical-align: top;\n",
       "    }\n",
       "\n",
       "    .dataframe thead th {\n",
       "        text-align: right;\n",
       "    }\n",
       "</style>\n",
       "<table border=\"1\" class=\"dataframe\">\n",
       "  <thead>\n",
       "    <tr style=\"text-align: right;\">\n",
       "      <th></th>\n",
       "      <th>A</th>\n",
       "      <th>B</th>\n",
       "      <th>C</th>\n",
       "    </tr>\n",
       "  </thead>\n",
       "  <tbody>\n",
       "    <tr>\n",
       "      <th>x</th>\n",
       "      <td>1</td>\n",
       "      <td>6</td>\n",
       "      <td>5</td>\n",
       "    </tr>\n",
       "    <tr>\n",
       "      <th>y</th>\n",
       "      <td>4</td>\n",
       "      <td>3</td>\n",
       "      <td>7</td>\n",
       "    </tr>\n",
       "    <tr>\n",
       "      <th>z</th>\n",
       "      <td>2</td>\n",
       "      <td>9</td>\n",
       "      <td>8</td>\n",
       "    </tr>\n",
       "  </tbody>\n",
       "</table>\n",
       "</div>"
      ],
      "text/plain": [
       "   A  B  C\n",
       "x  1  6  5\n",
       "y  4  3  7\n",
       "z  2  9  8"
      ]
     },
     "execution_count": 21,
     "metadata": {},
     "output_type": "execute_result"
    }
   ],
   "source": [
    "#reiniciar indices (reset_index)\n",
    "\n",
    "data = {'A': [1, 4, 2],\n",
    "        'B': [6, 3, 9],\n",
    "        'C': [5, 7, 8]}\n",
    "df = pd.DataFrame(data, index=['x', 'y', 'z'])\n",
    "df"
   ]
  },
  {
   "cell_type": "code",
   "execution_count": 22,
   "metadata": {},
   "outputs": [
    {
     "data": {
      "text/html": [
       "<div>\n",
       "<style scoped>\n",
       "    .dataframe tbody tr th:only-of-type {\n",
       "        vertical-align: middle;\n",
       "    }\n",
       "\n",
       "    .dataframe tbody tr th {\n",
       "        vertical-align: top;\n",
       "    }\n",
       "\n",
       "    .dataframe thead th {\n",
       "        text-align: right;\n",
       "    }\n",
       "</style>\n",
       "<table border=\"1\" class=\"dataframe\">\n",
       "  <thead>\n",
       "    <tr style=\"text-align: right;\">\n",
       "      <th></th>\n",
       "      <th>index</th>\n",
       "      <th>A</th>\n",
       "      <th>B</th>\n",
       "      <th>C</th>\n",
       "    </tr>\n",
       "  </thead>\n",
       "  <tbody>\n",
       "    <tr>\n",
       "      <th>0</th>\n",
       "      <td>x</td>\n",
       "      <td>1</td>\n",
       "      <td>6</td>\n",
       "      <td>5</td>\n",
       "    </tr>\n",
       "    <tr>\n",
       "      <th>1</th>\n",
       "      <td>y</td>\n",
       "      <td>4</td>\n",
       "      <td>3</td>\n",
       "      <td>7</td>\n",
       "    </tr>\n",
       "    <tr>\n",
       "      <th>2</th>\n",
       "      <td>z</td>\n",
       "      <td>2</td>\n",
       "      <td>9</td>\n",
       "      <td>8</td>\n",
       "    </tr>\n",
       "  </tbody>\n",
       "</table>\n",
       "</div>"
      ],
      "text/plain": [
       "  index  A  B  C\n",
       "0     x  1  6  5\n",
       "1     y  4  3  7\n",
       "2     z  2  9  8"
      ]
     },
     "execution_count": 22,
     "metadata": {},
     "output_type": "execute_result"
    }
   ],
   "source": [
    "# si se desea conservar los indices previos como una columna\n",
    "df_reset = df.reset_index()\n",
    "df_reset"
   ]
  },
  {
   "cell_type": "code",
   "execution_count": 23,
   "metadata": {},
   "outputs": [
    {
     "data": {
      "text/html": [
       "<div>\n",
       "<style scoped>\n",
       "    .dataframe tbody tr th:only-of-type {\n",
       "        vertical-align: middle;\n",
       "    }\n",
       "\n",
       "    .dataframe tbody tr th {\n",
       "        vertical-align: top;\n",
       "    }\n",
       "\n",
       "    .dataframe thead th {\n",
       "        text-align: right;\n",
       "    }\n",
       "</style>\n",
       "<table border=\"1\" class=\"dataframe\">\n",
       "  <thead>\n",
       "    <tr style=\"text-align: right;\">\n",
       "      <th></th>\n",
       "      <th>A</th>\n",
       "      <th>B</th>\n",
       "      <th>C</th>\n",
       "    </tr>\n",
       "  </thead>\n",
       "  <tbody>\n",
       "    <tr>\n",
       "      <th>0</th>\n",
       "      <td>1</td>\n",
       "      <td>6</td>\n",
       "      <td>5</td>\n",
       "    </tr>\n",
       "    <tr>\n",
       "      <th>1</th>\n",
       "      <td>4</td>\n",
       "      <td>3</td>\n",
       "      <td>7</td>\n",
       "    </tr>\n",
       "    <tr>\n",
       "      <th>2</th>\n",
       "      <td>2</td>\n",
       "      <td>9</td>\n",
       "      <td>8</td>\n",
       "    </tr>\n",
       "  </tbody>\n",
       "</table>\n",
       "</div>"
      ],
      "text/plain": [
       "   A  B  C\n",
       "0  1  6  5\n",
       "1  4  3  7\n",
       "2  2  9  8"
      ]
     },
     "execution_count": 23,
     "metadata": {},
     "output_type": "execute_result"
    }
   ],
   "source": [
    "# si se desea eliminar (drop) los indices previos\n",
    "df_reset = df.reset_index(drop=True)\n",
    "df_reset"
   ]
  },
  {
   "cell_type": "markdown",
   "metadata": {},
   "source": [
    "<a id=\"A05\"></a>"
   ]
  },
  {
   "cell_type": "markdown",
   "metadata": {},
   "source": [
    "### 5. Operaciones sobre filas ()\n",
    "    - Eliminar duplicados (drop_duplicates())\n",
    "    - Muestreo por fracción (sample(frac=0.5))\n",
    "    - Muestreo por cantidad (sample(n=10))\n",
    "    - n elementos más grandes\n",
    "    - n elementos más pequeños\n",
    "[[enlace]](#A00)"
   ]
  },
  {
   "cell_type": "code",
   "execution_count": 154,
   "metadata": {},
   "outputs": [
    {
     "data": {
      "text/html": [
       "<div>\n",
       "<style scoped>\n",
       "    .dataframe tbody tr th:only-of-type {\n",
       "        vertical-align: middle;\n",
       "    }\n",
       "\n",
       "    .dataframe tbody tr th {\n",
       "        vertical-align: top;\n",
       "    }\n",
       "\n",
       "    .dataframe thead th {\n",
       "        text-align: right;\n",
       "    }\n",
       "</style>\n",
       "<table border=\"1\" class=\"dataframe\">\n",
       "  <thead>\n",
       "    <tr style=\"text-align: right;\">\n",
       "      <th></th>\n",
       "      <th>A</th>\n",
       "      <th>B</th>\n",
       "      <th>C</th>\n",
       "    </tr>\n",
       "  </thead>\n",
       "  <tbody>\n",
       "    <tr>\n",
       "      <th>0</th>\n",
       "      <td>1</td>\n",
       "      <td>a</td>\n",
       "      <td>x</td>\n",
       "    </tr>\n",
       "    <tr>\n",
       "      <th>1</th>\n",
       "      <td>1</td>\n",
       "      <td>b</td>\n",
       "      <td>y</td>\n",
       "    </tr>\n",
       "    <tr>\n",
       "      <th>2</th>\n",
       "      <td>2</td>\n",
       "      <td>a</td>\n",
       "      <td>x</td>\n",
       "    </tr>\n",
       "    <tr>\n",
       "      <th>3</th>\n",
       "      <td>3</td>\n",
       "      <td>c</td>\n",
       "      <td>y</td>\n",
       "    </tr>\n",
       "    <tr>\n",
       "      <th>4</th>\n",
       "      <td>2</td>\n",
       "      <td>b</td>\n",
       "      <td>z</td>\n",
       "    </tr>\n",
       "  </tbody>\n",
       "</table>\n",
       "</div>"
      ],
      "text/plain": [
       "   A  B  C\n",
       "0  1  a  x\n",
       "1  1  b  y\n",
       "2  2  a  x\n",
       "3  3  c  y\n",
       "4  2  b  z"
      ]
     },
     "execution_count": 154,
     "metadata": {},
     "output_type": "execute_result"
    }
   ],
   "source": [
    "# Eliminar duplicados (drop_duplicates())\n",
    "data = {'A': [1, 1, 2, 3, 2],\n",
    "        'B': ['a', 'b', 'a', 'c', 'b'],\n",
    "        'C': ['x', 'y', 'x', 'y', 'z']}\n",
    "df = pd.DataFrame(data)\n",
    "df"
   ]
  },
  {
   "cell_type": "code",
   "execution_count": 155,
   "metadata": {},
   "outputs": [
    {
     "data": {
      "text/html": [
       "<div>\n",
       "<style scoped>\n",
       "    .dataframe tbody tr th:only-of-type {\n",
       "        vertical-align: middle;\n",
       "    }\n",
       "\n",
       "    .dataframe tbody tr th {\n",
       "        vertical-align: top;\n",
       "    }\n",
       "\n",
       "    .dataframe thead th {\n",
       "        text-align: right;\n",
       "    }\n",
       "</style>\n",
       "<table border=\"1\" class=\"dataframe\">\n",
       "  <thead>\n",
       "    <tr style=\"text-align: right;\">\n",
       "      <th></th>\n",
       "      <th>A</th>\n",
       "      <th>B</th>\n",
       "      <th>C</th>\n",
       "    </tr>\n",
       "  </thead>\n",
       "  <tbody>\n",
       "    <tr>\n",
       "      <th>0</th>\n",
       "      <td>1</td>\n",
       "      <td>a</td>\n",
       "      <td>x</td>\n",
       "    </tr>\n",
       "    <tr>\n",
       "      <th>1</th>\n",
       "      <td>1</td>\n",
       "      <td>b</td>\n",
       "      <td>y</td>\n",
       "    </tr>\n",
       "    <tr>\n",
       "      <th>2</th>\n",
       "      <td>2</td>\n",
       "      <td>a</td>\n",
       "      <td>x</td>\n",
       "    </tr>\n",
       "    <tr>\n",
       "      <th>3</th>\n",
       "      <td>3</td>\n",
       "      <td>c</td>\n",
       "      <td>y</td>\n",
       "    </tr>\n",
       "    <tr>\n",
       "      <th>4</th>\n",
       "      <td>2</td>\n",
       "      <td>b</td>\n",
       "      <td>z</td>\n",
       "    </tr>\n",
       "  </tbody>\n",
       "</table>\n",
       "</div>"
      ],
      "text/plain": [
       "   A  B  C\n",
       "0  1  a  x\n",
       "1  1  b  y\n",
       "2  2  a  x\n",
       "3  3  c  y\n",
       "4  2  b  z"
      ]
     },
     "execution_count": 155,
     "metadata": {},
     "output_type": "execute_result"
    }
   ],
   "source": [
    "# no hay duplicados \"perfectos\" todo el axis\n",
    "df_unique = df.drop_duplicates()\n",
    "df_unique"
   ]
  },
  {
   "cell_type": "code",
   "execution_count": 156,
   "metadata": {},
   "outputs": [
    {
     "data": {
      "text/html": [
       "<div>\n",
       "<style scoped>\n",
       "    .dataframe tbody tr th:only-of-type {\n",
       "        vertical-align: middle;\n",
       "    }\n",
       "\n",
       "    .dataframe tbody tr th {\n",
       "        vertical-align: top;\n",
       "    }\n",
       "\n",
       "    .dataframe thead th {\n",
       "        text-align: right;\n",
       "    }\n",
       "</style>\n",
       "<table border=\"1\" class=\"dataframe\">\n",
       "  <thead>\n",
       "    <tr style=\"text-align: right;\">\n",
       "      <th></th>\n",
       "      <th>A</th>\n",
       "      <th>B</th>\n",
       "      <th>C</th>\n",
       "    </tr>\n",
       "  </thead>\n",
       "  <tbody>\n",
       "    <tr>\n",
       "      <th>0</th>\n",
       "      <td>1</td>\n",
       "      <td>a</td>\n",
       "      <td>x</td>\n",
       "    </tr>\n",
       "    <tr>\n",
       "      <th>2</th>\n",
       "      <td>2</td>\n",
       "      <td>a</td>\n",
       "      <td>x</td>\n",
       "    </tr>\n",
       "    <tr>\n",
       "      <th>3</th>\n",
       "      <td>3</td>\n",
       "      <td>c</td>\n",
       "      <td>y</td>\n",
       "    </tr>\n",
       "  </tbody>\n",
       "</table>\n",
       "</div>"
      ],
      "text/plain": [
       "   A  B  C\n",
       "0  1  a  x\n",
       "2  2  a  x\n",
       "3  3  c  y"
      ]
     },
     "execution_count": 156,
     "metadata": {},
     "output_type": "execute_result"
    }
   ],
   "source": [
    "# si se desea hacerlo por columna, se usa subset\n",
    "df_unique = df.drop_duplicates(subset=['A'])\n",
    "df_unique"
   ]
  },
  {
   "cell_type": "code",
   "execution_count": 164,
   "metadata": {},
   "outputs": [
    {
     "name": "stdout",
     "output_type": "stream",
     "text": [
      "   A  B\n",
      "0  1  a\n",
      "1  2  b\n",
      "____________\n",
      "   A  B\n",
      "3  4  d\n",
      "2  3  c\n",
      "4  5  e\n"
     ]
    }
   ],
   "source": [
    "# opciones de muestreo\n",
    "\n",
    "## - Muestreo por fracción (sample(frac=%))\n",
    "data = {'A': [1, 2, 3, 4, 5],\n",
    "        'B': ['a', 'b', 'c', 'd', 'e']}\n",
    "\n",
    "df = pd.DataFrame(data)\n",
    "\n",
    "# Obtener una muestra aleatoria del 30% de los datos\n",
    "sample_frac = df.sample(frac=0.3)\n",
    "print(sample_frac)\n",
    "\n",
    "print(\"____________\")\n",
    "\n",
    "## - Muestreo por cantidad (sample(n=cantidad))\n",
    "data = {'A': [1, 2, 3, 4, 5],\n",
    "        'B': ['a', 'b', 'c', 'd', 'e']}\n",
    "\n",
    "df = pd.DataFrame(data)\n",
    "# Obtener una muestra aleatoria de 3 filas del DataFrame\n",
    "sample_count = df.sample(n=3)\n",
    "print(sample_count)"
   ]
  },
  {
   "cell_type": "code",
   "execution_count": 165,
   "metadata": {},
   "outputs": [],
   "source": [
    "# n elementos más grandes\n",
    "data = {'A': [10, 5, 8, 12, 6, 3, 9],\n",
    "        'B': ['a', 'b', 'c', 'd', 'e', 'f', 'g']}\n",
    "df = pd.DataFrame(data)"
   ]
  },
  {
   "cell_type": "code",
   "execution_count": 166,
   "metadata": {},
   "outputs": [
    {
     "data": {
      "text/html": [
       "<div>\n",
       "<style scoped>\n",
       "    .dataframe tbody tr th:only-of-type {\n",
       "        vertical-align: middle;\n",
       "    }\n",
       "\n",
       "    .dataframe tbody tr th {\n",
       "        vertical-align: top;\n",
       "    }\n",
       "\n",
       "    .dataframe thead th {\n",
       "        text-align: right;\n",
       "    }\n",
       "</style>\n",
       "<table border=\"1\" class=\"dataframe\">\n",
       "  <thead>\n",
       "    <tr style=\"text-align: right;\">\n",
       "      <th></th>\n",
       "      <th>A</th>\n",
       "      <th>B</th>\n",
       "    </tr>\n",
       "  </thead>\n",
       "  <tbody>\n",
       "    <tr>\n",
       "      <th>5</th>\n",
       "      <td>3</td>\n",
       "      <td>f</td>\n",
       "    </tr>\n",
       "    <tr>\n",
       "      <th>1</th>\n",
       "      <td>5</td>\n",
       "      <td>b</td>\n",
       "    </tr>\n",
       "    <tr>\n",
       "      <th>4</th>\n",
       "      <td>6</td>\n",
       "      <td>e</td>\n",
       "    </tr>\n",
       "  </tbody>\n",
       "</table>\n",
       "</div>"
      ],
      "text/plain": [
       "   A  B\n",
       "5  3  f\n",
       "1  5  b\n",
       "4  6  e"
      ]
     },
     "execution_count": 166,
     "metadata": {},
     "output_type": "execute_result"
    }
   ],
   "source": [
    "# Obtener los 3 elementos más pequeños de la columna 'A'\n",
    "smallest = df.nsmallest(n=3, columns='A')\n",
    "smallest"
   ]
  },
  {
   "cell_type": "code",
   "execution_count": 167,
   "metadata": {},
   "outputs": [
    {
     "data": {
      "text/html": [
       "<div>\n",
       "<style scoped>\n",
       "    .dataframe tbody tr th:only-of-type {\n",
       "        vertical-align: middle;\n",
       "    }\n",
       "\n",
       "    .dataframe tbody tr th {\n",
       "        vertical-align: top;\n",
       "    }\n",
       "\n",
       "    .dataframe thead th {\n",
       "        text-align: right;\n",
       "    }\n",
       "</style>\n",
       "<table border=\"1\" class=\"dataframe\">\n",
       "  <thead>\n",
       "    <tr style=\"text-align: right;\">\n",
       "      <th></th>\n",
       "      <th>A</th>\n",
       "      <th>B</th>\n",
       "    </tr>\n",
       "  </thead>\n",
       "  <tbody>\n",
       "    <tr>\n",
       "      <th>3</th>\n",
       "      <td>12</td>\n",
       "      <td>d</td>\n",
       "    </tr>\n",
       "    <tr>\n",
       "      <th>0</th>\n",
       "      <td>10</td>\n",
       "      <td>a</td>\n",
       "    </tr>\n",
       "    <tr>\n",
       "      <th>6</th>\n",
       "      <td>9</td>\n",
       "      <td>g</td>\n",
       "    </tr>\n",
       "  </tbody>\n",
       "</table>\n",
       "</div>"
      ],
      "text/plain": [
       "    A  B\n",
       "3  12  d\n",
       "0  10  a\n",
       "6   9  g"
      ]
     },
     "execution_count": 167,
     "metadata": {},
     "output_type": "execute_result"
    }
   ],
   "source": [
    "# Obtener los 3 elementos más grandes de la columna 'A'\n",
    "largest = df.nlargest(n=3, columns='A')\n",
    "largest"
   ]
  },
  {
   "cell_type": "markdown",
   "metadata": {},
   "source": [
    "<a id=\"A06\"></a>"
   ]
  },
  {
   "cell_type": "markdown",
   "metadata": {},
   "source": [
    "### 6. Filtrado y sub conjuntos I\n",
    "    - Repaso de uso de [] o [[]]\n",
    "    - Filtrado (filter(regex=\"Expression\"))\n",
    "    - Uso de querys (query(prop > min-value and prop < max-value))\n",
    "[[enlace]](#A00)."
   ]
  },
  {
   "cell_type": "markdown",
   "metadata": {},
   "source": [
    "##### Respaso del uso de [] y [[]]"
   ]
  },
  {
   "cell_type": "code",
   "execution_count": 171,
   "metadata": {},
   "outputs": [
    {
     "name": "stdout",
     "output_type": "stream",
     "text": [
      "<class 'pandas.core.series.Series'>\n"
     ]
    },
    {
     "data": {
      "text/plain": [
       "0    1\n",
       "1    2\n",
       "2    3\n",
       "3    4\n",
       "4    5\n",
       "Name: A, dtype: int64"
      ]
     },
     "execution_count": 171,
     "metadata": {},
     "output_type": "execute_result"
    }
   ],
   "source": [
    "data = {'A': [1, 2, 3, 4, 5],\n",
    "        'B': ['a', 'b', 'c', 'd', 'e'],\n",
    "        'C': ['a', 'b', 'c', 'd', 'e']}\n",
    "df = pd.DataFrame(data)\n",
    "\n",
    "# Seleccionar una columna específica\n",
    "column_A = df['A']\n",
    "# Se obtienen series (cuando es una única columna)\n",
    "print(type(column_A))\n",
    "column_A"
   ]
  },
  {
   "cell_type": "code",
   "execution_count": 174,
   "metadata": {},
   "outputs": [
    {
     "name": "stdout",
     "output_type": "stream",
     "text": [
      "<class 'pandas.core.frame.DataFrame'>\n"
     ]
    },
    {
     "data": {
      "text/html": [
       "<div>\n",
       "<style scoped>\n",
       "    .dataframe tbody tr th:only-of-type {\n",
       "        vertical-align: middle;\n",
       "    }\n",
       "\n",
       "    .dataframe tbody tr th {\n",
       "        vertical-align: top;\n",
       "    }\n",
       "\n",
       "    .dataframe thead th {\n",
       "        text-align: right;\n",
       "    }\n",
       "</style>\n",
       "<table border=\"1\" class=\"dataframe\">\n",
       "  <thead>\n",
       "    <tr style=\"text-align: right;\">\n",
       "      <th></th>\n",
       "      <th>A</th>\n",
       "      <th>B</th>\n",
       "    </tr>\n",
       "  </thead>\n",
       "  <tbody>\n",
       "    <tr>\n",
       "      <th>0</th>\n",
       "      <td>1</td>\n",
       "      <td>a</td>\n",
       "    </tr>\n",
       "    <tr>\n",
       "      <th>1</th>\n",
       "      <td>2</td>\n",
       "      <td>b</td>\n",
       "    </tr>\n",
       "    <tr>\n",
       "      <th>2</th>\n",
       "      <td>3</td>\n",
       "      <td>c</td>\n",
       "    </tr>\n",
       "    <tr>\n",
       "      <th>3</th>\n",
       "      <td>4</td>\n",
       "      <td>d</td>\n",
       "    </tr>\n",
       "    <tr>\n",
       "      <th>4</th>\n",
       "      <td>5</td>\n",
       "      <td>e</td>\n",
       "    </tr>\n",
       "  </tbody>\n",
       "</table>\n",
       "</div>"
      ],
      "text/plain": [
       "   A  B\n",
       "0  1  a\n",
       "1  2  b\n",
       "2  3  c\n",
       "3  4  d\n",
       "4  5  e"
      ]
     },
     "execution_count": 174,
     "metadata": {},
     "output_type": "execute_result"
    }
   ],
   "source": [
    "# Seleccionar múltiples columnas\n",
    "columns_AB = df[['A', 'B']]\n",
    "# Se obtienen dataframes (cuando son multiples columnas)\n",
    "print(type(columns_AB))\n",
    "columns_AB"
   ]
  },
  {
   "cell_type": "code",
   "execution_count": 175,
   "metadata": {},
   "outputs": [
    {
     "data": {
      "text/html": [
       "<div>\n",
       "<style scoped>\n",
       "    .dataframe tbody tr th:only-of-type {\n",
       "        vertical-align: middle;\n",
       "    }\n",
       "\n",
       "    .dataframe tbody tr th {\n",
       "        vertical-align: top;\n",
       "    }\n",
       "\n",
       "    .dataframe thead th {\n",
       "        text-align: right;\n",
       "    }\n",
       "</style>\n",
       "<table border=\"1\" class=\"dataframe\">\n",
       "  <thead>\n",
       "    <tr style=\"text-align: right;\">\n",
       "      <th></th>\n",
       "      <th>A</th>\n",
       "      <th>B</th>\n",
       "      <th>C</th>\n",
       "    </tr>\n",
       "  </thead>\n",
       "  <tbody>\n",
       "    <tr>\n",
       "      <th>3</th>\n",
       "      <td>4</td>\n",
       "      <td>d</td>\n",
       "      <td>d</td>\n",
       "    </tr>\n",
       "    <tr>\n",
       "      <th>4</th>\n",
       "      <td>5</td>\n",
       "      <td>e</td>\n",
       "      <td>e</td>\n",
       "    </tr>\n",
       "  </tbody>\n",
       "</table>\n",
       "</div>"
      ],
      "text/plain": [
       "   A  B  C\n",
       "3  4  d  d\n",
       "4  5  e  e"
      ]
     },
     "execution_count": 175,
     "metadata": {},
     "output_type": "execute_result"
    }
   ],
   "source": [
    "# Filtrar filas basado en una condición\n",
    "filtered_rows = df[df['A'] > 3]\n",
    "filtered_rows"
   ]
  },
  {
   "cell_type": "markdown",
   "metadata": {},
   "source": [
    "##### Filtrado (filter(regex=\"Expression\"))"
   ]
  },
  {
   "cell_type": "code",
   "execution_count": 176,
   "metadata": {},
   "outputs": [
    {
     "data": {
      "text/html": [
       "<div>\n",
       "<style scoped>\n",
       "    .dataframe tbody tr th:only-of-type {\n",
       "        vertical-align: middle;\n",
       "    }\n",
       "\n",
       "    .dataframe tbody tr th {\n",
       "        vertical-align: top;\n",
       "    }\n",
       "\n",
       "    .dataframe thead th {\n",
       "        text-align: right;\n",
       "    }\n",
       "</style>\n",
       "<table border=\"1\" class=\"dataframe\">\n",
       "  <thead>\n",
       "    <tr style=\"text-align: right;\">\n",
       "      <th></th>\n",
       "      <th>Casas</th>\n",
       "      <th>Carros</th>\n",
       "      <th>Castillos</th>\n",
       "    </tr>\n",
       "  </thead>\n",
       "  <tbody>\n",
       "    <tr>\n",
       "      <th>0</th>\n",
       "      <td>1</td>\n",
       "      <td>4</td>\n",
       "      <td>7</td>\n",
       "    </tr>\n",
       "    <tr>\n",
       "      <th>1</th>\n",
       "      <td>2</td>\n",
       "      <td>5</td>\n",
       "      <td>8</td>\n",
       "    </tr>\n",
       "    <tr>\n",
       "      <th>2</th>\n",
       "      <td>3</td>\n",
       "      <td>6</td>\n",
       "      <td>9</td>\n",
       "    </tr>\n",
       "  </tbody>\n",
       "</table>\n",
       "</div>"
      ],
      "text/plain": [
       "   Casas  Carros  Castillos\n",
       "0      1       4          7\n",
       "1      2       5          8\n",
       "2      3       6          9"
      ]
     },
     "execution_count": 176,
     "metadata": {},
     "output_type": "execute_result"
    }
   ],
   "source": [
    "data = {'Casas': [1, 2, 3],\n",
    "        'Carros': [4, 5, 6],\n",
    "        'Castillos': [7, 8, 9],\n",
    "        'Rios': [10, 11, 12]}\n",
    "df = pd.DataFrame(data)\n",
    "\n",
    "# Filtrar columnas que comienzan con \"C\" utilizando una expresión regular\n",
    "filtered_columns = df.filter(regex=\"^C\")\n",
    "filtered_columns"
   ]
  },
  {
   "cell_type": "markdown",
   "metadata": {},
   "source": [
    "##### Algunas expresion regulares que podemos usar para el filtrado\n",
    "\n",
    "| Expresión Regular | Descripción                              | Ejemplo de Uso                                         |\n",
    "|-------------------|------------------------------------------|--------------------------------------------------------|\n",
    "| `^A`              | Coincide con cadenas que comienzan con \"A\" | `df.filter(regex=\"^A\")`                                |\n",
    "| `B$`              | Coincide con cadenas que terminan en \"B\"  | `df.filter(regex=\"B$\")`                                |\n",
    "| `^[A-C]`          | Coincide con cadenas que comienzan con A, B o C  | `df.filter(regex=\"^[A-C]\")`                     |\n",
    "| `D{2}`            | Coincide con cadenas que contienen exactamente dos \"D\" consecutivas | `df.filter(regex=\"D{2}\")`                     |\n",
    "| `E.*F`            | Coincide con cadenas que contienen \"E\" seguido de cualquier número de caracteres y luego \"F\" | `df.filter(regex=\"E.*F\")`                |\n",
    "| `(G\\|H)`          | Coincide con cadenas que contienen \"G\" o \"H\" | `df.filter(regex=\"(G\\|H)\")`                            |\n",
    "| `[0-9]`           | Coincide con cualquier dígito              | `df.filter(regex=\"[0-9]\")`                             |\n",
    "| `[^A]`            | Coincide con cualquier carácter excepto \"A\" | `df.filter(regex=\"[^A]\")`                              |\n"
   ]
  },
  {
   "cell_type": "markdown",
   "metadata": {},
   "source": [
    "##### Ejemplo de filtrado sobre la fila"
   ]
  },
  {
   "cell_type": "code",
   "execution_count": 35,
   "metadata": {},
   "outputs": [
    {
     "name": "stdout",
     "output_type": "stream",
     "text": [
      "  Usuario  Edad\n",
      "0    Juan    25\n",
      "2  Javier    28\n",
      "4    José    40\n",
      "__________\n",
      "  Usuario  Edad\n",
      "0    Juan    25\n",
      "2  Javier    28\n",
      "4    José    40\n"
     ]
    }
   ],
   "source": [
    "# Crear un DataFrame de ejemplo\n",
    "data = {\n",
    "    'Usuario': ['Juan', 'Pedro', 'Javier', 'María', 'José'],\n",
    "    'Edad': [25, 30, 28, 35, 40]\n",
    "}\n",
    "df = pd.DataFrame(data)\n",
    "\n",
    "# Opción 1\n",
    "# Filtrar los usuarios por nombre que comienza con \"J\"\n",
    "df_filtered = df[df['Usuario'].str.startswith('J')]\n",
    "# Imprimir el DataFrame resultante\n",
    "print(df_filtered)\n",
    "print(\"__________\")\n",
    "\n",
    "# Opción 2\n",
    "# Filtrar los usuarios por nombre que comienza con \"J\" utilizando una expresión regular\n",
    "df_filtered = df[df['Usuario'].str.match('^J.*')]\n",
    "# Imprimir el DataFrame resultante\n",
    "print(df_filtered)"
   ]
  },
  {
   "cell_type": "markdown",
   "metadata": {},
   "source": [
    "### Uso de querys (query(prop > min-value and prop < max-value))"
   ]
  },
  {
   "cell_type": "code",
   "execution_count": 177,
   "metadata": {},
   "outputs": [
    {
     "name": "stdout",
     "output_type": "stream",
     "text": [
      "   Propiedad  Valor\n",
      "1         20     15\n",
      "2         30     25\n"
     ]
    }
   ],
   "source": [
    "# Crear un DataFrame de ejemplo\n",
    "data = {\n",
    "    'Propiedad': [10, 20, 30, 40, 50],\n",
    "    'Valor': [5, 15, 25, 35, 45]\n",
    "}\n",
    "df = pd.DataFrame(data)\n",
    "\n",
    "# Definir los valores mínimo y máximo para filtrar\n",
    "min_value = 15\n",
    "max_value = 35\n",
    "\n",
    "# Filtrar el DataFrame utilizando la función query\n",
    "df_filtered = df.query('Propiedad > @min_value and Propiedad < @max_value')\n",
    "\n",
    "# Imprimir el DataFrame resultante\n",
    "print(df_filtered)"
   ]
  },
  {
   "cell_type": "markdown",
   "metadata": {},
   "source": [
    "##### Tabla de opciones para operación usando querys:\n",
    "\n",
    "| Operador | Ejemplo de Expresión            | Descripción                                 |\n",
    "|----------|--------------------------------|---------------------------------------------|\n",
    "| ==       | `df.query('columna == valor')` | Igual a                                     |\n",
    "| !=       | `df.query('columna != valor')` | Diferente de                                |\n",
    "| >        | `df.query('columna > valor')`  | Mayor que                                   |\n",
    "| <        | `df.query('columna < valor')`  | Menor que                                   |\n",
    "| >=       | `df.query('columna >= valor')` | Mayor o igual que                           |\n",
    "| <=       | `df.query('columna <= valor')` | Menor o igual que                           |\n",
    "| in       | `df.query('columna in lista')` | En una lista de valores                      |\n",
    "| not in   | `df.query('columna not in lista')` | No está en una lista de valores           |\n",
    "| and      | `df.query('condición1 and condición2')` | Cumple ambas condiciones                |\n",
    "| or       | `df.query('condición1 or condición2')` | Cumple al menos una de las condiciones   |\n",
    "| not      | `df.query('not condición')` | No cumple la condición                      |\n"
   ]
  },
  {
   "cell_type": "markdown",
   "metadata": {},
   "source": [
    "<a id=\"A07\"></a>"
   ]
  },
  {
   "cell_type": "markdown",
   "metadata": {},
   "source": [
    "<a id=\"A07\"></a>"
   ]
  },
  {
   "cell_type": "markdown",
   "metadata": {},
   "source": [
    "### 7. Filtrado y sub conjuntos II\n",
    "    - Selección de filas y columnas (loc[] | iloc[])  \n",
    "    - Seleccion de valores únicos (at[] | iat[])\n",
    "[[enlace]](#A00).   "
   ]
  },
  {
   "cell_type": "markdown",
   "metadata": {},
   "source": [
    "##### Selección de filas y columnas (loc[] | iloc[])  "
   ]
  },
  {
   "cell_type": "markdown",
   "metadata": {},
   "source": [
    "###### uso de \"loc[ ]\""
   ]
  },
  {
   "cell_type": "code",
   "execution_count": 187,
   "metadata": {
    "scrolled": true
   },
   "outputs": [
    {
     "name": "stdout",
     "output_type": "stream",
     "text": [
      "eje 1: \n",
      " A     3\n",
      "B     c\n",
      "C    30\n",
      "Name: 2, dtype: object\n",
      "-------\n",
      "eje 2: \n",
      "    A  B   C\n",
      "2  3  c  30\n",
      "4  5  e  50\n",
      "-------\n",
      "eje 3: \n",
      "    A\n",
      "1  2\n",
      "2  3\n",
      "3  4\n",
      "-------\n"
     ]
    }
   ],
   "source": [
    "# Crear un DataFrame de ejemplo\n",
    "data = {'A': [1, 2, 3, 4, 5],\n",
    "        'B': ['a', 'b', 'c', 'd', 'e'],\n",
    "        'C': [10, 20, 30, 40, 50]}\n",
    "df = pd.DataFrame(data)\n",
    "\n",
    "# Ejemplos de uso de loc[]\n",
    "\n",
    "# Seleccionar una fila por etiqueta\n",
    "row_2 = df.loc[2]\n",
    "print(\"eje 1: \\n\", row_2)\n",
    "print(\"-------\")\n",
    "\n",
    "# Seleccionar varias filas por etiquetas\n",
    "rows_2_4 = df.loc[[2, 4]]\n",
    "print(\"eje 2: \\n\", rows_2_4)\n",
    "print(\"-------\")\n",
    "\n",
    "# Seleccionar filas y columnas por etiquetas\n",
    "subset = df.loc[1:3, ['A', 'C']]\n",
    "print(\"eje 3: \\n\", subset)\n",
    "print(\"-------\")"
   ]
  },
  {
   "cell_type": "markdown",
   "metadata": {},
   "source": [
    "###### uso de \"iloc[ ]\""
   ]
  },
  {
   "cell_type": "code",
   "execution_count": 189,
   "metadata": {},
   "outputs": [
    {
     "name": "stdout",
     "output_type": "stream",
     "text": [
      "A     3\n",
      "B     c\n",
      "C    30\n",
      "Name: 2, dtype: object\n",
      "   A  B   C\n",
      "2  3  c  30\n",
      "4  5  e  50\n",
      "---------\n",
      "   A   C\n",
      "1  2  20\n",
      "2  3  30\n"
     ]
    }
   ],
   "source": [
    "# Ejemplos de uso de iloc[]\n",
    "\n",
    "# Crear un DataFrame de ejemplo\n",
    "data = {'A': [1, 2, 3, 4, 5],\n",
    "        'B': ['a', 'b', 'c', 'd', 'e'],\n",
    "        'C': [10, 20, 30, 40, 50]}\n",
    "df = pd.DataFrame(data)\n",
    "\n",
    "# Seleccionar una fila por posición\n",
    "row_2 = df.iloc[2]\n",
    "print(row_2)\n",
    "\n",
    "# Seleccionar varias filas por posición\n",
    "rows_2_4 = df.iloc[[2, 4]]\n",
    "print(rows_2_4)\n",
    "print(\"---------\")\n",
    "# Seleccionar filas y columnas por posición\n",
    "subset = df.iloc[1:3, [0, 2]]\n",
    "print(subset)\n"
   ]
  },
  {
   "cell_type": "markdown",
   "metadata": {},
   "source": [
    "##### Seleccion de valores únicos (at[] | iat[])"
   ]
  },
  {
   "cell_type": "code",
   "execution_count": 190,
   "metadata": {},
   "outputs": [
    {
     "data": {
      "text/html": [
       "<div>\n",
       "<style scoped>\n",
       "    .dataframe tbody tr th:only-of-type {\n",
       "        vertical-align: middle;\n",
       "    }\n",
       "\n",
       "    .dataframe tbody tr th {\n",
       "        vertical-align: top;\n",
       "    }\n",
       "\n",
       "    .dataframe thead th {\n",
       "        text-align: right;\n",
       "    }\n",
       "</style>\n",
       "<table border=\"1\" class=\"dataframe\">\n",
       "  <thead>\n",
       "    <tr style=\"text-align: right;\">\n",
       "      <th></th>\n",
       "      <th>A</th>\n",
       "      <th>B</th>\n",
       "      <th>C</th>\n",
       "    </tr>\n",
       "  </thead>\n",
       "  <tbody>\n",
       "    <tr>\n",
       "      <th>0</th>\n",
       "      <td>1</td>\n",
       "      <td>a</td>\n",
       "      <td>10</td>\n",
       "    </tr>\n",
       "    <tr>\n",
       "      <th>1</th>\n",
       "      <td>2</td>\n",
       "      <td>b</td>\n",
       "      <td>20</td>\n",
       "    </tr>\n",
       "    <tr>\n",
       "      <th>2</th>\n",
       "      <td>3</td>\n",
       "      <td>c</td>\n",
       "      <td>30</td>\n",
       "    </tr>\n",
       "    <tr>\n",
       "      <th>3</th>\n",
       "      <td>4</td>\n",
       "      <td>d</td>\n",
       "      <td>40</td>\n",
       "    </tr>\n",
       "    <tr>\n",
       "      <th>4</th>\n",
       "      <td>5</td>\n",
       "      <td>e</td>\n",
       "      <td>50</td>\n",
       "    </tr>\n",
       "  </tbody>\n",
       "</table>\n",
       "</div>"
      ],
      "text/plain": [
       "   A  B   C\n",
       "0  1  a  10\n",
       "1  2  b  20\n",
       "2  3  c  30\n",
       "3  4  d  40\n",
       "4  5  e  50"
      ]
     },
     "execution_count": 190,
     "metadata": {},
     "output_type": "execute_result"
    }
   ],
   "source": [
    "# Crear un DataFrame de ejemplo\n",
    "data = {'A': [1, 2, 3, 4, 5],\n",
    "        'B': ['a', 'b', 'c', 'd', 'e'],\n",
    "        'C': [10, 20, 30, 40, 50]}\n",
    "df = pd.DataFrame(data)\n",
    "df"
   ]
  },
  {
   "cell_type": "code",
   "execution_count": 41,
   "metadata": {},
   "outputs": [
    {
     "name": "stdout",
     "output_type": "stream",
     "text": [
      "c\n",
      "   A  B   C\n",
      "0  1  a  10\n",
      "1  2  b  20\n",
      "2  3  c  30\n",
      "3  4  d  45\n",
      "4  5  e  50\n"
     ]
    }
   ],
   "source": [
    "# Ejemplos de uso de at[]\n",
    "\n",
    "# Acceder a un valor por etiqueta de fila y columna\n",
    "value_1 = df.at[2, 'B'] # nótese en fila/columna\n",
    "print(value_1)\n",
    "# Resultado: c\n",
    "\n",
    "# Modificar un valor por etiqueta de fila y columna\n",
    "df.at[3, 'C'] = 45 # nótese en fila/columna\n",
    "print(df)\n",
    "# Resultado:    A  B   C\n",
    "#            0  1  a  10\n",
    "#            1  2  b  20\n",
    "#            2  3  c  30\n",
    "#            3  4  d  45 <<--\n",
    "#            4  5  e  50"
   ]
  },
  {
   "cell_type": "code",
   "execution_count": 42,
   "metadata": {},
   "outputs": [
    {
     "name": "stdout",
     "output_type": "stream",
     "text": [
      "5\n",
      "   A  B   C\n",
      "0  1  a  15\n",
      "1  2  b  20\n",
      "2  3  c  30\n",
      "3  4  d  45\n",
      "4  5  e  50\n"
     ]
    }
   ],
   "source": [
    "# Ejemplos de uso de iat[]\n",
    "\n",
    "# Acceder a un valor por posición numérica de fila y columna\n",
    "value_2 = df.iat[4, 0]\n",
    "print(value_2)\n",
    "# Resultado: 5\n",
    "\n",
    "# Modificar un valor por posición numérica de fila y columna\n",
    "df.iat[0, 2] = 15\n",
    "print(df)\n",
    "# Resultado:    A  B   C\n",
    "#            0  1  a  15 <<--\n",
    "#            1  2  b  20\n",
    "#            2  3  c  30\n",
    "#            3  4  d  45\n",
    "#            4  5  e  50"
   ]
  },
  {
   "cell_type": "markdown",
   "metadata": {},
   "source": [
    "<a id=\"A08\"></a>"
   ]
  },
  {
   "cell_type": "markdown",
   "metadata": {},
   "source": [
    "### 8. Resumiendo datos\n",
    "    - Repaso de value_count(), shape, describe(), sum(), count(), min(), max(), median(), quantile([0.25, 0.75]), mean(), var(), std().    \n",
    "    - Detección de valores únicos\n",
    "    - Aplicación de función sobre los objetos (function)\n",
    "   [[enlace]](#A00). "
   ]
  },
  {
   "cell_type": "code",
   "execution_count": 191,
   "metadata": {},
   "outputs": [],
   "source": [
    "import pandas as pd"
   ]
  },
  {
   "cell_type": "markdown",
   "metadata": {},
   "source": [
    "###### Repaso\n",
    "value_count(), shape, describe(), sum(), count(), min(), max(), median(), quantile([0.25, 0.75]), mean(), var(), std()."
   ]
  },
  {
   "cell_type": "code",
   "execution_count": 192,
   "metadata": {},
   "outputs": [
    {
     "name": "stdout",
     "output_type": "stream",
     "text": [
      "value_counts\n",
      " 20    2\n",
      "40    2\n",
      "50    1\n",
      "Name: D, dtype: int64\n",
      "shape:  (5, 4)\n",
      "sum_values:  150\n",
      "count_values:  5\n",
      "min_value:  10\n",
      "max_value:  50\n",
      "median_value:  30.0\n",
      "quantiles: \n",
      "  0.25    20.0\n",
      "0.75    40.0\n",
      "Name: C, dtype: float64\n",
      "mean_value:  30.0\n",
      "var_value:  250.0\n",
      "std_value:  15.811388300841896\n",
      "description:\n",
      "               A          C          D\n",
      "count  5.000000   5.000000   5.000000\n",
      "mean   3.000000  30.000000  34.000000\n",
      "std    1.581139  15.811388  13.416408\n",
      "min    1.000000  10.000000  20.000000\n",
      "25%    2.000000  20.000000  20.000000\n",
      "50%    3.000000  30.000000  40.000000\n",
      "75%    4.000000  40.000000  40.000000\n",
      "max    5.000000  50.000000  50.000000\n"
     ]
    }
   ],
   "source": [
    "# Crear un DataFrame de ejemplo\n",
    "data = {'A': [1, 2, 3, 4, 5],\n",
    "        'B': ['a', 'b', 'c', 'd', 'e'],\n",
    "        'C': [10, 20, 30, 40, 50],\n",
    "        'D': [20, 20, 40, 40, 50]}\n",
    "df = pd.DataFrame(data)\n",
    "\n",
    "# Ejemplos de uso de las funciones\n",
    "\n",
    "# value_counts(): contar la frecuencia de valores únicos en una columna\n",
    "value_counts = df['D'].value_counts()\n",
    "print(\"value_counts\\n\", value_counts)\n",
    "\n",
    "# shape: obtener las dimensiones del DataFrame (filas, columnas)\n",
    "shape = df.shape\n",
    "print(\"shape: \",shape)\n",
    "\n",
    "# sum(): sumar los valores de una columna\n",
    "sum_values = df['C'].sum()\n",
    "print(\"sum_values: \",sum_values)\n",
    "\n",
    "# count(): contar el número de valores no nulos en una columna\n",
    "count_values = df['C'].count()\n",
    "print(\"count_values: \",count_values)\n",
    "\n",
    "# min(): obtener el valor mínimo de una columna\n",
    "min_value = df['C'].min()\n",
    "print(\"min_value: \",min_value)\n",
    "\n",
    "# max(): obtener el valor máximo de una columna\n",
    "max_value = df['C'].max()\n",
    "print(\"max_value: \",max_value)\n",
    "\n",
    "# median(): obtener la mediana de una columna\n",
    "median_value = df['C'].median()\n",
    "print(\"median_value: \",median_value)\n",
    "\n",
    "# quantile(): obtener los cuartiles de una columna\n",
    "quantiles = df['C'].quantile([0.25, 0.75])\n",
    "print(\"quantiles: \\n \",quantiles)\n",
    "\n",
    "# mean(): obtener el promedio de una columna\n",
    "mean_value = df['C'].mean()\n",
    "print(\"mean_value: \",mean_value)\n",
    "\n",
    "# var(): obtener la varianza de una columna\n",
    "var_value = df['C'].var()\n",
    "print(\"var_value: \",var_value)\n",
    "\n",
    "# std(): obtener la desviación estándar de una columna\n",
    "std_value = df['C'].std()\n",
    "print(\"std_value: \",std_value)\n",
    "\n",
    "# describe(): obtener estadísticas descriptivas del DataFrame\n",
    "description = df.describe()\n",
    "print(\"description:\\n\", description)\n"
   ]
  },
  {
   "cell_type": "markdown",
   "metadata": {},
   "source": [
    "###### Detección de valores únicos (unique)"
   ]
  },
  {
   "cell_type": "code",
   "execution_count": 193,
   "metadata": {},
   "outputs": [
    {
     "name": "stdout",
     "output_type": "stream",
     "text": [
      "[1 2 3 4 5]\n"
     ]
    }
   ],
   "source": [
    "# Crear un DataFrame de ejemplo\n",
    "data = {'A': [1, 2, 3, 4, 5, 1, 2, 3, 4, 5]}\n",
    "df = pd.DataFrame(data)\n",
    "\n",
    "# Obtener los valores únicos en la columna 'A'\n",
    "unique_values = df['A'].unique()\n",
    "print(unique_values)"
   ]
  },
  {
   "cell_type": "markdown",
   "metadata": {},
   "source": [
    "###### aplicación de funciones sobre columnas (Apply)"
   ]
  },
  {
   "cell_type": "code",
   "execution_count": 195,
   "metadata": {},
   "outputs": [
    {
     "name": "stdout",
     "output_type": "stream",
     "text": [
      "   A   B  A_squared\n",
      "0  1   6          1\n",
      "1  2   7          4\n",
      "2  3   8          9\n",
      "3  4   9         16\n",
      "4  5  10         25\n",
      "   A   B  A_squared  A_dividedByTwo\n",
      "0  1   6          1             0.5\n",
      "1  2   7          4             1.0\n",
      "2  3   8          9             1.5\n",
      "3  4   9         16             2.0\n",
      "4  5  10         25             2.5\n"
     ]
    }
   ],
   "source": [
    "# Crear un DataFrame de ejemplo\n",
    "data = {'A': [1, 2, 3, 4, 5],\n",
    "        'B': [6, 7, 8, 9, 10]}\n",
    "df = pd.DataFrame(data)\n",
    "\n",
    "# Definir una función personalizada\n",
    "def square_value(x):\n",
    "    return x ** 2\n",
    "\n",
    "def divide_value(x):\n",
    "    return x / 2\n",
    "\n",
    "# Aplicar la función sobre la columna 'A'\n",
    "df['A_squared'] = df['A'].apply(square_value)\n",
    "print(df)\n",
    "\n",
    "# Aplicar la función sobre la columna 'A'\n",
    "df['A_dividedByTwo'] = df['A'].apply(divide_value)\n",
    "print(df)"
   ]
  },
  {
   "cell_type": "markdown",
   "metadata": {},
   "source": [
    "<a id=\"A09\"></a>"
   ]
  },
  {
   "cell_type": "markdown",
   "metadata": {},
   "source": [
    "### 9. Gestión de datos perdidos\n",
    "    - Eliminar NAs(None) \n",
    "    - Imputadr NAs (None)\n",
    "[[enlace]](#A00).    "
   ]
  },
  {
   "cell_type": "code",
   "execution_count": 197,
   "metadata": {},
   "outputs": [
    {
     "name": "stdout",
     "output_type": "stream",
     "text": [
      "     A     B\n",
      "0  1.0   6.0\n",
      "3  4.0   9.0\n",
      "4  5.0  10.0\n",
      "-----\n",
      "Empty DataFrame\n",
      "Columns: []\n",
      "Index: [0, 1, 2, 3, 4]\n"
     ]
    }
   ],
   "source": [
    "# Eliminar valores NA en un dataset/dataframe\n",
    "\n",
    "# Crear un DataFrame de ejemplo con valores faltantes\n",
    "data = {'A': [1, 2, None, 4, 5],\n",
    "        'B': [6, None, 8, 9, 10]}\n",
    "df = pd.DataFrame(data)\n",
    "\n",
    "# Eliminar filas con NAs\n",
    "df_clean = df.dropna()\n",
    "print(df_clean)\n",
    "print(\"-----\")\n",
    "# Eliminar columnas con NAs\n",
    "df_clean = df.dropna(axis=1)\n",
    "print(df_clean)"
   ]
  },
  {
   "cell_type": "code",
   "execution_count": 198,
   "metadata": {},
   "outputs": [
    {
     "name": "stdout",
     "output_type": "stream",
     "text": [
      "     A     B\n",
      "0  1.0   6.0\n",
      "1  2.0   0.0\n",
      "2  0.0   8.0\n",
      "3  4.0   9.0\n",
      "4  5.0  10.0\n",
      "------\n",
      "     A      B\n",
      "0  1.0   6.00\n",
      "1  2.0   8.25\n",
      "2  3.0   8.00\n",
      "3  4.0   9.00\n",
      "4  5.0  10.00\n"
     ]
    }
   ],
   "source": [
    "# Imputar valores faltantes\n",
    "\n",
    "# Crear un DataFrame de ejemplo con valores faltantes\n",
    "data = {'A': [1, 2, None, 4, 5],\n",
    "        'B': [6, None, 8, 9, 10]}\n",
    "df = pd.DataFrame(data)\n",
    "\n",
    "# Imputar NAs con un valor específico\n",
    "df_imputed = df.fillna(0)\n",
    "print(df_imputed)\n",
    "\n",
    "print(\"------\")\n",
    "\n",
    "# Imputar NAs con el promedio de la columna\n",
    "df_imputed = df.fillna(df.mean())\n",
    "print(df_imputed)"
   ]
  },
  {
   "cell_type": "markdown",
   "metadata": {},
   "source": [
    "<a id=\"A10\"></a>"
   ]
  },
  {
   "cell_type": "markdown",
   "metadata": {},
   "source": [
    "### 10. gestión de columnas o características\n",
    "    - Repaso asignación completa (df['Volume'] = df.Length*df.Height*df.Depth)\n",
    "    - Asignación con operaciones (df.assign(Area=lambda df: df.Length*df.Height))\n",
    "    - División en n bloques (pd.qcut(df.col, n, labels=False))\n",
    "    - Casos especiales para Series\n",
    "        - max(axis=1), min(axis=1)\n",
    "        - Ajuste los valores en los umbrales de entrada (clip(lower=-10,upper=10))\n",
    "        - valores absolutos (abs())\n",
    "[[enlace]](#A00)."
   ]
  },
  {
   "cell_type": "code",
   "execution_count": 199,
   "metadata": {},
   "outputs": [
    {
     "name": "stdout",
     "output_type": "stream",
     "text": [
      "   Length  Height  Depth  Volume\n",
      "0       2       6     10     120\n",
      "1       3       7     11     231\n",
      "2       4       8     12     384\n",
      "3       5       9     13     585\n"
     ]
    }
   ],
   "source": [
    "### Repaso asignación completa (df['Volume'] = df.Length*df.Height*df.Depth)\n",
    "\n",
    "# Crear un DataFrame de ejemplo\n",
    "data = {'Length': [2, 3, 4, 5],\n",
    "        'Height': [6, 7, 8, 9],\n",
    "        'Depth': [10, 11, 12, 13]}\n",
    "df = pd.DataFrame(data)\n",
    "\n",
    "# Calcular el volumen y asignarlo a la columna 'Volume'\n",
    "df['Volume'] = df['Length'] * df['Height'] * df['Depth']\n",
    "\n",
    "# Imprimir el DataFrame resultante\n",
    "print(df)"
   ]
  },
  {
   "cell_type": "code",
   "execution_count": 200,
   "metadata": {},
   "outputs": [
    {
     "name": "stdout",
     "output_type": "stream",
     "text": [
      "   Length  Height  Area\n",
      "0       2       6    12\n",
      "1       3       7    21\n",
      "2       4       8    32\n",
      "3       5       9    45\n"
     ]
    }
   ],
   "source": [
    "#### Asignación con operaciones (df.assign(Area=lambda df: df.Length*df.Height))\n",
    "\n",
    "# Crear un DataFrame de ejemplo\n",
    "data = {'Length': [2, 3, 4, 5],\n",
    "        'Height': [6, 7, 8, 9]}\n",
    "df = pd.DataFrame(data)\n",
    "\n",
    "# Realizar la asignación con operaciones utilizando el método assign()\n",
    "df = df.assign(Area=lambda df: df.Length * df.Height)\n",
    "\n",
    "# Imprimir el DataFrame resultante\n",
    "print(df)"
   ]
  },
  {
   "cell_type": "markdown",
   "metadata": {},
   "source": [
    "###### ¿Lamba versus Apply?\n",
    "\n",
    "La diferencia entre lambda y apply en pandas se encuentra en la forma en que se aplican las funciones a los datos.\n",
    "\n",
    "lambda es una función anónima que se utiliza para definir funciones pequeñas y simples en línea. Se utiliza principalmente para aplicar una operación o transformación a cada elemento de una serie o columna de un DataFrame. La sintaxis básica de lambda es lambda argumentos: expresión.\n",
    "\n",
    "###### Ejemplo:\n",
    "df['columna_nueva'] = df['columna'].apply(lambda x: x * 2)\n",
    "\n"
   ]
  },
  {
   "cell_type": "markdown",
   "metadata": {},
   "source": [
    "apply es un método de pandas que permite aplicar una función a lo largo de un eje de un DataFrame o una serie. Puede aplicar funciones más complejas y personalizadas, incluyendo funciones definidas por el usuario. apply se puede utilizar tanto en series como en columnas de un DataFrame.\n",
    "Ejemplo:\n",
    "    \n",
    "    def funcion_personalizada(x):\n",
    "    # realizar alguna operación compleja\n",
    "    return x * 2\n",
    "\n",
    "df['columna_nueva'] = df['columna'].apply(funcion_personalizada)"
   ]
  },
  {
   "cell_type": "code",
   "execution_count": 203,
   "metadata": {},
   "outputs": [
    {
     "name": "stdout",
     "output_type": "stream",
     "text": [
      "   col  col_labels\n",
      "0   10           0\n",
      "1   20           0\n",
      "2   30           0\n",
      "3   40           0\n",
      "4   50           1\n",
      "5   60           1\n",
      "6   70           1\n",
      "7   80           2\n",
      "8   90           2\n",
      "9  100           2\n",
      "\n",
      " Con labels nombrados\n",
      "   col col_labels\n",
      "0   10          S\n",
      "1   20          S\n",
      "2   30          S\n",
      "3   40          S\n",
      "4   50          M\n",
      "5   60          M\n",
      "6   70          M\n",
      "7   80          L\n",
      "8   90          L\n",
      "9  100          L\n"
     ]
    }
   ],
   "source": [
    "# Crear un DataFrame de ejemplo\n",
    "data = {'col': [10, 20, 30, 40, 50, 60, 70, 80, 90, 100]}\n",
    "df = pd.DataFrame(data)\n",
    "\n",
    "# Dividir la columna 'col' en 3 bloques y asignar etiquetas numéricas\n",
    "df['col_labels'] = pd.qcut(df['col'], 3, labels=False)\n",
    "\n",
    "# Imprimir el DataFrame resultante\n",
    "print(df)\n",
    "\n",
    "print(\"\\n Con labels nombrados\")\n",
    "\n",
    "# Dividir la columna 'col' en 3 bloques y asignar etiquetas nombradas\n",
    "labels = [\"S\", \"M\", \"L\"]\n",
    "df['col_labels'] = pd.qcut(df['col'], 3, labels=labels)\n",
    "\n",
    "# Imprimir el DataFrame resultante\n",
    "print(df)"
   ]
  },
  {
   "cell_type": "code",
   "execution_count": null,
   "metadata": {},
   "outputs": [],
   "source": []
  },
  {
   "cell_type": "code",
   "execution_count": 204,
   "metadata": {},
   "outputs": [
    {
     "name": "stdout",
     "output_type": "stream",
     "text": [
      "   A  B  C\n",
      "0  1  4  7\n",
      "1  2  5  8\n",
      "2  3  6  9 \n",
      "\n",
      "Valor máximo por fila:\n",
      "0    7\n",
      "1    8\n",
      "2    9\n",
      "dtype: int64\n",
      "\n",
      "Valor mínimo por fila:\n",
      "0    1\n",
      "1    2\n",
      "2    3\n",
      "dtype: int64\n"
     ]
    }
   ],
   "source": [
    "# Crear un df de ejemplo\n",
    "data = {'A': [1, 2, 3], 'B': [4, 5, 6], 'C': [7, 8, 9]}\n",
    "df = pd.DataFrame(data)\n",
    "\n",
    "print(df, \"\\n\")\n",
    "\n",
    "# Calcular el valor máximo y mínimo para cada fila\n",
    "max_values = df.max(axis=1)\n",
    "min_values = df.min(axis=1)\n",
    "\n",
    "# Imprimir los resultados\n",
    "print(\"Valor máximo por fila:\")\n",
    "print(max_values)\n",
    "print(\"\\nValor mínimo por fila:\")\n",
    "print(min_values)"
   ]
  },
  {
   "cell_type": "code",
   "execution_count": 205,
   "metadata": {},
   "outputs": [
    {
     "name": "stdout",
     "output_type": "stream",
     "text": [
      "   A  B  C\n",
      "0  1  4  7\n",
      "1  2  5  8\n",
      "2  3  6  9 \n",
      "\n",
      "Valor máximo por columna:\n",
      "A    3\n",
      "B    6\n",
      "C    9\n",
      "dtype: int64\n",
      "\n",
      "Valor mínimo por columna:\n",
      "A    1\n",
      "B    4\n",
      "C    7\n",
      "dtype: int64\n"
     ]
    }
   ],
   "source": [
    "# Crear una Serie de ejemplo\n",
    "data = {'A': [1, 2, 3], 'B': [4, 5, 6], 'C': [7, 8, 9]}\n",
    "df = pd.DataFrame(data)\n",
    "\n",
    "print(df, \"\\n\")\n",
    "\n",
    "# Calcular el valor máximo y mínimo para cada columna\n",
    "max_values = df.max(axis=0)\n",
    "min_values = df.min(axis=0)\n",
    "\n",
    "# Imprimir los resultados\n",
    "print(\"Valor máximo por columna:\")\n",
    "print(max_values)\n",
    "print(\"\\nValor mínimo por columna:\")\n",
    "print(min_values)"
   ]
  },
  {
   "cell_type": "code",
   "execution_count": 206,
   "metadata": {},
   "outputs": [
    {
     "name": "stdout",
     "output_type": "stream",
     "text": [
      "0    15\n",
      "1    -5\n",
      "2    20\n",
      "3    10\n",
      "4    25\n",
      "dtype: int64 \n",
      "\n",
      "0    10\n",
      "1    -5\n",
      "2    10\n",
      "3    10\n",
      "4    10\n",
      "dtype: int64\n"
     ]
    }
   ],
   "source": [
    "# Crear una Serie de ejemplo\n",
    "data = [15, -5, 20, 10, 25]\n",
    "series = pd.Series(data)\n",
    "\n",
    "# Imprimir el inicial\n",
    "print(series, \"\\n\")\n",
    "\n",
    "# Ajustar los valores dentro del rango -10 y 10\n",
    "adjusted_series = series.clip(lower=-10, upper=10)\n",
    "\n",
    "# Imprimir el resultado\n",
    "print(adjusted_series)"
   ]
  },
  {
   "cell_type": "code",
   "execution_count": 117,
   "metadata": {},
   "outputs": [
    {
     "name": "stdout",
     "output_type": "stream",
     "text": [
      "0    -2\n",
      "1     4\n",
      "2    -6\n",
      "3     8\n",
      "4   -10\n",
      "dtype: int64 \n",
      "\n",
      "0     2\n",
      "1     4\n",
      "2     6\n",
      "3     8\n",
      "4    10\n",
      "dtype: int64\n"
     ]
    }
   ],
   "source": [
    "# Crear una Serie de ejemplo\n",
    "data = [-2, 4, -6, 8, -10]\n",
    "series = pd.Series(data)\n",
    "\n",
    "# Imprimir el inicial\n",
    "print(series, \"\\n\")\n",
    "\n",
    "# Calcular los valores absolutos\n",
    "abs_series = series.abs()\n",
    "\n",
    "# Imprimir el resultado\n",
    "print(abs_series)"
   ]
  },
  {
   "cell_type": "code",
   "execution_count": null,
   "metadata": {},
   "outputs": [],
   "source": []
  },
  {
   "cell_type": "markdown",
   "metadata": {},
   "source": [
    "<a id=\"A11\"></a>"
   ]
  },
  {
   "cell_type": "markdown",
   "metadata": {},
   "source": [
    "### 11. Agrupación de datos\n",
    "    - Agrupamiento por columna (by='col')\n",
    "    - Agrupamiento por nivel (level='ind')    \n",
    "    - Tamaño de los grupos (size)\n",
    "    - Agregaciones (agg(function))\n",
    "[[enlace]](#A00)."
   ]
  },
  {
   "cell_type": "code",
   "execution_count": 207,
   "metadata": {},
   "outputs": [
    {
     "name": "stdout",
     "output_type": "stream",
     "text": [
      "      col2  col3\n",
      "col1            \n",
      "A        8    23\n",
      "B        7    17\n"
     ]
    }
   ],
   "source": [
    "### Agrupamiento por columna (by='col')\n",
    "\n",
    "# Crear un DataFrame de ejemplo\n",
    "data = {'col1': ['A', 'A', 'B', 'B', 'A'],\n",
    "        'col2': [1, 2, 3, 4, 5],\n",
    "        'col3': [6, 7, 8, 9, 10]}\n",
    "df = pd.DataFrame(data)\n",
    "\n",
    "# Agrupar por la columna 'col1' y calcular la suma de las demás columnas\n",
    "grouped_df = df.groupby(by='col1').sum() ## sum, mean, std, ... otros\n",
    "\n",
    "# Imprimir el resultado\n",
    "print(grouped_df)"
   ]
  },
  {
   "cell_type": "code",
   "execution_count": 119,
   "metadata": {},
   "outputs": [
    {
     "name": "stdout",
     "output_type": "stream",
     "text": [
      "      col3  col4\n",
      "col1            \n",
      "A        3    11\n",
      "B        7    15\n"
     ]
    }
   ],
   "source": [
    "### Agrupamiento por nivel (level='ind') \n",
    "\n",
    "# Crear un DataFrame de ejemplo\n",
    "data = {'col1': ['A', 'A', 'B', 'B'],\n",
    "        'col2': ['X', 'Y', 'X', 'Y'],\n",
    "        'col3': [1, 2, 3, 4],\n",
    "        'col4': [5, 6, 7, 8]}\n",
    "df = pd.DataFrame(data)\n",
    "\n",
    "# Definir un índice jerárquico con dos niveles\n",
    "df.set_index(['col1', 'col2'], inplace=True)\n",
    "\n",
    "# Agrupar por nivel 'col1'\n",
    "grouped_df = df.groupby(level='col1').sum()\n",
    "\n",
    "# Imprimir el resultado\n",
    "print(grouped_df)\n"
   ]
  },
  {
   "cell_type": "code",
   "execution_count": 209,
   "metadata": {},
   "outputs": [
    {
     "name": "stdout",
     "output_type": "stream",
     "text": [
      "                Población\n",
      "País                     \n",
      "Canadá            4634694\n",
      "Estados Unidos   12613456\n"
     ]
    }
   ],
   "source": [
    "### Veamos un ejemplo menos genérico:\n",
    "\n",
    "# Crear un DataFrame de ejemplo\n",
    "data = {'País': ['Estados Unidos', 'Estados Unidos', 'Canadá', 'Canadá'],\n",
    "        'Ciudad': ['Nueva York', 'Los Ángeles', 'Toronto', 'Montreal'],\n",
    "        'Población': [8623000, 3990456, 2930000, 1704694]}\n",
    "df = pd.DataFrame(data)\n",
    "\n",
    "# Definir un índice jerárquico con dos niveles\n",
    "df.set_index(['País', 'Ciudad'], inplace=True)\n",
    "\n",
    "# Agrupar por nivel 'País'\n",
    "grouped_df = df.groupby(level='País').sum()\n",
    "\n",
    "# Imprimir el resultado\n",
    "print(grouped_df)"
   ]
  },
  {
   "cell_type": "code",
   "execution_count": 210,
   "metadata": {},
   "outputs": [
    {
     "name": "stdout",
     "output_type": "stream",
     "text": [
      "País\n",
      "Canadá            2\n",
      "Estados Unidos    2\n",
      "dtype: int64\n"
     ]
    }
   ],
   "source": [
    "### Tamaño de los grupos (size)\n",
    "# Crear un DataFrame de ejemplo\n",
    "data = {'País': ['Estados Unidos', 'Estados Unidos', 'Canadá', 'Canadá'],\n",
    "        'Ciudad': ['Nueva York', 'Los Ángeles', 'Toronto', 'Montreal'],\n",
    "        'Población': [8623000, 3990456, 2930000, 1704694]}\n",
    "df = pd.DataFrame(data)\n",
    "\n",
    "# Obtener el tamaño de los grupos por país\n",
    "group_sizes = df.groupby('País').size()\n",
    "\n",
    "# Imprimir el resultado\n",
    "print(group_sizes)"
   ]
  },
  {
   "cell_type": "code",
   "execution_count": 213,
   "metadata": {},
   "outputs": [
    {
     "name": "stdout",
     "output_type": "stream",
     "text": [
      "       Valor1     Valor2\n",
      "Grupo                   \n",
      "A          80  21.666667\n",
      "B          70  35.000000\n"
     ]
    }
   ],
   "source": [
    "#### Agregaciones (agg(function))\n",
    "\n",
    "# Crear un DataFrame de ejemplo\n",
    "data = {'Grupo': ['A', 'A', 'B', 'B', 'A'],\n",
    "        'Valor1': [10, 20, 30, 40, 50],\n",
    "        'Valor2': [5, 15, 25, 35, 45]}\n",
    "df = pd.DataFrame(data)\n",
    "\n",
    "# Aplicar agregaciones a los grupos\n",
    "aggregated_data = df.groupby('Grupo').agg({'Valor1': 'sum', 'Valor2': 'mean'})\n",
    "\n",
    "# Imprimir el resultado\n",
    "print(aggregated_data)"
   ]
  },
  {
   "cell_type": "code",
   "execution_count": 212,
   "metadata": {},
   "outputs": [
    {
     "name": "stdout",
     "output_type": "stream",
     "text": [
      "           Edad      Altura       Peso\n",
      "mean  27.800000  170.000000  68.000000\n",
      "min   22.000000  160.000000  55.000000\n",
      "max   35.000000  180.000000  80.000000\n",
      "std    4.969909    7.905694  10.368221\n"
     ]
    }
   ],
   "source": [
    "### ahora usando agg de manera general:\n",
    "\n",
    "import pandas as pd\n",
    "\n",
    "# Crear un DataFrame de ejemplo\n",
    "data = {'Nombre': ['Juan', 'María', 'Pedro', 'Ana', 'Carlos'],\n",
    "        'Edad': [25, 30, 22, 27, 35],\n",
    "        'Altura': [175, 160, 180, 165, 170],\n",
    "        'Peso': [70, 55, 80, 60, 75]}\n",
    "df = pd.DataFrame(data)\n",
    "\n",
    "# Aplicar varias agregaciones a diferentes columnas\n",
    "aggregated_data = df.agg({'Edad': ['mean', 'min', 'max', 'std'],\n",
    "                          'Altura': ['mean', 'min', 'max', 'std'],\n",
    "                          'Peso': ['mean', 'min', 'max', 'std']})\n",
    "\n",
    "# Imprimir el resultado\n",
    "print(aggregated_data)\n"
   ]
  },
  {
   "cell_type": "markdown",
   "metadata": {},
   "source": [
    "<a id=\"A12\"></a>"
   ]
  },
  {
   "cell_type": "markdown",
   "metadata": {},
   "source": [
    "### 12. Aplicaciones sobre grupos\n",
    "    - Copia de valores cambiados o desplazados (shift(1 | -1))\n",
    "    - Ranking de grupos:\n",
    "        - rank(method='dense') Ranks with no gaps.\n",
    "        - rank(method='min') Ranks. Ties get min rank.\n",
    "        - rank(pct=True) Ranks rescaled to interval [0, 1].\n",
    "        - rank(method='first') Ranks. Ties go to first value.\n",
    "    - Acumulaciones de grupos:\n",
    "        - cumsum() Cumulative sum.\n",
    "        - cummax() Cumulative max.\n",
    "        - cummin() Cumulative min.\n",
    "        - cumprod() Cumulative product.    \n",
    "[[enlace]](#A00)."
   ]
  },
  {
   "cell_type": "code",
   "execution_count": 214,
   "metadata": {},
   "outputs": [
    {
     "name": "stdout",
     "output_type": "stream",
     "text": [
      "       Fecha  Ventas  Ventas_anterior  Ventas_siguiente\n",
      "0 2022-01-01     100              NaN             150.0\n",
      "1 2022-01-02     150            100.0             200.0\n",
      "2 2022-01-03     200            150.0             120.0\n",
      "3 2022-01-04     120            200.0             180.0\n",
      "4 2022-01-05     180            120.0               NaN\n"
     ]
    }
   ],
   "source": [
    "### Copia de valores cambiados o desplazados (shift(1 | -1))\n",
    "\n",
    "# Crear un DataFrame de ejemplo\n",
    "data = {'Fecha': pd.date_range(start='2022-01-01', end='2022-01-05'),\n",
    "        'Ventas': [100, 150, 200, 120, 180]}\n",
    "df = pd.DataFrame(data)\n",
    "\n",
    "# Crear una nueva columna con los valores desplazados hacia abajo\n",
    "df['Ventas_anterior'] = df['Ventas'].shift(1)\n",
    "\n",
    "# Crear una nueva columna con los valores desplazados hacia arriba\n",
    "df['Ventas_siguiente'] = df['Ventas'].shift(-1)\n",
    "\n",
    "# Imprimir el DataFrame resultante\n",
    "print(df)"
   ]
  },
  {
   "cell_type": "code",
   "execution_count": 215,
   "metadata": {},
   "outputs": [
    {
     "name": "stdout",
     "output_type": "stream",
     "text": [
      "  Grupo  Valores  Ranking_dense  Ranking_min  Ranking_pct  Ranking_first\n",
      "0     A       10            1.0          1.0          0.5            1.0\n",
      "1     A       20            2.0          2.0          1.0            2.0\n",
      "2     B       15            1.0          1.0          0.5            1.0\n",
      "3     B       25            2.0          2.0          1.0            2.0\n",
      "4     C       30            1.0          1.0          0.5            1.0\n",
      "5     C       40            2.0          2.0          1.0            2.0\n"
     ]
    }
   ],
   "source": [
    "#### Ranking\n",
    "\n",
    "# Crear un DataFrame de ejemplo\n",
    "data = {'Grupo': ['A', 'A', 'B', 'B', 'C', 'C'],\n",
    "        'Valores': [10, 20, 15, 25, 30, 40]}\n",
    "df = pd.DataFrame(data)\n",
    "\n",
    "# Realizar el ranking de grupos usando el método 'dense'\n",
    "df['Ranking_dense'] = df.groupby('Grupo')['Valores'].rank(method='dense')\n",
    "\n",
    "# Realizar el ranking de grupos usando el método 'min'\n",
    "df['Ranking_min'] = df.groupby('Grupo')['Valores'].rank(method='min')\n",
    "\n",
    "# Realizar el ranking de grupos con valores porcentuales\n",
    "df['Ranking_pct'] = df.groupby('Grupo')['Valores'].rank(pct=True)\n",
    "\n",
    "# Realizar el ranking de grupos usando el método 'first'\n",
    "df['Ranking_first'] = df.groupby('Grupo')['Valores'].rank(method='first')\n",
    "\n",
    "# Imprimir el DataFrame resultante\n",
    "print(df)"
   ]
  },
  {
   "cell_type": "markdown",
   "metadata": {},
   "source": [
    "#### Tabla de métodos para Ranking\n",
    "\n",
    "\n",
    "| Método     | Descripción                                                                                                 |\n",
    "|:-----------|:-----------------------------------------------------------------------------------------------------------|\n",
    "| 'average'  | Asigna rangos promedio en caso de empates. Por ejemplo, si hay dos valores con el mismo rango, se les asignará el promedio de esos rangos.        |\n",
    "| 'min'      | Asigna el rango mínimo en caso de empates. Por ejemplo, si hay dos valores con el mismo rango, se les asignará el rango más bajo.                   |\n",
    "| 'max'      | Asigna el rango máximo en caso de empates. Por ejemplo, si hay dos valores con el mismo rango, se les asignará el rango más alto.                    |\n",
    "| 'first'    | Asigna el rango en función del orden de aparición de los valores. En caso de empates, se asigna el rango del primer valor encontrado.                    |\n",
    "| 'dense'    | Asigna rangos sin espacios. Por ejemplo, si hay dos valores con el mismo rango, se les asignarán rangos consecutivos sin espacios entre ellos.         |\n",
    "| 'ordinal'  | Asigna rangos en función del orden de aparición de los valores, sin tener en cuenta los empates. Por ejemplo, si hay dos valores con el mismo rango, se les asignarán rangos consecutivos sin espacios. |\n",
    "| 'pct'      | Asigna rangos rescalados en el intervalo [0, 1], donde 0 representa el valor mínimo y 1 representa el valor máximo.                                                  |\n",
    "                                              |\n"
   ]
  },
  {
   "cell_type": "code",
   "execution_count": 130,
   "metadata": {},
   "outputs": [
    {
     "name": "stdout",
     "output_type": "stream",
     "text": [
      "  Grupo  Valor  CumulativeSum  CumulativeMax  CumulativeMin  CumulativeProduct\n",
      "0     A     10             10             10             10                 10\n",
      "1     A      5             15             10              5                 50\n",
      "2     B      7              7              7              7                  7\n",
      "3     B     12             19             12              7                 84\n",
      "4     C      8              8              8              8                  8\n",
      "5     C      3             11              8              3                 24\n"
     ]
    }
   ],
   "source": [
    "### Acumulaciones de grupos:\n",
    "\n",
    "# Crear DataFrame de ejemplo\n",
    "data = {\n",
    "    'Grupo': ['A', 'A', 'B', 'B', 'C', 'C'],\n",
    "    'Valor': [10, 5, 7, 12, 8, 3]\n",
    "}\n",
    "df = pd.DataFrame(data)\n",
    "\n",
    "# Cumulative sum por grupo\n",
    "df['CumulativeSum'] = df.groupby('Grupo')['Valor'].cumsum()\n",
    "\n",
    "# Cumulative max por grupo\n",
    "df['CumulativeMax'] = df.groupby('Grupo')['Valor'].cummax()\n",
    "\n",
    "# Cumulative min por grupo\n",
    "df['CumulativeMin'] = df.groupby('Grupo')['Valor'].cummin()\n",
    "\n",
    "# Cumulative product por grupo\n",
    "df['CumulativeProduct'] = df.groupby('Grupo')['Valor'].cumprod()\n",
    "\n",
    "# Imprimir DataFrame resultante\n",
    "print(df)"
   ]
  },
  {
   "cell_type": "markdown",
   "metadata": {},
   "source": [
    "#### Tabla de métodos para acumulacion\n",
    "\n",
    "<style>\n",
    "table {\n",
    "    align: left;\n",
    "}\n",
    "</style>\n",
    "\n",
    "| Método         | Descripción                                    |\n",
    "|:-------------- |:---------------------------------------------- |\n",
    "| `cumsum()`     | Calcula la suma acumulativa de los valores      |\n",
    "| `cummax()`     | Obtiene el máximo acumulativo de los valores    |\n",
    "| `cummin()`     | Obtiene el mínimo acumulativo de los valores    |\n",
    "| `cumprod()`    | Calcula el producto acumulativo de los valores  |\n",
    "\n"
   ]
  },
  {
   "cell_type": "code",
   "execution_count": null,
   "metadata": {},
   "outputs": [],
   "source": []
  },
  {
   "cell_type": "code",
   "execution_count": null,
   "metadata": {},
   "outputs": [],
   "source": []
  },
  {
   "cell_type": "code",
   "execution_count": null,
   "metadata": {},
   "outputs": [],
   "source": []
  },
  {
   "cell_type": "code",
   "execution_count": null,
   "metadata": {},
   "outputs": [],
   "source": []
  },
  {
   "cell_type": "code",
   "execution_count": null,
   "metadata": {},
   "outputs": [],
   "source": []
  }
 ],
 "metadata": {
  "kernelspec": {
   "display_name": "Python 3",
   "language": "python",
   "name": "python3"
  },
  "language_info": {
   "codemirror_mode": {
    "name": "ipython",
    "version": 3
   },
   "file_extension": ".py",
   "mimetype": "text/x-python",
   "name": "python",
   "nbconvert_exporter": "python",
   "pygments_lexer": "ipython3",
   "version": "3.7.6"
  }
 },
 "nbformat": 4,
 "nbformat_minor": 4
}
