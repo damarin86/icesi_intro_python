{
 "cells": [
  {
   "cell_type": "markdown",
   "metadata": {},
   "source": [
    "# Unidad 7 - Introducción a la algoritmia con Python\n",
    "#### Elementos básicos de Python\n",
    " \n",
    "# Demo Uso de Diccionarios\n",
    "\n",
    "En este notebook vas a encontrar ejemplos relacionados con la utilización de diccionarios Python. Recuerda que siempre puedes ir a la referencia si tienes alguna duda [Ir a la referencia](https://docs.python.org/3.9/library/index.html) / [referencia directa a diccionarios y sus métodos](https://docs.python.org/3/tutorial/datastructures.html)\n",
    "\n",
    "##### Contenido de este archivo:\n",
    "\n",
    "1. creación ----> {\"key\":\"value\"}\n",
    "2. modificación adición ----> dicc[\"key\"] = \"value\"\n",
    "3. modificación actualización ----> dicc.update({\"key\":\"value\"})\n",
    "4. copiar ----> dicc.copy()\n",
    "5. eliminar ----> dicc.pop(\"key\") / del dicc[\"key\"] / dicc.clear()"
   ]
  },
  {
   "cell_type": "markdown",
   "metadata": {},
   "source": [
    "### 1. Creación\n",
    "##### {\"key\":\"value\"}"
   ]
  },
  {
   "cell_type": "code",
   "execution_count": 1,
   "metadata": {},
   "outputs": [
    {
     "name": "stdout",
     "output_type": "stream",
     "text": [
      "{'nombre': 'Jose', 'apellido': 'Moncada', 'edad': 36}\n",
      "Jose\n",
      "Moncada\n",
      "dict_keys(['nombre', 'apellido', 'edad'])\n",
      "dict_values(['Jose', 'Moncada', 36])\n"
     ]
    }
   ],
   "source": [
    "diccionario = {\"nombre\":\"Jose\", \"apellido\":\"Moncada\", \"edad\":36}\n",
    "\n",
    "# vemos el diccionario completo\n",
    "print(diccionario)\n",
    "\n",
    "# vemos el valor asignado para la llave \"nombre\"\n",
    "print(diccionario[\"nombre\"])\n",
    "\n",
    "# vemos el valor asignado para la llave \"apellido\"\n",
    "print(diccionario.get(\"apellido\"))\n",
    "\n",
    "# Algunos métodos built-in\n",
    "\n",
    "# Para ver las llaves\n",
    "print(diccionario.keys())\n",
    "\n",
    "# Para ver los valores\n",
    "print(diccionario.values())"
   ]
  },
  {
   "cell_type": "markdown",
   "metadata": {},
   "source": [
    "### 2. Modificación adición\n",
    "##### dicc[\"key\"] = \"value\""
   ]
  },
  {
   "cell_type": "code",
   "execution_count": 7,
   "metadata": {},
   "outputs": [
    {
     "name": "stdout",
     "output_type": "stream",
     "text": [
      "{'nombre': 'Jose', 'apellido': 'Moncada', 'edad': 35, 'pregrado': 'Diseño de Medios Interactivos'}\n",
      "{'nombre': 'Jose', 'apellido': 'Moncada', 'edad': 35, 'pregrado': 'Otro pregrado'}\n"
     ]
    }
   ],
   "source": [
    "# Podemos adicionar nuevas llaves\n",
    "diccionario = {\"nombre\":\"Jose\", \"apellido\":\"Moncada\", \"edad\":36}\n",
    "# usando la notación de [\"Llave\"]\n",
    "diccionario[\"pregrado\"] = \"Diseño de Medios Interactivos\"\n",
    "print(diccionario)\n",
    "# se sobreescribe si ya existe\n",
    "diccionario[\"pregrado\"] = \"Otro pregrado\"\n",
    "print(diccionario)"
   ]
  },
  {
   "cell_type": "markdown",
   "metadata": {},
   "source": [
    "### 3. Modificación actualización\n",
    "##### dicc.update({\"key\":\"value\"})"
   ]
  },
  {
   "cell_type": "code",
   "execution_count": 2,
   "metadata": {},
   "outputs": [
    {
     "name": "stdout",
     "output_type": "stream",
     "text": [
      "{'nombre': 'Jose Andrés', 'apellido': 'Moncada', 'edad': 36, 'nacionalidad': 'Colombiano'}\n"
     ]
    }
   ],
   "source": [
    "# Podemos adicionar realizar actualizaciones y adiciones usando\n",
    "diccionario = {\"nombre\":\"Jose\", \"apellido\":\"Moncada\", \"edad\":36}\n",
    "diccionario.update({\"nombre\":\"Jose Andrés\", \"nacionalidad\":\"Colombiano\"})\n",
    "print(diccionario)\n",
    "# Se observa que se modificó pero tambien se adicionó"
   ]
  },
  {
   "cell_type": "markdown",
   "metadata": {},
   "source": [
    "### 4. Copiar\n",
    "##### dicc.copy()"
   ]
  },
  {
   "cell_type": "code",
   "execution_count": 4,
   "metadata": {},
   "outputs": [
    {
     "name": "stdout",
     "output_type": "stream",
     "text": [
      "{'nombre': 'Jose', 'apellido': 'Moncada', 'edad': 35}\n",
      "{'nombre': 'Jose', 'apellido': 'Moncada', 'edad': 35}\n"
     ]
    }
   ],
   "source": [
    "# Podemos adicionar realizar actualizaciones y adiciones usando\n",
    "diccionario = {\"nombre\":\"Jose\", \"apellido\":\"Moncada\", \"edad\":35}\n",
    "copia_diccionario = diccionario.copy()\n",
    "# Observamos que ha realizado una copia completa\n",
    "print(diccionario)\n",
    "# copia_diccionario[\"nombre\"] = \"Andrés\"\n",
    "print(copia_diccionario)\n",
    "# este comportamiento puede tener impacto en las referencias."
   ]
  },
  {
   "cell_type": "markdown",
   "metadata": {},
   "source": [
    "### 5. Eliminar\n",
    "##### dicc.pop(\"key\") / del dicc[\"key\"] / dicc.clear()"
   ]
  },
  {
   "cell_type": "code",
   "execution_count": 10,
   "metadata": {},
   "outputs": [
    {
     "name": "stdout",
     "output_type": "stream",
     "text": [
      "{'nombre': 'Jose', 'apellido': 'Moncada', 'edad': 36}\n"
     ]
    }
   ],
   "source": [
    "# Podemos adicionar realizar eliminaciones de llaves y valores\n",
    "diccionario = {\"nombre\":\"Jose\", \"apellido\":\"Moncada\", \"edad\":36}\n",
    "print(diccionario)"
   ]
  },
  {
   "cell_type": "code",
   "execution_count": 11,
   "metadata": {},
   "outputs": [
    {
     "name": "stdout",
     "output_type": "stream",
     "text": [
      "36\n",
      "{'nombre': 'Jose', 'apellido': 'Moncada'}\n"
     ]
    }
   ],
   "source": [
    "# usando el método pop, eliminamos y obtenemos (lo podemos guardar en una variable)\n",
    "valor_elemento = diccionario.pop(\"edad\")\n",
    "print(valor_elemento)\n",
    "print(diccionario)"
   ]
  },
  {
   "cell_type": "code",
   "execution_count": 12,
   "metadata": {},
   "outputs": [
    {
     "name": "stdout",
     "output_type": "stream",
     "text": [
      "{'apellido': 'Moncada'}\n"
     ]
    }
   ],
   "source": [
    "# podemos usar la funcion *del* para eliminar\n",
    "del diccionario[\"nombre\"]\n",
    "print(diccionario)"
   ]
  },
  {
   "cell_type": "code",
   "execution_count": 13,
   "metadata": {},
   "outputs": [
    {
     "name": "stdout",
     "output_type": "stream",
     "text": [
      "{}\n"
     ]
    }
   ],
   "source": [
    "# podemos limpiar completamente el diccionario\n",
    "diccionario.clear()\n",
    "print(diccionario)"
   ]
  },
  {
   "cell_type": "code",
   "execution_count": null,
   "metadata": {},
   "outputs": [],
   "source": []
  }
 ],
 "metadata": {
  "kernelspec": {
   "display_name": "Python 3",
   "language": "python",
   "name": "python3"
  },
  "language_info": {
   "codemirror_mode": {
    "name": "ipython",
    "version": 3
   },
   "file_extension": ".py",
   "mimetype": "text/x-python",
   "name": "python",
   "nbconvert_exporter": "python",
   "pygments_lexer": "ipython3",
   "version": "3.7.6"
  }
 },
 "nbformat": 4,
 "nbformat_minor": 4
}
