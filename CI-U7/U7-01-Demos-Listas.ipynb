{
 "cells": [
  {
   "cell_type": "markdown",
   "metadata": {},
   "source": [
    "# Unidad 7 - Introducción a la algoritmia con Python\n",
    "#### Elementos básicos de Python\n",
    " \n",
    "# Demo Uso de Listas\n",
    "\n",
    "En este notebook vas a encontrar ejemplos relacionados con la utilización de listas Python. Recuerda que siempre puedes ir a la referencia si tienes alguna duda [Ir a la referencia](https://docs.python.org/3.9/library/index.html) / [referencia directa a listas y sus métodos](https://docs.python.org/3/tutorial/datastructures.html)\n",
    "\n",
    "##### Contenido de este archivo:\n",
    "\n",
    "1. creación ----> [elementos]\n",
    "2. acceso ----> [indice] / [-indice]\n",
    "3. acceso parcial ----> [inicio : fin] / [inicio : ] / [  : fin]\n",
    "4. operar (adición o concatenación) ----> append(item) / + / insert(index, item) / [lista1, ista2]\n",
    "5. operar (eliminar) ----> remove(item) / pop(index) / del lista[index]\n",
    "6. operar (ordenar) ----> sort() / sort(reverse = True)\n",
    "7. operar (copiar)  ----> copy() / [inicio : final]\n"
   ]
  },
  {
   "cell_type": "markdown",
   "metadata": {},
   "source": [
    "### 1. Creación de listas"
   ]
  },
  {
   "cell_type": "code",
   "execution_count": 1,
   "metadata": {},
   "outputs": [
    {
     "name": "stdout",
     "output_type": "stream",
     "text": [
      "<class 'list'> ['Viviana', 'Andrés', 'Jose', 'Luisa', 'Daniel', 'Antonio', 'Sandra']\n",
      "<class 'list'> [1987, 1988, 1989, 1990, 1991, 1992, 1993]\n",
      "<class 'list'> [True, False, False, True, True, True]\n",
      "<class 'list'> [True, False, 'Viviana', 'Andrés', 1991, 1992]\n"
     ]
    }
   ],
   "source": [
    "# Si tienes un conjunto de datos que pertenecen\n",
    "# a la misma categoría, y deseas almacenarlos...\n",
    "\n",
    "# Puedes almacenar cadenas de texto\n",
    "nombres = [\"Viviana\", \"Andrés\", \"Jose\", \"Luisa\", \"Daniel\", \"Antonio\", \"Sandra\"]\n",
    "# Puedes almacenar números\n",
    "años = [1987, 1988, 1989, 1990, 1991, 1992, 1993]\n",
    "# Puedes almacenar booleanos\n",
    "estados = [True, False, False, True, True, True]\n",
    "\n",
    "# En general cualquier tipo de dato primitivo o referenciado\n",
    "\n",
    "# Tambien aunque menos recomendable puedes guardar multiples tipos\n",
    "mix = [True, False, \"Viviana\", \"Andrés\", 1991, 1992] # No tan buena idea... pero se puede.\n",
    "\n",
    "# el tipo referenciado es:\n",
    "print(type(nombres), nombres)\n",
    "print(type(años), años)\n",
    "print(type(estados), estados)\n",
    "print(type(mix), mix)"
   ]
  },
  {
   "cell_type": "markdown",
   "metadata": {},
   "source": [
    "### 2. Acceso ( [indice] / [-indice] )"
   ]
  },
  {
   "cell_type": "code",
   "execution_count": 35,
   "metadata": {},
   "outputs": [],
   "source": [
    "# Asumamos la siguiente lista como base para los ejemplos\n",
    "nombres = [\"Viviana\", \"Andrés\", \"Jose\", \"Luisa\", \"Daniel\", \"Antonio\", \"Sandra\"]"
   ]
  },
  {
   "cell_type": "code",
   "execution_count": 5,
   "metadata": {},
   "outputs": [
    {
     "name": "stdout",
     "output_type": "stream",
     "text": [
      "Viviana\n",
      "Viviana\n"
     ]
    }
   ],
   "source": [
    "# el acceso depende del índice generalmente\n",
    "print(nombres[0])\n",
    "# se puede asignar a nuevas variables\n",
    "primera_posicion = nombres[0]\n",
    "print(primera_posicion)"
   ]
  },
  {
   "cell_type": "code",
   "execution_count": 8,
   "metadata": {},
   "outputs": [
    {
     "name": "stdout",
     "output_type": "stream",
     "text": [
      "Sandra\n",
      "Antonio\n",
      "Daniel\n"
     ]
    }
   ],
   "source": [
    "# los valores negativos se cuentan desde la cola\n",
    "print(nombres[-1])\n",
    "print(nombres[-2])\n",
    "print(nombres[-3])"
   ]
  },
  {
   "cell_type": "markdown",
   "metadata": {},
   "source": [
    "### 3. Acceso parcial ([inicio : fin] / [inicio : ] / [  : fin])"
   ]
  },
  {
   "cell_type": "code",
   "execution_count": 38,
   "metadata": {},
   "outputs": [],
   "source": [
    "# Podemos hacer acceso por rangos usando la notación [inicio:final]\n",
    "# asumamos la siguiente lista\n",
    "años = [1987, 1988, 1989, 1990, 1991, 1992, 1993]"
   ]
  },
  {
   "cell_type": "code",
   "execution_count": 10,
   "metadata": {},
   "outputs": [
    {
     "data": {
      "text/plain": [
       "[1989, 1990, 1991]"
      ]
     },
     "execution_count": 10,
     "metadata": {},
     "output_type": "execute_result"
    }
   ],
   "source": [
    "# acceso por rango completo\n",
    "años[2:5]"
   ]
  },
  {
   "cell_type": "code",
   "execution_count": 11,
   "metadata": {},
   "outputs": [
    {
     "name": "stdout",
     "output_type": "stream",
     "text": [
      "[1990, 1991, 1992, 1993]\n"
     ]
    }
   ],
   "source": [
    "# acceso por desde inicio hasta el final*\n",
    "print(años[3:])"
   ]
  },
  {
   "cell_type": "code",
   "execution_count": 41,
   "metadata": {},
   "outputs": [
    {
     "name": "stdout",
     "output_type": "stream",
     "text": [
      "[1987, 1988, 1989, 1990, 1991]\n"
     ]
    }
   ],
   "source": [
    "# acceso por desde inicio* hasta el final\n",
    "print(años[:5])"
   ]
  },
  {
   "cell_type": "markdown",
   "metadata": {},
   "source": [
    "### 4. operar (adición o concatenación) \n",
    "#### ( append(item) / + / insert(index, item) / [lista1, lista2] )"
   ]
  },
  {
   "cell_type": "code",
   "execution_count": 12,
   "metadata": {},
   "outputs": [
    {
     "name": "stdout",
     "output_type": "stream",
     "text": [
      "['tigre', 'león', 'gato', 'jaguar']\n"
     ]
    }
   ],
   "source": [
    "# Asumamosla siguiente lista\n",
    "felinos = [\"tigre\", \"león\", \"gato\", \"jaguar\"]\n",
    "print(felinos)"
   ]
  },
  {
   "cell_type": "code",
   "execution_count": 13,
   "metadata": {},
   "outputs": [
    {
     "name": "stdout",
     "output_type": "stream",
     "text": [
      "['tigre', 'león', 'gato', 'jaguar', 'lince']\n"
     ]
    }
   ],
   "source": [
    "# Podemos agregar nuevos elementos (al final de la lista)\n",
    "felinos.append(\"lince\")\n",
    "print(felinos)"
   ]
  },
  {
   "cell_type": "code",
   "execution_count": 15,
   "metadata": {},
   "outputs": [
    {
     "name": "stdout",
     "output_type": "stream",
     "text": [
      "['lobo', 'perro', 'coyote', 'dingo']\n"
     ]
    }
   ],
   "source": [
    "# Asumamosla una segunda lista\n",
    "caninos = [\"lobo\", \"perro\", \"coyote\", \"dingo\"]\n",
    "print(caninos)"
   ]
  },
  {
   "cell_type": "code",
   "execution_count": 16,
   "metadata": {},
   "outputs": [
    {
     "name": "stdout",
     "output_type": "stream",
     "text": [
      "['lobo', 'perro', 'coyote', 'dingo', 'tigre', 'león', 'gato', 'jaguar', 'lince']\n"
     ]
    }
   ],
   "source": [
    "# vamos a unir las 2 listas caninos y felinos\n",
    "caninos_y_felinos = caninos + felinos\n",
    "print(caninos_y_felinos)\n",
    "# Observa el orden en que quedaron"
   ]
  },
  {
   "cell_type": "code",
   "execution_count": 17,
   "metadata": {},
   "outputs": [
    {
     "name": "stdout",
     "output_type": "stream",
     "text": [
      "['tigre', 'león', 'gato', 'jaguar', 'lince', 'lobo', 'perro', 'coyote', 'dingo']\n"
     ]
    }
   ],
   "source": [
    "# vamos a unir las 2 listas felinos y caninos\n",
    "felinos_y_caninos = felinos + caninos\n",
    "print(felinos_y_caninos)\n",
    "# Observa el orden en que quedaron"
   ]
  },
  {
   "cell_type": "code",
   "execution_count": 34,
   "metadata": {},
   "outputs": [
    {
     "name": "stdout",
     "output_type": "stream",
     "text": [
      "[5, 4, 6, 8, 9, 0]\n"
     ]
    }
   ],
   "source": [
    "# Asumamos una nueva lista\n",
    "numeros = [5,4,6,8,9,0]\n",
    "print(numeros)"
   ]
  },
  {
   "cell_type": "code",
   "execution_count": 35,
   "metadata": {},
   "outputs": [
    {
     "name": "stdout",
     "output_type": "stream",
     "text": [
      "[1, 5, 4, 6, 8, 9, 0]\n"
     ]
    }
   ],
   "source": [
    "# podemos insertar valores en cualquier posición usando su índice\n",
    "numeros.insert(0, 1) # indice 0 y valor 1\n",
    "print(numeros)"
   ]
  },
  {
   "cell_type": "code",
   "execution_count": 36,
   "metadata": {},
   "outputs": [
    {
     "name": "stdout",
     "output_type": "stream",
     "text": [
      "[['tigre', 'león', 'gato', 'jaguar', 'lince'], ['lobo', 'perro', 'coyote', 'dingo'], [1, 5, 4, 6, 8, 9, 0]]\n"
     ]
    }
   ],
   "source": [
    "## una forma más de agrupar\n",
    "mix_de_listas = [felinos, caninos, numeros]\n",
    "print(mix_de_listas);"
   ]
  },
  {
   "cell_type": "markdown",
   "metadata": {},
   "source": [
    "### 5. Operar (eliminar)\n",
    "#### remove(item) / pop(index) / del lista[index]"
   ]
  },
  {
   "cell_type": "code",
   "execution_count": 43,
   "metadata": {},
   "outputs": [
    {
     "name": "stdout",
     "output_type": "stream",
     "text": [
      "['Moncada', 'Perez', 'Torres', 'Saldarriaga']\n"
     ]
    }
   ],
   "source": [
    "# Asuamos la siguiente lista\n",
    "apellidos = [\"Moncada\", \"Perez\", \"Torres\", \"Saldarriaga\"]\n",
    "print(apellidos)"
   ]
  },
  {
   "cell_type": "code",
   "execution_count": 44,
   "metadata": {},
   "outputs": [
    {
     "name": "stdout",
     "output_type": "stream",
     "text": [
      "['Moncada', 'Torres', 'Saldarriaga']\n"
     ]
    }
   ],
   "source": [
    "# Podemos eliminar cualquier ítem\n",
    "apellidos.remove(\"Perez\")\n",
    "print(apellidos)"
   ]
  },
  {
   "cell_type": "code",
   "execution_count": 45,
   "metadata": {},
   "outputs": [
    {
     "name": "stdout",
     "output_type": "stream",
     "text": [
      "Torres\n",
      "['Moncada', 'Saldarriaga']\n"
     ]
    }
   ],
   "source": [
    "# tambien podemos sacar un valor para usarlo\n",
    "apellido_obtenido = apellidos.pop(1);\n",
    "print(apellido_obtenido)\n",
    "print(apellidos)"
   ]
  },
  {
   "cell_type": "code",
   "execution_count": 46,
   "metadata": {},
   "outputs": [
    {
     "name": "stdout",
     "output_type": "stream",
     "text": [
      "['Moncada']\n"
     ]
    }
   ],
   "source": [
    "del apellidos[1]\n",
    "print(apellidos)"
   ]
  },
  {
   "cell_type": "markdown",
   "metadata": {},
   "source": [
    "### 6. Operar (ordenar)\n",
    "#### sort() / sort(reverse = True)"
   ]
  },
  {
   "cell_type": "code",
   "execution_count": 3,
   "metadata": {},
   "outputs": [
    {
     "name": "stdout",
     "output_type": "stream",
     "text": [
      "[0, 1, 2, 4, 3, 5, 6, 8, 9, 7]\n"
     ]
    }
   ],
   "source": [
    "# Asumamos la siguiente lista\n",
    "secuencia_numeros = [0, 1, 2, 4, 3, 5, 6, 8, 9, 7]\n",
    "print(secuencia_numeros)"
   ]
  },
  {
   "cell_type": "code",
   "execution_count": 4,
   "metadata": {},
   "outputs": [
    {
     "name": "stdout",
     "output_type": "stream",
     "text": [
      "[0, 1, 2, 3, 4, 5, 6, 7, 8, 9]\n"
     ]
    }
   ],
   "source": [
    "# Podemos ordenarlo (ascendente)\n",
    "secuencia_numeros.sort()\n",
    "print(secuencia_numeros)"
   ]
  },
  {
   "cell_type": "code",
   "execution_count": 6,
   "metadata": {},
   "outputs": [
    {
     "name": "stdout",
     "output_type": "stream",
     "text": [
      "[9, 8, 7, 6, 5, 4, 3, 2, 1, 0]\n"
     ]
    }
   ],
   "source": [
    "# Podemos ordenarlo (descendente)\n",
    "secuencia_numeros.sort(reverse=True)\n",
    "print(secuencia_numeros)"
   ]
  },
  {
   "cell_type": "markdown",
   "metadata": {},
   "source": [
    "### 7. operar (copiar)  \n",
    "#### copy() / [inicio : final]"
   ]
  },
  {
   "cell_type": "code",
   "execution_count": 7,
   "metadata": {},
   "outputs": [
    {
     "name": "stdout",
     "output_type": "stream",
     "text": [
      "['Kia', 'BMW', 'Mercedes', 'Renault', 'Chevrolet']\n"
     ]
    }
   ],
   "source": [
    "# Asumamos la siguiente lista\n",
    "marcas_autos = [\"Kia\", \"BMW\", \"Mercedes\", \"Renault\", \"Chevrolet\"]\n",
    "print(marcas_autos)"
   ]
  },
  {
   "cell_type": "code",
   "execution_count": 8,
   "metadata": {},
   "outputs": [
    {
     "name": "stdout",
     "output_type": "stream",
     "text": [
      "['Kia', 'BMW', 'Mercedes', 'Renault', 'Chevrolet']\n"
     ]
    }
   ],
   "source": [
    "# Podemos realizar una copia completa\n",
    "copia_marcas_autos = marcas_autos.copy()\n",
    "print(copia_marcas_autos)"
   ]
  },
  {
   "cell_type": "code",
   "execution_count": 9,
   "metadata": {},
   "outputs": [
    {
     "name": "stdout",
     "output_type": "stream",
     "text": [
      "['Mercedes', 'Renault', 'Chevrolet']\n"
     ]
    }
   ],
   "source": [
    "# Tambien podemos hacerlo por segmento\n",
    "copia_parcial_marcas_autos = marcas_autos[2:5]\n",
    "print(copia_parcial_marcas_autos)"
   ]
  },
  {
   "cell_type": "markdown",
   "metadata": {},
   "source": [
    "**Se pueden presentar algunas situaciones puntuales con las referencias, en archivo/video hablaremos de ello en detalle.**"
   ]
  },
  {
   "cell_type": "markdown",
   "metadata": {},
   "source": [
    "### Otras funciones por conocer:"
   ]
  },
  {
   "cell_type": "markdown",
   "metadata": {},
   "source": [
    "###### Agregar elementos en bloque - extend()"
   ]
  },
  {
   "cell_type": "code",
   "execution_count": 10,
   "metadata": {},
   "outputs": [
    {
     "name": "stdout",
     "output_type": "stream",
     "text": [
      "Punto 1:  ['a', 'b', 'c']\n",
      "Punto 2:  ['a', 'b', 'c', 'd', 'e', 'f']\n"
     ]
    }
   ],
   "source": [
    "letras = ['a','b','c']\n",
    "print(\"Punto 1: \",letras)\n",
    "letras.extend(['d','e','f'])\n",
    "print(\"Punto 2: \",letras)"
   ]
  },
  {
   "cell_type": "markdown",
   "metadata": {},
   "source": [
    "###### Conteo de elementos - count()"
   ]
  },
  {
   "cell_type": "code",
   "execution_count": 13,
   "metadata": {},
   "outputs": [
    {
     "name": "stdout",
     "output_type": "stream",
     "text": [
      "2\n"
     ]
    }
   ],
   "source": [
    "letras = ['a','b','c','c','C','C'] # case-sensitive\n",
    "print(letras.count('C'))"
   ]
  },
  {
   "cell_type": "markdown",
   "metadata": {},
   "source": [
    "###### Invertir el orden de los elementos - reverse()"
   ]
  },
  {
   "cell_type": "code",
   "execution_count": 14,
   "metadata": {},
   "outputs": [
    {
     "name": "stdout",
     "output_type": "stream",
     "text": [
      "[10, 8, 6, 4, 2]\n"
     ]
    }
   ],
   "source": [
    "numeros = [2,4,6,8,10]\n",
    "numeros.reverse()\n",
    "print(numeros)"
   ]
  },
  {
   "cell_type": "code",
   "execution_count": 63,
   "metadata": {},
   "outputs": [
    {
     "name": "stdout",
     "output_type": "stream",
     "text": [
      "['c', 'b', 'a']\n"
     ]
    }
   ],
   "source": [
    "letras = [\"a\",\"b\",\"c\"]\n",
    "letras.reverse()\n",
    "print(letras)"
   ]
  }
 ],
 "metadata": {
  "kernelspec": {
   "display_name": "Python 3",
   "language": "python",
   "name": "python3"
  },
  "language_info": {
   "codemirror_mode": {
    "name": "ipython",
    "version": 3
   },
   "file_extension": ".py",
   "mimetype": "text/x-python",
   "name": "python",
   "nbconvert_exporter": "python",
   "pygments_lexer": "ipython3",
   "version": "3.7.6"
  }
 },
 "nbformat": 4,
 "nbformat_minor": 4
}
