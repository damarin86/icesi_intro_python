{
 "cells": [
  {
   "cell_type": "markdown",
   "metadata": {},
   "source": [
    "# Unidad 7 - Introducción a la algoritmia con Python\n",
    "#### Elementos básicos de Python\n",
    " \n",
    "# Demo valores y referencias\n",
    "\n",
    "En este notebook vas a encontrar ejemplos relacionados con el uso de valores y referencias en Python. Recuerda que siempre puedes ir a la referencia si tienes alguna duda [Ir a la referencia](https://docs.python.org/3.9/library/index.html)\n",
    "\n",
    "##### Contenido de este archivo:\n",
    "\n",
    "- Demostración valor versus referencia"
   ]
  },
  {
   "cell_type": "code",
   "execution_count": 1,
   "metadata": {},
   "outputs": [
    {
     "name": "stdout",
     "output_type": "stream",
     "text": [
      "valor en una cadena / valor en una cadena\n",
      "valor en una cadena / Un nuevo valor de cadena\n"
     ]
    }
   ],
   "source": [
    "cadena = \"valor en una cadena\"\n",
    "otraCadena = cadena\n",
    "print(cadena, \"/\" , otraCadena)\n",
    "otraCadena = \"Un nuevo valor de cadena\"\n",
    "print(cadena, \"/\" , otraCadena)\n",
    "\n",
    "# los primitivos son int, float, boolean, str"
   ]
  },
  {
   "cell_type": "code",
   "execution_count": 7,
   "metadata": {},
   "outputs": [
    {
     "name": "stdout",
     "output_type": "stream",
     "text": [
      "[0, 1, 2, 3, 4] / [0, 1, 2, 3, 4]\n"
     ]
    }
   ],
   "source": [
    "#las secuencias o datos complejos, son conocidos como referenciados.\n",
    "listado = [0,1,2,3]\n",
    "otroListado = listado\n",
    "otroListado.append(4)\n",
    "print(listado, \"/\" , otroListado)"
   ]
  },
  {
   "cell_type": "code",
   "execution_count": 8,
   "metadata": {},
   "outputs": [
    {
     "name": "stdout",
     "output_type": "stream",
     "text": [
      "Andrés Andrés\n"
     ]
    }
   ],
   "source": [
    "# la misma situación se presenta con los objetos\n",
    "class Persona:\n",
    "    def __init__(self, nombre):\n",
    "        self.nombre = nombre\n",
    "        \n",
    "personaA = Persona(\"Jose\")\n",
    "personaB = personaA\n",
    "personaB.nombre = \"Andrés\"\n",
    "print(personaA.nombre, personaB.nombre)"
   ]
  }
 ],
 "metadata": {
  "kernelspec": {
   "display_name": "Python 3",
   "language": "python",
   "name": "python3"
  },
  "language_info": {
   "codemirror_mode": {
    "name": "ipython",
    "version": 3
   },
   "file_extension": ".py",
   "mimetype": "text/x-python",
   "name": "python",
   "nbconvert_exporter": "python",
   "pygments_lexer": "ipython3",
   "version": "3.7.6"
  }
 },
 "nbformat": 4,
 "nbformat_minor": 4
}
