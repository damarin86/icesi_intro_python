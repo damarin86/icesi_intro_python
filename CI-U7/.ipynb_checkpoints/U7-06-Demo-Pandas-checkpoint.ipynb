{
 "cells": [
  {
   "cell_type": "markdown",
   "metadata": {},
   "source": [
    "<a id=\"A00\"></a>"
   ]
  },
  {
   "cell_type": "markdown",
   "metadata": {},
   "source": [
    "# Unidad 7 - Introducción a la algoritmia con Python\n",
    "#### Elementos básicos de Python\n",
    " \n",
    "# Demo Pandas\n",
    "\n",
    "En este notebook vas a encontrar ejemplos relacionados con el uso de la librería Pandas en Python. Recuerda que siempre puedes ir a la referencia si tienes alguna duda [Ir a la referencia](https://docs.python.org/3.9/library/index.html)\n",
    "\n",
    "##### Contenido de este archivo:\n",
    "\n",
    "1. Importar la librería y ver la versión\n",
    "    - [[enlace]](#A01)\n",
    "2. Formas para crear un dataframe\n",
    "    - usando arreglos (listas)\n",
    "    - usando diccionarios\n",
    "    - usando archivo CSV\n",
    "    - [[enlace]](#A02).\n",
    "3. Métodos y atributos de un dataframe\n",
    "    - cabeza (head())\n",
    "    - cola (tail())\n",
    "    - información (info)\n",
    "    - describir estadística (describe)\n",
    "    - forma (shape)\n",
    "    - columnas (columns)\n",
    "    - índice (index)\n",
    "    - [[enlace]](#A03).\n",
    "4. Funciones de Python (built-in) para los dataframes \n",
    "    - obtener mínimo (min())\n",
    "    - obtener máximo (max())\n",
    "    - obtener longitud (len())\n",
    "    - [[enlace]](#A04).\n",
    "5. Acceso y selección de columnas del dataframe\n",
    "    - seleccionar 1 columna usando la notación de corchetes [] (se obtiene una serie)\n",
    "    - seleccionar 1 columna usando la notación de punto . (se obtiene una serie) - no recomendado\n",
    "    - seleccionar varias columnas usando la notación de [[]] (se obtiene dataframe)\n",
    "    - [[enlace]](#A05). \n",
    "6. Agregar información al dataframe\n",
    "    - agregar usando valor fijo    \n",
    "    - agregar usando valores expecíficos\n",
    "    - [[enlace]](#A06).\n",
    "7. Operaciones en las columnas del dataframe\n",
    "    - suma, conteo, promedio, desv. estandar, mínimo, máximo.  \n",
    "    - [[enlace]](#A07).   \n",
    "8. Operaciones en las filas del dataframe\n",
    "    - suma, conteo, promedio, desv. estandar, mínimo, máximo.\n",
    "    - [[enlace]](#A08). \n",
    "9. Conteos por categorías (en columnas) de un dataframe\n",
    "    - conteo simple (value_counts())\n",
    "    - conteo normalizado (value_counts(normalize=True))\n",
    "    - [[enlace]](#A09).    \n",
    "10. Ordenar por columnas de un dataframe\n",
    "    - orden ascendente (sort_values())\n",
    "    - orden descendente (sort_values(ascending=False))\n",
    "    - orden en múltiples columnas ([\"A\", \"B\"], ascending=True/False)\n",
    "    - orden en nuevo o en sitio (inplace = True)\n",
    "    - [[enlace]](#A10)."
   ]
  },
  {
   "cell_type": "markdown",
   "metadata": {},
   "source": [
    "<a id=\"A01\"></a>"
   ]
  },
  {
   "cell_type": "markdown",
   "metadata": {},
   "source": [
    "### 1. importar la librería\n",
    "[[al menú]](#A00)"
   ]
  },
  {
   "cell_type": "code",
   "execution_count": 46,
   "metadata": {
    "scrolled": true
   },
   "outputs": [
    {
     "data": {
      "text/plain": [
       "'1.1.3'"
      ]
     },
     "execution_count": 46,
     "metadata": {},
     "output_type": "execute_result"
    }
   ],
   "source": [
    "# Para importar librerías en Python usamos la sentencia import\n",
    "# podemos agregarle un alias usando as y un nombre\n",
    "# Pandas viene instalado por defecto en Anaconda\n",
    "\n",
    "import pandas as pd\n",
    "pd.__version__"
   ]
  },
  {
   "cell_type": "markdown",
   "metadata": {},
   "source": [
    "<a id=\"A02\"></a>"
   ]
  },
  {
   "cell_type": "markdown",
   "metadata": {},
   "source": [
    "### 2. Formas para crear un dataframe\n",
    "    - usando arreglos (listas)\n",
    "    - usando diccionarios\n",
    "    - usando archivo CSV\n",
    "\n",
    "Puedes usar la que prefiras recuerda que depende del escenario que estés modelando.\n",
    "[[al menú]](#A00)"
   ]
  },
  {
   "cell_type": "markdown",
   "metadata": {},
   "source": [
    "##### 2.1. usando arreglos (listas)"
   ]
  },
  {
   "cell_type": "code",
   "execution_count": 47,
   "metadata": {},
   "outputs": [
    {
     "data": {
      "text/plain": [
       "[['Jose', 'Perez', 31],\n",
       " ['Andrea', 'Lopez', 25],\n",
       " ['Martin', 'Cabrera', 55],\n",
       " ['Guadalupe', 'Zapata', 15]]"
      ]
     },
     "execution_count": 47,
     "metadata": {},
     "output_type": "execute_result"
    }
   ],
   "source": [
    "# Para usar arreglos debemos entender que se generará una lista de listas, \n",
    "# esto quiere decir que cada posición de la primera lista será ocupada por\n",
    "# otra lista que contiene los elementos que tiene cada \"observación\" o fila.\n",
    "datos_crudos = [[\"Jose\",\"Perez\",31],[\"Andrea\",\"Lopez\",25],[\"Martin\",\"Cabrera\",55],[\"Guadalupe\",\"Zapata\",15]]\n",
    "datos_crudos"
   ]
  },
  {
   "cell_type": "code",
   "execution_count": 48,
   "metadata": {},
   "outputs": [
    {
     "name": "stdout",
     "output_type": "stream",
     "text": [
      "<class 'pandas.core.frame.DataFrame'>\n",
      "           0        1   2\n",
      "0       Jose    Perez  31\n",
      "1     Andrea    Lopez  25\n",
      "2     Martin  Cabrera  55\n",
      "3  Guadalupe   Zapata  15\n"
     ]
    },
    {
     "data": {
      "text/html": [
       "<div>\n",
       "<style scoped>\n",
       "    .dataframe tbody tr th:only-of-type {\n",
       "        vertical-align: middle;\n",
       "    }\n",
       "\n",
       "    .dataframe tbody tr th {\n",
       "        vertical-align: top;\n",
       "    }\n",
       "\n",
       "    .dataframe thead th {\n",
       "        text-align: right;\n",
       "    }\n",
       "</style>\n",
       "<table border=\"1\" class=\"dataframe\">\n",
       "  <thead>\n",
       "    <tr style=\"text-align: right;\">\n",
       "      <th></th>\n",
       "      <th>0</th>\n",
       "      <th>1</th>\n",
       "      <th>2</th>\n",
       "    </tr>\n",
       "  </thead>\n",
       "  <tbody>\n",
       "    <tr>\n",
       "      <th>0</th>\n",
       "      <td>Jose</td>\n",
       "      <td>Perez</td>\n",
       "      <td>31</td>\n",
       "    </tr>\n",
       "    <tr>\n",
       "      <th>1</th>\n",
       "      <td>Andrea</td>\n",
       "      <td>Lopez</td>\n",
       "      <td>25</td>\n",
       "    </tr>\n",
       "    <tr>\n",
       "      <th>2</th>\n",
       "      <td>Martin</td>\n",
       "      <td>Cabrera</td>\n",
       "      <td>55</td>\n",
       "    </tr>\n",
       "    <tr>\n",
       "      <th>3</th>\n",
       "      <td>Guadalupe</td>\n",
       "      <td>Zapata</td>\n",
       "      <td>15</td>\n",
       "    </tr>\n",
       "  </tbody>\n",
       "</table>\n",
       "</div>"
      ],
      "text/plain": [
       "           0        1   2\n",
       "0       Jose    Perez  31\n",
       "1     Andrea    Lopez  25\n",
       "2     Martin  Cabrera  55\n",
       "3  Guadalupe   Zapata  15"
      ]
     },
     "execution_count": 48,
     "metadata": {},
     "output_type": "execute_result"
    }
   ],
   "source": [
    "# A partir de los datos crudos, procedemos a usar el método DataFrame(datos)\n",
    "# para la creación del DataFrame\n",
    "df = pd.DataFrame(datos_crudos)\n",
    "print(type(df))\n",
    "print(df)\n",
    "df"
   ]
  },
  {
   "cell_type": "code",
   "execution_count": 5,
   "metadata": {},
   "outputs": [
    {
     "data": {
      "text/html": [
       "<div>\n",
       "<style scoped>\n",
       "    .dataframe tbody tr th:only-of-type {\n",
       "        vertical-align: middle;\n",
       "    }\n",
       "\n",
       "    .dataframe tbody tr th {\n",
       "        vertical-align: top;\n",
       "    }\n",
       "\n",
       "    .dataframe thead th {\n",
       "        text-align: right;\n",
       "    }\n",
       "</style>\n",
       "<table border=\"1\" class=\"dataframe\">\n",
       "  <thead>\n",
       "    <tr style=\"text-align: right;\">\n",
       "      <th></th>\n",
       "      <th>nombre</th>\n",
       "      <th>apellido</th>\n",
       "      <th>edad</th>\n",
       "    </tr>\n",
       "  </thead>\n",
       "  <tbody>\n",
       "    <tr>\n",
       "      <th>fila1</th>\n",
       "      <td>Jose</td>\n",
       "      <td>Perez</td>\n",
       "      <td>31</td>\n",
       "    </tr>\n",
       "    <tr>\n",
       "      <th>fila2</th>\n",
       "      <td>Andrea</td>\n",
       "      <td>Lopez</td>\n",
       "      <td>25</td>\n",
       "    </tr>\n",
       "    <tr>\n",
       "      <th>fila3</th>\n",
       "      <td>Martin</td>\n",
       "      <td>Cabrera</td>\n",
       "      <td>55</td>\n",
       "    </tr>\n",
       "    <tr>\n",
       "      <th>fila4</th>\n",
       "      <td>Guadalupe</td>\n",
       "      <td>Zapata</td>\n",
       "      <td>15</td>\n",
       "    </tr>\n",
       "  </tbody>\n",
       "</table>\n",
       "</div>"
      ],
      "text/plain": [
       "          nombre apellido  edad\n",
       "fila1       Jose    Perez    31\n",
       "fila2     Andrea    Lopez    25\n",
       "fila3     Martin  Cabrera    55\n",
       "fila4  Guadalupe   Zapata    15"
      ]
     },
     "execution_count": 5,
     "metadata": {},
     "output_type": "execute_result"
    }
   ],
   "source": [
    "# podemos modificar los nombres de los indices y columnas así:\n",
    "df = pd.DataFrame(datos_crudos, index = [\"fila1\",\"fila2\",\"fila3\",\"fila4\"], columns=[\"nombre\",\"apellido\",\"edad\"])\n",
    "df"
   ]
  },
  {
   "cell_type": "markdown",
   "metadata": {},
   "source": [
    "##### 2.2. usando diccionarios\n",
    "\n",
    "Para el proceso de creación con diccionarios, usamos tambien arreglos de datos."
   ]
  },
  {
   "cell_type": "code",
   "execution_count": 6,
   "metadata": {},
   "outputs": [
    {
     "data": {
      "text/plain": [
       "{'pais': ['Colombia', 'Ecuador', 'España'],\n",
       " 'moneda': ['Peso Colombiano', 'Dolar Estadounidense', 'Euro']}"
      ]
     },
     "execution_count": 6,
     "metadata": {},
     "output_type": "execute_result"
    }
   ],
   "source": [
    "# Inicializamos una lista por cada posible llave (indicará la columna).\n",
    "paises = [\"Colombia\", \"Ecuador\", \"España\"]\n",
    "monedas = [\"Peso Colombiano\", \"Dolar Estadounidense\", \"Euro\"]\n",
    "\n",
    "# Creamos el diccionario desde las listas\n",
    "diccionario_crudo = {\"pais\":paises, \"moneda\":monedas}\n",
    "diccionario_crudo"
   ]
  },
  {
   "cell_type": "code",
   "execution_count": 7,
   "metadata": {},
   "outputs": [
    {
     "data": {
      "text/html": [
       "<div>\n",
       "<style scoped>\n",
       "    .dataframe tbody tr th:only-of-type {\n",
       "        vertical-align: middle;\n",
       "    }\n",
       "\n",
       "    .dataframe tbody tr th {\n",
       "        vertical-align: top;\n",
       "    }\n",
       "\n",
       "    .dataframe thead th {\n",
       "        text-align: right;\n",
       "    }\n",
       "</style>\n",
       "<table border=\"1\" class=\"dataframe\">\n",
       "  <thead>\n",
       "    <tr style=\"text-align: right;\">\n",
       "      <th></th>\n",
       "      <th>pais</th>\n",
       "      <th>moneda</th>\n",
       "    </tr>\n",
       "  </thead>\n",
       "  <tbody>\n",
       "    <tr>\n",
       "      <th>0</th>\n",
       "      <td>Colombia</td>\n",
       "      <td>Peso Colombiano</td>\n",
       "    </tr>\n",
       "    <tr>\n",
       "      <th>1</th>\n",
       "      <td>Ecuador</td>\n",
       "      <td>Dolar Estadounidense</td>\n",
       "    </tr>\n",
       "    <tr>\n",
       "      <th>2</th>\n",
       "      <td>España</td>\n",
       "      <td>Euro</td>\n",
       "    </tr>\n",
       "  </tbody>\n",
       "</table>\n",
       "</div>"
      ],
      "text/plain": [
       "       pais                moneda\n",
       "0  Colombia       Peso Colombiano\n",
       "1   Ecuador  Dolar Estadounidense\n",
       "2    España                  Euro"
      ]
     },
     "execution_count": 7,
     "metadata": {},
     "output_type": "execute_result"
    }
   ],
   "source": [
    "# usamos el diccionario para alimentar el método DataFrame\n",
    "df = pd.DataFrame(diccionario_crudo)\n",
    "df"
   ]
  },
  {
   "cell_type": "markdown",
   "metadata": {},
   "source": [
    "##### 2.3. usando un archivo CSV\n",
    "\n",
    "La realidad es que esta es la forma más común, depende de la estructura del archivo tambien puede ser la más rápida."
   ]
  },
  {
   "cell_type": "code",
   "execution_count": 52,
   "metadata": {},
   "outputs": [
    {
     "data": {
      "text/html": [
       "<div>\n",
       "<style scoped>\n",
       "    .dataframe tbody tr th:only-of-type {\n",
       "        vertical-align: middle;\n",
       "    }\n",
       "\n",
       "    .dataframe tbody tr th {\n",
       "        vertical-align: top;\n",
       "    }\n",
       "\n",
       "    .dataframe thead th {\n",
       "        text-align: right;\n",
       "    }\n",
       "</style>\n",
       "<table border=\"1\" class=\"dataframe\">\n",
       "  <thead>\n",
       "    <tr style=\"text-align: right;\">\n",
       "      <th></th>\n",
       "      <th>REGIÓN</th>\n",
       "      <th>OTROS TERRITORIOS</th>\n",
       "      <th>PAÍS</th>\n",
       "      <th>EXIGE VISA CORTA DURACIÓN</th>\n",
       "      <th>EXIGE VISA PARA PASAPORTE OFICIAL</th>\n",
       "      <th>EXIGE VISA PARA PASAPORTE DIPLOMATICO</th>\n",
       "      <th>CONDICIONES ESPECIALES</th>\n",
       "    </tr>\n",
       "  </thead>\n",
       "  <tbody>\n",
       "    <tr>\n",
       "      <th>0</th>\n",
       "      <td>AMERICA CARIBE</td>\n",
       "      <td>SI</td>\n",
       "      <td>CURAZAO (PAÍSES BAJOS)</td>\n",
       "      <td>NO</td>\n",
       "      <td>NO</td>\n",
       "      <td>NO</td>\n",
       "      <td>(N/A)</td>\n",
       "    </tr>\n",
       "    <tr>\n",
       "      <th>1</th>\n",
       "      <td>EUROPA SCHENGEN</td>\n",
       "      <td>NO</td>\n",
       "      <td>GRECIA</td>\n",
       "      <td>NO</td>\n",
       "      <td>NO</td>\n",
       "      <td>NO</td>\n",
       "      <td>(N/A)</td>\n",
       "    </tr>\n",
       "    <tr>\n",
       "      <th>2</th>\n",
       "      <td>AMERICA CARIBE</td>\n",
       "      <td>NO</td>\n",
       "      <td>BARBADOS</td>\n",
       "      <td>NO</td>\n",
       "      <td>NO</td>\n",
       "      <td>NO</td>\n",
       "      <td>(N/A)</td>\n",
       "    </tr>\n",
       "    <tr>\n",
       "      <th>3</th>\n",
       "      <td>EUROPA SCHENGEN</td>\n",
       "      <td>NO</td>\n",
       "      <td>BULGARIA</td>\n",
       "      <td>NO</td>\n",
       "      <td>NO</td>\n",
       "      <td>NO</td>\n",
       "      <td>(N/A)</td>\n",
       "    </tr>\n",
       "  </tbody>\n",
       "</table>\n",
       "</div>"
      ],
      "text/plain": [
       "            REGIÓN OTROS TERRITORIOS                    PAÍS  \\\n",
       "0   AMERICA CARIBE                SI  CURAZAO (PAÍSES BAJOS)   \n",
       "1  EUROPA SCHENGEN                NO                  GRECIA   \n",
       "2   AMERICA CARIBE                NO                BARBADOS   \n",
       "3  EUROPA SCHENGEN                NO                BULGARIA   \n",
       "\n",
       "  EXIGE VISA CORTA DURACIÓN EXIGE VISA PARA PASAPORTE OFICIAL  \\\n",
       "0                        NO                                NO   \n",
       "1                        NO                                NO   \n",
       "2                        NO                                NO   \n",
       "3                        NO                                NO   \n",
       "\n",
       "  EXIGE VISA PARA PASAPORTE DIPLOMATICO CONDICIONES ESPECIALES  \n",
       "0                                    NO                  (N/A)  \n",
       "1                                    NO                  (N/A)  \n",
       "2                                    NO                  (N/A)  \n",
       "3                                    NO                  (N/A)  "
      ]
     },
     "execution_count": 52,
     "metadata": {},
     "output_type": "execute_result"
    }
   ],
   "source": [
    "# Pandas posee métodos especializados en la carga de archivos, por defecto veremos read_*extensión*\n",
    "df = pd.read_csv(\"paises_sin_visa_col.csv\")\n",
    "df.head(4)"
   ]
  },
  {
   "cell_type": "markdown",
   "metadata": {},
   "source": [
    "<a id=\"A03\"></a>"
   ]
  },
  {
   "cell_type": "markdown",
   "metadata": {},
   "source": [
    "### 3. Métodos y atributos de un dataframe\n",
    "    - cabeza (head())\n",
    "    - cola (tail())\n",
    "    - información (info)\n",
    "    - describir estadística (describe)\n",
    "    - forma (shape)\n",
    "    - columnas (columns)\n",
    "    - índice (index)\n",
    "\n",
    "En esta sección revisaremos algunos de métodos ya tributos más comunes en los DataFrame de Pandas\n",
    "[[al menú]](#A00)"
   ]
  },
  {
   "cell_type": "code",
   "execution_count": 59,
   "metadata": {},
   "outputs": [
    {
     "data": {
      "text/html": [
       "<div>\n",
       "<style scoped>\n",
       "    .dataframe tbody tr th:only-of-type {\n",
       "        vertical-align: middle;\n",
       "    }\n",
       "\n",
       "    .dataframe tbody tr th {\n",
       "        vertical-align: top;\n",
       "    }\n",
       "\n",
       "    .dataframe thead th {\n",
       "        text-align: right;\n",
       "    }\n",
       "</style>\n",
       "<table border=\"1\" class=\"dataframe\">\n",
       "  <thead>\n",
       "    <tr style=\"text-align: right;\">\n",
       "      <th></th>\n",
       "      <th>REGIÓN</th>\n",
       "      <th>OTROS TERRITORIOS</th>\n",
       "      <th>PAÍS</th>\n",
       "      <th>EXIGE VISA CORTA DURACIÓN</th>\n",
       "      <th>EXIGE VISA PARA PASAPORTE OFICIAL</th>\n",
       "      <th>EXIGE VISA PARA PASAPORTE DIPLOMATICO</th>\n",
       "      <th>CONDICIONES ESPECIALES</th>\n",
       "    </tr>\n",
       "  </thead>\n",
       "  <tbody>\n",
       "    <tr>\n",
       "      <th>0</th>\n",
       "      <td>AMERICA CARIBE</td>\n",
       "      <td>SI</td>\n",
       "      <td>CURAZAO (PAÍSES BAJOS)</td>\n",
       "      <td>NO</td>\n",
       "      <td>NO</td>\n",
       "      <td>NO</td>\n",
       "      <td>(N/A)</td>\n",
       "    </tr>\n",
       "    <tr>\n",
       "      <th>1</th>\n",
       "      <td>EUROPA SCHENGEN</td>\n",
       "      <td>NO</td>\n",
       "      <td>GRECIA</td>\n",
       "      <td>NO</td>\n",
       "      <td>NO</td>\n",
       "      <td>NO</td>\n",
       "      <td>(N/A)</td>\n",
       "    </tr>\n",
       "    <tr>\n",
       "      <th>2</th>\n",
       "      <td>AMERICA CARIBE</td>\n",
       "      <td>NO</td>\n",
       "      <td>BARBADOS</td>\n",
       "      <td>NO</td>\n",
       "      <td>NO</td>\n",
       "      <td>NO</td>\n",
       "      <td>(N/A)</td>\n",
       "    </tr>\n",
       "    <tr>\n",
       "      <th>3</th>\n",
       "      <td>EUROPA SCHENGEN</td>\n",
       "      <td>NO</td>\n",
       "      <td>BULGARIA</td>\n",
       "      <td>NO</td>\n",
       "      <td>NO</td>\n",
       "      <td>NO</td>\n",
       "      <td>(N/A)</td>\n",
       "    </tr>\n",
       "    <tr>\n",
       "      <th>4</th>\n",
       "      <td>AMERICA CARIBE</td>\n",
       "      <td>NO</td>\n",
       "      <td>JAMAICA</td>\n",
       "      <td>NO</td>\n",
       "      <td>CONDICIONES ESPECIALES</td>\n",
       "      <td>CONDICIONES ESPECIALES</td>\n",
       "      <td>NO EXIGE HASTA POR 30 DÍAS</td>\n",
       "    </tr>\n",
       "  </tbody>\n",
       "</table>\n",
       "</div>"
      ],
      "text/plain": [
       "            REGIÓN OTROS TERRITORIOS                    PAÍS  \\\n",
       "0   AMERICA CARIBE                SI  CURAZAO (PAÍSES BAJOS)   \n",
       "1  EUROPA SCHENGEN                NO                  GRECIA   \n",
       "2   AMERICA CARIBE                NO                BARBADOS   \n",
       "3  EUROPA SCHENGEN                NO                BULGARIA   \n",
       "4   AMERICA CARIBE                NO                 JAMAICA   \n",
       "\n",
       "  EXIGE VISA CORTA DURACIÓN EXIGE VISA PARA PASAPORTE OFICIAL  \\\n",
       "0                        NO                                NO   \n",
       "1                        NO                                NO   \n",
       "2                        NO                                NO   \n",
       "3                        NO                                NO   \n",
       "4                        NO            CONDICIONES ESPECIALES   \n",
       "\n",
       "  EXIGE VISA PARA PASAPORTE DIPLOMATICO      CONDICIONES ESPECIALES  \n",
       "0                                    NO                       (N/A)  \n",
       "1                                    NO                       (N/A)  \n",
       "2                                    NO                       (N/A)  \n",
       "3                                    NO                       (N/A)  \n",
       "4                CONDICIONES ESPECIALES  NO EXIGE HASTA POR 30 DÍAS  "
      ]
     },
     "execution_count": 59,
     "metadata": {},
     "output_type": "execute_result"
    }
   ],
   "source": [
    "# Para obtener los primeros (10) ítems (filas) del DataFrame\n",
    "df.head(5)\n",
    "# tambien puede modificar y pedir un número determinado\n",
    "# df.head(2)"
   ]
  },
  {
   "cell_type": "code",
   "execution_count": 62,
   "metadata": {},
   "outputs": [
    {
     "data": {
      "text/html": [
       "<div>\n",
       "<style scoped>\n",
       "    .dataframe tbody tr th:only-of-type {\n",
       "        vertical-align: middle;\n",
       "    }\n",
       "\n",
       "    .dataframe tbody tr th {\n",
       "        vertical-align: top;\n",
       "    }\n",
       "\n",
       "    .dataframe thead th {\n",
       "        text-align: right;\n",
       "    }\n",
       "</style>\n",
       "<table border=\"1\" class=\"dataframe\">\n",
       "  <thead>\n",
       "    <tr style=\"text-align: right;\">\n",
       "      <th></th>\n",
       "      <th>REGIÓN</th>\n",
       "      <th>OTROS TERRITORIOS</th>\n",
       "      <th>PAÍS</th>\n",
       "      <th>EXIGE VISA CORTA DURACIÓN</th>\n",
       "      <th>EXIGE VISA PARA PASAPORTE OFICIAL</th>\n",
       "      <th>EXIGE VISA PARA PASAPORTE DIPLOMATICO</th>\n",
       "      <th>CONDICIONES ESPECIALES</th>\n",
       "    </tr>\n",
       "  </thead>\n",
       "  <tbody>\n",
       "    <tr>\n",
       "      <th>42</th>\n",
       "      <td>EUROPA ORIENTAL</td>\n",
       "      <td>NO</td>\n",
       "      <td>ALBANIA</td>\n",
       "      <td>NO</td>\n",
       "      <td>SI</td>\n",
       "      <td>SI</td>\n",
       "      <td>NO EXIGE A TITULARES DE VISA DE EE UU O SCHENG...</td>\n",
       "    </tr>\n",
       "    <tr>\n",
       "      <th>43</th>\n",
       "      <td>EUROPA SCHENGEN</td>\n",
       "      <td>NO</td>\n",
       "      <td>CROACIA</td>\n",
       "      <td>NO</td>\n",
       "      <td>NO</td>\n",
       "      <td>NO</td>\n",
       "      <td>(N/A)</td>\n",
       "    </tr>\n",
       "    <tr>\n",
       "      <th>44</th>\n",
       "      <td>EUROPA SCHENGEN</td>\n",
       "      <td>NO</td>\n",
       "      <td>ITALIA</td>\n",
       "      <td>NO</td>\n",
       "      <td>NO</td>\n",
       "      <td>NO</td>\n",
       "      <td>(N/A)</td>\n",
       "    </tr>\n",
       "  </tbody>\n",
       "</table>\n",
       "</div>"
      ],
      "text/plain": [
       "             REGIÓN OTROS TERRITORIOS     PAÍS EXIGE VISA CORTA DURACIÓN  \\\n",
       "42  EUROPA ORIENTAL                NO  ALBANIA                        NO   \n",
       "43  EUROPA SCHENGEN                NO  CROACIA                        NO   \n",
       "44  EUROPA SCHENGEN                NO   ITALIA                        NO   \n",
       "\n",
       "   EXIGE VISA PARA PASAPORTE OFICIAL EXIGE VISA PARA PASAPORTE DIPLOMATICO  \\\n",
       "42                                SI                                    SI   \n",
       "43                                NO                                    NO   \n",
       "44                                NO                                    NO   \n",
       "\n",
       "                               CONDICIONES ESPECIALES  \n",
       "42  NO EXIGE A TITULARES DE VISA DE EE UU O SCHENG...  \n",
       "43                                              (N/A)  \n",
       "44                                              (N/A)  "
      ]
     },
     "execution_count": 62,
     "metadata": {},
     "output_type": "execute_result"
    }
   ],
   "source": [
    "# Para obtener los últimos (10) ítems (filas) del DataFrame\n",
    "df.tail(3)\n",
    "# tambien puede modificar y pedir un número determinado\n",
    "# df.tail(2)"
   ]
  },
  {
   "cell_type": "code",
   "execution_count": 64,
   "metadata": {},
   "outputs": [
    {
     "data": {
      "text/plain": [
       "(45, 7)"
      ]
     },
     "execution_count": 64,
     "metadata": {},
     "output_type": "execute_result"
    }
   ],
   "source": [
    "# para ver la estructura del Dataframe de manera sencilla,\n",
    "# podemos usar shape (atributo, no tiene paréntesis)\n",
    "df.shape"
   ]
  },
  {
   "cell_type": "code",
   "execution_count": 66,
   "metadata": {},
   "outputs": [
    {
     "data": {
      "text/plain": [
       "Index(['REGIÓN', 'OTROS TERRITORIOS', 'PAÍS', 'EXIGE VISA CORTA DURACIÓN',\n",
       "       'EXIGE VISA PARA PASAPORTE OFICIAL',\n",
       "       'EXIGE VISA PARA PASAPORTE DIPLOMATICO', 'CONDICIONES ESPECIALES'],\n",
       "      dtype='object')"
      ]
     },
     "execution_count": 66,
     "metadata": {},
     "output_type": "execute_result"
    }
   ],
   "source": [
    "# para identificar las columnas disponibles, podemos usar:\n",
    "df.columns"
   ]
  },
  {
   "cell_type": "code",
   "execution_count": 68,
   "metadata": {},
   "outputs": [
    {
     "data": {
      "text/plain": [
       "RangeIndex(start=0, stop=45, step=1)"
      ]
     },
     "execution_count": 68,
     "metadata": {},
     "output_type": "execute_result"
    }
   ],
   "source": [
    "# para identificar los índices, podemos usar:\n",
    "df.index"
   ]
  },
  {
   "cell_type": "code",
   "execution_count": 69,
   "metadata": {},
   "outputs": [
    {
     "name": "stdout",
     "output_type": "stream",
     "text": [
      "<class 'pandas.core.frame.DataFrame'>\n",
      "RangeIndex: 45 entries, 0 to 44\n",
      "Data columns (total 7 columns):\n",
      " #   Column                                 Non-Null Count  Dtype \n",
      "---  ------                                 --------------  ----- \n",
      " 0   REGIÓN                                 45 non-null     object\n",
      " 1   OTROS TERRITORIOS                      45 non-null     object\n",
      " 2   PAÍS                                   45 non-null     object\n",
      " 3   EXIGE VISA CORTA DURACIÓN              45 non-null     object\n",
      " 4   EXIGE VISA PARA PASAPORTE OFICIAL      45 non-null     object\n",
      " 5   EXIGE VISA PARA PASAPORTE DIPLOMATICO  45 non-null     object\n",
      " 6   CONDICIONES ESPECIALES                 45 non-null     object\n",
      "dtypes: object(7)\n",
      "memory usage: 2.6+ KB\n"
     ]
    }
   ],
   "source": [
    "# para ver el resumen de la información podemos usar:\n",
    "df.info()"
   ]
  },
  {
   "cell_type": "code",
   "execution_count": 70,
   "metadata": {},
   "outputs": [
    {
     "data": {
      "text/html": [
       "<div>\n",
       "<style scoped>\n",
       "    .dataframe tbody tr th:only-of-type {\n",
       "        vertical-align: middle;\n",
       "    }\n",
       "\n",
       "    .dataframe tbody tr th {\n",
       "        vertical-align: top;\n",
       "    }\n",
       "\n",
       "    .dataframe thead th {\n",
       "        text-align: right;\n",
       "    }\n",
       "</style>\n",
       "<table border=\"1\" class=\"dataframe\">\n",
       "  <thead>\n",
       "    <tr style=\"text-align: right;\">\n",
       "      <th></th>\n",
       "      <th>REGIÓN</th>\n",
       "      <th>OTROS TERRITORIOS</th>\n",
       "      <th>PAÍS</th>\n",
       "      <th>EXIGE VISA CORTA DURACIÓN</th>\n",
       "      <th>EXIGE VISA PARA PASAPORTE OFICIAL</th>\n",
       "      <th>EXIGE VISA PARA PASAPORTE DIPLOMATICO</th>\n",
       "      <th>CONDICIONES ESPECIALES</th>\n",
       "    </tr>\n",
       "  </thead>\n",
       "  <tbody>\n",
       "    <tr>\n",
       "      <th>count</th>\n",
       "      <td>45</td>\n",
       "      <td>45</td>\n",
       "      <td>45</td>\n",
       "      <td>45</td>\n",
       "      <td>45</td>\n",
       "      <td>45</td>\n",
       "      <td>45</td>\n",
       "    </tr>\n",
       "    <tr>\n",
       "      <th>unique</th>\n",
       "      <td>9</td>\n",
       "      <td>2</td>\n",
       "      <td>45</td>\n",
       "      <td>1</td>\n",
       "      <td>4</td>\n",
       "      <td>4</td>\n",
       "      <td>5</td>\n",
       "    </tr>\n",
       "    <tr>\n",
       "      <th>top</th>\n",
       "      <td>EUROPA SCHENGEN</td>\n",
       "      <td>NO</td>\n",
       "      <td>GUYANA</td>\n",
       "      <td>NO</td>\n",
       "      <td>NO</td>\n",
       "      <td>NO</td>\n",
       "      <td>(N/A)</td>\n",
       "    </tr>\n",
       "    <tr>\n",
       "      <th>freq</th>\n",
       "      <td>18</td>\n",
       "      <td>39</td>\n",
       "      <td>1</td>\n",
       "      <td>45</td>\n",
       "      <td>40</td>\n",
       "      <td>40</td>\n",
       "      <td>40</td>\n",
       "    </tr>\n",
       "  </tbody>\n",
       "</table>\n",
       "</div>"
      ],
      "text/plain": [
       "                 REGIÓN OTROS TERRITORIOS    PAÍS EXIGE VISA CORTA DURACIÓN  \\\n",
       "count                45                45      45                        45   \n",
       "unique                9                 2      45                         1   \n",
       "top     EUROPA SCHENGEN                NO  GUYANA                        NO   \n",
       "freq                 18                39       1                        45   \n",
       "\n",
       "       EXIGE VISA PARA PASAPORTE OFICIAL  \\\n",
       "count                                 45   \n",
       "unique                                 4   \n",
       "top                                   NO   \n",
       "freq                                  40   \n",
       "\n",
       "       EXIGE VISA PARA PASAPORTE DIPLOMATICO CONDICIONES ESPECIALES  \n",
       "count                                     45                     45  \n",
       "unique                                     4                      5  \n",
       "top                                       NO                  (N/A)  \n",
       "freq                                      40                     40  "
      ]
     },
     "execution_count": 70,
     "metadata": {},
     "output_type": "execute_result"
    }
   ],
   "source": [
    "# para obtener medidas estadísticas básicas, podemos usar\n",
    "df.describe() "
   ]
  },
  {
   "cell_type": "markdown",
   "metadata": {},
   "source": [
    "<a id=\"A04\"></a>"
   ]
  },
  {
   "cell_type": "markdown",
   "metadata": {},
   "source": [
    "### 4. Funciones de Python (built-in) para los dataframes\n",
    "    - obtener mínimo (min())\n",
    "    - obtener máximo (max())\n",
    "    - obtener longitud (len())\n",
    "\n",
    "Veremos funciones que están ncluidas en Python para obtener información de secuencias, y pueden ser usadas en compañía de Pandas.\n",
    "[[al menú]](#A00)"
   ]
  },
  {
   "cell_type": "code",
   "execution_count": 71,
   "metadata": {},
   "outputs": [
    {
     "data": {
      "text/plain": [
       "'CONDICIONES ESPECIALES'"
      ]
     },
     "execution_count": 71,
     "metadata": {},
     "output_type": "execute_result"
    }
   ],
   "source": [
    "# para obtener el número mínimo (min())\n",
    "min(df)"
   ]
  },
  {
   "cell_type": "code",
   "execution_count": 74,
   "metadata": {},
   "outputs": [
    {
     "data": {
      "text/plain": [
       "15"
      ]
     },
     "execution_count": 74,
     "metadata": {},
     "output_type": "execute_result"
    }
   ],
   "source": [
    "datos_crudos = [[\"Jose\",\"Perez\",31],[\"Andrea\",\"Lopez\",25],[\"Martin\",\"Cabrera\",55],[\"Guadalupe\",\"Zapata\",15]]\n",
    "df_min = pd.DataFrame(datos_crudos)\n",
    "min(df_min[2])"
   ]
  },
  {
   "cell_type": "code",
   "execution_count": 78,
   "metadata": {},
   "outputs": [
    {
     "data": {
      "text/plain": [
       "55"
      ]
     },
     "execution_count": 78,
     "metadata": {},
     "output_type": "execute_result"
    }
   ],
   "source": [
    "# para obtener el número máximo (max())\n",
    "datos_crudos = [[\"Jose\",\"Perez\",31],[\"Andrea\",\"Lopez\",25],[\"Martin\",\"Cabrera\",55],[\"Guadalupe\",\"Zapata\",15]]\n",
    "df_max = pd.DataFrame(datos_crudos)\n",
    "max(df_max[2])"
   ]
  },
  {
   "cell_type": "code",
   "execution_count": 23,
   "metadata": {},
   "outputs": [
    {
     "data": {
      "text/plain": [
       "55"
      ]
     },
     "execution_count": 23,
     "metadata": {},
     "output_type": "execute_result"
    }
   ],
   "source": [
    "datos_crudos = [[\"Jose\",\"Perez\",31],[\"Andrea\",\"Lopez\",25],[\"Martin\",\"Cabrera\",55],[\"Guadalupe\",\"Zapata\",15]]\n",
    "df_max = pd.DataFrame(datos_crudos)\n",
    "max(df_max[2])"
   ]
  },
  {
   "cell_type": "code",
   "execution_count": 79,
   "metadata": {},
   "outputs": [
    {
     "data": {
      "text/plain": [
       "45"
      ]
     },
     "execution_count": 79,
     "metadata": {},
     "output_type": "execute_result"
    }
   ],
   "source": [
    "# para obtener la longitud (len())\n",
    "len(df)"
   ]
  },
  {
   "cell_type": "markdown",
   "metadata": {},
   "source": [
    "<a id=\"A05\"></a>"
   ]
  },
  {
   "cell_type": "markdown",
   "metadata": {},
   "source": [
    "### 5. Acceso y selección de columnas del dataframe\n",
    "    - seleccionar 1 columna usando la notación de corchetes [] (se obtiene una serie)\n",
    "    - seleccionar 1 columna usando la notación de punto . (se obtiene una serie) - no recomendado\n",
    "    - seleccionar varias columnas usando la notación de [[]] (se obtiene dataframe)\n",
    "[[al menú]](#A00)"
   ]
  },
  {
   "cell_type": "code",
   "execution_count": 80,
   "metadata": {
    "scrolled": true
   },
   "outputs": [
    {
     "name": "stdout",
     "output_type": "stream",
     "text": [
      "<class 'pandas.core.series.Series'>\n",
      "0    CURAZAO (PAÍSES BAJOS)\n",
      "1                    GRECIA\n",
      "2                  BARBADOS\n",
      "Name: PAÍS, dtype: object\n"
     ]
    }
   ],
   "source": [
    "resultado = df['PAÍS']\n",
    "print(type(resultado))\n",
    "print(resultado.head(3))"
   ]
  },
  {
   "cell_type": "code",
   "execution_count": 84,
   "metadata": {},
   "outputs": [
    {
     "name": "stdout",
     "output_type": "stream",
     "text": [
      "<class 'pandas.core.series.Series'>\n",
      "0    NO\n",
      "1    NO\n",
      "2    NO\n",
      "Name: EXIGE VISA CORTA DURACIÓN, dtype: object\n"
     ]
    }
   ],
   "source": [
    "resultado = df['EXIGE VISA CORTA DURACIÓN']\n",
    "print(type(resultado))\n",
    "print(resultado.head(3))"
   ]
  },
  {
   "cell_type": "code",
   "execution_count": 83,
   "metadata": {},
   "outputs": [
    {
     "name": "stdout",
     "output_type": "stream",
     "text": [
      "<class 'pandas.core.series.Series'>\n",
      "0    CURAZAO (PAÍSES BAJOS)\n",
      "1                    GRECIA\n",
      "2                  BARBADOS\n",
      "Name: PAÍS, dtype: object\n"
     ]
    }
   ],
   "source": [
    "resultado = df.PAÍS\n",
    "print(type(resultado))\n",
    "print(resultado.head(3))"
   ]
  },
  {
   "cell_type": "code",
   "execution_count": 85,
   "metadata": {},
   "outputs": [
    {
     "name": "stdout",
     "output_type": "stream",
     "text": [
      "<class 'pandas.core.frame.DataFrame'>\n",
      "                     PAÍS           REGIÓN\n",
      "0  CURAZAO (PAÍSES BAJOS)   AMERICA CARIBE\n",
      "1                  GRECIA  EUROPA SCHENGEN\n",
      "2                BARBADOS   AMERICA CARIBE\n"
     ]
    }
   ],
   "source": [
    "resultado = df[['PAÍS', 'REGIÓN']]\n",
    "print(type(resultado))\n",
    "print(resultado.head(3))"
   ]
  },
  {
   "cell_type": "markdown",
   "metadata": {},
   "source": [
    "<a id=\"A06\"></a>"
   ]
  },
  {
   "cell_type": "markdown",
   "metadata": {},
   "source": [
    "### 6. Agregar información al dataframe\n",
    "    - agregar usando valor fijo\n",
    "    - agregar usando valores expecíficos\n",
    "[[al menú]](#A00)"
   ]
  },
  {
   "cell_type": "code",
   "execution_count": 87,
   "metadata": {},
   "outputs": [
    {
     "data": {
      "text/html": [
       "<div>\n",
       "<style scoped>\n",
       "    .dataframe tbody tr th:only-of-type {\n",
       "        vertical-align: middle;\n",
       "    }\n",
       "\n",
       "    .dataframe tbody tr th {\n",
       "        vertical-align: top;\n",
       "    }\n",
       "\n",
       "    .dataframe thead th {\n",
       "        text-align: right;\n",
       "    }\n",
       "</style>\n",
       "<table border=\"1\" class=\"dataframe\">\n",
       "  <thead>\n",
       "    <tr style=\"text-align: right;\">\n",
       "      <th></th>\n",
       "      <th>0</th>\n",
       "      <th>1</th>\n",
       "      <th>2</th>\n",
       "      <th>estado</th>\n",
       "    </tr>\n",
       "  </thead>\n",
       "  <tbody>\n",
       "    <tr>\n",
       "      <th>0</th>\n",
       "      <td>Jose</td>\n",
       "      <td>Perez</td>\n",
       "      <td>31</td>\n",
       "      <td>NUEVO</td>\n",
       "    </tr>\n",
       "    <tr>\n",
       "      <th>1</th>\n",
       "      <td>Andrea</td>\n",
       "      <td>Lopez</td>\n",
       "      <td>25</td>\n",
       "      <td>NUEVO</td>\n",
       "    </tr>\n",
       "    <tr>\n",
       "      <th>2</th>\n",
       "      <td>Martin</td>\n",
       "      <td>Cabrera</td>\n",
       "      <td>55</td>\n",
       "      <td>NUEVO</td>\n",
       "    </tr>\n",
       "    <tr>\n",
       "      <th>3</th>\n",
       "      <td>Guadalupe</td>\n",
       "      <td>Zapata</td>\n",
       "      <td>15</td>\n",
       "      <td>NUEVO</td>\n",
       "    </tr>\n",
       "  </tbody>\n",
       "</table>\n",
       "</div>"
      ],
      "text/plain": [
       "           0        1   2 estado\n",
       "0       Jose    Perez  31  NUEVO\n",
       "1     Andrea    Lopez  25  NUEVO\n",
       "2     Martin  Cabrera  55  NUEVO\n",
       "3  Guadalupe   Zapata  15  NUEVO"
      ]
     },
     "execution_count": 87,
     "metadata": {},
     "output_type": "execute_result"
    }
   ],
   "source": [
    "datos_crudos = [[\"Jose\",\"Perez\",31],[\"Andrea\",\"Lopez\",25],[\"Martin\",\"Cabrera\",55],[\"Guadalupe\",\"Zapata\",15]]\n",
    "df_agregar_todos = pd.DataFrame(datos_crudos)\n",
    "df_agregar_todos[\"estado\"] = \"NUEVO\"\n",
    "df_agregar_todos"
   ]
  },
  {
   "cell_type": "code",
   "execution_count": 88,
   "metadata": {},
   "outputs": [
    {
     "data": {
      "text/html": [
       "<div>\n",
       "<style scoped>\n",
       "    .dataframe tbody tr th:only-of-type {\n",
       "        vertical-align: middle;\n",
       "    }\n",
       "\n",
       "    .dataframe tbody tr th {\n",
       "        vertical-align: top;\n",
       "    }\n",
       "\n",
       "    .dataframe thead th {\n",
       "        text-align: right;\n",
       "    }\n",
       "</style>\n",
       "<table border=\"1\" class=\"dataframe\">\n",
       "  <thead>\n",
       "    <tr style=\"text-align: right;\">\n",
       "      <th></th>\n",
       "      <th>0</th>\n",
       "      <th>1</th>\n",
       "      <th>2</th>\n",
       "      <th>estado</th>\n",
       "    </tr>\n",
       "  </thead>\n",
       "  <tbody>\n",
       "    <tr>\n",
       "      <th>0</th>\n",
       "      <td>Jose</td>\n",
       "      <td>Perez</td>\n",
       "      <td>31</td>\n",
       "      <td>NUEVO</td>\n",
       "    </tr>\n",
       "    <tr>\n",
       "      <th>1</th>\n",
       "      <td>Andrea</td>\n",
       "      <td>Lopez</td>\n",
       "      <td>25</td>\n",
       "      <td>NUEVO</td>\n",
       "    </tr>\n",
       "    <tr>\n",
       "      <th>2</th>\n",
       "      <td>Martin</td>\n",
       "      <td>Cabrera</td>\n",
       "      <td>55</td>\n",
       "      <td>USADO</td>\n",
       "    </tr>\n",
       "    <tr>\n",
       "      <th>3</th>\n",
       "      <td>Guadalupe</td>\n",
       "      <td>Zapata</td>\n",
       "      <td>15</td>\n",
       "      <td>PENDIENTE</td>\n",
       "    </tr>\n",
       "  </tbody>\n",
       "</table>\n",
       "</div>"
      ],
      "text/plain": [
       "           0        1   2     estado\n",
       "0       Jose    Perez  31      NUEVO\n",
       "1     Andrea    Lopez  25      NUEVO\n",
       "2     Martin  Cabrera  55      USADO\n",
       "3  Guadalupe   Zapata  15  PENDIENTE"
      ]
     },
     "execution_count": 88,
     "metadata": {},
     "output_type": "execute_result"
    }
   ],
   "source": [
    "datos_crudos = [[\"Jose\",\"Perez\",31],[\"Andrea\",\"Lopez\",25],[\"Martin\",\"Cabrera\",55],[\"Guadalupe\",\"Zapata\",15]]\n",
    "estados = [\"NUEVO\", \"NUEVO\", \"USADO\", \"PENDIENTE\"]\n",
    "\n",
    "df_agregar_detalles = pd.DataFrame(datos_crudos)\n",
    "df_agregar_detalles[\"estado\"] = estados\n",
    "df_agregar_detalles"
   ]
  },
  {
   "cell_type": "markdown",
   "metadata": {},
   "source": [
    "<a id=\"A07\"></a>"
   ]
  },
  {
   "cell_type": "markdown",
   "metadata": {},
   "source": [
    "### 7. Operaciones en las columnas del dataframe\n",
    "    - suma, conteo, promedio, desv. estandar, mínimo, máximo.\n",
    "[[al menú]](#A00)"
   ]
  },
  {
   "cell_type": "code",
   "execution_count": 89,
   "metadata": {},
   "outputs": [
    {
     "data": {
      "text/html": [
       "<div>\n",
       "<style scoped>\n",
       "    .dataframe tbody tr th:only-of-type {\n",
       "        vertical-align: middle;\n",
       "    }\n",
       "\n",
       "    .dataframe tbody tr th {\n",
       "        vertical-align: top;\n",
       "    }\n",
       "\n",
       "    .dataframe thead th {\n",
       "        text-align: right;\n",
       "    }\n",
       "</style>\n",
       "<table border=\"1\" class=\"dataframe\">\n",
       "  <thead>\n",
       "    <tr style=\"text-align: right;\">\n",
       "      <th></th>\n",
       "      <th>nombre</th>\n",
       "      <th>estatura</th>\n",
       "      <th>edad</th>\n",
       "    </tr>\n",
       "  </thead>\n",
       "  <tbody>\n",
       "    <tr>\n",
       "      <th>0</th>\n",
       "      <td>Jose</td>\n",
       "      <td>175</td>\n",
       "      <td>31</td>\n",
       "    </tr>\n",
       "    <tr>\n",
       "      <th>1</th>\n",
       "      <td>Andrea</td>\n",
       "      <td>160</td>\n",
       "      <td>25</td>\n",
       "    </tr>\n",
       "    <tr>\n",
       "      <th>2</th>\n",
       "      <td>Martin</td>\n",
       "      <td>170</td>\n",
       "      <td>55</td>\n",
       "    </tr>\n",
       "    <tr>\n",
       "      <th>3</th>\n",
       "      <td>Guadalupe</td>\n",
       "      <td>154</td>\n",
       "      <td>15</td>\n",
       "    </tr>\n",
       "  </tbody>\n",
       "</table>\n",
       "</div>"
      ],
      "text/plain": [
       "      nombre  estatura  edad\n",
       "0       Jose       175    31\n",
       "1     Andrea       160    25\n",
       "2     Martin       170    55\n",
       "3  Guadalupe       154    15"
      ]
     },
     "execution_count": 89,
     "metadata": {},
     "output_type": "execute_result"
    }
   ],
   "source": [
    "datos_crudos = [[\"Jose\",175,31],[\"Andrea\",160,25],[\"Martin\",170,55],[\"Guadalupe\",154,15]]\n",
    "df_ope = pd.DataFrame(datos_crudos, columns=[\"nombre\",\"estatura\",\"edad\"])\n",
    "df_ope"
   ]
  },
  {
   "cell_type": "code",
   "execution_count": 90,
   "metadata": {},
   "outputs": [
    {
     "data": {
      "text/plain": [
       "4"
      ]
     },
     "execution_count": 90,
     "metadata": {},
     "output_type": "execute_result"
    }
   ],
   "source": [
    "df_ope[\"estatura\"].count()"
   ]
  },
  {
   "cell_type": "code",
   "execution_count": 91,
   "metadata": {},
   "outputs": [
    {
     "data": {
      "text/plain": [
       "659"
      ]
     },
     "execution_count": 91,
     "metadata": {},
     "output_type": "execute_result"
    }
   ],
   "source": [
    "df_ope[\"estatura\"].sum()"
   ]
  },
  {
   "cell_type": "code",
   "execution_count": 37,
   "metadata": {},
   "outputs": [
    {
     "data": {
      "text/plain": [
       "164.75"
      ]
     },
     "execution_count": 37,
     "metadata": {},
     "output_type": "execute_result"
    }
   ],
   "source": [
    "df_ope[\"estatura\"].mean()"
   ]
  },
  {
   "cell_type": "code",
   "execution_count": 38,
   "metadata": {},
   "outputs": [
    {
     "data": {
      "text/plain": [
       "9.5"
      ]
     },
     "execution_count": 38,
     "metadata": {},
     "output_type": "execute_result"
    }
   ],
   "source": [
    "df_ope[\"estatura\"].std()"
   ]
  },
  {
   "cell_type": "code",
   "execution_count": 92,
   "metadata": {},
   "outputs": [
    {
     "data": {
      "text/plain": [
       "count      4.00\n",
       "mean     164.75\n",
       "std        9.50\n",
       "min      154.00\n",
       "25%      158.50\n",
       "50%      165.00\n",
       "75%      171.25\n",
       "max      175.00\n",
       "Name: estatura, dtype: float64"
      ]
     },
     "execution_count": 92,
     "metadata": {},
     "output_type": "execute_result"
    }
   ],
   "source": [
    "df_ope[\"estatura\"].describe()"
   ]
  },
  {
   "cell_type": "markdown",
   "metadata": {},
   "source": [
    "<a id=\"A08\"></a>"
   ]
  },
  {
   "cell_type": "markdown",
   "metadata": {},
   "source": [
    "### 8. Operaciones en las filas del dataframe\n",
    "    - suma, conteo, promedio, desv. estandar, mínimo, máximo.\n",
    "[[al menú]](#A00)"
   ]
  },
  {
   "cell_type": "code",
   "execution_count": 31,
   "metadata": {},
   "outputs": [
    {
     "data": {
      "text/html": [
       "<div>\n",
       "<style scoped>\n",
       "    .dataframe tbody tr th:only-of-type {\n",
       "        vertical-align: middle;\n",
       "    }\n",
       "\n",
       "    .dataframe tbody tr th {\n",
       "        vertical-align: top;\n",
       "    }\n",
       "\n",
       "    .dataframe thead th {\n",
       "        text-align: right;\n",
       "    }\n",
       "</style>\n",
       "<table border=\"1\" class=\"dataframe\">\n",
       "  <thead>\n",
       "    <tr style=\"text-align: right;\">\n",
       "      <th></th>\n",
       "      <th>nombre</th>\n",
       "      <th>nota_01</th>\n",
       "      <th>nota_02</th>\n",
       "      <th>nota_03</th>\n",
       "      <th>nota_04</th>\n",
       "    </tr>\n",
       "  </thead>\n",
       "  <tbody>\n",
       "    <tr>\n",
       "      <th>0</th>\n",
       "      <td>Jose</td>\n",
       "      <td>5.0</td>\n",
       "      <td>3.8</td>\n",
       "      <td>4</td>\n",
       "      <td>2.0</td>\n",
       "    </tr>\n",
       "    <tr>\n",
       "      <th>1</th>\n",
       "      <td>Andrea</td>\n",
       "      <td>4.5</td>\n",
       "      <td>5.0</td>\n",
       "      <td>4</td>\n",
       "      <td>1.5</td>\n",
       "    </tr>\n",
       "    <tr>\n",
       "      <th>2</th>\n",
       "      <td>Martin</td>\n",
       "      <td>4.5</td>\n",
       "      <td>3.8</td>\n",
       "      <td>5</td>\n",
       "      <td>4.6</td>\n",
       "    </tr>\n",
       "    <tr>\n",
       "      <th>3</th>\n",
       "      <td>Guadalupe</td>\n",
       "      <td>5.0</td>\n",
       "      <td>5.0</td>\n",
       "      <td>4</td>\n",
       "      <td>4.4</td>\n",
       "    </tr>\n",
       "  </tbody>\n",
       "</table>\n",
       "</div>"
      ],
      "text/plain": [
       "      nombre  nota_01  nota_02  nota_03  nota_04\n",
       "0       Jose      5.0      3.8        4      2.0\n",
       "1     Andrea      4.5      5.0        4      1.5\n",
       "2     Martin      4.5      3.8        5      4.6\n",
       "3  Guadalupe      5.0      5.0        4      4.4"
      ]
     },
     "execution_count": 31,
     "metadata": {},
     "output_type": "execute_result"
    }
   ],
   "source": [
    "datos_crudos = [[\"Jose\",5,3.8,4,2],[\"Andrea\",4.5,5,4,1.5],[\"Martin\",4.5,3.8,5,4.6],[\"Guadalupe\",5,5,4,4.4]]\n",
    "df_notas = pd.DataFrame(datos_crudos, columns=[\"nombre\",\"nota_01\",\"nota_02\",\"nota_03\",\"nota_04\"])\n",
    "df_notas"
   ]
  },
  {
   "cell_type": "code",
   "execution_count": 32,
   "metadata": {},
   "outputs": [
    {
     "data": {
      "text/html": [
       "<div>\n",
       "<style scoped>\n",
       "    .dataframe tbody tr th:only-of-type {\n",
       "        vertical-align: middle;\n",
       "    }\n",
       "\n",
       "    .dataframe tbody tr th {\n",
       "        vertical-align: top;\n",
       "    }\n",
       "\n",
       "    .dataframe thead th {\n",
       "        text-align: right;\n",
       "    }\n",
       "</style>\n",
       "<table border=\"1\" class=\"dataframe\">\n",
       "  <thead>\n",
       "    <tr style=\"text-align: right;\">\n",
       "      <th></th>\n",
       "      <th>nombre</th>\n",
       "      <th>nota_01</th>\n",
       "      <th>nota_02</th>\n",
       "      <th>nota_03</th>\n",
       "      <th>nota_04</th>\n",
       "      <th>promedio</th>\n",
       "    </tr>\n",
       "  </thead>\n",
       "  <tbody>\n",
       "    <tr>\n",
       "      <th>0</th>\n",
       "      <td>Jose</td>\n",
       "      <td>5.0</td>\n",
       "      <td>3.8</td>\n",
       "      <td>4</td>\n",
       "      <td>2.0</td>\n",
       "      <td>3.700</td>\n",
       "    </tr>\n",
       "    <tr>\n",
       "      <th>1</th>\n",
       "      <td>Andrea</td>\n",
       "      <td>4.5</td>\n",
       "      <td>5.0</td>\n",
       "      <td>4</td>\n",
       "      <td>1.5</td>\n",
       "      <td>3.750</td>\n",
       "    </tr>\n",
       "    <tr>\n",
       "      <th>2</th>\n",
       "      <td>Martin</td>\n",
       "      <td>4.5</td>\n",
       "      <td>3.8</td>\n",
       "      <td>5</td>\n",
       "      <td>4.6</td>\n",
       "      <td>4.475</td>\n",
       "    </tr>\n",
       "    <tr>\n",
       "      <th>3</th>\n",
       "      <td>Guadalupe</td>\n",
       "      <td>5.0</td>\n",
       "      <td>5.0</td>\n",
       "      <td>4</td>\n",
       "      <td>4.4</td>\n",
       "      <td>4.600</td>\n",
       "    </tr>\n",
       "  </tbody>\n",
       "</table>\n",
       "</div>"
      ],
      "text/plain": [
       "      nombre  nota_01  nota_02  nota_03  nota_04  promedio\n",
       "0       Jose      5.0      3.8        4      2.0     3.700\n",
       "1     Andrea      4.5      5.0        4      1.5     3.750\n",
       "2     Martin      4.5      3.8        5      4.6     4.475\n",
       "3  Guadalupe      5.0      5.0        4      4.4     4.600"
      ]
     },
     "execution_count": 32,
     "metadata": {},
     "output_type": "execute_result"
    }
   ],
   "source": [
    "df_notas[\"promedio\"] = (df_notas[\"nota_01\"] + df_notas[\"nota_02\"] + df_notas[\"nota_03\"] + df_notas[\"nota_04\"])/4\n",
    "df_notas"
   ]
  },
  {
   "cell_type": "code",
   "execution_count": 96,
   "metadata": {},
   "outputs": [
    {
     "data": {
      "text/html": [
       "<div>\n",
       "<style scoped>\n",
       "    .dataframe tbody tr th:only-of-type {\n",
       "        vertical-align: middle;\n",
       "    }\n",
       "\n",
       "    .dataframe tbody tr th {\n",
       "        vertical-align: top;\n",
       "    }\n",
       "\n",
       "    .dataframe thead th {\n",
       "        text-align: right;\n",
       "    }\n",
       "</style>\n",
       "<table border=\"1\" class=\"dataframe\">\n",
       "  <thead>\n",
       "    <tr style=\"text-align: right;\">\n",
       "      <th></th>\n",
       "      <th>nombre</th>\n",
       "      <th>nota_01</th>\n",
       "      <th>nota_02</th>\n",
       "      <th>nota_03</th>\n",
       "      <th>nota_04</th>\n",
       "      <th>promedio</th>\n",
       "      <th>clasificacion</th>\n",
       "    </tr>\n",
       "  </thead>\n",
       "  <tbody>\n",
       "    <tr>\n",
       "      <th>0</th>\n",
       "      <td>Jose</td>\n",
       "      <td>5.0</td>\n",
       "      <td>3.8</td>\n",
       "      <td>4</td>\n",
       "      <td>2.0</td>\n",
       "      <td>3.700</td>\n",
       "      <td>Menor o igual</td>\n",
       "    </tr>\n",
       "    <tr>\n",
       "      <th>1</th>\n",
       "      <td>Andrea</td>\n",
       "      <td>4.5</td>\n",
       "      <td>5.0</td>\n",
       "      <td>4</td>\n",
       "      <td>1.5</td>\n",
       "      <td>3.750</td>\n",
       "      <td>Menor o igual</td>\n",
       "    </tr>\n",
       "    <tr>\n",
       "      <th>2</th>\n",
       "      <td>Martin</td>\n",
       "      <td>4.5</td>\n",
       "      <td>3.8</td>\n",
       "      <td>5</td>\n",
       "      <td>4.6</td>\n",
       "      <td>4.475</td>\n",
       "      <td>Superior</td>\n",
       "    </tr>\n",
       "    <tr>\n",
       "      <th>3</th>\n",
       "      <td>Guadalupe</td>\n",
       "      <td>5.0</td>\n",
       "      <td>5.0</td>\n",
       "      <td>4</td>\n",
       "      <td>4.4</td>\n",
       "      <td>4.600</td>\n",
       "      <td>Superior</td>\n",
       "    </tr>\n",
       "  </tbody>\n",
       "</table>\n",
       "</div>"
      ],
      "text/plain": [
       "      nombre  nota_01  nota_02  nota_03  nota_04  promedio  clasificacion\n",
       "0       Jose      5.0      3.8        4      2.0     3.700  Menor o igual\n",
       "1     Andrea      4.5      5.0        4      1.5     3.750  Menor o igual\n",
       "2     Martin      4.5      3.8        5      4.6     4.475       Superior\n",
       "3  Guadalupe      5.0      5.0        4      4.4     4.600       Superior"
      ]
     },
     "execution_count": 96,
     "metadata": {},
     "output_type": "execute_result"
    }
   ],
   "source": [
    "# Pequeño ejercicio\n",
    "promedio = df_notas[\"promedio\"].mean()\n",
    "#print(\"promedio: \", promedio)\n",
    "clasificaciones = []\n",
    "for item in df_notas[\"promedio\"]:\n",
    "    if item > promedio:\n",
    "        clasificaciones.append(\"Superior\")\n",
    "    else:\n",
    "        clasificaciones.append(\"Menor o igual\")\n",
    "        \n",
    "df_notas[\"clasificacion\"] = clasificaciones\n",
    "df_notas"
   ]
  },
  {
   "cell_type": "markdown",
   "metadata": {},
   "source": [
    "<a id=\"A09\"></a>"
   ]
  },
  {
   "cell_type": "markdown",
   "metadata": {},
   "source": [
    "### 9. Conteos por categorías (en columnas) de un dataframe\n",
    "    - conteo simple (value_counts())\n",
    "    - conteo normalizado (value_counts(normalize=True))\n",
    "[[al menú]](#A00)"
   ]
  },
  {
   "cell_type": "code",
   "execution_count": 97,
   "metadata": {},
   "outputs": [
    {
     "data": {
      "text/html": [
       "<div>\n",
       "<style scoped>\n",
       "    .dataframe tbody tr th:only-of-type {\n",
       "        vertical-align: middle;\n",
       "    }\n",
       "\n",
       "    .dataframe tbody tr th {\n",
       "        vertical-align: top;\n",
       "    }\n",
       "\n",
       "    .dataframe thead th {\n",
       "        text-align: right;\n",
       "    }\n",
       "</style>\n",
       "<table border=\"1\" class=\"dataframe\">\n",
       "  <thead>\n",
       "    <tr style=\"text-align: right;\">\n",
       "      <th></th>\n",
       "      <th>0</th>\n",
       "      <th>1</th>\n",
       "      <th>2</th>\n",
       "      <th>estado</th>\n",
       "    </tr>\n",
       "  </thead>\n",
       "  <tbody>\n",
       "    <tr>\n",
       "      <th>0</th>\n",
       "      <td>Jose</td>\n",
       "      <td>Perez</td>\n",
       "      <td>31</td>\n",
       "      <td>NUEVO</td>\n",
       "    </tr>\n",
       "    <tr>\n",
       "      <th>1</th>\n",
       "      <td>Andrea</td>\n",
       "      <td>Lopez</td>\n",
       "      <td>25</td>\n",
       "      <td>NUEVO</td>\n",
       "    </tr>\n",
       "    <tr>\n",
       "      <th>2</th>\n",
       "      <td>Martin</td>\n",
       "      <td>Cabrera</td>\n",
       "      <td>55</td>\n",
       "      <td>USADO</td>\n",
       "    </tr>\n",
       "    <tr>\n",
       "      <th>3</th>\n",
       "      <td>Guadalupe</td>\n",
       "      <td>Zapata</td>\n",
       "      <td>15</td>\n",
       "      <td>PENDIENTE</td>\n",
       "    </tr>\n",
       "  </tbody>\n",
       "</table>\n",
       "</div>"
      ],
      "text/plain": [
       "           0        1   2     estado\n",
       "0       Jose    Perez  31      NUEVO\n",
       "1     Andrea    Lopez  25      NUEVO\n",
       "2     Martin  Cabrera  55      USADO\n",
       "3  Guadalupe   Zapata  15  PENDIENTE"
      ]
     },
     "execution_count": 97,
     "metadata": {},
     "output_type": "execute_result"
    }
   ],
   "source": [
    "estados = [\"NUEVO\", \"NUEVO\", \"USADO\", \"PENDIENTE\"]\n",
    "datos_crudos = [[\"Jose\",\"Perez\",31],[\"Andrea\",\"Lopez\",25],[\"Martin\",\"Cabrera\",55],[\"Guadalupe\",\"Zapata\",15]]\n",
    "df_conteos = pd.DataFrame(datos_crudos)\n",
    "df_conteos[\"estado\"] = estados\n",
    "df_conteos"
   ]
  },
  {
   "cell_type": "code",
   "execution_count": 98,
   "metadata": {},
   "outputs": [
    {
     "data": {
      "text/plain": [
       "NUEVO        2\n",
       "USADO        1\n",
       "PENDIENTE    1\n",
       "Name: estado, dtype: int64"
      ]
     },
     "execution_count": 98,
     "metadata": {},
     "output_type": "execute_result"
    }
   ],
   "source": [
    "df_conteos[\"estado\"].value_counts()"
   ]
  },
  {
   "cell_type": "code",
   "execution_count": 170,
   "metadata": {},
   "outputs": [
    {
     "data": {
      "text/plain": [
       "NUEVO        0.50\n",
       "USADO        0.25\n",
       "PENDIENTE    0.25\n",
       "Name: estado, dtype: float64"
      ]
     },
     "execution_count": 170,
     "metadata": {},
     "output_type": "execute_result"
    }
   ],
   "source": [
    "df_conteos[\"estado\"].value_counts(normalize=True)"
   ]
  },
  {
   "cell_type": "markdown",
   "metadata": {},
   "source": [
    "<a id=\"A10\"></a>"
   ]
  },
  {
   "cell_type": "markdown",
   "metadata": {},
   "source": [
    "### 10. Ordenar por columnas de un dataframe\n",
    "    - orden ascendente (sort_values())\n",
    "    - orden descendente (sort_values(ascending=False))\n",
    "    - orden en múltiples columnas ([\"A\", \"B\"], ascending=True/False)\n",
    "    - orden en nuevo o en sitio (inplace = True)\n",
    "[[al menú]](#A00)"
   ]
  },
  {
   "cell_type": "code",
   "execution_count": 101,
   "metadata": {},
   "outputs": [
    {
     "data": {
      "text/html": [
       "<div>\n",
       "<style scoped>\n",
       "    .dataframe tbody tr th:only-of-type {\n",
       "        vertical-align: middle;\n",
       "    }\n",
       "\n",
       "    .dataframe tbody tr th {\n",
       "        vertical-align: top;\n",
       "    }\n",
       "\n",
       "    .dataframe thead th {\n",
       "        text-align: right;\n",
       "    }\n",
       "</style>\n",
       "<table border=\"1\" class=\"dataframe\">\n",
       "  <thead>\n",
       "    <tr style=\"text-align: right;\">\n",
       "      <th></th>\n",
       "      <th>nombre</th>\n",
       "      <th>nota_01</th>\n",
       "      <th>nota_02</th>\n",
       "      <th>nota_03</th>\n",
       "      <th>nota_04</th>\n",
       "      <th>promedio</th>\n",
       "    </tr>\n",
       "  </thead>\n",
       "  <tbody>\n",
       "    <tr>\n",
       "      <th>0</th>\n",
       "      <td>Jose</td>\n",
       "      <td>5.0</td>\n",
       "      <td>5.0</td>\n",
       "      <td>5</td>\n",
       "      <td>5.0</td>\n",
       "      <td>5.000</td>\n",
       "    </tr>\n",
       "    <tr>\n",
       "      <th>1</th>\n",
       "      <td>Andrea</td>\n",
       "      <td>4.5</td>\n",
       "      <td>5.0</td>\n",
       "      <td>4</td>\n",
       "      <td>1.5</td>\n",
       "      <td>3.750</td>\n",
       "    </tr>\n",
       "    <tr>\n",
       "      <th>2</th>\n",
       "      <td>Martin</td>\n",
       "      <td>4.5</td>\n",
       "      <td>3.8</td>\n",
       "      <td>5</td>\n",
       "      <td>4.6</td>\n",
       "      <td>4.475</td>\n",
       "    </tr>\n",
       "    <tr>\n",
       "      <th>3</th>\n",
       "      <td>Guadalupe</td>\n",
       "      <td>5.0</td>\n",
       "      <td>5.0</td>\n",
       "      <td>4</td>\n",
       "      <td>4.4</td>\n",
       "      <td>4.600</td>\n",
       "    </tr>\n",
       "  </tbody>\n",
       "</table>\n",
       "</div>"
      ],
      "text/plain": [
       "      nombre  nota_01  nota_02  nota_03  nota_04  promedio\n",
       "0       Jose      5.0      5.0        5      5.0     5.000\n",
       "1     Andrea      4.5      5.0        4      1.5     3.750\n",
       "2     Martin      4.5      3.8        5      4.6     4.475\n",
       "3  Guadalupe      5.0      5.0        4      4.4     4.600"
      ]
     },
     "execution_count": 101,
     "metadata": {},
     "output_type": "execute_result"
    }
   ],
   "source": [
    "datos_crudos = [[\"Jose\",5,5,5,5],\n",
    "                [\"Andrea\",4.5,5,4,1.5],\n",
    "                [\"Martin\",4.5,3.8,5,4.6],\n",
    "                [\"Guadalupe\",5,5,4,4.4]]\n",
    "\n",
    "df_notas = pd.DataFrame(datos_crudos, columns=[\"nombre\",\"nota_01\",\"nota_02\",\"nota_03\",\"nota_04\"])\n",
    "\n",
    "df_notas[\"promedio\"] = (df_notas[\"nota_01\"] + df_notas[\"nota_02\"] + df_notas[\"nota_03\"] + df_notas[\"nota_04\"])/4\n",
    "\n",
    "df_notas"
   ]
  },
  {
   "cell_type": "code",
   "execution_count": 172,
   "metadata": {},
   "outputs": [
    {
     "data": {
      "text/html": [
       "<div>\n",
       "<style scoped>\n",
       "    .dataframe tbody tr th:only-of-type {\n",
       "        vertical-align: middle;\n",
       "    }\n",
       "\n",
       "    .dataframe tbody tr th {\n",
       "        vertical-align: top;\n",
       "    }\n",
       "\n",
       "    .dataframe thead th {\n",
       "        text-align: right;\n",
       "    }\n",
       "</style>\n",
       "<table border=\"1\" class=\"dataframe\">\n",
       "  <thead>\n",
       "    <tr style=\"text-align: right;\">\n",
       "      <th></th>\n",
       "      <th>nombre</th>\n",
       "      <th>nota_01</th>\n",
       "      <th>nota_02</th>\n",
       "      <th>nota_03</th>\n",
       "      <th>nota_04</th>\n",
       "      <th>promedio</th>\n",
       "    </tr>\n",
       "  </thead>\n",
       "  <tbody>\n",
       "    <tr>\n",
       "      <th>0</th>\n",
       "      <td>Jose</td>\n",
       "      <td>5.0</td>\n",
       "      <td>5.0</td>\n",
       "      <td>5</td>\n",
       "      <td>5.0</td>\n",
       "      <td>5.000</td>\n",
       "    </tr>\n",
       "    <tr>\n",
       "      <th>1</th>\n",
       "      <td>Andrea</td>\n",
       "      <td>4.5</td>\n",
       "      <td>5.0</td>\n",
       "      <td>4</td>\n",
       "      <td>1.5</td>\n",
       "      <td>3.750</td>\n",
       "    </tr>\n",
       "    <tr>\n",
       "      <th>2</th>\n",
       "      <td>Martin</td>\n",
       "      <td>4.5</td>\n",
       "      <td>3.8</td>\n",
       "      <td>5</td>\n",
       "      <td>4.6</td>\n",
       "      <td>4.475</td>\n",
       "    </tr>\n",
       "    <tr>\n",
       "      <th>3</th>\n",
       "      <td>Guadalupe</td>\n",
       "      <td>5.0</td>\n",
       "      <td>5.0</td>\n",
       "      <td>4</td>\n",
       "      <td>4.4</td>\n",
       "      <td>4.600</td>\n",
       "    </tr>\n",
       "  </tbody>\n",
       "</table>\n",
       "</div>"
      ],
      "text/plain": [
       "      nombre  nota_01  nota_02  nota_03  nota_04  promedio\n",
       "0       Jose      5.0      5.0        5      5.0     5.000\n",
       "1     Andrea      4.5      5.0        4      1.5     3.750\n",
       "2     Martin      4.5      3.8        5      4.6     4.475\n",
       "3  Guadalupe      5.0      5.0        4      4.4     4.600"
      ]
     },
     "execution_count": 172,
     "metadata": {},
     "output_type": "execute_result"
    }
   ],
   "source": [
    "df_notas"
   ]
  },
  {
   "cell_type": "code",
   "execution_count": 105,
   "metadata": {},
   "outputs": [
    {
     "data": {
      "text/plain": [
       "pandas.core.series.Series"
      ]
     },
     "execution_count": 105,
     "metadata": {},
     "output_type": "execute_result"
    }
   ],
   "source": [
    "df_notas_sorted = df_notas[\"promedio\"].sort_values()\n",
    "type(df_notas_sorted)"
   ]
  },
  {
   "cell_type": "code",
   "execution_count": 106,
   "metadata": {},
   "outputs": [
    {
     "data": {
      "text/html": [
       "<div>\n",
       "<style scoped>\n",
       "    .dataframe tbody tr th:only-of-type {\n",
       "        vertical-align: middle;\n",
       "    }\n",
       "\n",
       "    .dataframe tbody tr th {\n",
       "        vertical-align: top;\n",
       "    }\n",
       "\n",
       "    .dataframe thead th {\n",
       "        text-align: right;\n",
       "    }\n",
       "</style>\n",
       "<table border=\"1\" class=\"dataframe\">\n",
       "  <thead>\n",
       "    <tr style=\"text-align: right;\">\n",
       "      <th></th>\n",
       "      <th>nombre</th>\n",
       "      <th>nota_01</th>\n",
       "      <th>nota_02</th>\n",
       "      <th>nota_03</th>\n",
       "      <th>nota_04</th>\n",
       "      <th>promedio</th>\n",
       "    </tr>\n",
       "  </thead>\n",
       "  <tbody>\n",
       "    <tr>\n",
       "      <th>1</th>\n",
       "      <td>Andrea</td>\n",
       "      <td>4.5</td>\n",
       "      <td>5.0</td>\n",
       "      <td>4</td>\n",
       "      <td>1.5</td>\n",
       "      <td>3.750</td>\n",
       "    </tr>\n",
       "    <tr>\n",
       "      <th>2</th>\n",
       "      <td>Martin</td>\n",
       "      <td>4.5</td>\n",
       "      <td>3.8</td>\n",
       "      <td>5</td>\n",
       "      <td>4.6</td>\n",
       "      <td>4.475</td>\n",
       "    </tr>\n",
       "    <tr>\n",
       "      <th>3</th>\n",
       "      <td>Guadalupe</td>\n",
       "      <td>5.0</td>\n",
       "      <td>5.0</td>\n",
       "      <td>4</td>\n",
       "      <td>4.4</td>\n",
       "      <td>4.600</td>\n",
       "    </tr>\n",
       "    <tr>\n",
       "      <th>0</th>\n",
       "      <td>Jose</td>\n",
       "      <td>5.0</td>\n",
       "      <td>5.0</td>\n",
       "      <td>5</td>\n",
       "      <td>5.0</td>\n",
       "      <td>5.000</td>\n",
       "    </tr>\n",
       "  </tbody>\n",
       "</table>\n",
       "</div>"
      ],
      "text/plain": [
       "      nombre  nota_01  nota_02  nota_03  nota_04  promedio\n",
       "1     Andrea      4.5      5.0        4      1.5     3.750\n",
       "2     Martin      4.5      3.8        5      4.6     4.475\n",
       "3  Guadalupe      5.0      5.0        4      4.4     4.600\n",
       "0       Jose      5.0      5.0        5      5.0     5.000"
      ]
     },
     "execution_count": 106,
     "metadata": {},
     "output_type": "execute_result"
    }
   ],
   "source": [
    "df_sorted = df_notas.sort_values(by=\"promedio\")\n",
    "df_sorted"
   ]
  },
  {
   "cell_type": "code",
   "execution_count": 107,
   "metadata": {},
   "outputs": [
    {
     "data": {
      "text/html": [
       "<div>\n",
       "<style scoped>\n",
       "    .dataframe tbody tr th:only-of-type {\n",
       "        vertical-align: middle;\n",
       "    }\n",
       "\n",
       "    .dataframe tbody tr th {\n",
       "        vertical-align: top;\n",
       "    }\n",
       "\n",
       "    .dataframe thead th {\n",
       "        text-align: right;\n",
       "    }\n",
       "</style>\n",
       "<table border=\"1\" class=\"dataframe\">\n",
       "  <thead>\n",
       "    <tr style=\"text-align: right;\">\n",
       "      <th></th>\n",
       "      <th>nombre</th>\n",
       "      <th>nota_01</th>\n",
       "      <th>nota_02</th>\n",
       "      <th>nota_03</th>\n",
       "      <th>nota_04</th>\n",
       "      <th>promedio</th>\n",
       "    </tr>\n",
       "  </thead>\n",
       "  <tbody>\n",
       "    <tr>\n",
       "      <th>0</th>\n",
       "      <td>Jose</td>\n",
       "      <td>5.0</td>\n",
       "      <td>5.0</td>\n",
       "      <td>5</td>\n",
       "      <td>5.0</td>\n",
       "      <td>5.000</td>\n",
       "    </tr>\n",
       "    <tr>\n",
       "      <th>3</th>\n",
       "      <td>Guadalupe</td>\n",
       "      <td>5.0</td>\n",
       "      <td>5.0</td>\n",
       "      <td>4</td>\n",
       "      <td>4.4</td>\n",
       "      <td>4.600</td>\n",
       "    </tr>\n",
       "    <tr>\n",
       "      <th>2</th>\n",
       "      <td>Martin</td>\n",
       "      <td>4.5</td>\n",
       "      <td>3.8</td>\n",
       "      <td>5</td>\n",
       "      <td>4.6</td>\n",
       "      <td>4.475</td>\n",
       "    </tr>\n",
       "    <tr>\n",
       "      <th>1</th>\n",
       "      <td>Andrea</td>\n",
       "      <td>4.5</td>\n",
       "      <td>5.0</td>\n",
       "      <td>4</td>\n",
       "      <td>1.5</td>\n",
       "      <td>3.750</td>\n",
       "    </tr>\n",
       "  </tbody>\n",
       "</table>\n",
       "</div>"
      ],
      "text/plain": [
       "      nombre  nota_01  nota_02  nota_03  nota_04  promedio\n",
       "0       Jose      5.0      5.0        5      5.0     5.000\n",
       "3  Guadalupe      5.0      5.0        4      4.4     4.600\n",
       "2     Martin      4.5      3.8        5      4.6     4.475\n",
       "1     Andrea      4.5      5.0        4      1.5     3.750"
      ]
     },
     "execution_count": 107,
     "metadata": {},
     "output_type": "execute_result"
    }
   ],
   "source": [
    "df_sorted = df_notas.sort_values(by=\"promedio\", ascending=False)\n",
    "df_sorted"
   ]
  },
  {
   "cell_type": "code",
   "execution_count": 108,
   "metadata": {},
   "outputs": [
    {
     "data": {
      "text/html": [
       "<div>\n",
       "<style scoped>\n",
       "    .dataframe tbody tr th:only-of-type {\n",
       "        vertical-align: middle;\n",
       "    }\n",
       "\n",
       "    .dataframe tbody tr th {\n",
       "        vertical-align: top;\n",
       "    }\n",
       "\n",
       "    .dataframe thead th {\n",
       "        text-align: right;\n",
       "    }\n",
       "</style>\n",
       "<table border=\"1\" class=\"dataframe\">\n",
       "  <thead>\n",
       "    <tr style=\"text-align: right;\">\n",
       "      <th></th>\n",
       "      <th>nombre</th>\n",
       "      <th>nota_01</th>\n",
       "      <th>nota_02</th>\n",
       "      <th>nota_03</th>\n",
       "      <th>nota_04</th>\n",
       "      <th>promedio</th>\n",
       "    </tr>\n",
       "  </thead>\n",
       "  <tbody>\n",
       "    <tr>\n",
       "      <th>2</th>\n",
       "      <td>Martin</td>\n",
       "      <td>4.5</td>\n",
       "      <td>3.8</td>\n",
       "      <td>5</td>\n",
       "      <td>4.6</td>\n",
       "      <td>4.475</td>\n",
       "    </tr>\n",
       "    <tr>\n",
       "      <th>1</th>\n",
       "      <td>Andrea</td>\n",
       "      <td>4.5</td>\n",
       "      <td>5.0</td>\n",
       "      <td>4</td>\n",
       "      <td>1.5</td>\n",
       "      <td>3.750</td>\n",
       "    </tr>\n",
       "    <tr>\n",
       "      <th>0</th>\n",
       "      <td>Jose</td>\n",
       "      <td>5.0</td>\n",
       "      <td>5.0</td>\n",
       "      <td>5</td>\n",
       "      <td>5.0</td>\n",
       "      <td>5.000</td>\n",
       "    </tr>\n",
       "    <tr>\n",
       "      <th>3</th>\n",
       "      <td>Guadalupe</td>\n",
       "      <td>5.0</td>\n",
       "      <td>5.0</td>\n",
       "      <td>4</td>\n",
       "      <td>4.4</td>\n",
       "      <td>4.600</td>\n",
       "    </tr>\n",
       "  </tbody>\n",
       "</table>\n",
       "</div>"
      ],
      "text/plain": [
       "      nombre  nota_01  nota_02  nota_03  nota_04  promedio\n",
       "2     Martin      4.5      3.8        5      4.6     4.475\n",
       "1     Andrea      4.5      5.0        4      1.5     3.750\n",
       "0       Jose      5.0      5.0        5      5.0     5.000\n",
       "3  Guadalupe      5.0      5.0        4      4.4     4.600"
      ]
     },
     "execution_count": 108,
     "metadata": {},
     "output_type": "execute_result"
    }
   ],
   "source": [
    "df_sorted = df_notas.sort_values(by=[\"nota_01\",\"nota_02\"], ascending=True)\n",
    "df_sorted"
   ]
  },
  {
   "cell_type": "code",
   "execution_count": 109,
   "metadata": {},
   "outputs": [
    {
     "data": {
      "text/html": [
       "<div>\n",
       "<style scoped>\n",
       "    .dataframe tbody tr th:only-of-type {\n",
       "        vertical-align: middle;\n",
       "    }\n",
       "\n",
       "    .dataframe tbody tr th {\n",
       "        vertical-align: top;\n",
       "    }\n",
       "\n",
       "    .dataframe thead th {\n",
       "        text-align: right;\n",
       "    }\n",
       "</style>\n",
       "<table border=\"1\" class=\"dataframe\">\n",
       "  <thead>\n",
       "    <tr style=\"text-align: right;\">\n",
       "      <th></th>\n",
       "      <th>nombre</th>\n",
       "      <th>nota_01</th>\n",
       "      <th>nota_02</th>\n",
       "      <th>nota_03</th>\n",
       "      <th>nota_04</th>\n",
       "      <th>promedio</th>\n",
       "    </tr>\n",
       "  </thead>\n",
       "  <tbody>\n",
       "    <tr>\n",
       "      <th>0</th>\n",
       "      <td>Jose</td>\n",
       "      <td>5.0</td>\n",
       "      <td>5.0</td>\n",
       "      <td>5</td>\n",
       "      <td>5.0</td>\n",
       "      <td>5.000</td>\n",
       "    </tr>\n",
       "    <tr>\n",
       "      <th>3</th>\n",
       "      <td>Guadalupe</td>\n",
       "      <td>5.0</td>\n",
       "      <td>5.0</td>\n",
       "      <td>4</td>\n",
       "      <td>4.4</td>\n",
       "      <td>4.600</td>\n",
       "    </tr>\n",
       "    <tr>\n",
       "      <th>1</th>\n",
       "      <td>Andrea</td>\n",
       "      <td>4.5</td>\n",
       "      <td>5.0</td>\n",
       "      <td>4</td>\n",
       "      <td>1.5</td>\n",
       "      <td>3.750</td>\n",
       "    </tr>\n",
       "    <tr>\n",
       "      <th>2</th>\n",
       "      <td>Martin</td>\n",
       "      <td>4.5</td>\n",
       "      <td>3.8</td>\n",
       "      <td>5</td>\n",
       "      <td>4.6</td>\n",
       "      <td>4.475</td>\n",
       "    </tr>\n",
       "  </tbody>\n",
       "</table>\n",
       "</div>"
      ],
      "text/plain": [
       "      nombre  nota_01  nota_02  nota_03  nota_04  promedio\n",
       "0       Jose      5.0      5.0        5      5.0     5.000\n",
       "3  Guadalupe      5.0      5.0        4      4.4     4.600\n",
       "1     Andrea      4.5      5.0        4      1.5     3.750\n",
       "2     Martin      4.5      3.8        5      4.6     4.475"
      ]
     },
     "execution_count": 109,
     "metadata": {},
     "output_type": "execute_result"
    }
   ],
   "source": [
    "df_sorted = df_notas.sort_values(by=[\"nota_01\",\"nota_02\"], ascending=False)\n",
    "df_sorted"
   ]
  },
  {
   "cell_type": "code",
   "execution_count": 110,
   "metadata": {},
   "outputs": [
    {
     "data": {
      "text/html": [
       "<div>\n",
       "<style scoped>\n",
       "    .dataframe tbody tr th:only-of-type {\n",
       "        vertical-align: middle;\n",
       "    }\n",
       "\n",
       "    .dataframe tbody tr th {\n",
       "        vertical-align: top;\n",
       "    }\n",
       "\n",
       "    .dataframe thead th {\n",
       "        text-align: right;\n",
       "    }\n",
       "</style>\n",
       "<table border=\"1\" class=\"dataframe\">\n",
       "  <thead>\n",
       "    <tr style=\"text-align: right;\">\n",
       "      <th></th>\n",
       "      <th>nombre</th>\n",
       "      <th>nota_01</th>\n",
       "      <th>nota_02</th>\n",
       "      <th>nota_03</th>\n",
       "      <th>nota_04</th>\n",
       "      <th>promedio</th>\n",
       "    </tr>\n",
       "  </thead>\n",
       "  <tbody>\n",
       "    <tr>\n",
       "      <th>0</th>\n",
       "      <td>Jose</td>\n",
       "      <td>5.0</td>\n",
       "      <td>5.0</td>\n",
       "      <td>5</td>\n",
       "      <td>5.0</td>\n",
       "      <td>5.000</td>\n",
       "    </tr>\n",
       "    <tr>\n",
       "      <th>3</th>\n",
       "      <td>Guadalupe</td>\n",
       "      <td>5.0</td>\n",
       "      <td>5.0</td>\n",
       "      <td>4</td>\n",
       "      <td>4.4</td>\n",
       "      <td>4.600</td>\n",
       "    </tr>\n",
       "    <tr>\n",
       "      <th>2</th>\n",
       "      <td>Martin</td>\n",
       "      <td>4.5</td>\n",
       "      <td>3.8</td>\n",
       "      <td>5</td>\n",
       "      <td>4.6</td>\n",
       "      <td>4.475</td>\n",
       "    </tr>\n",
       "    <tr>\n",
       "      <th>1</th>\n",
       "      <td>Andrea</td>\n",
       "      <td>4.5</td>\n",
       "      <td>5.0</td>\n",
       "      <td>4</td>\n",
       "      <td>1.5</td>\n",
       "      <td>3.750</td>\n",
       "    </tr>\n",
       "  </tbody>\n",
       "</table>\n",
       "</div>"
      ],
      "text/plain": [
       "      nombre  nota_01  nota_02  nota_03  nota_04  promedio\n",
       "0       Jose      5.0      5.0        5      5.0     5.000\n",
       "3  Guadalupe      5.0      5.0        4      4.4     4.600\n",
       "2     Martin      4.5      3.8        5      4.6     4.475\n",
       "1     Andrea      4.5      5.0        4      1.5     3.750"
      ]
     },
     "execution_count": 110,
     "metadata": {},
     "output_type": "execute_result"
    }
   ],
   "source": [
    "df_notas.sort_values(by=[\"promedio\"], ascending=False, inplace=True)\n",
    "df_notas"
   ]
  },
  {
   "cell_type": "code",
   "execution_count": 111,
   "metadata": {},
   "outputs": [
    {
     "data": {
      "text/html": [
       "<div>\n",
       "<style scoped>\n",
       "    .dataframe tbody tr th:only-of-type {\n",
       "        vertical-align: middle;\n",
       "    }\n",
       "\n",
       "    .dataframe tbody tr th {\n",
       "        vertical-align: top;\n",
       "    }\n",
       "\n",
       "    .dataframe thead th {\n",
       "        text-align: right;\n",
       "    }\n",
       "</style>\n",
       "<table border=\"1\" class=\"dataframe\">\n",
       "  <thead>\n",
       "    <tr style=\"text-align: right;\">\n",
       "      <th></th>\n",
       "      <th>nombre</th>\n",
       "      <th>nota_01</th>\n",
       "      <th>nota_02</th>\n",
       "      <th>nota_03</th>\n",
       "      <th>nota_04</th>\n",
       "      <th>promedio</th>\n",
       "    </tr>\n",
       "  </thead>\n",
       "  <tbody>\n",
       "    <tr>\n",
       "      <th>1</th>\n",
       "      <td>Andrea</td>\n",
       "      <td>4.5</td>\n",
       "      <td>5.0</td>\n",
       "      <td>4</td>\n",
       "      <td>1.5</td>\n",
       "      <td>3.750</td>\n",
       "    </tr>\n",
       "    <tr>\n",
       "      <th>2</th>\n",
       "      <td>Martin</td>\n",
       "      <td>4.5</td>\n",
       "      <td>3.8</td>\n",
       "      <td>5</td>\n",
       "      <td>4.6</td>\n",
       "      <td>4.475</td>\n",
       "    </tr>\n",
       "    <tr>\n",
       "      <th>3</th>\n",
       "      <td>Guadalupe</td>\n",
       "      <td>5.0</td>\n",
       "      <td>5.0</td>\n",
       "      <td>4</td>\n",
       "      <td>4.4</td>\n",
       "      <td>4.600</td>\n",
       "    </tr>\n",
       "    <tr>\n",
       "      <th>0</th>\n",
       "      <td>Jose</td>\n",
       "      <td>5.0</td>\n",
       "      <td>5.0</td>\n",
       "      <td>5</td>\n",
       "      <td>5.0</td>\n",
       "      <td>5.000</td>\n",
       "    </tr>\n",
       "  </tbody>\n",
       "</table>\n",
       "</div>"
      ],
      "text/plain": [
       "      nombre  nota_01  nota_02  nota_03  nota_04  promedio\n",
       "1     Andrea      4.5      5.0        4      1.5     3.750\n",
       "2     Martin      4.5      3.8        5      4.6     4.475\n",
       "3  Guadalupe      5.0      5.0        4      4.4     4.600\n",
       "0       Jose      5.0      5.0        5      5.0     5.000"
      ]
     },
     "execution_count": 111,
     "metadata": {},
     "output_type": "execute_result"
    }
   ],
   "source": [
    "df_notas.sort_values(by=[\"promedio\"], ascending=True, inplace=True)\n",
    "df_notas"
   ]
  },
  {
   "cell_type": "code",
   "execution_count": 180,
   "metadata": {},
   "outputs": [],
   "source": [
    "# :)"
   ]
  }
 ],
 "metadata": {
  "kernelspec": {
   "display_name": "Python 3",
   "language": "python",
   "name": "python3"
  },
  "language_info": {
   "codemirror_mode": {
    "name": "ipython",
    "version": 3
   },
   "file_extension": ".py",
   "mimetype": "text/x-python",
   "name": "python",
   "nbconvert_exporter": "python",
   "pygments_lexer": "ipython3",
   "version": "3.7.6"
  }
 },
 "nbformat": 4,
 "nbformat_minor": 4
}
