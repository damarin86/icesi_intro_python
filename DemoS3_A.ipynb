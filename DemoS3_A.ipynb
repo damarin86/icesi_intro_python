{
 "cells": [
  {
   "cell_type": "markdown",
   "id": "765b7764",
   "metadata": {},
   "source": [
    "## Demo en clase S3\n",
    "##### Temas:\n",
    "\n",
    "1. Recuento de funciones\n",
    "2. Recuento de programación orientada a objetos"
   ]
  },
  {
   "cell_type": "code",
   "execution_count": 48,
   "id": "c96f9fad",
   "metadata": {},
   "outputs": [
    {
     "data": {
      "text/plain": [
       "[0, 1, 2, 3, 4]"
      ]
     },
     "execution_count": 48,
     "metadata": {},
     "output_type": "execute_result"
    }
   ],
   "source": [
    "dias = [\"lunes\",\"martes\",\"miercoles\",\"jueves\",\"viernes\",\"sabado\",\"domingo\"]\n",
    "lista = [0,1,2,3,4,5,6] #\n",
    "lista[0:5]"
   ]
  },
  {
   "cell_type": "code",
   "execution_count": 49,
   "id": "5efe5563",
   "metadata": {},
   "outputs": [
    {
     "data": {
      "text/plain": [
       "[5, 6]"
      ]
     },
     "execution_count": 49,
     "metadata": {},
     "output_type": "execute_result"
    }
   ],
   "source": [
    "lista[5:7]"
   ]
  },
  {
   "cell_type": "markdown",
   "id": "26146733",
   "metadata": {},
   "source": [
    "### Recuento de funciones"
   ]
  },
  {
   "cell_type": "code",
   "execution_count": 50,
   "id": "a8d19080",
   "metadata": {},
   "outputs": [],
   "source": [
    "def nombre_funcion():\n",
    "    print(\"una tarea que hace la función 1\")\n",
    "    print(\"una tarea que hace la función 2\")\n",
    "    print(\"una tarea que hace la función 3\")\n",
    "    print(\"una tarea que hace la función 4\")"
   ]
  },
  {
   "cell_type": "code",
   "execution_count": 51,
   "id": "97037511",
   "metadata": {},
   "outputs": [
    {
     "name": "stdout",
     "output_type": "stream",
     "text": [
      "una tarea que hace la función 1\n",
      "una tarea que hace la función 2\n",
      "una tarea que hace la función 3\n",
      "una tarea que hace la función 4\n"
     ]
    }
   ],
   "source": [
    "# Llamado a la función\n",
    "nombre_funcion()"
   ]
  },
  {
   "cell_type": "code",
   "execution_count": 52,
   "id": "a59a6a7c",
   "metadata": {},
   "outputs": [
    {
     "name": "stdout",
     "output_type": "stream",
     "text": [
      "..AA..\n"
     ]
    },
    {
     "data": {
      "text/plain": [
       "'..AA..'"
      ]
     },
     "execution_count": 52,
     "metadata": {},
     "output_type": "execute_result"
    }
   ],
   "source": [
    "def nombre_funcion_con_retorno():    \n",
    "    return \"..AA..\"\n",
    "\n",
    "# llamado con retorno\n",
    "valor = nombre_funcion_con_retorno()\n",
    "\n",
    "print(valor)\n",
    "nombre_funcion_con_retorno()\n",
    "\n",
    "## Ejemplo almacenar elementos resultantes"
   ]
  },
  {
   "cell_type": "code",
   "execution_count": 53,
   "id": "7041ce51",
   "metadata": {},
   "outputs": [
    {
     "name": "stdout",
     "output_type": "stream",
     "text": [
      "recibí a como:  1\n",
      "recibí b como:  2\n"
     ]
    },
    {
     "data": {
      "text/plain": [
       "3"
      ]
     },
     "execution_count": 53,
     "metadata": {},
     "output_type": "execute_result"
    }
   ],
   "source": [
    "def nombre_funcion_con_parametros(a, b):\n",
    "    print(\"recibí a como: \", a)\n",
    "    print(\"recibí b como: \", b)\n",
    "    return a+b\n",
    "\n",
    "nombre_funcion_con_parametros(1, 2)\n",
    "# mostrar que pasa si no se entregan los parametros"
   ]
  },
  {
   "cell_type": "code",
   "execution_count": 54,
   "id": "47e26b45",
   "metadata": {},
   "outputs": [
    {
     "name": "stdout",
     "output_type": "stream",
     "text": [
      "recibí a como:  11\n",
      "recibí b como:  2\n"
     ]
    },
    {
     "data": {
      "text/plain": [
       "13"
      ]
     },
     "execution_count": 54,
     "metadata": {},
     "output_type": "execute_result"
    }
   ],
   "source": [
    "# parámetros por defecto (a = 3, b = 5)\n",
    "def nombre_funcion_con_parametros(a = 3, b = 5):\n",
    "    print(\"recibí a como: \", a)\n",
    "    print(\"recibí b como: \", b)\n",
    "    return a+b\n",
    "\n",
    "nombre_funcion_con_parametros(b=2, a= 11)\n",
    "#nombre_funcion_con_parametros(2, 22)\n",
    "#nombre_funcion_con_parametros(b = 8)\n",
    "# mostrar que pasa si no se entregan los parametros"
   ]
  },
  {
   "cell_type": "code",
   "execution_count": 55,
   "id": "0d7abaa0",
   "metadata": {},
   "outputs": [
    {
     "name": "stdout",
     "output_type": "stream",
     "text": [
      "Jose Moncada\n",
      "Andrés Perez\n",
      "Daniela Qiujano\n",
      "Juanito Alimaña\n",
      "Pepe Gomez\n",
      "Angela Bacca\n",
      "Juana de Arco\n"
     ]
    }
   ],
   "source": [
    "def concatenar_nombres_apellidos(nombre, apellido):\n",
    "    return str(nombre) +\" \"+ str(apellido)\n",
    "\n",
    "print(concatenar_nombres_apellidos(\"Jose\", \"Moncada\"))\n",
    "print(concatenar_nombres_apellidos(\"Andrés\", \"Perez\"))\n",
    "print(concatenar_nombres_apellidos(\"Daniela\", \"Qiujano\"))\n",
    "print(concatenar_nombres_apellidos(\"Juanito\", \"Alimaña\"))\n",
    "print(concatenar_nombres_apellidos(\"Pepe\", \"Gomez\"))\n",
    "print(concatenar_nombres_apellidos(\"Angela\", \"Bacca\"))\n",
    "print(concatenar_nombres_apellidos(\"Juana\", \"de Arco\"))"
   ]
  },
  {
   "cell_type": "code",
   "execution_count": 56,
   "id": "e1427f5d",
   "metadata": {},
   "outputs": [
    {
     "name": "stdout",
     "output_type": "stream",
     "text": [
      "el valor en la posición 6 es: 7\n"
     ]
    },
    {
     "data": {
      "text/plain": [
       "['SA', 'DO']"
      ]
     },
     "execution_count": 56,
     "metadata": {},
     "output_type": "execute_result"
    }
   ],
   "source": [
    "###### 0  1  2  3  4  5  6  7\n",
    "seq = [1, 2, 3, 4, 5, 6, 7, 8]\n",
    "\n",
    "posicion6 = seq[6];\n",
    "\n",
    "########## 0     1     2     3     4     5  |   6 | 7\n",
    "semana = [\"LU\", \"MA\", \"MI\", \"JU\", \"VI\", \"SA\", \"DO\"]\n",
    "\n",
    "print(\"el valor en la posición 6 es: \" + str(posicion6))\n",
    "semana[0:6]\n",
    "semana[5:7]"
   ]
  },
  {
   "cell_type": "markdown",
   "id": "b0b0f845",
   "metadata": {},
   "source": [
    "### Comportamiento de las variables en relación a la visibilidad (global / local)"
   ]
  },
  {
   "cell_type": "code",
   "execution_count": 57,
   "id": "eb49696a",
   "metadata": {},
   "outputs": [],
   "source": [
    "estado = \"lloviendo 🌧\"\n",
    "# ¿Qué pasó aquí?\n",
    "# Hablar de visibilidad de las variables\n",
    "# Hablar de enmascaramiento y alcance\n",
    "# Demostrar el uso de global"
   ]
  },
  {
   "cell_type": "code",
   "execution_count": 58,
   "id": "d7a4095a",
   "metadata": {},
   "outputs": [],
   "source": [
    "def cambiarEstado(nuevo_estado):\n",
    "    ##global estado\n",
    "    estado = nuevo_estado\n",
    "    print(\"en el interior:\", estado)"
   ]
  },
  {
   "cell_type": "code",
   "execution_count": 59,
   "id": "86dffa5e",
   "metadata": {},
   "outputs": [
    {
     "name": "stdout",
     "output_type": "stream",
     "text": [
      "en el exterior: lloviendo 🌧\n",
      "en el interior: Soleado ☀\n",
      "en el exterior: lloviendo 🌧\n"
     ]
    }
   ],
   "source": [
    "print(\"en el exterior:\", estado)\n",
    "cambiarEstado(\"Soleado ☀\")\n",
    "print(\"en el exterior:\", estado)"
   ]
  },
  {
   "cell_type": "markdown",
   "id": "c8890fe4",
   "metadata": {},
   "source": [
    "### ¿funciones como parámetros?\n",
    "\n",
    "Composicion y la idea de ciudadanos de primer nivel."
   ]
  },
  {
   "cell_type": "code",
   "execution_count": 60,
   "id": "5e753fe8",
   "metadata": {},
   "outputs": [],
   "source": [
    "def operar (a, b, accion):\n",
    "    return accion(a, b)\n",
    "\n",
    "def adicionar(a, b):\n",
    "    return a+b\n",
    "\n",
    "def restar(a, b):\n",
    "    return a-b\n",
    "\n",
    "def multiplicar(a, b):\n",
    "    return a*b\n",
    "\n",
    "def dividir(a, b):\n",
    "    return a/b"
   ]
  },
  {
   "cell_type": "code",
   "execution_count": 61,
   "id": "4b0466da",
   "metadata": {},
   "outputs": [
    {
     "data": {
      "text/plain": [
       "0"
      ]
     },
     "execution_count": 61,
     "metadata": {},
     "output_type": "execute_result"
    }
   ],
   "source": [
    "operar(2,2,restar)"
   ]
  },
  {
   "cell_type": "code",
   "execution_count": 62,
   "id": "2461e3dc",
   "metadata": {},
   "outputs": [
    {
     "name": "stdout",
     "output_type": "stream",
     "text": [
      "-1\n",
      "9\n",
      "20\n",
      "0.8\n"
     ]
    }
   ],
   "source": [
    "def calculador_aritmetico(a, b, accionA, accionB, accionC, accionD):\n",
    "    print(accionA(a,b))\n",
    "    print(accionB(a,b))\n",
    "    print(accionC(a,b))\n",
    "    print(accionD(a,b))\n",
    "\n",
    "calculador_aritmetico(4, 5, restar, adicionar, multiplicar, dividir)"
   ]
  },
  {
   "cell_type": "code",
   "execution_count": 63,
   "id": "e195e6d5",
   "metadata": {},
   "outputs": [
    {
     "data": {
      "text/plain": [
       "4"
      ]
     },
     "execution_count": 63,
     "metadata": {},
     "output_type": "execute_result"
    }
   ],
   "source": [
    "operar(2, 2, adicionar)"
   ]
  },
  {
   "cell_type": "code",
   "execution_count": 64,
   "id": "5c2bdd15",
   "metadata": {},
   "outputs": [
    {
     "data": {
      "text/plain": [
       "0"
      ]
     },
     "execution_count": 64,
     "metadata": {},
     "output_type": "execute_result"
    }
   ],
   "source": [
    "operar(2, 2, restar)"
   ]
  },
  {
   "cell_type": "code",
   "execution_count": 65,
   "id": "489554fa",
   "metadata": {},
   "outputs": [
    {
     "data": {
      "text/plain": [
       "4"
      ]
     },
     "execution_count": 65,
     "metadata": {},
     "output_type": "execute_result"
    }
   ],
   "source": [
    "operar(2, 2, multiplicar)"
   ]
  },
  {
   "cell_type": "code",
   "execution_count": 66,
   "id": "41453d4e",
   "metadata": {},
   "outputs": [
    {
     "data": {
      "text/plain": [
       "1.0"
      ]
     },
     "execution_count": 66,
     "metadata": {},
     "output_type": "execute_result"
    }
   ],
   "source": [
    "operar(2, 2, dividir)"
   ]
  },
  {
   "cell_type": "markdown",
   "id": "d3e660c9",
   "metadata": {},
   "source": [
    "## Programación orientada a objetos\n",
    "Recuento general, los objetos representan entidades con caracteristicas y servicios."
   ]
  },
  {
   "cell_type": "code",
   "execution_count": 67,
   "id": "75024c7e",
   "metadata": {},
   "outputs": [],
   "source": [
    "class Calculadora:\n",
    "\n",
    "    def __init__(self, nombre): ## Hablar de los constructores\n",
    "        print(\"Se está creando una calculadora\", self)        \n",
    "        self.nombre = nombre\n",
    "        \n",
    "    def sumar(self, a, b): ## mostrar que pasa si quitamos self y hablar de self\n",
    "        #print(\"self:\", self)\n",
    "        return a + b \n",
    "    \n",
    "    def restar(self, a, b):\n",
    "        print(\"self:\", self)\n",
    "        return a - b \n",
    "    \n",
    "    def multiplicar(self, a, b):\n",
    "        return a * b \n",
    "    \n",
    "    def dividir(self, a, b):\n",
    "        return a / b "
   ]
  },
  {
   "cell_type": "code",
   "execution_count": 68,
   "id": "34c1c47a",
   "metadata": {},
   "outputs": [
    {
     "name": "stdout",
     "output_type": "stream",
     "text": [
      "Se está creando una calculadora <__main__.Calculadora object at 0x0000026BF93781D0>\n",
      "Casio MK12342345\n",
      "Se está creando una calculadora <__main__.Calculadora object at 0x0000026BF9378690>\n",
      "Shandoo MK888\n"
     ]
    }
   ],
   "source": [
    "# Qué son las instancias\n",
    "miCalculadora = Calculadora(\"Casio MK12342345\")\n",
    "print(miCalculadora.nombre)\n",
    "\n",
    "miCalculadoraB = Calculadora(\"Shandoo MK888\")\n",
    "print(miCalculadoraB.nombre)"
   ]
  },
  {
   "cell_type": "code",
   "execution_count": 69,
   "id": "dde43afe",
   "metadata": {},
   "outputs": [],
   "source": [
    "class Persona:\n",
    "    def __init__(self, nombre, apellido):\n",
    "        print(\"se creó a \", nombre, apellido)\n",
    "        self.nombre = nombre\n",
    "        self.apellido = apellido\n",
    "    def presentarse(self):\n",
    "        print(\"hola, soy:\" , self.nombre, self.apellido)        "
   ]
  },
  {
   "cell_type": "code",
   "execution_count": 70,
   "id": "0b853e4f",
   "metadata": {},
   "outputs": [
    {
     "name": "stdout",
     "output_type": "stream",
     "text": [
      "se creó a  Jose Moncada\n",
      "se creó a  Juan Ospina\n",
      "se creó a  Ana Cordoba\n"
     ]
    }
   ],
   "source": [
    "persona_a = Persona(\"Jose\", \"Moncada\")\n",
    "persona_b = Persona(\"Juan\", \"Ospina\")\n",
    "persona_c = Persona(\"Ana\", \"Cordoba\")"
   ]
  },
  {
   "cell_type": "code",
   "execution_count": 71,
   "id": "fbbb297f",
   "metadata": {},
   "outputs": [
    {
     "name": "stdout",
     "output_type": "stream",
     "text": [
      "hola, soy: Jose Moncada\n"
     ]
    }
   ],
   "source": [
    "persona_a.presentarse()"
   ]
  },
  {
   "cell_type": "code",
   "execution_count": 72,
   "id": "68f34172",
   "metadata": {},
   "outputs": [
    {
     "name": "stdout",
     "output_type": "stream",
     "text": [
      "hola, soy: Juan Ospina\n"
     ]
    }
   ],
   "source": [
    "persona_b.presentarse()"
   ]
  },
  {
   "cell_type": "code",
   "execution_count": 73,
   "id": "4fbf28e8",
   "metadata": {},
   "outputs": [
    {
     "name": "stdout",
     "output_type": "stream",
     "text": [
      "hola, soy: Ana Cordoba\n"
     ]
    }
   ],
   "source": [
    "persona_c.presentarse()"
   ]
  },
  {
   "cell_type": "code",
   "execution_count": 74,
   "id": "30bfa948",
   "metadata": {},
   "outputs": [
    {
     "data": {
      "text/plain": [
       "__main__.Persona"
      ]
     },
     "execution_count": 74,
     "metadata": {},
     "output_type": "execute_result"
    }
   ],
   "source": [
    "# Qué representa ?\n",
    "type(miCalculadora)\n",
    "type(persona_a)\n",
    "type(persona_b)"
   ]
  },
  {
   "cell_type": "code",
   "execution_count": 82,
   "id": "d996ba68",
   "metadata": {},
   "outputs": [
    {
     "name": "stdout",
     "output_type": "stream",
     "text": [
      "54\n"
     ]
    }
   ],
   "source": [
    "# qué hace la notación de (.) punto\n",
    "suma = miCalculadora.sumar(10, 44)\n",
    "print(suma)"
   ]
  },
  {
   "cell_type": "code",
   "execution_count": 76,
   "id": "f705ac22",
   "metadata": {},
   "outputs": [
    {
     "name": "stdout",
     "output_type": "stream",
     "text": [
      "self: <__main__.Calculadora object at 0x0000026BF93781D0>\n",
      "-34\n"
     ]
    }
   ],
   "source": [
    "resta = miCalculadora.restar(10, 44)\n",
    "print(resta)"
   ]
  },
  {
   "cell_type": "code",
   "execution_count": 83,
   "id": "6f3c2ba2",
   "metadata": {},
   "outputs": [
    {
     "name": "stdout",
     "output_type": "stream",
     "text": [
      "100\n"
     ]
    }
   ],
   "source": [
    "multiplicacion = miCalculadora.multiplicar(10,10);\n",
    "print(multiplicacion)"
   ]
  },
  {
   "cell_type": "code",
   "execution_count": 84,
   "id": "cd5c9d69",
   "metadata": {},
   "outputs": [
    {
     "name": "stdout",
     "output_type": "stream",
     "text": [
      "10.0\n"
     ]
    }
   ],
   "source": [
    "division = miCalculadora.dividir(100,10)\n",
    "print(division)"
   ]
  },
  {
   "cell_type": "markdown",
   "id": "5d9d7367",
   "metadata": {},
   "source": [
    "### Además de las instancias, ¿qué tenemos?"
   ]
  },
  {
   "cell_type": "markdown",
   "id": "1b3ba1cd",
   "metadata": {},
   "source": [
    "#### Decoradores\n",
    "\n",
    "¿Qué son?: Son definiciones adicionales usando la notación de @\n",
    "\n",
    "##### ¿Cuáles usamos?\n",
    "\n",
    "@staticmethod y @classmethod son decoradores en Python utilizados para definir métodos dentro de una clase.\n",
    "\n",
    "Ambos permiten llamar a los métodos sin la necesidad de crear una instancia de la clase, lo que significa que son métodos que pertenecen a la clase en sí y no a las instancias individuales de la clase.\n",
    "\n",
    "⚠ La principal diferencia entre @staticmethod y @classmethod radica en cómo se pasan los argumentos y cómo se comportan en relación con la clase y las instancias. Veamos cada uno de ellos:"
   ]
  },
  {
   "cell_type": "markdown",
   "id": "0f6c3308",
   "metadata": {},
   "source": [
    "###### @staticmethod:\n",
    "\n",
    "Un método decorado con @staticmethod no toma el primer argumento como self. No tiene acceso a los atributos o métodos de instancia, ni al propio objeto de la instancia. Por lo tanto, no necesita una referencia a la instancia de la clase para ser llamado.\n",
    "\n",
    "Se utiliza para definir métodos que no necesitan información específica de la instancia y que realizan operaciones independientes de cualquier estado de instancia.\n",
    "\n",
    "Se puede llamar desde la clase o una instancia de la clase."
   ]
  },
  {
   "cell_type": "code",
   "execution_count": 85,
   "id": "c1785bf8",
   "metadata": {},
   "outputs": [
    {
     "name": "stdout",
     "output_type": "stream",
     "text": [
      "Soy un método estático.\n",
      "Soy un método estático.\n"
     ]
    }
   ],
   "source": [
    "class MyClass:\n",
    "    class_variable = \"Hola terricolas\"\n",
    "    \n",
    "    ## __init__(self):\n",
    "    ##\n",
    "    \n",
    "    @staticmethod\n",
    "    def static_method():\n",
    "        print(\"Soy un método estático.\")\n",
    "\n",
    "# Llamada desde la clase\n",
    "MyClass.static_method()\n",
    "\n",
    "# Llamada desde una instancia de la clase\n",
    "obj = MyClass()\n",
    "obj.static_method()\n"
   ]
  },
  {
   "cell_type": "markdown",
   "id": "35bd7c76",
   "metadata": {},
   "source": [
    "##### @classmethod:\n",
    "\n",
    "Un método decorado con @classmethod toma el primer argumento como cls, que hace referencia a la propia clase. Con este argumento, el método tiene acceso a los atributos y métodos de la clase.\n",
    "\n",
    "Se utiliza para definir métodos que necesitan acceder a la clase y no necesariamente a las instancias individuales.\n",
    "\n",
    "Se puede llamar desde la clase, y también desde una instancia de la clase, pero en este caso, cls se refiere a la clase que es el tipo de la instancia desde la cual se llama."
   ]
  },
  {
   "cell_type": "code",
   "execution_count": 87,
   "id": "65ad5e7f",
   "metadata": {},
   "outputs": [
    {
     "name": "stdout",
     "output_type": "stream",
     "text": [
      "soy un método de clase\n",
      "Hola terricolas\n",
      "soy un método de clase\n",
      "Hola terricolas\n"
     ]
    }
   ],
   "source": [
    "class MyClass:\n",
    "    class_variable = \"Hola terricolas\"\n",
    "\n",
    "    @classmethod\n",
    "    def class_method(cls):\n",
    "        print(\"soy un método de clase\")\n",
    "        print(cls.class_variable)  # Acceso a atributos de la clase\n",
    "\n",
    "# Llamada desde la clase\n",
    "MyClass.class_method()\n",
    "\n",
    "# Llamada desde una instancia de la clase\n",
    "obj = MyClass()\n",
    "obj.class_method()"
   ]
  },
  {
   "cell_type": "code",
   "execution_count": 100,
   "id": "9a15684a",
   "metadata": {},
   "outputs": [
    {
     "name": "stdout",
     "output_type": "stream",
     "text": [
      "default te puedo ofrecer desde:  2.4\n",
      "juan identificado con cédula:  1130514325\n",
      "default te puedo ofrecer desde:  2.4\n"
     ]
    }
   ],
   "source": [
    "class Persona_Natural:\n",
    "    tasa_minima = 2.4\n",
    "    name = \"default\"\n",
    "    \n",
    "    def __init__(self, name, ident):\n",
    "        self.name = name\n",
    "        self.ident = ident\n",
    "        \n",
    "    def sayHi(self):\n",
    "        print(self.name, \"identificado con cédula: \", self.ident)\n",
    "\n",
    "    @classmethod\n",
    "    def sayMinTax(cls):\n",
    "        print(cls.name, \"te puedo ofrecer desde: \", cls.tasa_minima)        \n",
    "\n",
    "# Llamada desde la clase\n",
    "Persona_Natural.sayMinTax()\n",
    "\n",
    "# Llamada desde una instancia de la clase\n",
    "juan = Persona_Natural(\"juan\", \"1130514325\")\n",
    "juan.sayHi()\n",
    "juan.sayMinTax()"
   ]
  },
  {
   "cell_type": "code",
   "execution_count": null,
   "id": "c57be8ac",
   "metadata": {},
   "outputs": [],
   "source": []
  }
 ],
 "metadata": {
  "kernelspec": {
   "display_name": "Python 3 (ipykernel)",
   "language": "python",
   "name": "python3"
  },
  "language_info": {
   "codemirror_mode": {
    "name": "ipython",
    "version": 3
   },
   "file_extension": ".py",
   "mimetype": "text/x-python",
   "name": "python",
   "nbconvert_exporter": "python",
   "pygments_lexer": "ipython3",
   "version": "3.11.3"
  }
 },
 "nbformat": 4,
 "nbformat_minor": 5
}
