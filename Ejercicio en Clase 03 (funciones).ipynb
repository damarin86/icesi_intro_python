{
 "cells": [
  {
   "cell_type": "markdown",
   "metadata": {},
   "source": [
    "Ejercicios de práctica - FUNCIONES"
   ]
  },
  {
   "cell_type": "code",
   "execution_count": 3,
   "metadata": {},
   "outputs": [
    {
     "name": "stdout",
     "output_type": "stream",
     "text": [
      "Hola Mundo\n"
     ]
    }
   ],
   "source": [
    "# Crea una función llamada saludar que imprima un saludo.\n",
    "def saludar():\n",
    "    print(\"Hola Mundo\")\n",
    "\n",
    "saludar()"
   ]
  },
  {
   "cell_type": "code",
   "execution_count": 4,
   "metadata": {},
   "outputs": [
    {
     "name": "stdout",
     "output_type": "stream",
     "text": [
      "5\n"
     ]
    }
   ],
   "source": [
    "# Crea una función llamada sumar que tome dos parámetros e imprima la suma.\n",
    "def sumar(a,b):\n",
    "    print(a+b)\n",
    "\n",
    "sumar(2,3)"
   ]
  },
  {
   "cell_type": "code",
   "execution_count": 7,
   "metadata": {},
   "outputs": [
    {
     "data": {
      "text/plain": [
       "4"
      ]
     },
     "execution_count": 7,
     "metadata": {},
     "output_type": "execute_result"
    }
   ],
   "source": [
    "# Crea una función llamada cuadrado que tome un número como parámetro y devuelva su cuadrado.\n",
    "def cuadrado(a):\n",
    "    return a**2\n",
    "\n",
    "cuadrado(2)"
   ]
  },
  {
   "cell_type": "code",
   "execution_count": 8,
   "metadata": {},
   "outputs": [
    {
     "name": "stdout",
     "output_type": "stream",
     "text": [
      "Hola Juan\n"
     ]
    }
   ],
   "source": [
    "# Crea una función llamada saludo_personalizado que tome el nombre como parámetro y un saludo predeterminado.\n",
    "def saludo_personalizado(nombre, saludo=\"Hola\"):\n",
    "    print(saludo, nombre)\n",
    "\n",
    "saludo_personalizado(\"Juan\")"
   ]
  },
  {
   "cell_type": "code",
   "execution_count": 14,
   "metadata": {},
   "outputs": [
    {
     "name": "stdout",
     "output_type": "stream",
     "text": [
      "1\n",
      "2\n",
      "3\n",
      "4\n",
      "5\n"
     ]
    }
   ],
   "source": [
    "# Crea una función llamada imprimir_lista que tome una lista como parámetro e imprima cada elemento.\n",
    "def imprimir_lista(lista):\n",
    "    for elemento in lista:\n",
    "        print(elemento)\n",
    "\n",
    "imprimir_lista([1,2,3,4,5])"
   ]
  },
  {
   "cell_type": "code",
   "execution_count": 17,
   "metadata": {},
   "outputs": [
    {
     "name": "stdout",
     "output_type": "stream",
     "text": [
      "el resultado de la division es: 2 residuo: 0\n"
     ]
    }
   ],
   "source": [
    "# Crea una función llamada dividir que tome dos números como parámetros y devuelva el resultado y el residuo de la división.\n",
    "def dividir(a,b):\n",
    "    print (\"el resultado de la division es:\", a//b, \"residuo:\", a%b)\n",
    "\n",
    "dividir(4,2)"
   ]
  },
  {
   "cell_type": "code",
   "execution_count": 21,
   "metadata": {},
   "outputs": [
    {
     "name": "stdout",
     "output_type": "stream",
     "text": [
      "Hola Juan\n",
      "Help on function saludo_documentado in module __main__:\n",
      "\n",
      "saludo_documentado(nombre)\n",
      "    Esta funcion imprime un saludo utliizando como parametro el nombre\n",
      "\n"
     ]
    }
   ],
   "source": [
    "# Crea una función llamada saludo_documentado que tome un nombre como parámetro e imprima un saludo. Incluye un docstring para documentar la función.\n",
    "def saludo_documentado(nombre):\n",
    "    \"\"\"Esta funcion imprime un saludo utliizando como parametro el nombre\"\"\"\n",
    "    print(\"Hola\", nombre)\n",
    "\n",
    "saludo_documentado(\"Juan\")\n",
    "\n",
    "help(saludo_documentado)"
   ]
  },
  {
   "cell_type": "code",
   "execution_count": 11,
   "metadata": {},
   "outputs": [
    {
     "data": {
      "text/plain": [
       "93326215443944152681699238856266700490715968264381621468592963895217599993229915608941463976156518286253697920827223758251185210916864000000000000000000000000"
      ]
     },
     "execution_count": 11,
     "metadata": {},
     "output_type": "execute_result"
    }
   ],
   "source": [
    "# Crea una función recursiva llamada factorial para calcular el factorial de un número.\n",
    "def factorial(n):\n",
    "    if n == 0 or n == 1:\n",
    "        return 1\n",
    "    else:\n",
    "        return n * factorial(n-1)\n",
    "    \n",
    "factorial(100)"
   ]
  },
  {
   "cell_type": "code",
   "execution_count": 13,
   "metadata": {},
   "outputs": [
    {
     "name": "stdout",
     "output_type": "stream",
     "text": [
      "1\n",
      "2\n",
      "3\n",
      "casa\n",
      "5\n"
     ]
    }
   ],
   "source": [
    "# Crea una función llamada imprimir_argumentos que acepte un número arbitrario de argumentos y los imprima.\n",
    "\n",
    "def imprimir_argumentos(*args):\n",
    "    for arg in args:\n",
    "        print(arg)\n",
    "\n",
    "imprimir_argumentos(1,2,3,\"casa\",5)"
   ]
  },
  {
   "cell_type": "code",
   "execution_count": 14,
   "metadata": {},
   "outputs": [
    {
     "name": "stdout",
     "output_type": "stream",
     "text": [
      "a 1\n",
      "b 2\n",
      "c 3\n",
      "d casa\n",
      "e 5\n"
     ]
    }
   ],
   "source": [
    "# Crea una función llamada imprimir_argumentos_nombrados que acepte un número arbitrario de argumentos nombrados y los imprima.\n",
    "\n",
    "def imprimir_argumentos_nombrados(**kwargs):\n",
    "    for key, value in kwargs.items():\n",
    "        print(key, value)\n",
    "\n",
    "imprimir_argumentos_nombrados(a=1,b=2,c=3,d=\"casa\",e=5)"
   ]
  },
  {
   "cell_type": "code",
   "execution_count": 18,
   "metadata": {},
   "outputs": [
    {
     "data": {
      "text/plain": [
       "False"
      ]
     },
     "execution_count": 18,
     "metadata": {},
     "output_type": "execute_result"
    }
   ],
   "source": [
    "# Crea una función llamada es_par que tome un número como parámetro y devuelva True si es par y False si es impar.\n",
    "\n",
    "def es_par(n):\n",
    "    return n % 2 == 0\n",
    "\n",
    "es_par(3)"
   ]
  },
  {
   "cell_type": "code",
   "execution_count": 22,
   "metadata": {},
   "outputs": [
    {
     "data": {
      "text/plain": [
       "[0, 2, 4, 6, 8]"
      ]
     },
     "execution_count": 22,
     "metadata": {},
     "output_type": "execute_result"
    }
   ],
   "source": [
    "# Crea una función llamada numeros_pares que tome un número como parámetro y devuelva una lista de números pares hasta ese número.\n",
    "\n",
    "def numeros_pares(n):\n",
    "    lista = []\n",
    "    for i in range(n):\n",
    "        if es_par(i):\n",
    "            lista.append(i)\n",
    "    return lista\n",
    "\n",
    "numeros_pares(10)"
   ]
  },
  {
   "cell_type": "code",
   "execution_count": 23,
   "metadata": {},
   "outputs": [
    {
     "name": "stdout",
     "output_type": "stream",
     "text": [
      "Antes de llamar a la función.\n",
      "¡Hola, soy la función original!\n",
      "Después de llamar a la función.\n"
     ]
    }
   ],
   "source": [
    "def mi_decorador(func):\n",
    "    def wrapper():\n",
    "        print(\"Antes de llamar a la función.\")\n",
    "        func()\n",
    "        print(\"Después de llamar a la función.\")\n",
    "    return wrapper\n",
    "\n",
    "@mi_decorador\n",
    "def mi_funcion():\n",
    "    print(\"¡Hola, soy la función original!\")\n",
    "\n",
    "# Llamamos a la función decorada\n",
    "mi_funcion()"
   ]
  },
  {
   "cell_type": "code",
   "execution_count": 32,
   "metadata": {},
   "outputs": [
    {
     "name": "stdout",
     "output_type": "stream",
     "text": [
      "Antes de llamar a la función.\n",
      "¡Hola, soy la función original!\n",
      "Después de llamar a la función.\n",
      "Antes de llamar a la función.\n",
      "[0, 2, 4, 6, 8]\n",
      "Después de llamar a la función.\n"
     ]
    }
   ],
   "source": [
    "# Crea una función y un decorador llamado decorador_saludo que imprima un saludo antes y después de llamar a la función.\n",
    "\n",
    "def decorador_saludo(func):\n",
    "    def wrapper(*args, **kwargs):\n",
    "        print(\"Antes de llamar a la función.\")\n",
    "        func(*args, **kwargs)\n",
    "        print(\"Después de llamar a la función.\")\n",
    "    return wrapper\n",
    "\n",
    "@decorador_saludo\n",
    "def mi_funcion():\n",
    "    print(\"¡Hola, soy la función original!\")\n",
    "\n",
    "@decorador_saludo\n",
    "def numeros_pares(n):\n",
    "    lista = []\n",
    "    for i in range(n):\n",
    "        if es_par(i):\n",
    "            lista.append(i)\n",
    "    print(lista)\n",
    "\n",
    "mi_funcion()\n",
    "numeros_pares(10)"
   ]
  },
  {
   "cell_type": "code",
   "execution_count": 38,
   "metadata": {},
   "outputs": [
    {
     "name": "stdout",
     "output_type": "stream",
     "text": [
      "No se puede dividir por cero\n"
     ]
    }
   ],
   "source": [
    "# Crea una función llamada dividir_segura que tome dos números como parámetros y maneje la excepción ZeroDivisionError.\n",
    "def dividir_segura(a,b):\n",
    "    try:\n",
    "        return a/b\n",
    "    except ZeroDivisionError:\n",
    "        print(\"No se puede dividir por cero\")\n",
    "\n",
    "dividir_segura(4,0)"
   ]
  },
  {
   "cell_type": "code",
   "execution_count": 39,
   "metadata": {},
   "outputs": [
    {
     "name": "stdout",
     "output_type": "stream",
     "text": [
      "Hola Juan\n",
      "Hola Pedro\n",
      "Hola Maria\n"
     ]
    }
   ],
   "source": [
    "# Crea una función llamada imprimir_nombres que tome una lista de nombres como parámetro y un saludo predeterminado.\n",
    "def imprimir_nombres(lista, saludo=\"Hola\"):\n",
    "    for nombre in lista:\n",
    "        print(saludo, nombre)\n",
    "\n",
    "imprimir_nombres([\"Juan\", \"Pedro\", \"Maria\"])"
   ]
  },
  {
   "cell_type": "code",
   "execution_count": 46,
   "metadata": {},
   "outputs": [
    {
     "data": {
      "text/plain": [
       "('Juan', 20)"
      ]
     },
     "execution_count": 46,
     "metadata": {},
     "output_type": "execute_result"
    }
   ],
   "source": [
    "# Crea una función llamada obtener_info que tome un nombre y una edad como parámetros y devuelva una tupla con ambos valores.\n",
    "def obtener_info(nombre, edad):\n",
    "    return nombre, edad\n",
    "\n",
    "obtener_info(\"Juan\", 20)"
   ]
  },
  {
   "cell_type": "code",
   "execution_count": 51,
   "metadata": {},
   "outputs": [
    {
     "name": "stdout",
     "output_type": "stream",
     "text": [
      "[1, 2, 3, 1, 2, 3]\n"
     ]
    },
    {
     "data": {
      "text/plain": [
       "[1, 1, 2, 2, 3, 3]"
      ]
     },
     "execution_count": 51,
     "metadata": {},
     "output_type": "execute_result"
    }
   ],
   "source": [
    "# Crea una función llamada duplicar_lista que tome una lista como parámetro y devuelva una nueva lista con cada elemento duplicado.\n",
    "def duplicar_lista(lista):\n",
    "    print(lista * 2)\n",
    "    return lista * 2\n",
    "    \n",
    "\n",
    "duplicar_lista([1,2,3])\n",
    "\n",
    "def duplicar_lista2(lista):\n",
    "    lista2 = []\n",
    "    for i in lista:\n",
    "        lista2.append(i)\n",
    "        lista2.append(i)\n",
    "    return lista2\n",
    "\n",
    "duplicar_lista2([1,2,3])"
   ]
  },
  {
   "cell_type": "code",
   "execution_count": 52,
   "metadata": {},
   "outputs": [
    {
     "data": {
      "text/plain": [
       "{'nombre': 'Juan', 'edad': 20}"
      ]
     },
     "execution_count": 52,
     "metadata": {},
     "output_type": "execute_result"
    }
   ],
   "source": [
    "# Crea una función llamada crear_diccionario que tome dos listas (claves y valores) como parámetros y devuelva un diccionario.\n",
    "def crear_diccionario(claves, valores):\n",
    "    return dict(zip(claves, valores))\n",
    "\n",
    "crear_diccionario([\"nombre\", \"edad\"], [\"Juan\", 20])"
   ]
  },
  {
   "cell_type": "code",
   "execution_count": 53,
   "metadata": {},
   "outputs": [
    {
     "name": "stdout",
     "output_type": "stream",
     "text": [
      "nombre Juan\n",
      "edad 20\n",
      "ciudad Bogota\n"
     ]
    }
   ],
   "source": [
    "# Crea una función llamada informacion_persona que tome argumentos nombrados para el nombre, edad y ciudad, e imprima la información.\n",
    "def informacion_persona(**kwargs):\n",
    "    for key, value in kwargs.items():\n",
    "        print(key, value)\n",
    "\n",
    "informacion_persona(nombre=\"Juan\", edad=20, ciudad=\"Bogota\")"
   ]
  },
  {
   "cell_type": "code",
   "execution_count": 17,
   "metadata": {},
   "outputs": [
    {
     "name": "stdout",
     "output_type": "stream",
     "text": [
      "No se puede dividir por cero\n"
     ]
    }
   ],
   "source": [
    "# Crea una función llamada dividir que tome dos números como parámetros y verifique que el divisor no sea cero.\n",
    "def dividir(a,b):\n",
    "    try:\n",
    "        return a/b\n",
    "    except ZeroDivisionError:\n",
    "        print(\"No se puede dividir por cero!\")\n",
    "\n",
    "dividir(4,0)"
   ]
  },
  {
   "cell_type": "code",
   "execution_count": 30,
   "metadata": {},
   "outputs": [
    {
     "name": "stdout",
     "output_type": "stream",
     "text": [
      "2 4 6 8 10 \n",
      "\n",
      "2 4 6 8 10 "
     ]
    }
   ],
   "source": [
    "# Crea una función generadora llamada generador_pares que genere números pares del 2 al 10.\n",
    "def generador_pares():\n",
    "    for i in range(2,11,2):\n",
    "        yield i\n",
    "\n",
    "for i in generador_pares():\n",
    "    print(i, end=\" \") # end=\"\" es para que no haga salto de linea (por defecto es \\n\n",
    "\n",
    "print(\"\\n\")\n",
    "\n",
    "def generador_pares2():\n",
    "    for i in range(2,11,2):\n",
    "        print(i, end=\" \")\n",
    "\n",
    "generador_pares2()"
   ]
  },
  {
   "cell_type": "code",
   "execution_count": 1,
   "metadata": {},
   "outputs": [
    {
     "data": {
      "text/plain": [
       "{1, 2, 3, 4, 5}"
      ]
     },
     "execution_count": 1,
     "metadata": {},
     "output_type": "execute_result"
    }
   ],
   "source": [
    "# Crea una función llamada eliminar_duplicados que tome una lista como parámetro y devuelva un conjunto sin elementos duplicados.\n",
    "def eliminar_duplicados(lista):\n",
    "    return set(lista)\n",
    "\n",
    "eliminar_duplicados([1,2,3,4,5,5,5,5,5,5,5,5,5,5,5,5])"
   ]
  },
  {
   "cell_type": "code",
   "execution_count": 34,
   "metadata": {},
   "outputs": [
    {
     "name": "stdout",
     "output_type": "stream",
     "text": [
      "4.0\n",
      "No se puede dividir por un valor no numérico\n",
      "No se puede dividir por cero\n"
     ]
    }
   ],
   "source": [
    "# Crea una función llamada dividir_segura que tome dos números como parámetros y maneje la excepción ValueError si se ingresa un valor no numérico.\n",
    "def dividir_segura(a,b):\n",
    "    try:\n",
    "        print(a/b)    \n",
    "    except ZeroDivisionError:\n",
    "        print(\"No se puede dividir por cero\")\n",
    "    except TypeError:\n",
    "        print(\"No se puede dividir por un valor no numérico\")\n",
    "\n",
    "dividir_segura(4,1)\n",
    "dividir_segura(4,\"a\")\n",
    "dividir_segura(4,0)"
   ]
  },
  {
   "cell_type": "code",
   "execution_count": 36,
   "metadata": {},
   "outputs": [
    {
     "data": {
      "text/plain": [
       "15"
      ]
     },
     "execution_count": 36,
     "metadata": {},
     "output_type": "execute_result"
    }
   ],
   "source": [
    "# Crea una función llamada incrementador que tome un número como parámetro y devuelva una función que incremente otros números por ese valor.\n",
    "def incrementador(n):\n",
    "    def suma(x):\n",
    "        return x + n\n",
    "    return suma\n",
    "\n",
    "suma_5 = incrementador(5)\n",
    "suma_5(10)"
   ]
  },
  {
   "cell_type": "code",
   "execution_count": 37,
   "metadata": {},
   "outputs": [
    {
     "data": {
      "text/plain": [
       "[1, 2, 3, 4, 5, 6]"
      ]
     },
     "execution_count": 37,
     "metadata": {},
     "output_type": "execute_result"
    }
   ],
   "source": [
    "# Crea una función llamada concatenar_lista que tome dos listas como parámetros y devuelva una lista que contenga ambos.\n",
    "def concatenar_lista(lista1, lista2):\n",
    "    return lista1 + lista2\n",
    "\n",
    "concatenar_lista([1,2,3], [4,5,6])"
   ]
  },
  {
   "cell_type": "code",
   "execution_count": 39,
   "metadata": {},
   "outputs": [
    {
     "name": "stdout",
     "output_type": "stream",
     "text": [
      "Tiempo de ejecución: 12.000788688659668\n"
     ]
    }
   ],
   "source": [
    "# Crea una función y un decorador llamado medir_tiempo que mida el tiempo de ejecución de la función.\n",
    "import time\n",
    "\n",
    "def medir_tiempo(func):\n",
    "    def wrapper(*args, **kwargs):\n",
    "        inicio = time.time()\n",
    "        func(*args, **kwargs)\n",
    "        fin = time.time()\n",
    "        print(\"Tiempo de ejecución:\", fin - inicio)\n",
    "    return wrapper\n",
    "\n",
    "@medir_tiempo\n",
    "def mi_funcion():\n",
    "    time.sleep(12)\n",
    "\n",
    "mi_funcion()"
   ]
  },
  {
   "cell_type": "code",
   "execution_count": 41,
   "metadata": {},
   "outputs": [
    {
     "name": "stdout",
     "output_type": "stream",
     "text": [
      "nombre Juan\n",
      "edad 20\n"
     ]
    }
   ],
   "source": [
    "# Crea una función llamada imprimir_diccionario que tome un diccionario como parámetro y devuelva cada clave y valor.\n",
    "\n",
    "def imprimir_diccionario(diccionario):\n",
    "    for key, value in diccionario.items():\n",
    "        print(key, value)\n",
    "\n",
    "imprimir_diccionario({\"nombre\": \"Juan\", \"edad\": 20})"
   ]
  },
  {
   "cell_type": "code",
   "execution_count": 49,
   "metadata": {},
   "outputs": [
    {
     "data": {
      "text/plain": [
       "'a3'"
      ]
     },
     "execution_count": 49,
     "metadata": {},
     "output_type": "execute_result"
    }
   ],
   "source": [
    "# Crea una función llamada sumar_valores que tome dos parámetros con anotación de tipo y devuelva la suma.\n",
    "\n",
    "def sumar_valores(a: int, b: int) -> int:\n",
    "    return a + b\n",
    "\n",
    "sumar_valores(2,3)"
   ]
  },
  {
   "cell_type": "code",
   "execution_count": 50,
   "metadata": {},
   "outputs": [
    {
     "data": {
      "text/plain": [
       "4"
      ]
     },
     "execution_count": 50,
     "metadata": {},
     "output_type": "execute_result"
    }
   ],
   "source": [
    "# Crea una función llamada cuadrado_lambda que tome un número como parámetro y utilice una expresión lambda para devolver su cuadrado.\n",
    "cuadrado_lambda = lambda x: x**2\n",
    "\n",
    "cuadrado_lambda(2)"
   ]
  },
  {
   "cell_type": "code",
   "execution_count": 54,
   "metadata": {},
   "outputs": [
    {
     "data": {
      "text/plain": [
       "'Hola Mundo desde Python'"
      ]
     },
     "execution_count": 54,
     "metadata": {},
     "output_type": "execute_result"
    }
   ],
   "source": [
    "# Crea una función llamada concatenar_palabras que tome cualquier cantidad de palabras como argumentos y las concatene en una sola cadena.\n",
    "def concatenar_palabras(*args):\n",
    "    return \" \".join(args)\n",
    "\n",
    "concatenar_palabras(\"Hola\", \"Mundo\", \"desde\", \"Python\")\n"
   ]
  },
  {
   "cell_type": "code",
   "execution_count": 61,
   "metadata": {},
   "outputs": [
    {
     "data": {
      "text/plain": [
       "8"
      ]
     },
     "execution_count": 61,
     "metadata": {},
     "output_type": "execute_result"
    }
   ],
   "source": [
    "# Crea una función llamada crear_funcion_cuadrado que tome un exponente y devuelva una función lambda que calcule el cuadrado de un número elevado a ese exponente.\n",
    "\n",
    "def crear_funcion_cuadrado(exponente):\n",
    "    return lambda x: x**exponente\n",
    "\n",
    "cuadrado = crear_funcion_cuadrado(2)\n",
    "cuadrado(2)\n",
    "\n",
    "cubo = crear_funcion_cuadrado(3)\n",
    "cubo(2)"
   ]
  },
  {
   "cell_type": "code",
   "execution_count": 62,
   "metadata": {},
   "outputs": [
    {
     "data": {
      "text/plain": [
       "[2, 4, 6, 8, 10]"
      ]
     },
     "execution_count": 62,
     "metadata": {},
     "output_type": "execute_result"
    }
   ],
   "source": [
    "# Crea una función llamada filtrar_pares que tome una lista de números y devuelva una nueva lista solo con los números pares.\n",
    "def filtrar_pares(lista):\n",
    "    return list(filter(lambda x: x % 2 == 0, lista))\n",
    "\n",
    "filtrar_pares([1,2,3,4,5,6,7,8,9,10])\n"
   ]
  },
  {
   "cell_type": "code",
   "execution_count": 64,
   "metadata": {},
   "outputs": [
    {
     "data": {
      "text/plain": [
       "False"
      ]
     },
     "execution_count": 64,
     "metadata": {},
     "output_type": "execute_result"
    }
   ],
   "source": [
    "# Crea una función llamada es_mayor_edad que tome la edad como parámetro y devuelva True si es mayor o igual a 18, y False en caso contrario.\n",
    "def es_mayor_edad(edad):\n",
    "    return edad >= 18\n",
    "\n",
    "es_mayor_edad(5)"
   ]
  },
  {
   "cell_type": "code",
   "execution_count": 1,
   "metadata": {},
   "outputs": [
    {
     "data": {
      "text/plain": [
       "True"
      ]
     },
     "execution_count": 1,
     "metadata": {},
     "output_type": "execute_result"
    }
   ],
   "source": [
    "# Crea una función llamada es_numero_positivo que tome un número como parámetro y devuelva True si es positivo y no cero, y False en caso contrario.\n",
    "def es_numero_positivo(numero):\n",
    "    return numero > 0\n",
    "\n",
    "es_numero_positivo(1)\n"
   ]
  },
  {
   "cell_type": "code",
   "execution_count": 11,
   "metadata": {},
   "outputs": [
    {
     "name": "stdout",
     "output_type": "stream",
     "text": [
      "Juan\n",
      "20\n"
     ]
    }
   ],
   "source": [
    "# Crea una función llamada imprimir_diccionario_valores que tome un diccionario como parámetro e imprima solo los valores.\n",
    "def imprimir_diccionario_valores(diccionario):\n",
    "    for value in diccionario.values():\n",
    "        print(value)\n",
    "\n",
    "imprimir_diccionario_valores({\"nombre\": \"Juan\", \"edad\": 20})"
   ]
  },
  {
   "cell_type": "code",
   "execution_count": 17,
   "metadata": {},
   "outputs": [
    {
     "name": "stdout",
     "output_type": "stream",
     "text": [
      "Hola Juan\n",
      "Buenos días Pedro\n"
     ]
    }
   ],
   "source": [
    "# Crea una función llamada saludo_amigable que tome los argumentos nombre y saludo, e imprima un saludo personalizado.\n",
    "def saludo_amigable(nombre, saludo=\"Hola\"):\n",
    "    print(saludo, nombre)\n",
    "\n",
    "saludo_amigable(\"Juan\")\n",
    "saludo_amigable(\"Pedro\", \"Buenos días\")\n",
    "\n"
   ]
  },
  {
   "cell_type": "code",
   "execution_count": 21,
   "metadata": {},
   "outputs": [
    {
     "data": {
      "text/plain": [
       "'ola'"
      ]
     },
     "execution_count": 21,
     "metadata": {},
     "output_type": "execute_result"
    }
   ],
   "source": [
    "# Crea una función llamada obtener_subcadena que tome una cadena y dos índices, y devuelva la subcadena entre esos índices.\n",
    "def obtener_subcadena(cadena, inicio, fin):\n",
    "    return cadena[inicio:fin]\n",
    "\n",
    "obtener_subcadena(\"Hola Mundo\", 1, 4)"
   ]
  },
  {
   "cell_type": "code",
   "execution_count": 22,
   "metadata": {},
   "outputs": [
    {
     "name": "stdout",
     "output_type": "stream",
     "text": [
      "(1, 2, 3, 4, 5)\n",
      "{'nombre': 'Juan', 'edad': 20}\n"
     ]
    }
   ],
   "source": [
    "# Crea una función llamada mostrar_argumentos que tome cualquier cantidad de argumentos posicionales y nombrados, e imprima ambos.\n",
    "def mostrar_argumentos(*args, **kwargs):\n",
    "    print(args)\n",
    "    print(kwargs)\n",
    "\n",
    "mostrar_argumentos(1,2,3,4,5, nombre=\"Juan\", edad=20)\n"
   ]
  },
  {
   "cell_type": "code",
   "execution_count": 28,
   "metadata": {},
   "outputs": [
    {
     "name": "stdout",
     "output_type": "stream",
     "text": [
      "5\n",
      "Los parámetros deben ser enteros\n",
      "Los parámetros deben ser enteros\n"
     ]
    }
   ],
   "source": [
    "# Crea una función llamada sumar_enteros que tome dos números enteros como parámetros y devuelva su suma. Asegúrate de comprobar que los dos parámetros son enteros.\n",
    "def sumar_enteros(a, b):\n",
    "    if isinstance(a, int) and isinstance(b, int):\n",
    "        return a + b\n",
    "    else:\n",
    "        print(\"Los parámetros deben ser enteros\")\n",
    "\n",
    "print(sumar_enteros(2,3))\n",
    "sumar_enteros(2.3,3)\n",
    "sumar_enteros(2,\"a\")\n"
   ]
  },
  {
   "cell_type": "code",
   "execution_count": 31,
   "metadata": {},
   "outputs": [
    {
     "data": {
      "text/plain": [
       "False"
      ]
     },
     "execution_count": 31,
     "metadata": {},
     "output_type": "execute_result"
    }
   ],
   "source": [
    "# Crea una función llamada longitud_minima que tome una cadena y un número como parámetros, y devuelva True si la longitud de la cadena es mayor o igual al número, y False en caso contrario.\n",
    "def longitud_minima(cadena, numero):\n",
    "    return len(cadena) >= numero\n",
    "\n",
    "longitud_minima(\"Hola Mundo\", 11)"
   ]
  },
  {
   "cell_type": "code",
   "execution_count": 32,
   "metadata": {},
   "outputs": [
    {
     "data": {
      "text/plain": [
       "[2,\n",
       " 3,\n",
       " 5,\n",
       " 7,\n",
       " 11,\n",
       " 13,\n",
       " 17,\n",
       " 19,\n",
       " 23,\n",
       " 29,\n",
       " 31,\n",
       " 37,\n",
       " 41,\n",
       " 43,\n",
       " 47,\n",
       " 53,\n",
       " 59,\n",
       " 61,\n",
       " 67,\n",
       " 71,\n",
       " 73,\n",
       " 79,\n",
       " 83,\n",
       " 89,\n",
       " 97]"
      ]
     },
     "execution_count": 32,
     "metadata": {},
     "output_type": "execute_result"
    }
   ],
   "source": [
    "# Crea una función llamada numeros_primos que tome un número como parámetro y devuelva una lista con todos los números primos hasta ese número.\n",
    "def numeros_primos(numero):\n",
    "    lista = []\n",
    "    for i in range(2, numero):\n",
    "        if all(i % j != 0 for j in range(2, i)):\n",
    "            lista.append(i)\n",
    "    return lista\n",
    "\n",
    "numeros_primos(100)"
   ]
  }
 ],
 "metadata": {
  "kernelspec": {
   "display_name": "Python 3",
   "language": "python",
   "name": "python3"
  },
  "language_info": {
   "codemirror_mode": {
    "name": "ipython",
    "version": 3
   },
   "file_extension": ".py",
   "mimetype": "text/x-python",
   "name": "python",
   "nbconvert_exporter": "python",
   "pygments_lexer": "ipython3",
   "version": "3.11.3"
  }
 },
 "nbformat": 4,
 "nbformat_minor": 2
}
