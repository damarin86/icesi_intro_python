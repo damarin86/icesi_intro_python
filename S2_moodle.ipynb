{
 "cells": [
  {
   "cell_type": "markdown",
   "id": "7f7ed68a",
   "metadata": {},
   "source": [
    "# Sesión sincrónica 2\n",
    "\n",
    "#### Unidad 3\n",
    "\n",
    "1. ¿Qué son las estructuras de control de flujo - condicionales?\n",
    "2. Selección y condiciones.\n",
    "3. Selección simple, doble y múltiple"
   ]
  },
  {
   "cell_type": "code",
   "execution_count": 5,
   "id": "bb1461a0",
   "metadata": {},
   "outputs": [
    {
     "name": "stdout",
     "output_type": "stream",
     "text": [
      "1\n",
      "2\n",
      "3\n",
      "4\n",
      "5\n"
     ]
    }
   ],
   "source": [
    "# secuencia\n",
    "\n",
    "print(1)\n",
    "print(2)\n",
    "print(3)\n",
    "print(4)\n",
    "print(5)"
   ]
  },
  {
   "cell_type": "markdown",
   "id": "7681d62d",
   "metadata": {},
   "source": [
    "### Acerca de las condiciones"
   ]
  },
  {
   "cell_type": "code",
   "execution_count": 3,
   "id": "61d94297",
   "metadata": {},
   "outputs": [],
   "source": [
    "condicion_a = True\n",
    "condicion_b = False"
   ]
  },
  {
   "cell_type": "code",
   "execution_count": 7,
   "id": "30f2eccf",
   "metadata": {},
   "outputs": [
    {
     "name": "stdout",
     "output_type": "stream",
     "text": [
      "True False False False\n"
     ]
    }
   ],
   "source": [
    "condicion_c = True and True\n",
    "condicion_d = True and False\n",
    "condicion_e = False and True\n",
    "condicion_f = False and False\n",
    "print(condicion_c, condicion_d, condicion_e, condicion_f)"
   ]
  },
  {
   "cell_type": "code",
   "execution_count": 8,
   "id": "79c52606",
   "metadata": {},
   "outputs": [
    {
     "name": "stdout",
     "output_type": "stream",
     "text": [
      "True True True False\n"
     ]
    }
   ],
   "source": [
    "condicion_g = True or True\n",
    "condicion_h = True or False\n",
    "\n",
    "condicion_i = False or True\n",
    "condicion_j = False or False\n",
    "print(condicion_g, condicion_h, condicion_i, condicion_j)"
   ]
  },
  {
   "cell_type": "code",
   "execution_count": 16,
   "id": "36449991",
   "metadata": {},
   "outputs": [
    {
     "name": "stdout",
     "output_type": "stream",
     "text": [
      "Bienvenido, puedes pasar\n"
     ]
    }
   ],
   "source": [
    "# if ---> simple / opcional\n",
    "\n",
    "edad_persona = 18\n",
    "edad_minima_ingreso = 18\n",
    "\n",
    "if(edad_persona >= edad_minima_ingreso):\n",
    "    print(\"Bienvenido, puedes pasar\")"
   ]
  },
  {
   "cell_type": "code",
   "execution_count": 17,
   "id": "09b6aa04",
   "metadata": {},
   "outputs": [
    {
     "name": "stdout",
     "output_type": "stream",
     "text": [
      "No señor, no puede pasar...\n"
     ]
    }
   ],
   "source": [
    "# else ---> por defecto\n",
    "\n",
    "edad_persona = 17\n",
    "edad_minima_ingreso = 18\n",
    "\n",
    "if(edad_persona >= edad_minima_ingreso):\n",
    "    print(\"Bienvenido, puedes pasar\")\n",
    "    print(\"Bienvenido, puedes pasar\")\n",
    "    print(\"Bienvenido, puedes pasar\")\n",
    "    print(\"Bienvenido, puedes pasar\")\n",
    "else:\n",
    "    print(\"No señor, no puede pasar...\")"
   ]
  },
  {
   "cell_type": "code",
   "execution_count": 19,
   "id": "3dde12d0",
   "metadata": {},
   "outputs": [
    {
     "name": "stdout",
     "output_type": "stream",
     "text": [
      "El número es par\n"
     ]
    }
   ],
   "source": [
    "numero_incognita = 10\n",
    "\n",
    "if(numero_incognita%2 == 0):\n",
    "    print(\"El número es par\")\n",
    "else:\n",
    "    print(\"El número es impar\")    "
   ]
  },
  {
   "cell_type": "code",
   "execution_count": 21,
   "id": "b796086f",
   "metadata": {},
   "outputs": [
    {
     "name": "stdout",
     "output_type": "stream",
     "text": [
      "Puede ingresar a Años Dorados\n",
      "Puede ingresar a la plazoleta de comidas\n"
     ]
    }
   ],
   "source": [
    "# elif\n",
    "\n",
    "#3 [Kinder]: 18 - 24\n",
    "#2 [Adultos]: 25 - 35\n",
    "#1 [Años Dorados]: 55 - 90\n",
    "\n",
    "## ** sólo ingresas si tienes mas de 18 ** ##\n",
    "\n",
    "edad_persona = 55\n",
    "\n",
    "if(edad_persona >= 18):\n",
    "    if( edad_persona >= 18 and edad_persona <= 24):\n",
    "        print(\"Puede ingresar al kinder\")\n",
    "    elif(edad_persona >= 25 and edad_persona <= 35):\n",
    "        print(\"Puede ingresar a adultos\")\n",
    "    elif(edad_persona >= 55 and edad_persona <= 90):\n",
    "        print(\"Puede ingresar a Años Dorados\")\n",
    "    else: #### sólo si quiero bloquear el acceso al rango, y única selección.\n",
    "        print(\"Puede ingresar a la plazoleta de comidas\")\n",
    "else:\n",
    "    print(\"Lo siento, no pueden ingresar menores de edad\")\n",
    "\n",
    "# if\n",
    "# if - else\n",
    "# if - elif\n",
    "# if - elif - elif - else"
   ]
  },
  {
   "cell_type": "code",
   "execution_count": 31,
   "id": "f5001de9",
   "metadata": {},
   "outputs": [
    {
     "name": "stdout",
     "output_type": "stream",
     "text": [
      "Puede ingresar al VIP\n",
      "combo muchachos\n",
      "combo adulto joven\n",
      "Puede ingresar a Jóvenes\n",
      "Puede ingresar a Adultos\n",
      "otras cosas.... por hacer\n"
     ]
    }
   ],
   "source": [
    "# elif\n",
    "\n",
    "#4 [VIP]: 21 - 35\n",
    "#3 [Jovenes]: 18 - 28\n",
    "#2 [Adultos]: 25 - 35\n",
    "#1 [Años Dorados]: 55 - 90\n",
    "\n",
    "## ** sólo ingresas si tienes mas de 18 ** ##\n",
    "\n",
    "edad_persona = 26\n",
    "esta_en_rango = False\n",
    "\n",
    "if(edad_persona >= 18):\n",
    "    \n",
    "    if( edad_persona >= 21 and edad_persona <= 35):\n",
    "        print(\"Puede ingresar al VIP\")\n",
    "        esta_en_rango = True\n",
    "        if(edad_persona >= 21 and edad_persona <= 26):\n",
    "            print(\"combo muchachos\")\n",
    "        if(edad_persona >= 26 and edad_persona <= 35):\n",
    "            print(\"combo adulto joven\")\n",
    "        \n",
    "    if(edad_persona >= 18 and edad_persona <= 28):\n",
    "        print(\"Puede ingresar a Jóvenes\")\n",
    "        esta_en_rango = True\n",
    "        \n",
    "    if(edad_persona >= 25 and edad_persona <= 35):\n",
    "        print(\"Puede ingresar a Adultos\")\n",
    "        esta_en_rango = True\n",
    "        \n",
    "    if(edad_persona >= 55 and edad_persona <= 90):\n",
    "        print(\"Puede ingresar a Años Dorados\")\n",
    "        esta_en_rango = True    \n",
    "        \n",
    "##  if(edad_persona > 35 and edad_persona < 55):\n",
    "##  print(\"Puede ingresar a la plazoleta de comidas\")\n",
    "##        esta_en_rango = True    \n",
    "        \n",
    "    if(esta_en_rango == False):\n",
    "        print(\"Puede ingresar a la plazoleta de comidas\")\n",
    "        \n",
    "else:\n",
    "    print(\"Lo siento, no pueden ingresar menores de edad\")\n",
    "    \n",
    "print(\"otras cosas.... por hacer\")"
   ]
  },
  {
   "cell_type": "code",
   "execution_count": 33,
   "id": "61d1304b",
   "metadata": {},
   "outputs": [
    {
     "name": "stdout",
     "output_type": "stream",
     "text": [
      "Precio es: 2380000.0\n"
     ]
    }
   ],
   "source": [
    "\n",
    "# Ejercicio de selección computadores precio\n",
    "\n",
    "limite_sin_iva = 1800000\n",
    "precio_compu = 2000000\n",
    "\n",
    "if(precio_compu <= limite_sin_iva):\n",
    "    print(\"Precio es:\", precio_compu)\n",
    "else:\n",
    "    print(\"Precio es:\", precio_compu*1.19)"
   ]
  },
  {
   "cell_type": "markdown",
   "id": "8ddd78a5",
   "metadata": {},
   "source": [
    "#### Unidad 4\n",
    "\n",
    "1. ¿Qué son las estructuras de control de flujo - ciclos?\n",
    "2. Ciclos en Python."
   ]
  },
  {
   "cell_type": "code",
   "execution_count": null,
   "id": "54e54309",
   "metadata": {},
   "outputs": [],
   "source": [
    "print(1)\n",
    "print(2)\n",
    "print(3)\n",
    "print(4)"
   ]
  },
  {
   "cell_type": "code",
   "execution_count": 45,
   "id": "f5256f29",
   "metadata": {
    "scrolled": true
   },
   "outputs": [
    {
     "name": "stdout",
     "output_type": "stream",
     "text": [
      "1\n",
      "2\n",
      "2\n",
      "3\n",
      "3\n",
      "3\n",
      "4\n",
      "4\n",
      "4\n",
      "4\n"
     ]
    }
   ],
   "source": [
    "print(1)\n",
    "print(2)\n",
    "print(2)\n",
    "print(3)\n",
    "print(3)\n",
    "print(3)\n",
    "print(4)\n",
    "print(4)\n",
    "print(4)\n",
    "print(4)"
   ]
  },
  {
   "cell_type": "code",
   "execution_count": 48,
   "id": "2bcf5878",
   "metadata": {},
   "outputs": [
    {
     "name": "stdout",
     "output_type": "stream",
     "text": [
      "1\n",
      "2\n",
      "2\n",
      "3\n",
      "3\n",
      "3\n",
      "4\n",
      "4\n",
      "4\n",
      "4\n"
     ]
    }
   ],
   "source": [
    "# inicializacion \n",
    "valor = 1\n",
    "while(valor < 5):\n",
    "    conteo = 0\n",
    "    while(conteo < valor):\n",
    "        print(valor)\n",
    "        conteo+=1    \n",
    "    valor+=1"
   ]
  },
  {
   "cell_type": "code",
   "execution_count": 41,
   "id": "fef618b1",
   "metadata": {},
   "outputs": [
    {
     "name": "stdout",
     "output_type": "stream",
     "text": [
      "Clap! 👏 0\n",
      "Clap! 👏 2\n",
      "Clap! 👏 4\n",
      "Clap! 👏 6\n",
      "Clap! 👏 8\n",
      "Clap! 👏 10\n"
     ]
    }
   ],
   "source": [
    "# while\n",
    "conteo_aplausos = 0\n",
    "edad_persona = 12\n",
    "\n",
    "while(conteo_aplausos < edad_persona):\n",
    "    if(conteo_aplausos%2 == 0): # 0 2 4 6 8 10\n",
    "        print(\"Clap! 👏\", conteo_aplausos)\n",
    "    conteo_aplausos += 1"
   ]
  },
  {
   "cell_type": "code",
   "execution_count": 42,
   "id": "95fe727c",
   "metadata": {},
   "outputs": [
    {
     "name": "stdout",
     "output_type": "stream",
     "text": [
      "Clap! 👏\n",
      "weeeepa! 🥳\n",
      "Clap! 👏\n",
      "weeeepa! 🥳\n",
      "Clap! 👏\n",
      "weeeepa! 🥳\n",
      "Clap! 👏\n",
      "weeeepa! 🥳\n",
      "Clap! 👏\n",
      "weeeepa! 🥳\n",
      "Clap! 👏\n",
      "weeeepa! 🥳\n"
     ]
    }
   ],
   "source": [
    "# while\n",
    "conteo_aplausos = 0\n",
    "edad_persona = 12\n",
    "\n",
    "while(conteo_aplausos < edad_persona):\n",
    "    if(conteo_aplausos%2==0):\n",
    "        print(\"Clap! 👏\")\n",
    "    else:\n",
    "        print(\"weeeepa! 🥳\")    \n",
    "    conteo_aplausos += 1"
   ]
  },
  {
   "cell_type": "code",
   "execution_count": 50,
   "id": "c419d277",
   "metadata": {},
   "outputs": [
    {
     "name": "stdout",
     "output_type": "stream",
     "text": [
      "Hola!! Alexa\n",
      "Hola!! Angie\n"
     ]
    }
   ],
   "source": [
    "# for\n",
    "estudiantes = [\"Bryan\", \"Christian\", \"Alexa\", \"Angie\"]\n",
    "for estudiante in estudiantes:\n",
    "    if(str(estudiante).startswith(\"A\")):\n",
    "        print(\"Hola!!\", estudiante)"
   ]
  },
  {
   "cell_type": "code",
   "execution_count": 59,
   "id": "c503c7b0",
   "metadata": {},
   "outputs": [
    {
     "name": "stdout",
     "output_type": "stream",
     "text": [
      "a\n",
      "b\n",
      "c\n",
      "d\n",
      "e\n",
      "f\n",
      "g\n",
      "h\n",
      "i\n",
      "j\n",
      "k\n",
      "l\n",
      "m\n",
      "n\n",
      "o\n",
      "p\n",
      "q\n",
      "r\n",
      "s\n",
      "t\n",
      "u\n",
      "v\n",
      "w\n",
      "x\n",
      "y\n",
      "z\n"
     ]
    }
   ],
   "source": [
    "# range\n",
    "for x in range(97, 123): # [0,1,2,3,4,5,6,7,8,9] \n",
    "    print(chr(x))"
   ]
  },
  {
   "cell_type": "code",
   "execution_count": 60,
   "id": "9b6765da",
   "metadata": {},
   "outputs": [
    {
     "data": {
      "text/plain": [
       "range"
      ]
     },
     "execution_count": 60,
     "metadata": {},
     "output_type": "execute_result"
    }
   ],
   "source": [
    "type(range(2, 10, 3))"
   ]
  },
  {
   "cell_type": "code",
   "execution_count": 61,
   "id": "64729e32",
   "metadata": {},
   "outputs": [],
   "source": [
    "import pandas as pd\n",
    "\n",
    "names_list = [\n",
    "    \"Alice\", \"Bob\", \"Charlie\", \"David\", \"Emma\", \"Frank\", \"Grace\", \"Henry\", \"Isabella\", \"Jack\",\n",
    "    \"Kate\", \"Liam\", \"Mia\", \"Noah\", \"Olivia\", \"Peter\", \"Quinn\", \"Rachel\", \"Samuel\", \"Taylor\"\n",
    "]\n",
    "\n",
    "df = pd.DataFrame(names_list)"
   ]
  },
  {
   "cell_type": "code",
   "execution_count": 62,
   "id": "1610f8dd",
   "metadata": {},
   "outputs": [
    {
     "data": {
      "text/html": [
       "<div>\n",
       "<style scoped>\n",
       "    .dataframe tbody tr th:only-of-type {\n",
       "        vertical-align: middle;\n",
       "    }\n",
       "\n",
       "    .dataframe tbody tr th {\n",
       "        vertical-align: top;\n",
       "    }\n",
       "\n",
       "    .dataframe thead th {\n",
       "        text-align: right;\n",
       "    }\n",
       "</style>\n",
       "<table border=\"1\" class=\"dataframe\">\n",
       "  <thead>\n",
       "    <tr style=\"text-align: right;\">\n",
       "      <th></th>\n",
       "      <th>0</th>\n",
       "    </tr>\n",
       "  </thead>\n",
       "  <tbody>\n",
       "    <tr>\n",
       "      <th>0</th>\n",
       "      <td>Alice</td>\n",
       "    </tr>\n",
       "    <tr>\n",
       "      <th>1</th>\n",
       "      <td>Bob</td>\n",
       "    </tr>\n",
       "    <tr>\n",
       "      <th>2</th>\n",
       "      <td>Charlie</td>\n",
       "    </tr>\n",
       "    <tr>\n",
       "      <th>3</th>\n",
       "      <td>David</td>\n",
       "    </tr>\n",
       "    <tr>\n",
       "      <th>4</th>\n",
       "      <td>Emma</td>\n",
       "    </tr>\n",
       "    <tr>\n",
       "      <th>5</th>\n",
       "      <td>Frank</td>\n",
       "    </tr>\n",
       "    <tr>\n",
       "      <th>6</th>\n",
       "      <td>Grace</td>\n",
       "    </tr>\n",
       "    <tr>\n",
       "      <th>7</th>\n",
       "      <td>Henry</td>\n",
       "    </tr>\n",
       "    <tr>\n",
       "      <th>8</th>\n",
       "      <td>Isabella</td>\n",
       "    </tr>\n",
       "    <tr>\n",
       "      <th>9</th>\n",
       "      <td>Jack</td>\n",
       "    </tr>\n",
       "    <tr>\n",
       "      <th>10</th>\n",
       "      <td>Kate</td>\n",
       "    </tr>\n",
       "    <tr>\n",
       "      <th>11</th>\n",
       "      <td>Liam</td>\n",
       "    </tr>\n",
       "    <tr>\n",
       "      <th>12</th>\n",
       "      <td>Mia</td>\n",
       "    </tr>\n",
       "    <tr>\n",
       "      <th>13</th>\n",
       "      <td>Noah</td>\n",
       "    </tr>\n",
       "    <tr>\n",
       "      <th>14</th>\n",
       "      <td>Olivia</td>\n",
       "    </tr>\n",
       "    <tr>\n",
       "      <th>15</th>\n",
       "      <td>Peter</td>\n",
       "    </tr>\n",
       "    <tr>\n",
       "      <th>16</th>\n",
       "      <td>Quinn</td>\n",
       "    </tr>\n",
       "    <tr>\n",
       "      <th>17</th>\n",
       "      <td>Rachel</td>\n",
       "    </tr>\n",
       "    <tr>\n",
       "      <th>18</th>\n",
       "      <td>Samuel</td>\n",
       "    </tr>\n",
       "    <tr>\n",
       "      <th>19</th>\n",
       "      <td>Taylor</td>\n",
       "    </tr>\n",
       "  </tbody>\n",
       "</table>\n",
       "</div>"
      ],
      "text/plain": [
       "           0\n",
       "0      Alice\n",
       "1        Bob\n",
       "2    Charlie\n",
       "3      David\n",
       "4       Emma\n",
       "5      Frank\n",
       "6      Grace\n",
       "7      Henry\n",
       "8   Isabella\n",
       "9       Jack\n",
       "10      Kate\n",
       "11      Liam\n",
       "12       Mia\n",
       "13      Noah\n",
       "14    Olivia\n",
       "15     Peter\n",
       "16     Quinn\n",
       "17    Rachel\n",
       "18    Samuel\n",
       "19    Taylor"
      ]
     },
     "execution_count": 62,
     "metadata": {},
     "output_type": "execute_result"
    }
   ],
   "source": [
    "df"
   ]
  },
  {
   "cell_type": "code",
   "execution_count": null,
   "id": "d7e1f1a8",
   "metadata": {},
   "outputs": [],
   "source": []
  }
 ],
 "metadata": {
  "kernelspec": {
   "display_name": "Python 3 (ipykernel)",
   "language": "python",
   "name": "python3"
  },
  "language_info": {
   "codemirror_mode": {
    "name": "ipython",
    "version": 3
   },
   "file_extension": ".py",
   "mimetype": "text/x-python",
   "name": "python",
   "nbconvert_exporter": "python",
   "pygments_lexer": "ipython3",
   "version": "3.11.5"
  }
 },
 "nbformat": 4,
 "nbformat_minor": 5
}
