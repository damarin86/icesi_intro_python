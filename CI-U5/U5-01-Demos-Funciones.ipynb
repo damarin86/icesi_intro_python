{
 "cells": [
  {
   "cell_type": "markdown",
   "metadata": {},
   "source": [
    "# Unidad 5 - Introducción a la algoritmia con Python\n",
    "#### Elementos básicos de Python\n",
    " \n",
    "# Demo Funciones\n",
    "\n",
    "En este notebook vas a encontrar ejem plos relacionados con las funciones en Python, la estructura general y reglas para la construcción de estas. Recuerda que siempre puedes ir a la referencia si tienes alguna duda [Ir a la referencia](https://docs.python.org/3.9/library/index.html)\n",
    "\n",
    "##### Contenido de este archivo:\n",
    "\n",
    "1. Declaración\n",
    "2. Entradas (parámetros / argumentos)\n",
    "3. Ejecución y retorno\n",
    "4. Llamado o invocación\n",
    "5. funciones como variables"
   ]
  },
  {
   "cell_type": "markdown",
   "metadata": {},
   "source": [
    "### 1. Declaración"
   ]
  },
  {
   "cell_type": "code",
   "execution_count": 13,
   "metadata": {},
   "outputs": [
    {
     "name": "stdout",
     "output_type": "stream",
     "text": [
      "Ejecutando función\n"
     ]
    }
   ],
   "source": [
    "def nombre():\n",
    "    print(\"Ejecutando función\")\n",
    "nombre()"
   ]
  },
  {
   "cell_type": "markdown",
   "metadata": {},
   "source": [
    "### 2. Entradas (parámetros / argumentos)"
   ]
  },
  {
   "cell_type": "code",
   "execution_count": 14,
   "metadata": {},
   "outputs": [
    {
     "name": "stdout",
     "output_type": "stream",
     "text": [
      "Hola Jose, ¿cómo estás?\n",
      "Hola NA, ¿cómo estás?\n"
     ]
    }
   ],
   "source": [
    "def saludar(nombre):\n",
    "    print(f'Hola {nombre}, ¿cómo estás?')\n",
    "\n",
    "def saludar(nombre = \"NA\"):\n",
    "    print(f'Hola {nombre}, ¿cómo estás?')\n",
    "    \n",
    "saludar(\"Jose\")\n",
    "saludar()"
   ]
  },
  {
   "cell_type": "markdown",
   "metadata": {},
   "source": [
    "### 3. Ejecución y retorno"
   ]
  },
  {
   "cell_type": "code",
   "execution_count": 19,
   "metadata": {},
   "outputs": [
    {
     "name": "stdout",
     "output_type": "stream",
     "text": [
      "2558 19\n"
     ]
    }
   ],
   "source": [
    "def sumar(inputA, inputB):\n",
    "    suma = inputA + inputB\n",
    "    return suma\n",
    "\n",
    "def restar(a, b):\n",
    "    resta = a - b\n",
    "    return resta\n",
    "\n",
    "resultadoSuma = sumar(234,2324)\n",
    "resultadoResta = restar(25,6)\n",
    "print(resultadoSuma, resultadoResta);"
   ]
  },
  {
   "cell_type": "markdown",
   "metadata": {},
   "source": [
    "### 4. Llamado o invocación"
   ]
  },
  {
   "cell_type": "code",
   "execution_count": 18,
   "metadata": {},
   "outputs": [
    {
     "name": "stdout",
     "output_type": "stream",
     "text": [
      "Ejecutando función\n",
      "Hola Monk, ¿cómo estás?\n",
      "Hola NA, ¿cómo estás?\n",
      "10\n",
      "15\n",
      "-15\n"
     ]
    }
   ],
   "source": [
    "nombre()\n",
    "\n",
    "saludar(\"Monk\")\n",
    "\n",
    "saludar()\n",
    "\n",
    "resultado = sumar(5,5)\n",
    "print(resultado)\n",
    "\n",
    "resultadoRestaA = restar(a = 20, b = 5)\n",
    "print(resultadoRestaA)\n",
    "\n",
    "resultadoRestaB = restar(b = 20, a = 5)\n",
    "print(resultadoRestaB)"
   ]
  },
  {
   "cell_type": "markdown",
   "metadata": {},
   "source": [
    "### 5. funciones como variables"
   ]
  },
  {
   "cell_type": "code",
   "execution_count": 21,
   "metadata": {},
   "outputs": [],
   "source": [
    "def operar(a,b,operacion):\n",
    "    return operacion(a,b)"
   ]
  },
  {
   "cell_type": "code",
   "execution_count": 24,
   "metadata": {},
   "outputs": [
    {
     "name": "stdout",
     "output_type": "stream",
     "text": [
      "22\n"
     ]
    }
   ],
   "source": [
    "resultado = operar(20,2,sumar)\n",
    "print(resultado)"
   ]
  },
  {
   "cell_type": "code",
   "execution_count": 25,
   "metadata": {},
   "outputs": [
    {
     "name": "stdout",
     "output_type": "stream",
     "text": [
      "-120\n"
     ]
    }
   ],
   "source": [
    "resultado = operar(2,122,restar)\n",
    "print(resultado)"
   ]
  },
  {
   "cell_type": "code",
   "execution_count": null,
   "metadata": {},
   "outputs": [],
   "source": []
  }
 ],
 "metadata": {
  "kernelspec": {
   "display_name": "Python 3",
   "language": "python",
   "name": "python3"
  },
  "language_info": {
   "codemirror_mode": {
    "name": "ipython",
    "version": 3
   },
   "file_extension": ".py",
   "mimetype": "text/x-python",
   "name": "python",
   "nbconvert_exporter": "python",
   "pygments_lexer": "ipython3",
   "version": "3.7.6"
  }
 },
 "nbformat": 4,
 "nbformat_minor": 4
}
