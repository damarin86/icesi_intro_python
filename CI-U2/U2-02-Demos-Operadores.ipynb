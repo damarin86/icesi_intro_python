{
 "cells": [
  {
   "cell_type": "markdown",
   "metadata": {},
   "source": [
    "# Unidad 2 - Introducción a la algoritmia con Python\n",
    "#### Elementos básicos de Python\n",
    " \n",
    "# Demo Operadores\n",
    "\n",
    "En este notebook vas a encontrar ejemplos de uso de algunos de los operadores más comunes disponibles en Python, recuerda que siempre puedes ir a la referencia si tienes alguna duda [Ir a la referencia](https://docs.python.org/3.9/library/index.html)\n",
    "\n",
    "##### Contenido de este archivo:\n",
    "\n",
    "1. Operaciones aritméticas ✔\n",
    "2. Operaciones de comparación ✔\n",
    "3. Operaciones booleanas ✔\n",
    "4. Operaciones de secuencias ✔"
   ]
  },
  {
   "cell_type": "markdown",
   "metadata": {},
   "source": [
    "### 1. Operaciones aritméticas"
   ]
  },
  {
   "cell_type": "code",
   "execution_count": 1,
   "metadata": {
    "collapsed": true
   },
   "outputs": [
    {
     "name": "stdout",
     "output_type": "stream",
     "text": [
      "El resultado de la suma es: 32 <class 'int'>\n",
      "El resultado de la resta es: -16 <class 'int'>\n",
      "El resultado de la multiplicación es: 192 <class 'int'>\n",
      "El resultado de la división es: 0.3333333333333333 <class 'float'>\n",
      "El resultado de la residuo es: 8 <class 'int'>\n"
     ]
    }
   ],
   "source": [
    "# Declaramos algunos valores para operar\n",
    "valorA = 8;\n",
    "valorB = 24;\n",
    "\n",
    "# Suma (+)\n",
    "suma = valorA + valorB;\n",
    "print(\"El resultado de la suma es: \" + str(suma) +\" \"+ str(type(suma)))\n",
    "\n",
    "# Resta\n",
    "resta = valorA - valorB;\n",
    "print(\"El resultado de la resta es: \" + str(resta) +\" \"+ str(type(resta)))\n",
    "\n",
    "# Multiplicación\n",
    "multiplicacion = valorA * valorB;\n",
    "print(\"El resultado de la multiplicación es: \" + str(multiplicacion) +\" \"+ str(type(multiplicacion)))\n",
    "\n",
    "# División\n",
    "división = valorA / valorB;\n",
    "print(\"El resultado de la división es: \" + str(división) +\" \"+ str(type(división)))\n",
    "\n",
    "# Residuo\n",
    "residuo = valorA % valorB;\n",
    "print(\"El resultado de la residuo es: \" + str(residuo) +\" \"+ str(type(residuo)))"
   ]
  },
  {
   "cell_type": "markdown",
   "metadata": {},
   "source": [
    "### 2. Operaciones de comparación"
   ]
  },
  {
   "cell_type": "markdown",
   "metadata": {},
   "source": [
    "##### Comparaciones numéricas y booleanas"
   ]
  },
  {
   "cell_type": "code",
   "execution_count": 2,
   "metadata": {},
   "outputs": [],
   "source": [
    "# Declaramos algunos valores numéricos para comparación\n",
    "numeroA = 8;\n",
    "numeroB = 12;\n",
    "numeroC = 15;\n",
    "numeroD = 15;"
   ]
  },
  {
   "cell_type": "code",
   "execution_count": 3,
   "metadata": {
    "scrolled": true
   },
   "outputs": [
    {
     "name": "stdout",
     "output_type": "stream",
     "text": [
      "El resultado de comparar 8 > 12 es False\n",
      "El resultado de comparar 15 > 8 es True\n",
      "El resultado de comparar 15 > 15 es False\n",
      "El resultado de comparar 15 >= 15 es True\n"
     ]
    }
   ],
   "source": [
    "# Mayor (>)\n",
    "resultadoMayorA = numeroA > numeroB # Obtenemos False\n",
    "resultadoMayorB = numeroC > numeroB # Obtenemos True\n",
    "print(\"El resultado de comparar 8 > 12 es \" + str(resultadoMayorA))\n",
    "print(\"El resultado de comparar 15 > 8 es \" + str(resultadoMayorB))\n",
    "\n",
    "# Mayor igual (>=)\n",
    "resultadoMayorIgualA = numeroC > numeroD # Obtenemos False\n",
    "resultadoMayorIgualB = numeroC >= numeroD # Obtenemos True\n",
    "print(\"El resultado de comparar 15 > 15 es \" + str(resultadoMayorIgualA))\n",
    "print(\"El resultado de comparar 15 >= 15 es \" + str(resultadoMayorIgualB))"
   ]
  },
  {
   "cell_type": "code",
   "execution_count": 4,
   "metadata": {},
   "outputs": [
    {
     "name": "stdout",
     "output_type": "stream",
     "text": [
      "El resultado de comparar 8 < 12 es True\n",
      "El resultado de comparar 15 < 8 es False\n",
      "El resultado de comparar 15 < 15 es False\n",
      "El resultado de comparar 15 <= 15 es True\n"
     ]
    }
   ],
   "source": [
    "# Menor (<)\n",
    "resultadoMenorA = numeroA < numeroB # Obtenemos True\n",
    "resultadoMenorB = numeroC < numeroB # Obtenemos False\n",
    "print(\"El resultado de comparar 8 < 12 es \" + str(resultadoMenorA))\n",
    "print(\"El resultado de comparar 15 < 8 es \" + str(resultadoMenorB))\n",
    "\n",
    "# Menor igual (<=)\n",
    "resultadoMenorIgualA = numeroC < numeroD # Obtenemos False\n",
    "resultadoMenorIgualB = numeroC <= numeroD # Obtenemos True\n",
    "print(\"El resultado de comparar 15 < 15 es \" + str(resultadoMenorIgualA))\n",
    "print(\"El resultado de comparar 15 <= 15 es \" + str(resultadoMenorIgualB))"
   ]
  },
  {
   "cell_type": "code",
   "execution_count": 5,
   "metadata": {},
   "outputs": [],
   "source": [
    "# Declaramos algunos valores booleanos para comparar\n",
    "booleanoA1 = True;\n",
    "booleanoA2 = True;\n",
    "booleanoB1 = False;\n",
    "booleanoB2 = False;"
   ]
  },
  {
   "cell_type": "code",
   "execution_count": 6,
   "metadata": {},
   "outputs": [
    {
     "name": "stdout",
     "output_type": "stream",
     "text": [
      "El resultado de comparar 8 != 12 es True\n",
      "El resultado de comparar 15 != 15 es False\n",
      "El resultado de comparar True != True es True\n",
      "El resultado de comparar True != False es False\n"
     ]
    }
   ],
   "source": [
    "## Diferente de (!=)\n",
    "# Numérico\n",
    "resultadoDiferenteNumA = numeroA != numeroB; # Obtenemos True\n",
    "resultadoDiferenteNumB = numeroC != numeroD; # Obtenemos False\n",
    "print(\"El resultado de comparar 8 != 12 es \" + str(resultadoDiferenteNumA))\n",
    "print(\"El resultado de comparar 15 != 15 es \" + str(resultadoDiferenteNumB))\n",
    "# Booleano\n",
    "resultadoDiferenteBoolA = booleanoA1 != booleanoA2; # Obtenemos False\n",
    "resultadoDiferenteBoolB = booleanoA1 != booleanoB1; # Obtenemos True\n",
    "print(\"El resultado de comparar True != True es \" + str(resultadoDiferenteNumA))\n",
    "print(\"El resultado de comparar True != False es \" + str(resultadoDiferenteNumB))"
   ]
  },
  {
   "cell_type": "code",
   "execution_count": 7,
   "metadata": {},
   "outputs": [
    {
     "name": "stdout",
     "output_type": "stream",
     "text": [
      "El resultado de comparar 8 == 12 es False\n",
      "El resultado de comparar 15 == 15 es True\n",
      "El resultado de comparar True == True es True\n",
      "El resultado de comparar True == False es False\n"
     ]
    }
   ],
   "source": [
    "## Igual a (==)\n",
    "# Numérico\n",
    "resultadoIgualNumA = numeroA == numeroB; # Obtenemos False\n",
    "resultadoIgualNumB = numeroC == numeroD; # Obtenemos True\n",
    "print(\"El resultado de comparar 8 == 12 es \" + str(resultadoIgualNumA))\n",
    "print(\"El resultado de comparar 15 == 15 es \" + str(resultadoIgualNumB))\n",
    "# Booleano\n",
    "resultadoIgualBoolA = booleanoA1 == booleanoA2; # Obtenemos False\n",
    "resultadoIgualBoolB = booleanoA1 == booleanoB1; # Obtenemos True\n",
    "print(\"El resultado de comparar True == True es \" + str(resultadoIgualBoolA))\n",
    "print(\"El resultado de comparar True == False es \" + str(resultadoIgualBoolB))"
   ]
  },
  {
   "cell_type": "markdown",
   "metadata": {},
   "source": [
    "### 3. Operaciones de booleanas"
   ]
  },
  {
   "cell_type": "code",
   "execution_count": 8,
   "metadata": {},
   "outputs": [],
   "source": [
    "# Declaramos algunos valores para operar, sólo pueden ser booleanos\n",
    "valorBooleanA = True;\n",
    "valorBooleanB = True;\n",
    "valorBooleanC = False;\n",
    "valorBooleanD = False;"
   ]
  },
  {
   "cell_type": "code",
   "execution_count": 9,
   "metadata": {},
   "outputs": [
    {
     "name": "stdout",
     "output_type": "stream",
     "text": [
      "El resultado de operar True and True es True\n",
      "El resultado de operar True and False es False\n"
     ]
    }
   ],
   "source": [
    "# Usando la expresión Y (and)\n",
    "resultadoExpresionAndA = valorBooleanA and valorBooleanB\n",
    "resultadoExpresionAndB = valorBooleanA and valorBooleanC\n",
    "print(\"El resultado de operar True and True es \" + str(resultadoExpresionAndA))\n",
    "print(\"El resultado de operar True and False es \" + str(resultadoExpresionAndB))"
   ]
  },
  {
   "cell_type": "code",
   "execution_count": 10,
   "metadata": {
    "scrolled": true
   },
   "outputs": [
    {
     "name": "stdout",
     "output_type": "stream",
     "text": [
      "El resultado de operar True or True es True\n",
      "El resultado de operar True or False es True\n"
     ]
    }
   ],
   "source": [
    "# Usando la expresión O (or)\n",
    "resultadoExpresionOrA = valorBooleanA or valorBooleanB\n",
    "resultadoExpresionOrB = valorBooleanA or valorBooleanC\n",
    "print(\"El resultado de operar True or True es \" + str(resultadoExpresionOrA))\n",
    "print(\"El resultado de operar True or False es \" + str(resultadoExpresionOrB))"
   ]
  },
  {
   "cell_type": "markdown",
   "metadata": {},
   "source": [
    "### Tablas de verdad para comparaciones\n",
    "\n",
    "##### Tabla para Y (and)\n",
    "Podemos generalizar diciendo que sólo será True si todo es True\n",
    "\n",
    "| A | B | Resultado |\n",
    "| --- | --- | --- |\n",
    "| True | True | True |\n",
    "| True | False| False |\n",
    "| False | True | False |\n",
    "| False | False | False |\n",
    "\n",
    "##### Tabla para O (or)\n",
    "Podemos generalizar diciendo que sólo será False si todo es False\n",
    "\n",
    "| A | B | Resultado |\n",
    "| --- | --- | --- |\n",
    "| True | True | True |\n",
    "| True | False| True |\n",
    "| False | True | True |\n",
    "| False | False | False |"
   ]
  },
  {
   "cell_type": "code",
   "execution_count": 11,
   "metadata": {
    "scrolled": true
   },
   "outputs": [
    {
     "name": "stdout",
     "output_type": "stream",
     "text": [
      "El resultado de negar True es False\n",
      "El resultado de negar False es True\n"
     ]
    }
   ],
   "source": [
    "# Usando la expresión negación (not)\n",
    "resultadoExpresionNotA = not valorBooleanA\n",
    "resultadoExpresionNotB = not valorBooleanC\n",
    "print(\"El resultado de negar True es \" + str(resultadoExpresionNotA))\n",
    "print(\"El resultado de negar False es \" + str(resultadoExpresionNotB))"
   ]
  },
  {
   "cell_type": "markdown",
   "metadata": {},
   "source": [
    "### 4. Operaciones de secuencias\n",
    "\n",
    "Las operaciones de secuencia son ligeramente más complejas que las que hemos visto hasta ahora, haremos un ejemplo para cada una, recuerda que puedes probar todo lo que necesites. "
   ]
  },
  {
   "cell_type": "markdown",
   "metadata": {},
   "source": [
    "Si se desea verificar o no la existencia de un ítem en una secuencia puedes usar cualquiera de las 2 operaciones a continuación:"
   ]
  },
  {
   "cell_type": "code",
   "execution_count": 12,
   "metadata": {},
   "outputs": [
    {
     "name": "stdout",
     "output_type": "stream",
     "text": [
      "Hay mango en la secuencia: True\n",
      "Hay banano en la secuencia: False\n",
      "No hay Jose en la secuencia: False\n",
      "No hay Martina en la secuencia: True\n"
     ]
    }
   ],
   "source": [
    "# Operación para verificar si existe un ítem X en una secuencia (x in seq)\n",
    "seqFrutas = [\"mango\", \"piña\", \"papaya\", \"limón\"]\n",
    "hayMango = \"mango\" in seqFrutas\n",
    "hayBanano = \"banano\" in seqFrutas\n",
    "print(\"Hay mango en la secuencia: \" + str(hayMango))\n",
    "print(\"Hay banano en la secuencia: \" + str(hayBanano))\n",
    "\n",
    "# Operación para verificar que no existe un ítem X en una secuencia (x not in seq)\n",
    "seqNombres = [\"Jose\", \"Viviana\", \"Marleny\", \"Alejandro\"]\n",
    "noHayJose = \"Jose\" not in seqNombres\n",
    "noHayMartina = \"Martina\" not in seqNombres\n",
    "print(\"No hay Jose en la secuencia: \" + str(noHayJose))\n",
    "print(\"No hay Martina en la secuencia: \" + str(noHayMartina))"
   ]
  },
  {
   "cell_type": "markdown",
   "metadata": {},
   "source": [
    "Para realizar operaciones como sumas y multiplicaciones de secuencias, es decir, agregar una secuencia a otra o replicar el contenido dentro de ella misma puedes usar"
   ]
  },
  {
   "cell_type": "code",
   "execution_count": 13,
   "metadata": {},
   "outputs": [
    {
     "name": "stdout",
     "output_type": "stream",
     "text": [
      "la nueva secuencia es: ['Tornillos', 'Tuercas', 'Arandelas', 'Martillos', 'Destornilladores']\n",
      "la nueva secuencia es: [1, 2, 3, 1, 2, 3, 1, 2, 3, 1, 2, 3, 1, 2, 3]\n"
     ]
    }
   ],
   "source": [
    "# Operación para concatenar (unir) 2 secuencias (seqA + seqB)\n",
    "seqAgotadosA = [\"Tornillos\", \"Tuercas\", \"Arandelas\"]\n",
    "seqAgotadosB = [\"Martillos\", \"Destornilladores\"]\n",
    "seqConcatenada = seqAgotadosA + seqAgotadosB\n",
    "print(\"la nueva secuencia es: \" + str(seqConcatenada))\n",
    "\n",
    "# Operación para reproducir la secuencia en sí misma (seq*n).\n",
    "seqDigitos = [1,2,3]\n",
    "seqPorCinco = seqDigitos*5;\n",
    "print(\"la nueva secuencia es: \" + str(seqPorCinco))"
   ]
  },
  {
   "cell_type": "markdown",
   "metadata": {},
   "source": [
    "Para trabajar con los valores de la secuencia, obtener uno o varios puedes usar las siguientes operaciones."
   ]
  },
  {
   "cell_type": "code",
   "execution_count": 14,
   "metadata": {},
   "outputs": [
    {
     "name": "stdout",
     "output_type": "stream",
     "text": [
      "el valor en la posición 6 es: 6\n",
      "los días laborales son: ['Lunes', 'Martes', 'Miércoles', 'Jueves', 'Viernes']\n",
      "los días del fin de semana son: ['Sábado', 'Domingo']\n",
      "los días de por medio son: ['Lunes', 'Miércoles', 'Viernes', 'Domingo']\n"
     ]
    }
   ],
   "source": [
    "# Operación para obtener una posición en la secuencia (seq[n]).\n",
    "seq = [0, 1, 2, 3, 4, 5, 6, 7, 8]\n",
    "posicion6 = seq[6];\n",
    "print(\"el valor en la posición 6 es: \" + str(posicion6))\n",
    "\n",
    "# Operación para obtener una rango de una secuencia (seq[n:n]).\n",
    "semana = [\"Lunes\",\"Martes\",\"Miércoles\",\"Jueves\",\"Viernes\",\"Sábado\",\"Domingo\"]\n",
    "diasLaborales = semana[0:5]\n",
    "finDeSemana = semana[5:7]\n",
    "print(\"los días laborales son: \" + str(diasLaborales))\n",
    "print(\"los días del fin de semana son: \" + str(finDeSemana))\n",
    "\n",
    "# Operación para obtener un rango con paso a paso (seq[ini:fin:paso])\n",
    "dias = [\"Lunes\",\"Martes\",\"Miércoles\",\"Jueves\",\"Viernes\",\"Sábado\",\"Domingo\"]\n",
    "diaDePorMedio = dias[0:7:2]\n",
    "print(\"los días de por medio son: \" + str(diaDePorMedio))"
   ]
  },
  {
   "cell_type": "markdown",
   "metadata": {},
   "source": [
    "Las siguientes operaciones realizan conteos de ítems en general, para algún ítem en particular y permiten ubicar los valores máximos y mínimos"
   ]
  },
  {
   "cell_type": "code",
   "execution_count": 15,
   "metadata": {},
   "outputs": [
    {
     "name": "stdout",
     "output_type": "stream",
     "text": [
      "la cantidad de ítems es: 3\n",
      "el valor mínimo es: 5\n",
      "el valor máximo es: 999999\n",
      "el número de aprobados es: 6\n",
      "el número de no aprobados es: 2\n"
     ]
    }
   ],
   "source": [
    "# Operación para obtener el tamaño de una secuencia (len(seq))\n",
    "items = [\"Tornillos\", \"Tuercas\", \"Arandelas\"]\n",
    "cantidadItems = len(items)\n",
    "print(\"la cantidad de ítems es: \" + str(cantidadItems))\n",
    "\n",
    "# Operación para obtener el valor mínimo (min(seq))\n",
    "valores = [123132,3452,345645,2213,5]\n",
    "valorMinimo = min(valores)\n",
    "print(\"el valor mínimo es: \" + str(valorMinimo))\n",
    "\n",
    "# Operación para obtener el valor máximo (max(seq))\n",
    "valores = [999,99,99999,9,999999]\n",
    "valorMaximo = max(valores)\n",
    "print(\"el valor máximo es: \" + str(valorMaximo))\n",
    "\n",
    "# Operación para obtener el conteo de un ítem X (seq.count(X))\n",
    "estados = [\"Aprobado\",\"Aprobado\",\"Aprobado\",\"Aprobado\",\"Aprobado\",\"No Aprobado\", \"Aprobado\", \"No Aprobado\"]\n",
    "cantidadAprobados = estados.count(\"Aprobado\")\n",
    "cantidadNoAprobados = estados.count(\"No Aprobado\")\n",
    "print(\"el número de aprobados es: \" + str(cantidadAprobados))\n",
    "print(\"el número de no aprobados es: \" + str(cantidadNoAprobados))"
   ]
  },
  {
   "cell_type": "code",
   "execution_count": null,
   "metadata": {},
   "outputs": [],
   "source": []
  }
 ],
 "metadata": {
  "kernelspec": {
   "display_name": "Python 3.7.6 ('base')",
   "language": "python",
   "name": "python3"
  },
  "language_info": {
   "codemirror_mode": {
    "name": "ipython",
    "version": 3
   },
   "file_extension": ".py",
   "mimetype": "text/x-python",
   "name": "python",
   "nbconvert_exporter": "python",
   "pygments_lexer": "ipython3",
   "version": "3.7.6"
  },
  "vscode": {
   "interpreter": {
    "hash": "ad2bdc8ecc057115af97d19610ffacc2b4e99fae6737bb82f5d7fb13d2f2c186"
   }
  }
 },
 "nbformat": 4,
 "nbformat_minor": 4
}
