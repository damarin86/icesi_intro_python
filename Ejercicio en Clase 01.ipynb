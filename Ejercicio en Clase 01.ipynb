{
 "cells": [
  {
   "cell_type": "markdown",
   "metadata": {},
   "source": [
    "A continuación se describen una serie de ejercicios por ejecutar durante esta sesión:"
   ]
  },
  {
   "cell_type": "code",
   "execution_count": 1,
   "metadata": {},
   "outputs": [
    {
     "name": "stdout",
     "output_type": "stream",
     "text": [
      "Hola, Python!\n"
     ]
    }
   ],
   "source": [
    "#01. Tarea: Crea una variable llamada \"mensaje\" y asígnale el valor \"Hola, Python!\"\n",
    "mensaje = \"Hola, Python!\"\n",
    "print(mensaje)"
   ]
  },
  {
   "cell_type": "code",
   "execution_count": 2,
   "metadata": {},
   "outputs": [
    {
     "name": "stdout",
     "output_type": "stream",
     "text": [
      "Jazz\n"
     ]
    }
   ],
   "source": [
    "#02. Tarea: Crea una lista con nombres de ritmos musicales y muestra el tercer elemento.\n",
    "ritmos_musicales = [\"Blues\", \"R&B\", \"Jazz\", \"Soul\", \"Funk\", \"Rock and roll\", \"Pop\"]\n",
    "print(ritmos_musicales[2])"
   ]
  },
  {
   "cell_type": "code",
   "execution_count": 3,
   "metadata": {},
   "outputs": [
    {
     "name": "stdout",
     "output_type": "stream",
     "text": [
      "15\n"
     ]
    }
   ],
   "source": [
    "#03. Tarea: Calcula el área de un rectángulo con base 5 y altura 3.\n",
    "base = 5\n",
    "altura = 3\n",
    "area = base * altura\n",
    "print(area)"
   ]
  },
  {
   "cell_type": "code",
   "execution_count": 4,
   "metadata": {},
   "outputs": [
    {
     "name": "stdout",
     "output_type": "stream",
     "text": [
      "Ingrese un número entero: \n",
      "El número es par\n"
     ]
    }
   ],
   "source": [
    "# 04. Tarea: Implementa un programa que determine si un número es par o impar.\n",
    "print(\"Ingrese un número entero: \")\n",
    "numero = int(input())\n",
    "if numero % 2 == 0:\n",
    "    print(\"El número es par\")\n",
    "else:\n",
    "    print(\"El número es impar\")"
   ]
  },
  {
   "cell_type": "code",
   "execution_count": 5,
   "metadata": {},
   "outputs": [
    {
     "ename": "SyntaxError",
     "evalue": "invalid syntax (1783510260.py, line 3)",
     "output_type": "error",
     "traceback": [
      "\u001b[1;36m  Cell \u001b[1;32mIn[5], line 3\u001b[1;36m\u001b[0m\n\u001b[1;33m    lambda = \"Hola, Python!\"\u001b[0m\n\u001b[1;37m           ^\u001b[0m\n\u001b[1;31mSyntaxError\u001b[0m\u001b[1;31m:\u001b[0m invalid syntax\n"
     ]
    }
   ],
   "source": [
    "# 05. Tarea: Intenta usar una palabra reservada como nombre de variable y observa qué sucede.\n",
    "lambda = \"Hola, Python!\"\n",
    "print(lambda)"
   ]
  },
  {
   "cell_type": "code",
   "execution_count": 6,
   "metadata": {},
   "outputs": [
    {
     "name": "stdout",
     "output_type": "stream",
     "text": [
      "10.0\n"
     ]
    }
   ],
   "source": [
    "# 06. Tarea: Calcula el resultado de la siguiente expresión matemática: (10 + 5) * 2 / 3\n",
    "resultado = (10 + 5) * 2 / 3\n",
    "print(resultado)"
   ]
  },
  {
   "cell_type": "code",
   "execution_count": 7,
   "metadata": {},
   "outputs": [
    {
     "name": "stdout",
     "output_type": "stream",
     "text": [
      "15\n"
     ]
    }
   ],
   "source": [
    "# 07. Tarea: Crea una lista de números y muestra la suma de todos los elementos.\n",
    "numeros = [1, 2, 3, 4, 5]\n",
    "print(sum(numeros))"
   ]
  },
  {
   "cell_type": "code",
   "execution_count": 12,
   "metadata": {},
   "outputs": [
    {
     "name": "stdout",
     "output_type": "stream",
     "text": [
      "Ingrese un número: \n",
      "El número es positivo\n"
     ]
    }
   ],
   "source": [
    "# 08. Tarea: Solicita al usuario ingresar un número e indica si es positivo, negativo o cero.\n",
    "print(\"Ingrese un número: \")\n",
    "numero = int(input())\n",
    "if numero > 0:\n",
    "    print(\"El número es positivo\")\n",
    "elif numero < 0:\n",
    "    print(\"El número es negativo\")\n",
    "else:\n",
    "    print(\"El número es cero\")"
   ]
  },
  {
   "cell_type": "code",
   "execution_count": 21,
   "metadata": {},
   "outputs": [
    {
     "name": "stdout",
     "output_type": "stream",
     "text": [
      "H o l a ,   P y t h o n !\n"
     ]
    }
   ],
   "source": [
    "# 09. Tarea: Crea una cadena e imprime cada caracter en una línea. (sin usar ciclos)\n",
    "cadena = \"Hola, Python!\"\n",
    "print(cadena[0], cadena[1], cadena[2], cadena[3], cadena[4], cadena[5], cadena[6], cadena[7], cadena[8], cadena[9], cadena[10], cadena[11], cadena[12])"
   ]
  },
  {
   "cell_type": "code",
   "execution_count": 22,
   "metadata": {},
   "outputs": [
    {
     "name": "stdout",
     "output_type": "stream",
     "text": [
      "78.53999999999999\n"
     ]
    }
   ],
   "source": [
    "# 10. Tarea: Define una función que calcule el área de un círculo dado su radio.\n",
    "def area_circulo(radio):\n",
    "    return 3.1416 * radio ** 2\n",
    "\n",
    "print(area_circulo(5))"
   ]
  },
  {
   "cell_type": "code",
   "execution_count": 23,
   "metadata": {},
   "outputs": [
    {
     "name": "stdout",
     "output_type": "stream",
     "text": [
      "30\n"
     ]
    }
   ],
   "source": [
    "# 11. Tarea: Crea un diccionario con nombres de personas y sus edades. Imprime la edad de una persona específica.\n",
    "edades = {\"Juan\": 20, \"María\": 30, \"Pedro\": 40}\n",
    "print(edades[\"María\"])"
   ]
  },
  {
   "cell_type": "code",
   "execution_count": 32,
   "metadata": {},
   "outputs": [
    {
     "name": "stdout",
     "output_type": "stream",
     "text": [
      "8\n"
     ]
    }
   ],
   "source": [
    "# 12. Tarea: Utiliza el módulo \"random\" para generar un número aleatorio entre 1 y 10.\n",
    "import random\n",
    "print(random.randint(1, 10))"
   ]
  },
  {
   "cell_type": "code",
   "execution_count": 33,
   "metadata": {},
   "outputs": [
    {
     "name": "stdout",
     "output_type": "stream",
     "text": [
      "8 2 15 1.6666666666666667\n"
     ]
    }
   ],
   "source": [
    "# 13. Tarea: Calcula la suma, resta, multiplicación y división de dos números sin usar condicionales ni bucles.\n",
    "a = 5\n",
    "b = 3\n",
    "print((a + b), (a - b), (a * b), (a / b))"
   ]
  },
  {
   "cell_type": "code",
   "execution_count": 34,
   "metadata": {},
   "outputs": [
    {
     "name": "stdout",
     "output_type": "stream",
     "text": [
      "[1, 2, 3, 4, 5, 6]\n"
     ]
    }
   ],
   "source": [
    "# 14. Tarea: Crea dos listas y concaténalas sin usar condicionales ni bucles.\n",
    "lista1 = [1, 2, 3]\n",
    "lista2 = [4, 5, 6]\n",
    "print(lista1 + lista2)"
   ]
  },
  {
   "cell_type": "code",
   "execution_count": 35,
   "metadata": {},
   "outputs": [
    {
     "name": "stdout",
     "output_type": "stream",
     "text": [
      "Hola, Python!\n"
     ]
    }
   ],
   "source": [
    "# 15. Tarea: Crea dos cadenas e imprime la concatenación sin usar condicionales ni bucles.\n",
    "cadena1 = \"Hola, \"\n",
    "cadena2 = \"Python!\"\n",
    "print(cadena1 + cadena2)\n",
    "\n"
   ]
  },
  {
   "cell_type": "code",
   "execution_count": 36,
   "metadata": {},
   "outputs": [
    {
     "name": "stdout",
     "output_type": "stream",
     "text": [
      "[1, 2, 3, 4]\n"
     ]
    }
   ],
   "source": [
    "# 16. Tarea: Crea una lista y añade un elemento sin usar condicionales ni bucles.\n",
    "lista = [1, 2, 3]\n",
    "lista.append(4)\n",
    "print(lista)"
   ]
  },
  {
   "cell_type": "code",
   "execution_count": 37,
   "metadata": {},
   "outputs": [
    {
     "name": "stdout",
     "output_type": "stream",
     "text": [
      "{'Juan': 20, 'María': 30, 'Pedro': 40, 'Ana': 50}\n"
     ]
    }
   ],
   "source": [
    "# 17. Tarea: Crea dos diccionarios y únelos sin usar condicionales ni bucles.\n",
    "diccionario1 = {\"Juan\": 20, \"María\": 30}\n",
    "diccionario2 = {\"Pedro\": 40, \"Ana\": 50}\n",
    "diccionario1.update(diccionario2)\n",
    "print(diccionario1)"
   ]
  },
  {
   "cell_type": "code",
   "execution_count": 38,
   "metadata": {},
   "outputs": [
    {
     "name": "stdout",
     "output_type": "stream",
     "text": [
      "{1, 2, 3, 4, 5, 6}\n"
     ]
    }
   ],
   "source": [
    "# 18. Tarea: Crea dos conjuntos y encuentra la unión sin usar condicionales ni bucles.\n",
    "conjunto1 = {1, 2, 3}\n",
    "conjunto2 = {4, 5, 6}\n",
    "print(conjunto1.union(conjunto2))"
   ]
  },
  {
   "cell_type": "code",
   "execution_count": 39,
   "metadata": {},
   "outputs": [
    {
     "name": "stdout",
     "output_type": "stream",
     "text": [
      "2023-11-30 18:36:05.098942\n"
     ]
    }
   ],
   "source": [
    "# 19. Tarea: Obtén la fecha y hora actual sin usar condicionales ni bucles.\n",
    "import datetime\n",
    "print(datetime.datetime.now())"
   ]
  },
  {
   "cell_type": "code",
   "execution_count": 48,
   "metadata": {},
   "outputs": [
    {
     "name": "stdout",
     "output_type": "stream",
     "text": [
      "13\n"
     ]
    }
   ],
   "source": [
    "# 20. Tarea: Calcula la longitud de una cadena sin usar condicionales ni bucles.\n",
    "cadena = \"Hola, Python!\"\n",
    "print(len(cadena))"
   ]
  },
  {
   "cell_type": "code",
   "execution_count": 50,
   "metadata": {},
   "outputs": [
    {
     "name": "stdout",
     "output_type": "stream",
     "text": [
      "HOLA, PYTHON!\n",
      "hola, python!\n"
     ]
    }
   ],
   "source": [
    "# 21. Tarea: Convierte una cadena a mayúsculas y otra a minúsculas sin usar condicionales ni bucles.\n",
    "print(cadena.upper())\n",
    "print(cadena.lower())"
   ]
  },
  {
   "cell_type": "code",
   "execution_count": 51,
   "metadata": {},
   "outputs": [
    {
     "name": "stdout",
     "output_type": "stream",
     "text": [
      "Hola, Java!\n"
     ]
    }
   ],
   "source": [
    "# 22. Tarea: Reemplaza una subcadena en una cadena principal sin usar condicionales ni bucles.\n",
    "print(cadena.replace(\"Python\", \"Java\"))"
   ]
  },
  {
   "cell_type": "code",
   "execution_count": 52,
   "metadata": {},
   "outputs": [
    {
     "name": "stdout",
     "output_type": "stream",
     "text": [
      "['Hola,', 'Python!']\n"
     ]
    }
   ],
   "source": [
    "# 23. Tarea: Divide una cadena en palabras sin usar condicionales ni bucles.\n",
    "print(cadena.split())"
   ]
  },
  {
   "cell_type": "code",
   "execution_count": 53,
   "metadata": {},
   "outputs": [
    {
     "name": "stdout",
     "output_type": "stream",
     "text": [
      "Hola, Python! ¿Cómo estás?\n"
     ]
    }
   ],
   "source": [
    "# 24. Tarea: Concatena tres cadenas diferentes sin usar condicionales ni bucles.\n",
    "cadena1 = \"Hola, \"\n",
    "cadena2 = \"Python!\"\n",
    "cadena3 = \" ¿Cómo estás?\"\n",
    "print(cadena1 + cadena2 + cadena3)"
   ]
  },
  {
   "cell_type": "code",
   "execution_count": 55,
   "metadata": {},
   "outputs": [
    {
     "name": "stdout",
     "output_type": "stream",
     "text": [
      "[1, 2, 3, 4, 5, 6]\n"
     ]
    }
   ],
   "source": [
    "# 25. Tarea: Crea dos listas y extiende la primera con los elementos de la segunda sin usar condicionales ni bucles.\n",
    "lista1 = [1, 2, 3]\n",
    "lista2 = [4, 5, 6]\n",
    "lista1.extend(lista2)\n",
    "print(lista1)"
   ]
  },
  {
   "cell_type": "code",
   "execution_count": 56,
   "metadata": {},
   "outputs": [
    {
     "name": "stdout",
     "output_type": "stream",
     "text": [
      "[1, 3]\n"
     ]
    }
   ],
   "source": [
    "# 26. Tarea: Elimina un elemento específico de una lista sin usar condicionales ni bucles.\n",
    "lista = [1, 2, 3]\n",
    "lista.remove(2)\n",
    "print(lista)"
   ]
  },
  {
   "cell_type": "code",
   "execution_count": 57,
   "metadata": {},
   "outputs": [
    {
     "name": "stdout",
     "output_type": "stream",
     "text": [
      "1\n"
     ]
    }
   ],
   "source": [
    "# 27. Tarea: Encuentra el índice de un elemento en una lista sin usar condicionales ni bucles.\n",
    "lista = [1, 2, 3]\n",
    "print(lista.index(2))"
   ]
  },
  {
   "cell_type": "code",
   "execution_count": 59,
   "metadata": {},
   "outputs": [
    {
     "name": "stdout",
     "output_type": "stream",
     "text": [
      "[1, 2, 3]\n"
     ]
    }
   ],
   "source": [
    "# 28. Tarea: Ordena una lista de números de forma ascendente sin usar condicionales ni bucles.\n",
    "lista = [3, 2, 1]\n",
    "lista.sort()\n",
    "print(lista)"
   ]
  },
  {
   "cell_type": "code",
   "execution_count": 62,
   "metadata": {},
   "outputs": [
    {
     "name": "stdout",
     "output_type": "stream",
     "text": [
      "4\n"
     ]
    }
   ],
   "source": [
    "# 29. Tarea: Cuenta cuántas veces aparece un elemento en una lista sin usar condicionales ni bucles.\n",
    "lista = [1, 2, 3, 1, 2, 3, 1, 2, 3, 3]\n",
    "print(lista.count(3))"
   ]
  },
  {
   "cell_type": "code",
   "execution_count": 64,
   "metadata": {},
   "outputs": [
    {
     "name": "stdout",
     "output_type": "stream",
     "text": [
      "32\n"
     ]
    }
   ],
   "source": [
    "# 30. Tarea: Calcula 2 elevado a la 5ta potencia sin usar condicionales ni bucles.\n",
    "a = 2\n",
    "b = 5\n",
    "print(a ** b)"
   ]
  },
  {
   "cell_type": "code",
   "execution_count": 65,
   "metadata": {},
   "outputs": [
    {
     "name": "stdout",
     "output_type": "stream",
     "text": [
      "5\n"
     ]
    }
   ],
   "source": [
    "# 31. Tarea: Realiza la división entera de 17 entre 3 sin usar condicionales ni bucles.\n",
    "print(17 // 3)"
   ]
  },
  {
   "cell_type": "code",
   "execution_count": 67,
   "metadata": {},
   "outputs": [
    {
     "name": "stdout",
     "output_type": "stream",
     "text": [
      "6\n"
     ]
    }
   ],
   "source": [
    "# 32. Tarea: Calcula el resto de la división de 20 entre 7 sin usar condicionales ni bucles.\n",
    "print(20 % 7)"
   ]
  },
  {
   "cell_type": "code",
   "execution_count": 68,
   "metadata": {},
   "outputs": [
    {
     "name": "stdout",
     "output_type": "stream",
     "text": [
      "3.14\n"
     ]
    }
   ],
   "source": [
    "# 33. Tarea: Redondea el número 3.14159 a dos decimales sin usar condicionales ni bucles.\n",
    "print(round(3.14159, 2))"
   ]
  },
  {
   "cell_type": "code",
   "execution_count": 69,
   "metadata": {},
   "outputs": [
    {
     "name": "stdout",
     "output_type": "stream",
     "text": [
      "7\n"
     ]
    }
   ],
   "source": [
    "# 34. Tarea: Realiza la operación (4 + 3) * (2 - 1) sin usar condicionales ni bucles.\n",
    "print((4 + 3) * (2 - 1))"
   ]
  }
 ],
 "metadata": {
  "kernelspec": {
   "display_name": "Python 3",
   "language": "python",
   "name": "python3"
  },
  "language_info": {
   "codemirror_mode": {
    "name": "ipython",
    "version": 3
   },
   "file_extension": ".py",
   "mimetype": "text/x-python",
   "name": "python",
   "nbconvert_exporter": "python",
   "pygments_lexer": "ipython3",
   "version": "3.11.3"
  }
 },
 "nbformat": 4,
 "nbformat_minor": 2
}
