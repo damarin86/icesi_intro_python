{
 "cells": [
  {
   "cell_type": "markdown",
   "metadata": {},
   "source": [
    "Escribe un programa que solicite al usuario ingresar el precio original de un producto y un porcentaje de descuento. Luego, calcula el precio con el descuento aplicado y muestra el resultado en pantalla. En este caso, vas a seleccionar las palabras faltantes del código"
   ]
  },
  {
   "cell_type": "code",
   "execution_count": 2,
   "metadata": {},
   "outputs": [
    {
     "name": "stdout",
     "output_type": "stream",
     "text": [
      "El precio con descuento es: 90.0\n"
     ]
    }
   ],
   "source": [
    "precio_original = float(input(\"Ingrese el precio original del producto: \"))\n",
    "descuento = float(input(\"Ingrese el porcentaje de descuento: \"))\n",
    "precio_descuento = precio_original * (1 - descuento /100)\n",
    "print(\"El precio con descuento es:\", precio_descuento)"
   ]
  },
  {
   "cell_type": "markdown",
   "metadata": {},
   "source": [
    "Escribe un programa que solicite al usuario ingresar el radio de un círculo y calcule el área. Luego, muestra el resultado en pantalla.\n",
    "Para responder la pregunta asume que el círculo es de radio uno (1):"
   ]
  },
  {
   "cell_type": "code",
   "execution_count": 3,
   "metadata": {},
   "outputs": [
    {
     "name": "stdout",
     "output_type": "stream",
     "text": [
      "El área del círculo es: 3.141592653589793\n"
     ]
    }
   ],
   "source": [
    "import math\n",
    "\n",
    "radio = float(input(\"Ingrese el radio del círculo: \"))\n",
    "# el valor recibido se convierte en un float (casting es el nombre que recibe ese proceso)\n",
    "area = math.pi * radio ** 2\n",
    "print(\"El área del círculo es:\", area)\n",
    "# el valor area es una variable que almacena el valor de la operación que debes hacer"
   ]
  },
  {
   "cell_type": "markdown",
   "metadata": {},
   "source": [
    "Escribe un programa que solicite al usuario ingresar una cantidad de minutos y convierta ese valor a horas y minutos. Luego, muestra el resultado en pantalla."
   ]
  },
  {
   "cell_type": "code",
   "execution_count": 4,
   "metadata": {},
   "outputs": [
    {
     "name": "stdout",
     "output_type": "stream",
     "text": [
      "Equivalente a: 39 horas y 4 minutos.\n"
     ]
    }
   ],
   "source": [
    "minutos = int(input(\"Ingrese la cantidad de minutos: \"))\n",
    "horas = minutos // 60\n",
    "minutos_restantes = minutos % 60\n",
    "\n",
    "print(\"Equivalente a:\", horas, \"horas y\", minutos_restantes, \"minutos.\")"
   ]
  },
  {
   "cell_type": "markdown",
   "metadata": {},
   "source": [
    "Escribe un programa que solicite al usuario ingresar su peso en kilogramos y su altura en metros (en ese orden), y calcule el índice de masa corporal (IMC). Luego, muestra el resultado en pantalla. Para esto debes ordenar en un orden correcto las opciones:"
   ]
  },
  {
   "cell_type": "code",
   "execution_count": 5,
   "metadata": {},
   "outputs": [
    {
     "name": "stdout",
     "output_type": "stream",
     "text": [
      "Su índice de masa corporal (IMC) es: 0.01\n"
     ]
    }
   ],
   "source": [
    "altura = float(input(\"Ingrese su altura en metros: \"))\n",
    "peso = float(input(\"Ingrese su peso en kilogramos: \"))\n",
    "imc = peso / (altura**2)\n",
    "\n",
    "print(\"Su índice de masa corporal (IMC) es:\", imc)"
   ]
  },
  {
   "cell_type": "markdown",
   "metadata": {},
   "source": [
    "Escribe un programa que solicite al usuario ingresar una temperatura en grados Celsius y convierta ese valor a grados Fahrenheit. Luego, muestra el resultado en pantalla."
   ]
  },
  {
   "cell_type": "code",
   "execution_count": 2,
   "metadata": {},
   "outputs": [
    {
     "name": "stdout",
     "output_type": "stream",
     "text": [
      "La temperatura en grados Fahrenheit es: 96.8\n"
     ]
    }
   ],
   "source": [
    "temperatura_celsius = float(input(\"Ingrese la temperatura en grados Celsius: \"))\n",
    "temperatura_fahrenheit = temperatura_celsius * 9/5 + 32\n",
    "\n",
    "print(\"La temperatura en grados Fahrenheit es:\", temperatura_fahrenheit)"
   ]
  }
 ],
 "metadata": {
  "kernelspec": {
   "display_name": "Python 3",
   "language": "python",
   "name": "python3"
  },
  "language_info": {
   "codemirror_mode": {
    "name": "ipython",
    "version": 3
   },
   "file_extension": ".py",
   "mimetype": "text/x-python",
   "name": "python",
   "nbconvert_exporter": "python",
   "pygments_lexer": "ipython3",
   "version": "3.11.3"
  }
 },
 "nbformat": 4,
 "nbformat_minor": 2
}
