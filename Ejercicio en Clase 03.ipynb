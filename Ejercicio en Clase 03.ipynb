{
 "cells": [
  {
   "cell_type": "markdown",
   "metadata": {},
   "source": [
    "Ejercicios de práctica:\n",
    "\n",
    "FUNCIONES\n",
    "\n",
    "ORIENTADO A OBJETOS\n",
    "\n",
    "Crea una clase llamada Persona con un método saludar que imprima un saludo genérico.\n",
    "Modifica la clase Persona para que tenga atributos nombre y edad. Imprime estos atributos en el método saludar.\n",
    "Añade un método llamado cumplir_anios a la clase Persona que tome un número como parámetro y actualice la edad.\n",
    "Crea varias instancias de la clase Persona y llama al método saludar para cada una.\n",
    "Añade una validación al método cumplir_anios para asegurarte de que el número ingresado sea positivo.\n",
    "Añade un método llamado obtener_info a la clase Persona que devuelva una cadena con el nombre y la edad.\n",
    "Crea una clase llamada ListaPersonas que tenga una lista de instancias de la clase Persona. Añade un método para imprimir la información de todas las personas.\n",
    "Modifica la clase Persona para que el método obtener_info acepte argumentos arbitrarios y los imprima.\n",
    "Añade un atributo de clase llamado total_personas a la clase Persona para llevar un registro de cuántas instancias se han creado.\n",
    "Añade un atributo de instancia llamado email a la clase Persona y un método para imprimirlo.\n",
    "Crea un decorador llamado decorador_log que imprima un mensaje antes y después de llamar a un método de la clase Persona.\n",
    "Añade un método llamado cambiar_email a la clase Persona que tome un nuevo email como parámetro y lo actualice.\n",
    "Modifica la clase Persona para que el atributo edad sea privado y crea una propiedad llamada edad que permita acceder y modificar la edad.\n",
    "Añade un método llamado eliminar_email a la clase Persona que elimine el atributo email.\n",
    "Añade un método llamado comparar_edad a la clase Persona que tome otra instancia de Persona como parámetro y compare las edades.\n",
    "Añade un método llamado modificar_otra_persona a la clase Persona que tome otra instancia de Persona y modifique sus atributos.\n",
    "Crea una clase llamada Calculadora con métodos estáticos para sumar y restar dos números.\n",
    "Añade un método llamado crear_persona_mas_joven a la clase Persona que tome otra instancia de Persona y devuelva una nueva instancia con la edad más joven.\n",
    "Añade un método llamado es_mayor_que a la clase Persona que tome otra instancia de Persona como parámetro y verifique si la edad es mayor.\n",
    "Modifica el método obtener_info de la clase Persona para aceptar argumentos arbitrarios y los imprima.\n",
    "Añade un método llamado obtener_detalles a la clase Persona que devuelva el nombre y la edad como una tupla.\n",
    "Añade un método llamado validar_edad a la clase Persona que tome un número como parámetro y maneje la excepción ValueError si no es un número positivo.\n",
    "Añade un método llamado es_mayor_de_edad a la clase Persona que use una constante de clase para determinar la edad mínima para ser considerado mayor de edad.\n",
    "Añade un método llamado imprimir_atributos a la clase Persona que itere sobre los atributos y los imprima.\n",
    "Crea una clase llamada Empleado que herede de la clase Persona y añade un método que llame al método obtener_info de la clase base.\n",
    "Modifica la clase Persona para que utilice el método __str__ y luego imprime una instancia de la clase.\n",
    "Añade un atributo privado llamado __saldo a la clase CuentaBancaria y un método para obtener su valor.\n",
    "Añade métodos llamados depositar y retirar a la clase CuentaBancaria que modifiquen el saldo de la cuenta.\n",
    "Añade un método llamado transferir a la clase CuentaBancaria que transfiera fondos de una cuenta a otra."
   ]
  },
  {
   "cell_type": "code",
   "execution_count": 3,
   "metadata": {},
   "outputs": [
    {
     "name": "stdout",
     "output_type": "stream",
     "text": [
      "Hola Mundo\n"
     ]
    }
   ],
   "source": [
    "# Crea una función llamada saludar que imprima un saludo.\n",
    "def saludar():\n",
    "    print(\"Hola Mundo\")\n",
    "\n",
    "saludar()"
   ]
  },
  {
   "cell_type": "code",
   "execution_count": 4,
   "metadata": {},
   "outputs": [
    {
     "name": "stdout",
     "output_type": "stream",
     "text": [
      "5\n"
     ]
    }
   ],
   "source": [
    "# Crea una función llamada sumar que tome dos parámetros e imprima la suma.\n",
    "def sumar(a,b):\n",
    "    print(a+b)\n",
    "\n",
    "sumar(2,3)"
   ]
  },
  {
   "cell_type": "code",
   "execution_count": 7,
   "metadata": {},
   "outputs": [
    {
     "data": {
      "text/plain": [
       "4"
      ]
     },
     "execution_count": 7,
     "metadata": {},
     "output_type": "execute_result"
    }
   ],
   "source": [
    "# Crea una función llamada cuadrado que tome un número como parámetro y devuelva su cuadrado.\n",
    "def cuadrado(a):\n",
    "    return a**2\n",
    "\n",
    "cuadrado(2)"
   ]
  },
  {
   "cell_type": "code",
   "execution_count": 8,
   "metadata": {},
   "outputs": [
    {
     "name": "stdout",
     "output_type": "stream",
     "text": [
      "Hola Juan\n"
     ]
    }
   ],
   "source": [
    "# Crea una función llamada saludo_personalizado que tome el nombre como parámetro y un saludo predeterminado.\n",
    "def saludo_personalizado(nombre, saludo=\"Hola\"):\n",
    "    print(saludo, nombre)\n",
    "\n",
    "saludo_personalizado(\"Juan\")"
   ]
  },
  {
   "cell_type": "code",
   "execution_count": 14,
   "metadata": {},
   "outputs": [
    {
     "name": "stdout",
     "output_type": "stream",
     "text": [
      "1\n",
      "2\n",
      "3\n",
      "4\n",
      "5\n"
     ]
    }
   ],
   "source": [
    "# Crea una función llamada imprimir_lista que tome una lista como parámetro e imprima cada elemento.\n",
    "def imprimir_lista(lista):\n",
    "    for elemento in lista:\n",
    "        print(elemento)\n",
    "\n",
    "imprimir_lista([1,2,3,4,5])"
   ]
  },
  {
   "cell_type": "code",
   "execution_count": 17,
   "metadata": {},
   "outputs": [
    {
     "name": "stdout",
     "output_type": "stream",
     "text": [
      "el resultado de la division es: 2 residuo: 0\n"
     ]
    }
   ],
   "source": [
    "# Crea una función llamada dividir que tome dos números como parámetros y devuelva el resultado y el residuo de la división.\n",
    "def dividir(a,b):\n",
    "    print (\"el resultado de la division es:\", a//b, \"residuo:\", a%b)\n",
    "\n",
    "dividir(4,2)"
   ]
  },
  {
   "cell_type": "code",
   "execution_count": 21,
   "metadata": {},
   "outputs": [
    {
     "name": "stdout",
     "output_type": "stream",
     "text": [
      "Hola Juan\n",
      "Help on function saludo_documentado in module __main__:\n",
      "\n",
      "saludo_documentado(nombre)\n",
      "    Esta funcion imprime un saludo utliizando como parametro el nombre\n",
      "\n"
     ]
    }
   ],
   "source": [
    "# Crea una función llamada saludo_documentado que tome un nombre como parámetro e imprima un saludo. Incluye un docstring para documentar la función.\n",
    "def saludo_documentado(nombre):\n",
    "    \"\"\"Esta funcion imprime un saludo utliizando como parametro el nombre\"\"\"\n",
    "    print(\"Hola\", nombre)\n",
    "\n",
    "saludo_documentado(\"Juan\")\n",
    "\n",
    "help(saludo_documentado)"
   ]
  },
  {
   "cell_type": "code",
   "execution_count": 11,
   "metadata": {},
   "outputs": [
    {
     "data": {
      "text/plain": [
       "93326215443944152681699238856266700490715968264381621468592963895217599993229915608941463976156518286253697920827223758251185210916864000000000000000000000000"
      ]
     },
     "execution_count": 11,
     "metadata": {},
     "output_type": "execute_result"
    }
   ],
   "source": [
    "# Crea una función recursiva llamada factorial para calcular el factorial de un número.\n",
    "def factorial(n):\n",
    "    if n == 0 or n == 1:\n",
    "        return 1\n",
    "    else:\n",
    "        return n * factorial(n-1)\n",
    "    \n",
    "factorial(100)"
   ]
  },
  {
   "cell_type": "code",
   "execution_count": 13,
   "metadata": {},
   "outputs": [
    {
     "name": "stdout",
     "output_type": "stream",
     "text": [
      "1\n",
      "2\n",
      "3\n",
      "casa\n",
      "5\n"
     ]
    }
   ],
   "source": [
    "# Crea una función llamada imprimir_argumentos que acepte un número arbitrario de argumentos y los imprima.\n",
    "\n",
    "def imprimir_argumentos(*args):\n",
    "    for arg in args:\n",
    "        print(arg)\n",
    "\n",
    "imprimir_argumentos(1,2,3,\"casa\",5)"
   ]
  },
  {
   "cell_type": "code",
   "execution_count": 14,
   "metadata": {},
   "outputs": [
    {
     "name": "stdout",
     "output_type": "stream",
     "text": [
      "a 1\n",
      "b 2\n",
      "c 3\n",
      "d casa\n",
      "e 5\n"
     ]
    }
   ],
   "source": [
    "# Crea una función llamada imprimir_argumentos_nombrados que acepte un número arbitrario de argumentos nombrados y los imprima.\n",
    "\n",
    "def imprimir_argumentos_nombrados(**kwargs):\n",
    "    for key, value in kwargs.items():\n",
    "        print(key, value)\n",
    "\n",
    "imprimir_argumentos_nombrados(a=1,b=2,c=3,d=\"casa\",e=5)"
   ]
  },
  {
   "cell_type": "code",
   "execution_count": 18,
   "metadata": {},
   "outputs": [
    {
     "data": {
      "text/plain": [
       "False"
      ]
     },
     "execution_count": 18,
     "metadata": {},
     "output_type": "execute_result"
    }
   ],
   "source": [
    "# Crea una función llamada es_par que tome un número como parámetro y devuelva True si es par y False si es impar.\n",
    "\n",
    "def es_par(n):\n",
    "    return n % 2 == 0\n",
    "\n",
    "es_par(3)"
   ]
  },
  {
   "cell_type": "code",
   "execution_count": 22,
   "metadata": {},
   "outputs": [
    {
     "data": {
      "text/plain": [
       "[0, 2, 4, 6, 8]"
      ]
     },
     "execution_count": 22,
     "metadata": {},
     "output_type": "execute_result"
    }
   ],
   "source": [
    "# Crea una función llamada numeros_pares que tome un número como parámetro y devuelva una lista de números pares hasta ese número.\n",
    "\n",
    "def numeros_pares(n):\n",
    "    lista = []\n",
    "    for i in range(n):\n",
    "        if es_par(i):\n",
    "            lista.append(i)\n",
    "    return lista\n",
    "\n",
    "numeros_pares(10)"
   ]
  },
  {
   "cell_type": "code",
   "execution_count": 23,
   "metadata": {},
   "outputs": [
    {
     "name": "stdout",
     "output_type": "stream",
     "text": [
      "Antes de llamar a la función.\n",
      "¡Hola, soy la función original!\n",
      "Después de llamar a la función.\n"
     ]
    }
   ],
   "source": [
    "def mi_decorador(func):\n",
    "    def wrapper():\n",
    "        print(\"Antes de llamar a la función.\")\n",
    "        func()\n",
    "        print(\"Después de llamar a la función.\")\n",
    "    return wrapper\n",
    "\n",
    "@mi_decorador\n",
    "def mi_funcion():\n",
    "    print(\"¡Hola, soy la función original!\")\n",
    "\n",
    "# Llamamos a la función decorada\n",
    "mi_funcion()"
   ]
  },
  {
   "cell_type": "code",
   "execution_count": 32,
   "metadata": {},
   "outputs": [
    {
     "name": "stdout",
     "output_type": "stream",
     "text": [
      "Antes de llamar a la función.\n",
      "¡Hola, soy la función original!\n",
      "Después de llamar a la función.\n",
      "Antes de llamar a la función.\n",
      "[0, 2, 4, 6, 8]\n",
      "Después de llamar a la función.\n"
     ]
    }
   ],
   "source": [
    "# Crea una función y un decorador llamado decorador_saludo que imprima un saludo antes y después de llamar a la función.\n",
    "\n",
    "def decorador_saludo(func):\n",
    "    def wrapper(*args, **kwargs):\n",
    "        print(\"Antes de llamar a la función.\")\n",
    "        func(*args, **kwargs)\n",
    "        print(\"Después de llamar a la función.\")\n",
    "    return wrapper\n",
    "\n",
    "@decorador_saludo\n",
    "def mi_funcion():\n",
    "    print(\"¡Hola, soy la función original!\")\n",
    "\n",
    "@decorador_saludo\n",
    "def numeros_pares(n):\n",
    "    lista = []\n",
    "    for i in range(n):\n",
    "        if es_par(i):\n",
    "            lista.append(i)\n",
    "    print(lista)\n",
    "\n",
    "mi_funcion()\n",
    "numeros_pares(10)"
   ]
  },
  {
   "cell_type": "code",
   "execution_count": 38,
   "metadata": {},
   "outputs": [
    {
     "name": "stdout",
     "output_type": "stream",
     "text": [
      "No se puede dividir por cero\n"
     ]
    }
   ],
   "source": [
    "# Crea una función llamada dividir_segura que tome dos números como parámetros y maneje la excepción ZeroDivisionError.\n",
    "def dividir_segura(a,b):\n",
    "    try:\n",
    "        return a/b\n",
    "    except ZeroDivisionError:\n",
    "        print(\"No se puede dividir por cero\")\n",
    "\n",
    "dividir_segura(4,0)"
   ]
  },
  {
   "cell_type": "code",
   "execution_count": 39,
   "metadata": {},
   "outputs": [
    {
     "name": "stdout",
     "output_type": "stream",
     "text": [
      "Hola Juan\n",
      "Hola Pedro\n",
      "Hola Maria\n"
     ]
    }
   ],
   "source": [
    "# Crea una función llamada imprimir_nombres que tome una lista de nombres como parámetro y un saludo predeterminado.\n",
    "def imprimir_nombres(lista, saludo=\"Hola\"):\n",
    "    for nombre in lista:\n",
    "        print(saludo, nombre)\n",
    "\n",
    "imprimir_nombres([\"Juan\", \"Pedro\", \"Maria\"])"
   ]
  },
  {
   "cell_type": "code",
   "execution_count": 46,
   "metadata": {},
   "outputs": [
    {
     "data": {
      "text/plain": [
       "('Juan', 20)"
      ]
     },
     "execution_count": 46,
     "metadata": {},
     "output_type": "execute_result"
    }
   ],
   "source": [
    "# Crea una función llamada obtener_info que tome un nombre y una edad como parámetros y devuelva una tupla con ambos valores.\n",
    "def obtener_info(nombre, edad):\n",
    "    return nombre, edad\n",
    "\n",
    "obtener_info(\"Juan\", 20)"
   ]
  },
  {
   "cell_type": "code",
   "execution_count": 51,
   "metadata": {},
   "outputs": [
    {
     "name": "stdout",
     "output_type": "stream",
     "text": [
      "[1, 2, 3, 1, 2, 3]\n"
     ]
    },
    {
     "data": {
      "text/plain": [
       "[1, 1, 2, 2, 3, 3]"
      ]
     },
     "execution_count": 51,
     "metadata": {},
     "output_type": "execute_result"
    }
   ],
   "source": [
    "# Crea una función llamada duplicar_lista que tome una lista como parámetro y devuelva una nueva lista con cada elemento duplicado.\n",
    "def duplicar_lista(lista):\n",
    "    print(lista * 2)\n",
    "    return lista * 2\n",
    "    \n",
    "\n",
    "duplicar_lista([1,2,3])\n",
    "\n",
    "def duplicar_lista2(lista):\n",
    "    lista2 = []\n",
    "    for i in lista:\n",
    "        lista2.append(i)\n",
    "        lista2.append(i)\n",
    "    return lista2\n",
    "\n",
    "duplicar_lista2([1,2,3])"
   ]
  },
  {
   "cell_type": "code",
   "execution_count": 52,
   "metadata": {},
   "outputs": [
    {
     "data": {
      "text/plain": [
       "{'nombre': 'Juan', 'edad': 20}"
      ]
     },
     "execution_count": 52,
     "metadata": {},
     "output_type": "execute_result"
    }
   ],
   "source": [
    "# Crea una función llamada crear_diccionario que tome dos listas (claves y valores) como parámetros y devuelva un diccionario.\n",
    "def crear_diccionario(claves, valores):\n",
    "    return dict(zip(claves, valores))\n",
    "\n",
    "crear_diccionario([\"nombre\", \"edad\"], [\"Juan\", 20])"
   ]
  },
  {
   "cell_type": "code",
   "execution_count": 53,
   "metadata": {},
   "outputs": [
    {
     "name": "stdout",
     "output_type": "stream",
     "text": [
      "nombre Juan\n",
      "edad 20\n",
      "ciudad Bogota\n"
     ]
    }
   ],
   "source": [
    "# Crea una función llamada informacion_persona que tome argumentos nombrados para el nombre, edad y ciudad, e imprima la información.\n",
    "def informacion_persona(**kwargs):\n",
    "    for key, value in kwargs.items():\n",
    "        print(key, value)\n",
    "\n",
    "informacion_persona(nombre=\"Juan\", edad=20, ciudad=\"Bogota\")"
   ]
  },
  {
   "cell_type": "code",
   "execution_count": null,
   "metadata": {},
   "outputs": [],
   "source": [
    "Crea una función llamada dividir que tome dos números como parámetros y verifique que el divisor no sea cero.\n",
    "Crea una función generadora llamada generador_pares que genere números pares del 2 al 10.\n",
    "Crea una función llamada eliminar_duplicados que tome una lista como parámetro y devuelva un conjunto sin elementos duplicados.\n",
    "Crea una función llamada dividir_segura que tome dos números como parámetros y maneje la excepción ValueError si se ingresa un valor no numérico.\n",
    "Crea una función llamada incrementador que tome un número como parámetro y devuelva una función que incremente otros números por ese valor.\n",
    "Crea una función llamada concatenar_lista que tome dos listas como parámetros y devuelva una lista que contenga ambos.\n",
    "Crea una función y un decorador llamado medir_tiempo que mida el tiempo de ejecución de la función.\n",
    "Crea una función llamada imprimir_diccionario que tome un diccionario como parámetro y devuelva cada clave y valor.\n",
    "Crea una función llamada sumar_valores que tome dos parámetros con anotación de tipo y devuelva la suma.\n",
    "Crea una función llamada cuadrado_lambda que tome un número como parámetro y utilice una expresión lambda para devolver su cuadrado.\n",
    "Crea una función llamada concatenar_palabras que tome cualquier cantidad de palabras como argumentos y las concatene en una sola cadena.\n",
    "Crea una función llamada crear_funcion_cuadrado que tome un exponente y devuelva una función lambda que calcule el cuadrado de un número elevado a ese exponente.\n",
    "Crea una función llamada filtrar_pares que tome una lista de números y devuelva una nueva lista solo con los números pares.\n",
    "Crea una función llamada es_mayor_edad que tome la edad como parámetro y devuelva True si es mayor o igual a 18, y False en caso contrario.\n",
    "Crea una función llamada es_numero_positivo que tome un número como parámetro y devuelva True si es positivo y no cero, y False en caso contrario.\n",
    "Crea una función llamada imprimir_diccionario_valores que tome un diccionario como parámetro e imprima solo los valores.\n",
    "Crea una función llamada saludo_amigable que tome los argumentos nombre y saludo, e imprima un saludo personalizado.\n",
    "Crea una función llamada obtener_subcadena que tome una cadena y dos índices, y devuelva la subcadena entre esos índices.\n",
    "Crea una función llamada mostrar_argumentos que tome cualquier cantidad de argumentos posicionales y nombrados, e imprima ambos.\n",
    "Crea una función llamada sumar_enteros que tome dos números enteros como parámetros y devuelva su suma. Asegúrate de comprobar que los dos parámetros son enteros.\n",
    "Crea una función llamada longitud_minima que tome una cadena y un número como parámetros, y devuelva True si la longitud de la cadena es mayor o igual al número, y False en caso contrario.\n",
    "Crea una función llamada numeros_primos que tome un número como parámetro y devuelva una lista con todos los números primos hasta ese número."
   ]
  }
 ],
 "metadata": {
  "kernelspec": {
   "display_name": "Python 3",
   "language": "python",
   "name": "python3"
  },
  "language_info": {
   "codemirror_mode": {
    "name": "ipython",
    "version": 3
   },
   "file_extension": ".py",
   "mimetype": "text/x-python",
   "name": "python",
   "nbconvert_exporter": "python",
   "pygments_lexer": "ipython3",
   "version": "3.11.3"
  }
 },
 "nbformat": 4,
 "nbformat_minor": 2
}
