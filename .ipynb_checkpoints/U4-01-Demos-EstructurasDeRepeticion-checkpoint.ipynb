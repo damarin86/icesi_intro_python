{
 "cells": [
  {
   "cell_type": "markdown",
   "metadata": {},
   "source": [
    "# Unidad 4 - Introducción a la algoritmia con Python\n",
    "#### Elementos básicos de Python\n",
    " \n",
    "# Demo Estructuras de repetición / ciclos\n",
    "\n",
    "En este notebook vas a encontrar ejemplos relacionados con las estructuras de repetición o ciclos básicos disponibles en Python, veremos la estructura general de las mismas y algunas variaciones que pueden ser útiles, recuerda que siempre puedes ir a la referencia si tienes alguna duda [Ir a la referencia](https://docs.python.org/3.9/library/index.html)\n",
    "\n",
    "##### Contenido de este archivo:\n",
    "\n",
    "1. Estructura while\n",
    "2. Estructura for"
   ]
  },
  {
   "cell_type": "markdown",
   "metadata": {},
   "source": [
    "### 1. Estructura while\n",
    "\n",
    "Esta es una estructura bastante común en los lenguajes de programación"
   ]
  },
  {
   "cell_type": "code",
   "execution_count": 28,
   "metadata": {},
   "outputs": [
    {
     "name": "stdout",
     "output_type": "stream",
     "text": [
      "ejecución\n"
     ]
    }
   ],
   "source": [
    "# Estructura general\n",
    "while True:\n",
    "    # acciones\n",
    "    print(\"ejecución\")\n",
    "    break;\n",
    "\n",
    "# la condición es un boolean, por lo que ingresamos al ciclo sólo si es True\n",
    "# comple todas las características de las condiciones:\n",
    "# operadores de comparación, booleanos u otros."
   ]
  },
  {
   "cell_type": "code",
   "execution_count": 29,
   "metadata": {},
   "outputs": [
    {
     "name": "stdout",
     "output_type": "stream",
     "text": [
      "7\n",
      "14\n",
      "21\n",
      "28\n",
      "35\n",
      "42\n",
      "49\n",
      "56\n",
      "63\n",
      "70\n"
     ]
    }
   ],
   "source": [
    "'''\n",
    "Se desea realizar un conteo con los múltiplos del 7, iniciando en 7 y finalizando en el 10avo múltiplo es decir en 70.\n",
    "Usaremos el ciclo para mostrar uno a uno los múltiplos en la consola.\n",
    "'''\n",
    "# Veamos un poco de análisis\n",
    "# Debemos garantizar que en algún momento se pase la condición de True a False (para detener el ciclo)\n",
    "# Existen 10 múltiplos de 7 iniciando en 7 y finalizando en 70, de ahí el valor seleccionado para la condición.\n",
    "\n",
    "contador = 1;\n",
    "while contador <= 10:\n",
    "    print(str(contador*7))\n",
    "    contador+=1"
   ]
  },
  {
   "cell_type": "code",
   "execution_count": 30,
   "metadata": {},
   "outputs": [
    {
     "name": "stdout",
     "output_type": "stream",
     "text": [
      "Ahora el contador tiene valor: 0\n",
      "Ahora el contador tiene valor: 1\n",
      "Ahora el contador tiene valor: 2\n",
      "Ahora el contador tiene valor: 3\n",
      "Ahora el contador tiene valor: 4\n",
      "Ahora el contador tiene valor: 5\n",
      "Ahora el contador tiene valor: 6\n",
      "Ahora el contador tiene valor: 7\n",
      "Ahora el contador tiene valor: 8\n",
      "Ahora el contador tiene valor: 9\n"
     ]
    }
   ],
   "source": [
    "'''\n",
    "Veamos un poco más de detalle\n",
    "'''\n",
    "# hagamos el seguimiento de cad iteración del ciclo\n",
    "contador = 0;\n",
    "while contador < 10:\n",
    "    print(\"Ahora el contador tiene valor: \" + str(contador))\n",
    "    contador+=1"
   ]
  },
  {
   "cell_type": "markdown",
   "metadata": {},
   "source": [
    "### 2. Estructura for"
   ]
  },
  {
   "cell_type": "code",
   "execution_count": 31,
   "metadata": {},
   "outputs": [
    {
     "name": "stdout",
     "output_type": "stream",
     "text": [
      "range(0, 10)\n",
      "<class 'range'>\n"
     ]
    }
   ],
   "source": [
    "# Estructura general\n",
    "\n",
    "# función range(n)\n",
    "rango = range(10)\n",
    "print(rango)\n",
    "print(type(rango))"
   ]
  },
  {
   "cell_type": "code",
   "execution_count": 40,
   "metadata": {},
   "outputs": [
    {
     "name": "stdout",
     "output_type": "stream",
     "text": [
      "0 1 2 3 4 5 6 7 8 9 ----------------------------------------\n",
      "2 3 4 5 ----------------------------------------\n",
      "2 4 6 8 10 12 14 16 18 "
     ]
    }
   ],
   "source": [
    "# Manejo del ciclo basado en una secuencia de números\n",
    "for x in range(10):\n",
    "    print(x, end = ' ')\n",
    "\n",
    "print(\"-\"*40)\n",
    "\n",
    "# Manejo del ciclo basado en una secuencia de números en rango 2 a 6\n",
    "for x in range(2, 6):\n",
    "    print(x, end = ' ')\n",
    "\n",
    "print(\"-\"*40)\n",
    "\n",
    "# Manejo del ciclo basado en una secuencia de números en rango 2 a 6\n",
    "# Avanzando en pasos (x2)\n",
    "for x in range(2, 20, 2):\n",
    "    print(x, end = ' ')"
   ]
  },
  {
   "cell_type": "code",
   "execution_count": 33,
   "metadata": {},
   "outputs": [
    {
     "name": "stdout",
     "output_type": "stream",
     "text": [
      "0\n",
      "1\n",
      "2\n",
      "3\n",
      "4\n",
      "5\n",
      "Ciclo completado\n",
      "0\n",
      "1\n",
      "2\n",
      "0\n",
      "1\n",
      "2\n",
      "3\n",
      "4\n",
      "5\n",
      "Ciclo completado\n"
     ]
    }
   ],
   "source": [
    "# En Python, hay algo especial y es la posibilidad de usar else en el for.\n",
    "for x in range(6):\n",
    "    print(x)\n",
    "else:\n",
    "    print(\"Ciclo completado\")\n",
    "\n",
    "# En Python, además podemos usar break para terminar el ciclo en cualquier momento.\n",
    "for x in range(6):\n",
    "    if x == 3: break\n",
    "    print(x)\n",
    "else:\n",
    "    print(\"Ciclo completado\")\n",
    "    \n",
    "    # En Python, además podemos usar pass para terminar el ciclo en cualquier momento.\n",
    "for x in range(6):\n",
    "    if x == 3: pass\n",
    "    print(x)\n",
    "else:\n",
    "    print(\"Ciclo completado\")"
   ]
  },
  {
   "cell_type": "code",
   "execution_count": 34,
   "metadata": {},
   "outputs": [
    {
     "name": "stdout",
     "output_type": "stream",
     "text": [
      "Lunes\n",
      "Martes\n",
      "Miercóles\n",
      "Jueves\n",
      "Viernes\n",
      "0\n",
      "1\n",
      "2\n"
     ]
    }
   ],
   "source": [
    "# Con for podemos recorrer secuencias, así:\n",
    "dias = [\"Lunes\", \"Martes\", \"Miercóles\", \"Jueves\", \"Viernes\"]\n",
    "for x in dias:\n",
    "    print(x)\n",
    "\n",
    "# Podemos hacerlo usando valores numéricos:\n",
    "for x in [0, 1, 2]:\n",
    "    print(x)"
   ]
  },
  {
   "cell_type": "code",
   "execution_count": 35,
   "metadata": {},
   "outputs": [
    {
     "name": "stdout",
     "output_type": "stream",
     "text": [
      "Jose 35\n",
      "Jose 37\n",
      "Jose 68\n",
      "Andrés 35\n",
      "Andrés 37\n",
      "Andrés 68\n",
      "Juana 35\n",
      "Juana 37\n",
      "Juana 68\n"
     ]
    }
   ],
   "source": [
    "# En ocasiones, tenemos que hacer un doble recorrido (se conoce como anidado) \n",
    "nombres = [\"Jose\", \"Andrés\", \"Juana\"]\n",
    "edades = [35, 37, 68]\n",
    "for x in nombres:\n",
    "    for y in edades:\n",
    "        print(x, y)"
   ]
  },
  {
   "cell_type": "code",
   "execution_count": null,
   "metadata": {},
   "outputs": [],
   "source": []
  }
 ],
 "metadata": {
  "kernelspec": {
   "display_name": "Python 3",
   "language": "python",
   "name": "python3"
  },
  "language_info": {
   "codemirror_mode": {
    "name": "ipython",
    "version": 3
   },
   "file_extension": ".py",
   "mimetype": "text/x-python",
   "name": "python",
   "nbconvert_exporter": "python",
   "pygments_lexer": "ipython3",
   "version": "3.7.6"
  }
 },
 "nbformat": 4,
 "nbformat_minor": 4
}
