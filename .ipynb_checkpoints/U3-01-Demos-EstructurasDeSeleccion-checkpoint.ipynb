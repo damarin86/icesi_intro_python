{
 "cells": [
  {
   "cell_type": "markdown",
   "metadata": {},
   "source": [
    "# Unidad 3 - Introducción a la algoritmia con Python\n",
    "#### Elementos básicos de Python\n",
    " \n",
    "# Demo Estructuras de selección / decisión\n",
    "\n",
    "En este notebook vas a encontrar ejemplos relacionados con las estructuras de selección o decisión básicas disponibles en Python, la estructura general y reglas para el modelamiento de flujos con estas. Recuerda que siempre puedes ir a la referencia si tienes alguna duda [Ir a la referencia](https://docs.python.org/3.9/library/index.html)\n",
    "\n",
    "##### Contenido de este archivo:\n",
    "\n",
    "1. Repaso booleans\n",
    "2. Estructura de selección simple (if)\n",
    "3. Estructura de selección doble (if-else)\n",
    "4. Estructura de selección multiple anidada (if-elif-else)"
   ]
  },
  {
   "cell_type": "markdown",
   "metadata": {},
   "source": [
    "### 1. Repaso de booleans"
   ]
  },
  {
   "cell_type": "markdown",
   "metadata": {},
   "source": [
    "**Recuerda que:**\n",
    "\n",
    "1. Sólo pueden tomar 2 valores True y False (estos son constantes pre-definidas en el lenguaje).\n",
    "2. Se almacenan en variables como bool\n",
    "3. Se generan con operadores de comparación (< <= => > == !=)\n",
    "4. Se pueden encadenar por operadores booleanos (and | or)\n",
    "5. Se pueden negar usando un operador de negación (not)   \n"
   ]
  },
  {
   "cell_type": "markdown",
   "metadata": {},
   "source": [
    "### 2. Estructura de selección simple (if)"
   ]
  },
  {
   "cell_type": "code",
   "execution_count": 8,
   "metadata": {
    "scrolled": true
   },
   "outputs": [
    {
     "name": "stdout",
     "output_type": "stream",
     "text": [
      "mensaje dentro del bloque A\n",
      "El valor es True\n"
     ]
    }
   ],
   "source": [
    "# Estructura y comportamiento general\n",
    "\n",
    "# Bloque A\n",
    "if True:\n",
    "    print(\"mensaje dentro del bloque A\")\n",
    "\n",
    "# Bloque B\n",
    "if False:\n",
    "    print(\"mensaje dentro del bloque A\")\n",
    "\n",
    "## Acerca de la condición\n",
    "# Siempre es de tipo booleano, determina el ingreso o no\n",
    "# al bloque de código\n",
    "\n",
    "## Acerca del bloque de código\n",
    "# Es un conjunto de instrucciones tras los 2 puntos (:)\n",
    "# del if, es el conjunto de líneas que se ejecutan en caso\n",
    "# de tener una condición True\n",
    "\n",
    "valorBoolean = True\n",
    "if valorBoolean:\n",
    "    print(\"El valor es True\")\n",
    "    \n",
    "valorBoolean = False\n",
    "if valorBoolean:\n",
    "    print(\"El valor es False\")\n"
   ]
  },
  {
   "cell_type": "code",
   "execution_count": null,
   "metadata": {},
   "outputs": [],
   "source": []
  },
  {
   "cell_type": "code",
   "execution_count": 9,
   "metadata": {},
   "outputs": [
    {
     "name": "stdout",
     "output_type": "stream",
     "text": [
      "Me voy en Uber\n",
      "Llevo sombrilla/paraguas\n"
     ]
    }
   ],
   "source": [
    "# Condiciones compuestas (and)\n",
    "tengoDineroParaTransporte = True\n",
    "hayLluvia = True\n",
    "\n",
    "if tengoDineroParaTransporte and hayLluvia:\n",
    "    print(\"Me voy en Uber\")\n",
    "    \n",
    "# Condiciones compuestas (or)\n",
    "haySolExtremo = True\n",
    "hayLluviaExtrema = False\n",
    "\n",
    "if haySolExtremo or hayLluviaExtrema:\n",
    "    print(\"Llevo sombrilla/paraguas\")\n"
   ]
  },
  {
   "cell_type": "markdown",
   "metadata": {},
   "source": [
    "### 2. Estructura de selección doble (if-else)"
   ]
  },
  {
   "cell_type": "code",
   "execution_count": 10,
   "metadata": {},
   "outputs": [
    {
     "name": "stdout",
     "output_type": "stream",
     "text": [
      "mensaje dentro del bloque si es True\n",
      "mensaje dentro del bloque si es False\n"
     ]
    }
   ],
   "source": [
    "# Estructura y comportamiento general\n",
    "\n",
    "# Bloque A\n",
    "if True:\n",
    "    print(\"mensaje dentro del bloque si es True\")\n",
    "else:\n",
    "    print(\"mensaje dentro del bloque si es False\")\n",
    "    \n",
    "# Bloque B\n",
    "if False:\n",
    "    print(\"mensaje dentro del bloque si es True\")\n",
    "else:\n",
    "    print(\"mensaje dentro del bloque si es False\")\n"
   ]
  },
  {
   "cell_type": "code",
   "execution_count": 11,
   "metadata": {},
   "outputs": [
    {
     "name": "stdout",
     "output_type": "stream",
     "text": [
      "ValorA NO es mayor que valorB\n"
     ]
    }
   ],
   "source": [
    "# Condiciones con datos numéricas\n",
    "valorA = 6\n",
    "valorB = 12\n",
    "\n",
    "if valorA > valorB:\n",
    "    print(\"ValorA es mayor que valorB\")\n",
    "else:\n",
    "    print(\"ValorA NO es mayor que valorB\")\n",
    "\n",
    "# Recuerdas los operadores de comparación, todo sirven en estas condiciones porque generan booleans como respuesta-\n",
    "# Las condiciones compuestas aplican exactamente igual en la selección doble."
   ]
  },
  {
   "cell_type": "markdown",
   "metadata": {},
   "source": [
    "### 3. Estructura de selección multiple anidada (if-elif-else)\n",
    "\n",
    "En ocasiones tenemos flujos que no son A/B por lo que tenemos que habilitar más caminos, estos caminos dependerán de la situación que estás modelando, pero los lenguajes de programación ofrecen alternativas para ejecutar dicho proceso.\n",
    "\n",
    "Veamos como lo aborda Python."
   ]
  },
  {
   "cell_type": "code",
   "execution_count": 12,
   "metadata": {},
   "outputs": [
    {
     "name": "stdout",
     "output_type": "stream",
     "text": [
      "mensaje dentro del bloque si es True\n"
     ]
    }
   ],
   "source": [
    "# Estructura y comportamiento general\n",
    "\n",
    "# Bloque A\n",
    "if True: #1    \n",
    "    print(\"mensaje dentro del bloque si es True\")\n",
    "elif False: #2\n",
    "    print(\"mensaje dentro del bloque si es False (1) y True (2)\")\n",
    "else: #3\n",
    "    print(\"mensaje dentro del bloque si es False en todos (1) y (2)\")\n",
    "    \n"
   ]
  },
  {
   "cell_type": "code",
   "execution_count": 13,
   "metadata": {},
   "outputs": [
    {
     "name": "stdout",
     "output_type": "stream",
     "text": [
      "Aún no se ha iniciado\n"
     ]
    }
   ],
   "source": [
    "'''\n",
    "*Tip: forma de comentario como bloque usando 3 comillas sencillas*\n",
    "Asumamos un escenario en el que queremos imprimir un valor distinto dependiendo \n",
    "de una variable estado que puede tomar 3 diferentes valores de tipo cadena de texto (str):\n",
    "- No iniciado\n",
    "- En proceso\n",
    "- Terminado\n",
    "\n",
    "Queremos modelar una secuencia de condiciones para representar dicha situación, el objetivo es que\n",
    "se imprima un mensaje que indique en qué estado se encuentra.\n",
    "'''\n",
    "\n",
    "# Definimos la entrada:\n",
    "estado = \"No iniciado\"\n",
    "\n",
    "if estado == \"No iniciado\":\n",
    "    print(\"Aún no se ha iniciado\")\n",
    "elif estado == \"En proceso\":\n",
    "    print(\"Ya se encuentra en proceso\")\n",
    "else:\n",
    "    print(\"Ya se terminó\")\n",
    "\n",
    "# En todas las formas de selección (simple, doble, múltiple anidada) se pueden aplican datos numéricos\n",
    "# cadenas, objetos u otros, siempre y cuando la condición sea boolean."
   ]
  },
  {
   "cell_type": "code",
   "execution_count": null,
   "metadata": {},
   "outputs": [],
   "source": []
  },
  {
   "cell_type": "code",
   "execution_count": null,
   "metadata": {},
   "outputs": [],
   "source": []
  },
  {
   "cell_type": "code",
   "execution_count": null,
   "metadata": {},
   "outputs": [],
   "source": []
  }
 ],
 "metadata": {
  "kernelspec": {
   "display_name": "Python 3",
   "language": "python",
   "name": "python3"
  },
  "language_info": {
   "codemirror_mode": {
    "name": "ipython",
    "version": 3
   },
   "file_extension": ".py",
   "mimetype": "text/x-python",
   "name": "python",
   "nbconvert_exporter": "python",
   "pygments_lexer": "ipython3",
   "version": "3.7.6"
  }
 },
 "nbformat": 4,
 "nbformat_minor": 4
}
