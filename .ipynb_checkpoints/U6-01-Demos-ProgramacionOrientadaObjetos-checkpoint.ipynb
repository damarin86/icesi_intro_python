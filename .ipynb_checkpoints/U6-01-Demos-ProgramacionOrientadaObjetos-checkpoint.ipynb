{
 "cells": [
  {
   "cell_type": "markdown",
   "metadata": {},
   "source": [
    "# Unidad 6 - Introducción a la algoritmia con Python\n",
    "#### Elementos básicos de Python\n",
    " \n",
    "# Demo Programación Orientada a Objetos (POO/OOP)\n",
    "\n",
    "En este notebook vas a encontrar ejemplos relacionados con la programación orientada a objetos en Python, la estructura general y reglas para la construcción de clases, atributos, métodos y demás. Recuerda que siempre puedes ir a la referencia si tienes alguna duda [Ir a la referencia](https://docs.python.org/3.9/library/index.html)\n",
    "\n",
    "##### Contenido de este archivo:\n",
    "\n",
    "1. Clases:\n",
    "- Declaración de clases y método constructor\n",
    "2. Atributos\n",
    "- Declaración de atributos de clase\n",
    "- Declaración de atributos de instancia\n",
    "3. Métodos\n",
    "- Declaración de métodos de instancia\n",
    "- Declaración de métodos de clase\n",
    "- Declaración de métodos estáticos"
   ]
  },
  {
   "cell_type": "markdown",
   "metadata": {},
   "source": [
    "### 1. Clases"
   ]
  },
  {
   "cell_type": "code",
   "execution_count": 88,
   "metadata": {},
   "outputs": [],
   "source": [
    "# Las clases son la estructura base para la construcción de instancias (Objetos)\n",
    "# Estructura General\n",
    "\n",
    "class NombreClase:\n",
    "    pass\n",
    "\n",
    "# Vamos a encontrar 2 tipos de estructuras dentro de este bloque de código:\n",
    "# 1. Atributos ---> variables\n",
    "# 2. Métodos ---> funciones"
   ]
  },
  {
   "cell_type": "code",
   "execution_count": 89,
   "metadata": {},
   "outputs": [],
   "source": [
    "# Ejemplo general\n",
    "\n",
    "class NombreClase:\n",
    "    varClase = \"Cadena de la clase\"\n",
    "    def __init__(self):\n",
    "        self.varInstanciaA = 0\n",
    "        self.varInstanciaB = \"*cadena de instancia*\"\n",
    "        self.varInstanciaC = True\n",
    "        \n",
    "    def mostrarValores(self):\n",
    "        print(f'{self}')\n",
    "        print(f'{self.varInstanciaA} {self.varInstanciaB} {self.varInstanciaC}')\n",
    "        \n",
    "    @staticmethod\n",
    "    def metodoEstatico():\n",
    "        print(\"Este es un método estática\")\n",
    "        \n",
    "    @classmethod\n",
    "    def metodoDeClase(cls):\n",
    "        print(\"Este es un método de clase\", cls)\n",
    "        #print(\"Este es un método de clase\", self.varInstanciaA) # Error\n",
    "        print(\"Este es un método de clase\", cls.varClase)"
   ]
  },
  {
   "cell_type": "markdown",
   "metadata": {},
   "source": [
    "#### 1.1 Declaración de clases y método constructor\n",
    "\n",
    "Veremos la declaración de algunas clases, sin mucho contenido pero útiles para identificar las caracteristicas de estas."
   ]
  },
  {
   "cell_type": "code",
   "execution_count": 90,
   "metadata": {},
   "outputs": [
    {
     "name": "stdout",
     "output_type": "stream",
     "text": [
      "creando instancia de Persona\n",
      "<__main__.Persona object at 0x000002451E46C588>  tipo:  <class '__main__.Persona'>\n",
      "creando instancia de Persona\n",
      "<__main__.Persona object at 0x000002451DB7BEC8>  tipo:  <class '__main__.Persona'>\n",
      "creando instancia de CuentaBancaria\n",
      "<__main__.CuentaBancaria object at 0x000002451E499788>\n",
      "creando instancia de CuentaBancaria\n",
      "<__main__.CuentaBancaria object at 0x000002451E854488>\n",
      "creando instancia de Empleado\n",
      "<__main__.Empleado object at 0x000002451E4708C8>\n",
      "creando instancia de Empleado\n",
      "<__main__.Empleado object at 0x000002451E854748>\n"
     ]
    }
   ],
   "source": [
    "class Persona:\n",
    "    def __init__(self):\n",
    "        print(\"creando instancia de Persona\")\n",
    "\n",
    "class CuentaBancaria:\n",
    "    def __init__(self, numero):\n",
    "        print(\"creando instancia de CuentaBancaria\")\n",
    "        \n",
    "class Empleado:\n",
    "    def __init__(self, nombre, identificador):\n",
    "        print(\"creando instancia de Empleado\")\n",
    "\n",
    "\n",
    "### Declaración de instancias\n",
    "\n",
    "unaPersona = Persona()\n",
    "print(unaPersona, \" tipo: \", type(unaPersona))\n",
    "otraPersona = Persona()\n",
    "print(otraPersona, \" tipo: \", type(otraPersona))\n",
    "\n",
    "unaCuentaBancaria = CuentaBancaria(123456)\n",
    "print(unaCuentaBancaria)\n",
    "otraCuentaBancaria = CuentaBancaria(67890)\n",
    "print(otraCuentaBancaria)\n",
    "\n",
    "empleadoA = Empleado(\"Andrés Moncada\", \"12435687\")\n",
    "print(empleadoA)\n",
    "empleadoB = Empleado(\"Jose Moncada\", \"90872536\")\n",
    "print(empleadoB)        "
   ]
  },
  {
   "cell_type": "markdown",
   "metadata": {},
   "source": [
    "### 2 Atributos"
   ]
  },
  {
   "cell_type": "markdown",
   "metadata": {},
   "source": [
    "Los Atributos son la estructura base para el almacenamiento de información en los objetos (instancias)\n",
    "\n",
    "##### Estructura General\n",
    "\n",
    "son de clase (se acceede con nombre clase): \n",
    "**nombreAtributo = \"valor atributo\"**\n",
    "        \n",
    "son de instancia (se accede con nombre instancia) - vínculo con métodos:\n",
    "**self.nombre Atributo = \"valor atributo\"**\n",
    "\n",
    "La palabra self se refiere a la instancia que ha llamado la instancia"
   ]
  },
  {
   "cell_type": "markdown",
   "metadata": {},
   "source": [
    "#### 2.1 Declaración de atributos de clase"
   ]
  },
  {
   "cell_type": "code",
   "execution_count": 91,
   "metadata": {},
   "outputs": [
    {
     "name": "stdout",
     "output_type": "stream",
     "text": [
      "valor atributo\n",
      "1987\n",
      "True\n",
      "valor atributo\n",
      "1987\n",
      "True\n"
     ]
    }
   ],
   "source": [
    "class NombreClase:\n",
    "    # atributos de clase\n",
    "    nombreAtributoCadena = \"valor atributo\"\n",
    "    nombreAtributoValor = 1987\n",
    "    nombreAtributoBoolean = True\n",
    "\n",
    "print(NombreClase.nombreAtributoCadena)\n",
    "print(NombreClase.nombreAtributoValor)\n",
    "print(NombreClase.nombreAtributoBoolean)\n",
    "\n",
    "## WOops :s\n",
    "instancia = NombreClase()\n",
    "print(instancia.nombreAtributoCadena)\n",
    "print(instancia.nombreAtributoValor)\n",
    "print(instancia.nombreAtributoBoolean)"
   ]
  },
  {
   "cell_type": "markdown",
   "metadata": {},
   "source": [
    "#### 2.2 Declaración de atributos de instancia"
   ]
  },
  {
   "cell_type": "code",
   "execution_count": 92,
   "metadata": {},
   "outputs": [
    {
     "name": "stdout",
     "output_type": "stream",
     "text": [
      "valor inicial atributo\n",
      "valor inicial atributo\n",
      "valor inicial atributo\n"
     ]
    }
   ],
   "source": [
    "class NombreClase:\n",
    "    # atributos de clase\n",
    "    nombreAtributoCadena = \"valor inicial atributo\"\n",
    "    \n",
    "    def __init__(self, valorCadena):\n",
    "        nombreAtributoCadena = valorCadena # no cambia (probar con self)\n",
    "        # self.nombreAtributoCadena = valorCadena\n",
    "    \n",
    "print(NombreClase.nombreAtributoCadena)\n",
    "instancia = NombreClase(\"nuevo valor atributo\")\n",
    "print(instancia.nombreAtributoCadena) \n",
    "print(NombreClase.nombreAtributoCadena) # no cambió :)"
   ]
  },
  {
   "cell_type": "markdown",
   "metadata": {},
   "source": [
    "### 2. Métodos"
   ]
  },
  {
   "cell_type": "markdown",
   "metadata": {},
   "source": [
    "Los métodos son funciones dentro de una clase, son la estructura base para almacenar comportamiento en los objetos (instancias)\n",
    "\n",
    "##### Estructura General\n",
    "\n",
    "> ***def nombreMetodo(argumentos):*** <br>\n",
    "&ensp;&ensp; bloque de contenido del método    \n",
    "\n",
    "Es igual a la declaración de funciones"
   ]
  },
  {
   "cell_type": "markdown",
   "metadata": {},
   "source": [
    "###### De instancia\n",
    "\n",
    "se declaran:    \n",
    "> **def nombreMetodo(self):** <br>\n",
    "**&ensp;&ensp; bloque de contenido del método**\n",
    "\n",
    "La palabra self se refiere a la instancia que ha llamado la instancia.\n",
    "\n",
    "se acceden con nombre instancia: <br>\n",
    "**nombreInstancia.nombreMetodo()\"**\n",
    "    \n",
    "\n",
    "No es necesario entregar self al llamar el método."
   ]
  },
  {
   "cell_type": "code",
   "execution_count": 94,
   "metadata": {},
   "outputs": [
    {
     "name": "stdout",
     "output_type": "stream",
     "text": [
      "¡hola!\n"
     ]
    }
   ],
   "source": [
    "# Ejemplo de función de instancia en clase Persona\n",
    "class Persona:\n",
    "    def saludar(self):\n",
    "        print(\"¡hola!\")\n",
    "\n",
    "unaPersona = Persona()\n",
    "unaPersona.saludar()\n",
    "# al no declarar el constructor usamos uno por defecto."
   ]
  },
  {
   "cell_type": "markdown",
   "metadata": {},
   "source": [
    "###### De clase\n",
    "\n",
    "se declaran:    \n",
    "> **@classmethod** <br>\n",
    "**def nombreMetodo(cls):** <br>\n",
    "**&ensp;&ensp; bloque de contenido del método**\n",
    "\n",
    "**@classmethod** es la anotación que genera el comportamiento <br>\n",
    "La palabra cls se refiere a la clase misma que está siendo llamada.\n",
    "\n",
    "se acceden con nombre de clase (incluye las mayúsculas): <br>\n",
    "**NombreClase.nombreMetodo()\"**\n",
    "    \n",
    "No es necesario entregar cls al llamar el método."
   ]
  },
  {
   "cell_type": "code",
   "execution_count": 96,
   "metadata": {},
   "outputs": [
    {
     "name": "stdout",
     "output_type": "stream",
     "text": [
      "¡hola!\n",
      "¡hola!\n"
     ]
    }
   ],
   "source": [
    "# Ejemplo de función de instancia en clase Persona\n",
    "class Persona:\n",
    "    @classmethod\n",
    "    def saludar(self):\n",
    "        print(\"¡hola!\")\n",
    "\n",
    "unaPersona = Persona()\n",
    "unaPersona.saludar()\n",
    "\n",
    "Persona.saludar()\n",
    "\n",
    "# al no declarar el constructor usamos uno por defecto.\n",
    "# funciona para la instancia y para la clase"
   ]
  },
  {
   "cell_type": "code",
   "execution_count": null,
   "metadata": {},
   "outputs": [],
   "source": [
    "###### Estáticos\n",
    "\n",
    "se declaran:    \n",
    "> **def nombreMetodo(self):** <br>\n",
    "**&ensp;&ensp; bloque de contenido del método**\n",
    "\n",
    "La palabra self se refiere a la instancia que ha llamado la instancia.\n",
    "\n",
    "se acceden con nombre instancia: <br>\n",
    "**nombreInstancia.nombreMetodo()\"**\n",
    "    \n",
    "\n",
    "No es necesario entregar self al llamar el método.\n",
    "        "
   ]
  },
  {
   "cell_type": "code",
   "execution_count": null,
   "metadata": {},
   "outputs": [],
   "source": []
  },
  {
   "cell_type": "code",
   "execution_count": null,
   "metadata": {},
   "outputs": [],
   "source": []
  },
  {
   "cell_type": "code",
   "execution_count": null,
   "metadata": {},
   "outputs": [],
   "source": []
  }
 ],
 "metadata": {
  "kernelspec": {
   "display_name": "Python 3",
   "language": "python",
   "name": "python3"
  },
  "language_info": {
   "codemirror_mode": {
    "name": "ipython",
    "version": 3
   },
   "file_extension": ".py",
   "mimetype": "text/x-python",
   "name": "python",
   "nbconvert_exporter": "python",
   "pygments_lexer": "ipython3",
   "version": "3.7.6"
  }
 },
 "nbformat": 4,
 "nbformat_minor": 4
}
