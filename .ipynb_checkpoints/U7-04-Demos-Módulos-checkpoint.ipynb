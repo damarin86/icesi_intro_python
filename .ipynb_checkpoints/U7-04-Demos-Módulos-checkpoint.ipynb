{
 "cells": [
  {
   "cell_type": "markdown",
   "metadata": {},
   "source": [
    "# Unidad 7 - Introducción a la algoritmia con Python\n",
    "#### Elementos básicos de Python\n",
    " \n",
    "# Demo módulos\n",
    "\n",
    "En este notebook vas a encontrar ejemplos relacionados con el uso de módulos en Python. Recuerda que siempre puedes ir a la referencia si tienes alguna duda [Ir a la referencia](https://docs.python.org/3.9/library/index.html)\n",
    "\n",
    "##### Contenido de este archivo:\n",
    "\n",
    "- importar módulos disponibles"
   ]
  },
  {
   "cell_type": "code",
   "execution_count": 7,
   "metadata": {},
   "outputs": [],
   "source": [
    "import os"
   ]
  },
  {
   "cell_type": "code",
   "execution_count": 8,
   "metadata": {},
   "outputs": [
    {
     "data": {
      "text/plain": [
       "'D:\\\\Usuarios\\\\1130613425\\\\Documents\\\\ICESI\\\\CURSO-PY\\\\Ejemplos'"
      ]
     },
     "execution_count": 8,
     "metadata": {},
     "output_type": "execute_result"
    }
   ],
   "source": [
    "os.getcwd()"
   ]
  },
  {
   "cell_type": "code",
   "execution_count": 9,
   "metadata": {},
   "outputs": [
    {
     "data": {
      "text/plain": [
       "['.ipynb_checkpoints',\n",
       " 'U2-01-Demos-Variables.ipynb',\n",
       " 'U2-02-Demos-AsignacionYCambios.ipynb',\n",
       " 'U2-02-Demos-Operadores.ipynb',\n",
       " 'U3-01-Demos-EstructurasDeSeleccion.ipynb',\n",
       " 'U4-01-Demos-EstructurasDeRepeticion.ipynb',\n",
       " 'U5-01-Demos-Funciones.ipynb',\n",
       " 'U6-01-Demos-ProgramacionOrientadaObjetos.ipynb',\n",
       " 'U7-01-Demos-Diccionarios.ipynb',\n",
       " 'U7-02-Demos-Listas.ipynb',\n",
       " 'U7-03-Demos-ValoresVersusReferencias.ipynb',\n",
       " 'U7-04-Demos-Módulos.ipynb',\n",
       " 'Untitled.ipynb']"
      ]
     },
     "execution_count": 9,
     "metadata": {},
     "output_type": "execute_result"
    }
   ],
   "source": [
    "os.listdir()"
   ]
  },
  {
   "cell_type": "code",
   "execution_count": 10,
   "metadata": {},
   "outputs": [],
   "source": [
    "os.makedirs(\"sample-folder-from-python\")"
   ]
  },
  {
   "cell_type": "code",
   "execution_count": 11,
   "metadata": {},
   "outputs": [
    {
     "data": {
      "text/plain": [
       "['.ipynb_checkpoints',\n",
       " 'sample-folder-from-python',\n",
       " 'U2-01-Demos-Variables.ipynb',\n",
       " 'U2-02-Demos-AsignacionYCambios.ipynb',\n",
       " 'U2-02-Demos-Operadores.ipynb',\n",
       " 'U3-01-Demos-EstructurasDeSeleccion.ipynb',\n",
       " 'U4-01-Demos-EstructurasDeRepeticion.ipynb',\n",
       " 'U5-01-Demos-Funciones.ipynb',\n",
       " 'U6-01-Demos-ProgramacionOrientadaObjetos.ipynb',\n",
       " 'U7-01-Demos-Diccionarios.ipynb',\n",
       " 'U7-02-Demos-Listas.ipynb',\n",
       " 'U7-03-Demos-ValoresVersusReferencias.ipynb',\n",
       " 'U7-04-Demos-Módulos.ipynb',\n",
       " 'Untitled.ipynb']"
      ]
     },
     "execution_count": 11,
     "metadata": {},
     "output_type": "execute_result"
    }
   ],
   "source": [
    "os.listdir()"
   ]
  },
  {
   "cell_type": "code",
   "execution_count": null,
   "metadata": {},
   "outputs": [],
   "source": []
  },
  {
   "cell_type": "code",
   "execution_count": null,
   "metadata": {},
   "outputs": [],
   "source": []
  }
 ],
 "metadata": {
  "kernelspec": {
   "display_name": "Python 3",
   "language": "python",
   "name": "python3"
  },
  "language_info": {
   "codemirror_mode": {
    "name": "ipython",
    "version": 3
   },
   "file_extension": ".py",
   "mimetype": "text/x-python",
   "name": "python",
   "nbconvert_exporter": "python",
   "pygments_lexer": "ipython3",
   "version": "3.7.6"
  }
 },
 "nbformat": 4,
 "nbformat_minor": 4
}
